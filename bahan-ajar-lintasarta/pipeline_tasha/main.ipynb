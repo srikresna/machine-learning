{
 "cells": [
  {
   "cell_type": "code",
   "execution_count": 1,
   "metadata": {},
   "outputs": [
    {
     "data": {
      "text/html": [
       "<div>\n",
       "<style scoped>\n",
       "    .dataframe tbody tr th:only-of-type {\n",
       "        vertical-align: middle;\n",
       "    }\n",
       "\n",
       "    .dataframe tbody tr th {\n",
       "        vertical-align: top;\n",
       "    }\n",
       "\n",
       "    .dataframe thead th {\n",
       "        text-align: right;\n",
       "    }\n",
       "</style>\n",
       "<table border=\"1\" class=\"dataframe\">\n",
       "  <thead>\n",
       "    <tr style=\"text-align: right;\">\n",
       "      <th></th>\n",
       "      <th>date</th>\n",
       "      <th>id</th>\n",
       "      <th>text</th>\n",
       "      <th>username</th>\n",
       "      <th>like_count</th>\n",
       "      <th>displayname</th>\n",
       "      <th>lang</th>\n",
       "      <th>sentimen</th>\n",
       "      <th>year</th>\n",
       "    </tr>\n",
       "  </thead>\n",
       "  <tbody>\n",
       "    <tr>\n",
       "      <th>0</th>\n",
       "      <td>2021-12-31 23:33:04+00:00</td>\n",
       "      <td>1477060265057214466</td>\n",
       "      <td>Indonesia punya stok \\nVaksin covid 19, 3 bula...</td>\n",
       "      <td>ahimcakep</td>\n",
       "      <td>1</td>\n",
       "      <td>ahimcakep ð®ð©</td>\n",
       "      <td>in</td>\n",
       "      <td>netral</td>\n",
       "      <td>2021</td>\n",
       "    </tr>\n",
       "    <tr>\n",
       "      <th>1</th>\n",
       "      <td>2021-12-31 23:28:02+00:00</td>\n",
       "      <td>1477059000378163202</td>\n",
       "      <td>Vaksinasi Covid-19 Dosis Keempat Sudah Boleh d...</td>\n",
       "      <td>haluanharian</td>\n",
       "      <td>0</td>\n",
       "      <td>Harian Haluan</td>\n",
       "      <td>in</td>\n",
       "      <td>netral</td>\n",
       "      <td>2021</td>\n",
       "    </tr>\n",
       "    <tr>\n",
       "      <th>2</th>\n",
       "      <td>2021-12-31 23:03:37+00:00</td>\n",
       "      <td>1477052854753906688</td>\n",
       "      <td>Dari awal covid 2020-2021-2022. Sukur kagak ke...</td>\n",
       "      <td>Tebobotee1</td>\n",
       "      <td>0</td>\n",
       "      <td>Tebobotee</td>\n",
       "      <td>in</td>\n",
       "      <td>netral</td>\n",
       "      <td>2021</td>\n",
       "    </tr>\n",
       "    <tr>\n",
       "      <th>3</th>\n",
       "      <td>2021-12-31 22:57:02+00:00</td>\n",
       "      <td>1477051199438286853</td>\n",
       "      <td>2021 :\\nVaksin covidâï¸\\nKB3 bubar, pindah ...</td>\n",
       "      <td>nursetiandi</td>\n",
       "      <td>0</td>\n",
       "      <td>Nur Setiandi</td>\n",
       "      <td>in</td>\n",
       "      <td>netral</td>\n",
       "      <td>2021</td>\n",
       "    </tr>\n",
       "    <tr>\n",
       "      <th>4</th>\n",
       "      <td>2021-12-31 22:45:49+00:00</td>\n",
       "      <td>1477048376294207488</td>\n",
       "      <td>Satu kalimat utk tahun 2021: \"Alhamdulilah mas...</td>\n",
       "      <td>FauziAdri</td>\n",
       "      <td>2</td>\n",
       "      <td>Fauzi Adrianto</td>\n",
       "      <td>in</td>\n",
       "      <td>positif</td>\n",
       "      <td>2021</td>\n",
       "    </tr>\n",
       "  </tbody>\n",
       "</table>\n",
       "</div>"
      ],
      "text/plain": [
       "                        date                   id  \\\n",
       "0  2021-12-31 23:33:04+00:00  1477060265057214466   \n",
       "1  2021-12-31 23:28:02+00:00  1477059000378163202   \n",
       "2  2021-12-31 23:03:37+00:00  1477052854753906688   \n",
       "3  2021-12-31 22:57:02+00:00  1477051199438286853   \n",
       "4  2021-12-31 22:45:49+00:00  1477048376294207488   \n",
       "\n",
       "                                                text      username  \\\n",
       "0  Indonesia punya stok \\nVaksin covid 19, 3 bula...     ahimcakep   \n",
       "1  Vaksinasi Covid-19 Dosis Keempat Sudah Boleh d...  haluanharian   \n",
       "2  Dari awal covid 2020-2021-2022. Sukur kagak ke...    Tebobotee1   \n",
       "3  2021 :\\nVaksin covidâï¸\\nKB3 bubar, pindah ...   nursetiandi   \n",
       "4  Satu kalimat utk tahun 2021: \"Alhamdulilah mas...     FauziAdri   \n",
       "\n",
       "   like_count         displayname lang sentimen  year  \n",
       "0           1  ahimcakep ð®ð©   in   netral  2021  \n",
       "1           0       Harian Haluan   in   netral  2021  \n",
       "2           0           Tebobotee   in   netral  2021  \n",
       "3           0        Nur Setiandi   in   netral  2021  \n",
       "4           2      Fauzi Adrianto   in  positif  2021  "
      ]
     },
     "execution_count": 1,
     "metadata": {},
     "output_type": "execute_result"
    }
   ],
   "source": [
    "import pandas as pd\n",
    "df = pd.read_csv('data.csv')\n",
    "df.head()"
   ]
  },
  {
   "cell_type": "code",
   "execution_count": 2,
   "metadata": {},
   "outputs": [
    {
     "data": {
      "text/plain": [
       "array(['netral', 'positif', 'negatif'], dtype=object)"
      ]
     },
     "execution_count": 2,
     "metadata": {},
     "output_type": "execute_result"
    }
   ],
   "source": []
  },
  {
   "cell_type": "code",
   "execution_count": null,
   "metadata": {},
   "outputs": [],
   "source": []
  }
 ],
 "metadata": {
  "kernelspec": {
   "display_name": "mlops",
   "language": "python",
   "name": "python3"
  },
  "language_info": {
   "codemirror_mode": {
    "name": "ipython",
    "version": 3
   },
   "file_extension": ".py",
   "mimetype": "text/x-python",
   "name": "python",
   "nbconvert_exporter": "python",
   "pygments_lexer": "ipython3",
   "version": "3.8.18"
  }
 },
 "nbformat": 4,
 "nbformat_minor": 2
}
