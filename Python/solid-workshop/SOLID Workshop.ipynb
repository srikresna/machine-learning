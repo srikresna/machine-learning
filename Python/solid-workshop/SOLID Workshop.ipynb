{
 "cells": [
  {
   "cell_type": "code",
   "execution_count": 1,
   "id": "5347408f",
   "metadata": {
    "slideshow": {
     "slide_type": "skip"
    }
   },
   "outputs": [
    {
     "ename": "ModuleNotFoundError",
     "evalue": "No module named 'notebook'",
     "output_type": "error",
     "traceback": [
      "\u001b[1;31m---------------------------------------------------------------------------\u001b[0m",
      "\u001b[1;31mModuleNotFoundError\u001b[0m                       Traceback (most recent call last)",
      "Cell \u001b[1;32mIn[1], line 1\u001b[0m\n\u001b[1;32m----> 1\u001b[0m \u001b[39mfrom\u001b[39;00m \u001b[39mnotebook\u001b[39;00m\u001b[39m.\u001b[39;00m\u001b[39mservices\u001b[39;00m\u001b[39m.\u001b[39;00m\u001b[39mconfig\u001b[39;00m \u001b[39mimport\u001b[39;00m ConfigManager\n\u001b[0;32m      2\u001b[0m cm \u001b[39m=\u001b[39m ConfigManager()\n\u001b[0;32m      3\u001b[0m cm\u001b[39m.\u001b[39mupdate(\u001b[39m'\u001b[39m\u001b[39mlivereveal\u001b[39m\u001b[39m'\u001b[39m, {\n\u001b[0;32m      4\u001b[0m         \u001b[39m'\u001b[39m\u001b[39mscroll\u001b[39m\u001b[39m'\u001b[39m: \u001b[39mTrue\u001b[39;00m,\n\u001b[0;32m      5\u001b[0m         \u001b[39m'\u001b[39m\u001b[39mwidth\u001b[39m\u001b[39m'\u001b[39m: \u001b[39m\"\u001b[39m\u001b[39m100\u001b[39m\u001b[39m%\u001b[39m\u001b[39m\"\u001b[39m,\n\u001b[0;32m      6\u001b[0m         \u001b[39m'\u001b[39m\u001b[39mheight\u001b[39m\u001b[39m'\u001b[39m: \u001b[39m\"\u001b[39m\u001b[39m100\u001b[39m\u001b[39m%\u001b[39m\u001b[39m\"\u001b[39m,\n\u001b[0;32m      7\u001b[0m })\n",
      "\u001b[1;31mModuleNotFoundError\u001b[0m: No module named 'notebook'"
     ]
    }
   ],
   "source": [
    "from notebook.services.config import ConfigManager\n",
    "cm = ConfigManager()\n",
    "cm.update('livereveal', {\n",
    "        'scroll': True,\n",
    "        'width': \"100%\",\n",
    "        'height': \"100%\",\n",
    "})"
   ]
  },
  {
   "cell_type": "markdown",
   "id": "c070f26a",
   "metadata": {
    "slideshow": {
     "slide_type": "slide"
    }
   },
   "source": [
    "# SOLID Workshop\n",
    "- SRP: Single Responsibility Principle\n",
    "- OCP: Open Close Principle\n",
    "- LSP: Liskov Substitution Principle\n",
    "- ISP: Interface Segregation Principle\n",
    "- DIP: Dependency Inversion Principle\n",
    "\n",
    "## Feel free clone this repo and follow along\n",
    "Github repository: https://github.com/boedybios/SOLID-Workshop"
   ]
  },
  {
   "cell_type": "markdown",
   "id": "f9f5c7c7",
   "metadata": {
    "slideshow": {
     "slide_type": "slide"
    }
   },
   "source": [
    "## SRP: Single Responsibility Principle\n",
    "\n",
    "\"Every software compponent should have one and only one responsibility\"\n",
    "\n",
    "Key points:\n",
    "- Aim for High Cohesion \n",
    "- Aim for Loose Coupling"
   ]
  },
  {
   "cell_type": "markdown",
   "id": "5f110c07",
   "metadata": {
    "slideshow": {
     "slide_type": "subslide"
    }
   },
   "source": [
    "### Example 1: Cohesion \n",
    "\n",
    "\"Cohesion is the degree to which the various parts of a software components are related\""
   ]
  },
  {
   "cell_type": "code",
   "execution_count": null,
   "id": "2b4c8441",
   "metadata": {
    "slideshow": {
     "slide_type": "-"
    }
   },
   "outputs": [],
   "source": [
    "class Square:\n",
    "    def __init__(self):\n",
    "        self.side = 5\n",
    "    \n",
    "    def calculate_area(self):\n",
    "        return self.side * self.side\n",
    "    \n",
    "    def calculate_perimeter(self):\n",
    "        return self.side * 4\n",
    "    \n",
    "    def draw(self) -> None:\n",
    "        print(\"rendering the square image\")\n",
    "    \n",
    "    def rotate(self, degree) -> None:\n",
    "        print(f\"rotating the image of the square clockwise to {degree} degree\")\n",
    "        self.draw()"
   ]
  },
  {
   "cell_type": "code",
   "execution_count": null,
   "id": "bf438b7b",
   "metadata": {
    "slideshow": {
     "slide_type": "-"
    }
   },
   "outputs": [],
   "source": [
    "square = Square()\n",
    "print(f\"Square Area: {square.calculate_area()}\")\n",
    "print(f\"Square Perimeter: {square.calculate_perimeter()}\")\n",
    "\n",
    "square.draw()\n",
    "square.rotate(25)"
   ]
  },
  {
   "cell_type": "markdown",
   "id": "538fb42a",
   "metadata": {
    "slideshow": {
     "slide_type": "subslide"
    }
   },
   "source": [
    "### Let's refactor the code"
   ]
  },
  {
   "cell_type": "code",
   "execution_count": null,
   "id": "2d5d73c0",
   "metadata": {},
   "outputs": [],
   "source": [
    "class Square:\n",
    "    def __init__(self):\n",
    "        self.side:int = 5\n",
    "    \n",
    "    def calculate_area(self) -> int:\n",
    "        return self.side * self.side\n",
    "    \n",
    "    def calculate_perimeter(self) -> int:\n",
    "        return self.side * 4"
   ]
  },
  {
   "cell_type": "code",
   "execution_count": null,
   "id": "4533ea8b",
   "metadata": {},
   "outputs": [],
   "source": [
    "class SquareUI:\n",
    "    def __init__(self, square:Square):\n",
    "        self.square: Square = square\n",
    "        \n",
    "    def draw(self) -> None:\n",
    "        print(\"rendering the square image\")\n",
    "    \n",
    "    def rotate(self, degree:int) -> None:\n",
    "        print(f\"rotating the image of the square clockwise to {degree} degree\")\n",
    "        self.draw()"
   ]
  },
  {
   "cell_type": "code",
   "execution_count": null,
   "id": "99b2a14d",
   "metadata": {},
   "outputs": [],
   "source": [
    "square = Square()\n",
    "print(f\"Square Area: {square.calculate_area()}\")\n",
    "print(f\"Square Perimeter: {square.calculate_perimeter()}\")\n",
    "\n",
    "square_ui = SquareUI(square)\n",
    "square_ui.draw()\n",
    "square_ui.rotate(25)"
   ]
  },
  {
   "cell_type": "markdown",
   "id": "05c68bfd",
   "metadata": {
    "slideshow": {
     "slide_type": "subslide"
    }
   },
   "source": [
    "### Example 2: Coupling \n",
    "\n",
    "\"Coupling is defined as the level of inter-dependency between various software components\""
   ]
  },
  {
   "cell_type": "code",
   "execution_count": null,
   "id": "dff6edc8",
   "metadata": {},
   "outputs": [],
   "source": [
    "import mysql.connector\n",
    "\n",
    "class Student:\n",
    "    def __init__(self, name:str, age:int, grade:int):\n",
    "        self.name:str = name\n",
    "        self.age:int = age\n",
    "        self.grade:int = grade\n",
    "    \n",
    "    def save(self) -> None:\n",
    "        # Connect to MySQL database\n",
    "        connection = mysql.connector.connect(\n",
    "            host=\"localhost\",\n",
    "            user=\"your_username\",\n",
    "            password=\"your_password\",\n",
    "            database=\"your_database\"\n",
    "        )\n",
    "\n",
    "        # Create a cursor object\n",
    "        cursor = connection.cursor()\n",
    "\n",
    "        # Insert student data into the database\n",
    "        query = \"INSERT INTO students (name, age, grade) VALUES (%s, %s, %s)\"\n",
    "        values = (self.name, self.age, self.grade)\n",
    "        cursor.execute(query, values)\n",
    "\n",
    "        # Commit the transaction\n",
    "        connection.commit()\n",
    "\n",
    "        # Close the cursor and connection\n",
    "        cursor.close()\n",
    "        connection.close()"
   ]
  },
  {
   "cell_type": "code",
   "execution_count": null,
   "id": "b6ad1bc9",
   "metadata": {},
   "outputs": [],
   "source": [
    "# Create a student object\n",
    "student = Student(\"John Doe\", 18, \"12th\")\n",
    "\n",
    "# Save the student data\n",
    "student.save()"
   ]
  },
  {
   "cell_type": "markdown",
   "id": "e167c866",
   "metadata": {
    "slideshow": {
     "slide_type": "subslide"
    }
   },
   "source": [
    "### Let's refactor the code"
   ]
  },
  {
   "cell_type": "code",
   "execution_count": null,
   "id": "f88aed82",
   "metadata": {},
   "outputs": [],
   "source": [
    "class Student:\n",
    "    def __init__(self, name:str, age:int, grade:int):\n",
    "        self.name:str = name\n",
    "        self.age:int = age\n",
    "        self.grade:int = grade"
   ]
  },
  {
   "cell_type": "code",
   "execution_count": null,
   "id": "7664929f",
   "metadata": {},
   "outputs": [],
   "source": [
    "import mysql.connector\n",
    "\n",
    "class StudentRepository:\n",
    "    def __init__(self):\n",
    "        self.__db_connection = None\n",
    "    \n",
    "    def save(self, student:Student) -> None:\n",
    "        self.__create_db_connection()\n",
    "        self.__insert_student_data(student)\n",
    "        self.__close_db_connection\n",
    "    \n",
    "    def __create_db_connection(self) -> None:\n",
    "        conn = mysql.connector.connect(host=\"localhost\",\n",
    "                                       user=\"your_username\",\n",
    "                                       password=\"your_password\",\n",
    "                                       database=\"your_database\")\n",
    "        self.__db_connection = conn\n",
    "        \n",
    "    def __close_db_connection(self) -> None:\n",
    "        self.__db_connection.close()\n",
    "        \n",
    "    def __insert_student_data(self, student:Student) -> None:\n",
    "        with self.__db_connection.cursor() as cursor:\n",
    "            query = \"INSERT INTO students (name, age, grade) VALUES (%s, %s, %s)\"\n",
    "            values = (student.name, student.age, student.grade)\n",
    "            cursor.execute(query, values)\n",
    "            self.__db_connection.commit()"
   ]
  },
  {
   "cell_type": "code",
   "execution_count": null,
   "id": "d54a8f01",
   "metadata": {},
   "outputs": [],
   "source": [
    "student = Student(\"John Doe\", 18, \"12th\")\n",
    "student_repo = StudentRepository()\n",
    "student_repo.save(student)"
   ]
  },
  {
   "cell_type": "markdown",
   "id": "82cb97e1",
   "metadata": {
    "slideshow": {
     "slide_type": "slide"
    }
   },
   "source": [
    "## OCP: Open Close Principle\n",
    "\n",
    "\"Software components should be closed for modification, but open for extension\"\n",
    "\n",
    "Key points:\n",
    "- Ease of adding new features \n",
    "- Lean to minimal cost of developing and testing software\n",
    "- **OCP** often requires decoupling, which in turn automatically follows the **SRP**"
   ]
  },
  {
   "cell_type": "markdown",
   "id": "6981b329",
   "metadata": {
    "slideshow": {
     "slide_type": "subslide"
    }
   },
   "source": [
    "### Example: Health Insurance "
   ]
  },
  {
   "cell_type": "code",
   "execution_count": null,
   "id": "39ce76d9",
   "metadata": {
    "slideshow": {
     "slide_type": "-"
    }
   },
   "outputs": [],
   "source": [
    "class HealthInsuranceCustomerProfile:\n",
    "    def is_loyal(self) -> bool:\n",
    "        # some complex business logic to determine \n",
    "        # a loyal health insurance customer\n",
    "        return True # or False"
   ]
  },
  {
   "cell_type": "code",
   "execution_count": null,
   "id": "da3613fb",
   "metadata": {},
   "outputs": [],
   "source": [
    "class InsurancePremiumDiscountCalculator:\n",
    "    def calculate_discount(self, customer:HealthInsuranceCustomerProfile) -> int:\n",
    "        if customer.is_loyal():\n",
    "            return 20\n",
    "        return 0"
   ]
  },
  {
   "cell_type": "code",
   "execution_count": null,
   "id": "81a49e32",
   "metadata": {},
   "outputs": [],
   "source": [
    "customer_profile = HealthInsuranceCustomerProfile()\n",
    "calculator = InsurancePremiumDiscountCalculator()\n",
    "discount = calculator.calculate_discount(customer_profile)\n",
    "print(f\"The discount: {discount}\")"
   ]
  },
  {
   "cell_type": "markdown",
   "id": "42e7533c",
   "metadata": {
    "slideshow": {
     "slide_type": "subslide"
    }
   },
   "source": [
    "### Problem: What if Health + Vehicle Insurance "
   ]
  },
  {
   "cell_type": "code",
   "execution_count": null,
   "id": "871c11ed",
   "metadata": {},
   "outputs": [],
   "source": [
    "class HealthInsuranceCustomerProfile:\n",
    "    def is_loyal(self) -> bool:\n",
    "        # some complex business logic to determine \n",
    "        # a loyal health insurance customer\n",
    "        return True # or False"
   ]
  },
  {
   "cell_type": "code",
   "execution_count": null,
   "id": "227daaa7",
   "metadata": {},
   "outputs": [],
   "source": [
    "class VehicleInsuranceCustomerProfile:\n",
    "    def is_loyal(self) -> bool:\n",
    "        # some complex business logic to determine \n",
    "        # a loyal vehicle insurance customer\n",
    "        return True # or False"
   ]
  },
  {
   "cell_type": "code",
   "execution_count": null,
   "id": "1db7b394",
   "metadata": {},
   "outputs": [],
   "source": [
    "class InsurancePremiumDiscountCalculator:\n",
    "    def calculate_health_insurance_discount(self, customer:HealthInsuranceCustomerProfile) -> int:\n",
    "        if customer.is_loyal():\n",
    "            return 20\n",
    "        return 0\n",
    "    \n",
    "    def calculate_vehicle_insurance_discount(self, customer:VehicleInsuranceCustomerProfile) -> int:\n",
    "        if customer.is_loyal():\n",
    "            return 20\n",
    "        return 0"
   ]
  },
  {
   "cell_type": "code",
   "execution_count": null,
   "id": "9f55aafe",
   "metadata": {},
   "outputs": [],
   "source": [
    "calculator = InsurancePremiumDiscountCalculator()\n",
    "\n",
    "health_customer = HealthInsuranceCustomerProfile()\n",
    "health_discount = calculator.calculate_health_insurance_discount(health_customer)\n",
    "print(f\"health discount: {health_discount}\")\n",
    "\n",
    "vehicle_customer = VehicleInsuranceCustomerProfile()\n",
    "vehicle_discount = calculator.calculate_vehicle_insurance_discount(vehicle_customer)\n",
    "print(f\"vehicle discount: {vehicle_discount}\")"
   ]
  },
  {
   "cell_type": "markdown",
   "id": "02316b7f",
   "metadata": {
    "slideshow": {
     "slide_type": "subslide"
    }
   },
   "source": [
    "### Let's refactor the code"
   ]
  },
  {
   "cell_type": "code",
   "execution_count": null,
   "id": "a58f82d6",
   "metadata": {},
   "outputs": [],
   "source": [
    "from abc import ABC, abstractmethod\n",
    "\n",
    "class CustomerProfile(ABC):\n",
    "    @abstractmethod\n",
    "    def is_loyal(self) -> bool:\n",
    "        pass"
   ]
  },
  {
   "cell_type": "code",
   "execution_count": null,
   "id": "afe2c11a",
   "metadata": {},
   "outputs": [],
   "source": [
    "class HealthInsuranceCustomerProfile(CustomerProfile):    \n",
    "    def is_loyal(self) -> bool:\n",
    "        # some complex business logic to determine \n",
    "        # a loyal health insurance customer\n",
    "        return True # or False\n",
    "    \n",
    "class VehicleInsuranceCustomerProfile(CustomerProfile):\n",
    "    def is_loyal(self) -> bool:\n",
    "        # some complex business logic to determine \n",
    "        # a loyal vehicle insurance customer\n",
    "        return True # or False  "
   ]
  },
  {
   "cell_type": "code",
   "execution_count": null,
   "id": "a2f59c10",
   "metadata": {},
   "outputs": [],
   "source": [
    "class InsurancePremiumDiscountCalculator:\n",
    "    def calculate_discount(self, customer:CustomerProfile) -> int:\n",
    "        if customer.is_loyal:\n",
    "            return 20\n",
    "        return 0"
   ]
  },
  {
   "cell_type": "code",
   "execution_count": null,
   "id": "f3fc2ee0",
   "metadata": {},
   "outputs": [],
   "source": [
    "calculator = InsurancePremiumDiscountCalculator()\n",
    "\n",
    "health_customer = HealthInsuranceCustomerProfile()\n",
    "health_discount = calculator.calculate_discount(health_customer)\n",
    "print(f\"health discount: {health_discount}\")\n",
    "\n",
    "vehicle_customer = VehicleInsuranceCustomerProfile()\n",
    "vehicle_discount = calculator.calculate_discount(vehicle_customer)\n",
    "print(f\"vehicle discount: {vehicle_discount}\")"
   ]
  },
  {
   "cell_type": "markdown",
   "id": "5fd8d470",
   "metadata": {
    "slideshow": {
     "slide_type": "subslide"
    }
   },
   "source": [
    "### Adding Home Insurance? No Problem"
   ]
  },
  {
   "cell_type": "markdown",
   "id": "0b6e8c8b",
   "metadata": {},
   "source": [
    "No need to modify the existing code base"
   ]
  },
  {
   "cell_type": "code",
   "execution_count": null,
   "id": "5882be96",
   "metadata": {},
   "outputs": [],
   "source": [
    "from abc import ABC, abstractmethod\n",
    "\n",
    "class CustomerProfile(ABC):\n",
    "    @abstractmethod\n",
    "    def is_loyal(self) -> bool:\n",
    "        pass\n",
    "    \n",
    "class HealthInsuranceCustomerProfile(CustomerProfile):    \n",
    "    def is_loyal(self) -> bool:\n",
    "        # some complex business logic to determine \n",
    "        # a loyal health insurance customer\n",
    "        return True # or False\n",
    "    \n",
    "class VehicleInsuranceCustomerProfile(CustomerProfile):\n",
    "    def is_loyal(self) -> bool:\n",
    "        # some complex business logic to determine \n",
    "        # a loyal vehicle insurance customer\n",
    "        return True # or False  \n",
    "    \n",
    "class InsurancePremiumDiscountCalculator:\n",
    "    def calculate_discount(self, customer:CustomerProfile) -> int:\n",
    "        if customer.is_loyal:\n",
    "            return 20\n",
    "        return 0"
   ]
  },
  {
   "cell_type": "code",
   "execution_count": null,
   "id": "0cf8a76a",
   "metadata": {},
   "outputs": [],
   "source": [
    "calculator = InsurancePremiumDiscountCalculator()\n",
    "\n",
    "health_customer = HealthInsuranceCustomerProfile()\n",
    "health_discount = calculator.calculate_discount(health_customer)\n",
    "print(f\"health discount: {health_discount}\")\n",
    "\n",
    "vehicle_customer = VehicleInsuranceCustomerProfile()\n",
    "vehicle_discount = calculator.calculate_discount(vehicle_customer)\n",
    "print(f\"vehicle discount: {vehicle_discount}\")"
   ]
  },
  {
   "cell_type": "markdown",
   "id": "1b152563",
   "metadata": {},
   "source": [
    "Simply adding a new implementation for CustomerProfile"
   ]
  },
  {
   "cell_type": "code",
   "execution_count": null,
   "id": "d571eedf",
   "metadata": {},
   "outputs": [],
   "source": [
    "class HomeInsuranceCustomerProfile(CustomerProfile):\n",
    "    def is_loyal(self) -> bool:\n",
    "        # some complex business logic to determine \n",
    "        # a loyal home insurance customer\n",
    "        return True # or False  "
   ]
  },
  {
   "cell_type": "code",
   "execution_count": null,
   "id": "87e6cde4",
   "metadata": {},
   "outputs": [],
   "source": [
    "home_customer = HomeInsuranceCustomerProfile()\n",
    "home_discount = calculator.calculate_discount(home_customer)\n",
    "print(f\"home discount: {home_discount}\")"
   ]
  },
  {
   "cell_type": "markdown",
   "id": "2d07928e",
   "metadata": {
    "slideshow": {
     "slide_type": "slide"
    }
   },
   "source": [
    "## LSP: Liskov Substitution Principle\n",
    "\n",
    "\"Objects should be replaceable with their subtypes without affecting the correctness of the program\"\n",
    "\n",
    "Key points:\n",
    "- Change the \"Is-A\" way of thinking\n",
    "- \"If it looks like a duck and quacks like a duck but it needs batteries, you probably have the wrong abstraction\""
   ]
  },
  {
   "cell_type": "markdown",
   "id": "0cbff924",
   "metadata": {
    "slideshow": {
     "slide_type": "subslide"
    }
   },
   "source": [
    "### Example: Don't force a pinguin to fly"
   ]
  },
  {
   "cell_type": "code",
   "execution_count": null,
   "id": "19264d05",
   "metadata": {},
   "outputs": [],
   "source": [
    "class Bird:\n",
    "    def fly(self) -> None:\n",
    "        print(\"Generic bird flying\")"
   ]
  },
  {
   "cell_type": "code",
   "execution_count": null,
   "id": "6e3b3b18",
   "metadata": {},
   "outputs": [],
   "source": [
    "class Pigeon(Bird):\n",
    "    def fly(self) -> None:\n",
    "        print(\"Pigeon style flying\")"
   ]
  },
  {
   "cell_type": "code",
   "execution_count": null,
   "id": "cbbef6a9",
   "metadata": {},
   "outputs": [],
   "source": [
    "pigeon = Pigeon()\n",
    "pigeon.fly()"
   ]
  },
  {
   "cell_type": "code",
   "execution_count": null,
   "id": "c94a875a",
   "metadata": {},
   "outputs": [],
   "source": [
    "class Pinguin(Bird):\n",
    "    pass \n",
    "\n",
    "#     def fly(self) -> None:\n",
    "#         raise TypeError(\"Piguin cannot fly\")"
   ]
  },
  {
   "cell_type": "code",
   "execution_count": null,
   "id": "526f518d",
   "metadata": {},
   "outputs": [],
   "source": [
    "pinguin = Pinguin()\n",
    "pinguin.fly()"
   ]
  },
  {
   "cell_type": "markdown",
   "id": "5793c515",
   "metadata": {
    "slideshow": {
     "slide_type": "subslide"
    }
   },
   "source": [
    "### Example 1: Break the hierarchy "
   ]
  },
  {
   "cell_type": "code",
   "execution_count": null,
   "id": "2d9594f2",
   "metadata": {},
   "outputs": [],
   "source": [
    "class Car:\n",
    "    def show_cabin_width(self) -> None:\n",
    "        print(\"Showing cabin width\")"
   ]
  },
  {
   "cell_type": "code",
   "execution_count": null,
   "id": "2d7b9c95",
   "metadata": {},
   "outputs": [],
   "source": [
    "class RacingCar(Car):\n",
    "#     def show_cabin_width(self) -> None:\n",
    "#         pass\n",
    "    \n",
    "#     def show_cabin_width(self) -> None:\n",
    "#         raise TypeError(\"Racingcar doesn't have cabin\")\n",
    "    \n",
    "#     def show_cabin_width(self):\n",
    "#         self.show_cockpit_width()\n",
    "        \n",
    "    def show_cockpit_width(self) -> None:\n",
    "        print(\"Showing cockpit width\")"
   ]
  },
  {
   "cell_type": "code",
   "execution_count": null,
   "id": "db3d8a92",
   "metadata": {},
   "outputs": [],
   "source": [
    "cars = []\n",
    "cars.append(Car())\n",
    "cars.append(Car())\n",
    "cars.append(RacingCar())\n",
    "\n",
    "for car in cars:\n",
    "    car.show_cabin_width()"
   ]
  },
  {
   "cell_type": "markdown",
   "id": "4e03ad6e",
   "metadata": {
    "slideshow": {
     "slide_type": "subslide"
    }
   },
   "source": [
    "### Let's refactor the code\n",
    "Solution: Break the hierarchy if it fails the substitution test"
   ]
  },
  {
   "cell_type": "code",
   "execution_count": null,
   "id": "93d8449f",
   "metadata": {},
   "outputs": [],
   "source": [
    "from abc import ABC, abstractmethod\n",
    "\n",
    "class Vehicle(ABC):\n",
    "    @abstractmethod\n",
    "    def show_interior_width(self) -> None:\n",
    "        pass"
   ]
  },
  {
   "cell_type": "code",
   "execution_count": null,
   "id": "23e2e3d3",
   "metadata": {},
   "outputs": [],
   "source": [
    "class Car(Vehicle):\n",
    "    def show_interior_width(self) -> None:\n",
    "        self.show_cabin_width()\n",
    "    \n",
    "    def show_cabin_width(self) -> None:\n",
    "        print(\"Showing cabin width\")"
   ]
  },
  {
   "cell_type": "code",
   "execution_count": null,
   "id": "8c6bdeb8",
   "metadata": {},
   "outputs": [],
   "source": [
    "class RacingCar(Vehicle):\n",
    "    def show_interior_width(self) -> None:\n",
    "        self.show_cockpit_width()\n",
    "    \n",
    "    def show_cockpit_width(self) -> None:\n",
    "        print(\"Showing cockpit width\")"
   ]
  },
  {
   "cell_type": "code",
   "execution_count": null,
   "id": "e21fcdc1",
   "metadata": {},
   "outputs": [],
   "source": [
    "vehicles = []\n",
    "vehicles.append(Car())\n",
    "vehicles.append(Car())\n",
    "vehicles.append(RacingCar())\n",
    "\n",
    "for vehicle in vehicles:\n",
    "    vehicle.show_interior_width()"
   ]
  },
  {
   "cell_type": "markdown",
   "id": "24cfa8ec",
   "metadata": {
    "slideshow": {
     "slide_type": "subslide"
    }
   },
   "source": [
    "### Example 2: Tell, Don't Ask"
   ]
  },
  {
   "cell_type": "code",
   "execution_count": null,
   "id": "0c3048e0",
   "metadata": {},
   "outputs": [],
   "source": [
    "class Product:\n",
    "    def __init__(self):\n",
    "        self.discount:float = 0.25\n",
    "            \n",
    "    def get_discount(self) -> float:\n",
    "        return self.discount"
   ]
  },
  {
   "cell_type": "code",
   "execution_count": null,
   "id": "1145ee33",
   "metadata": {},
   "outputs": [],
   "source": [
    "class InHouseProduct(Product):\n",
    "    def apply_extra_discount(self) -> None:\n",
    "        self.discount = self.discount * 1.5"
   ]
  },
  {
   "cell_type": "code",
   "execution_count": null,
   "id": "0fed6298",
   "metadata": {},
   "outputs": [],
   "source": [
    "products = []\n",
    "products.append(Product())\n",
    "products.append(Product())\n",
    "products.append(InHouseProduct())\n",
    "\n",
    "for product in products:\n",
    "    if isinstance(product, InHouseProduct):\n",
    "        product.apply_extra_discount()\n",
    "        \n",
    "    print(f\"Final discount: {product.get_discount()}\")"
   ]
  },
  {
   "cell_type": "markdown",
   "id": "191125ae",
   "metadata": {
    "slideshow": {
     "slide_type": "subslide"
    }
   },
   "source": [
    "### Let's refactor the code\n",
    "Solution: Tell, Don't Ask"
   ]
  },
  {
   "cell_type": "code",
   "execution_count": null,
   "id": "3b20d100",
   "metadata": {},
   "outputs": [],
   "source": [
    "class Product:\n",
    "    def __init__(self):\n",
    "        self.discount:float = 0.25\n",
    "            \n",
    "    def get_discount(self) -> float:\n",
    "        return self.discount"
   ]
  },
  {
   "cell_type": "code",
   "execution_count": null,
   "id": "407af859",
   "metadata": {},
   "outputs": [],
   "source": [
    "class InHouseProduct(Product):\n",
    "    def get_discount(self) -> float:\n",
    "        self.apply_extra_discount()\n",
    "        return self.discount\n",
    "    \n",
    "    def apply_extra_discount(self) -> None:\n",
    "        self.discount = self.discount * 1.5"
   ]
  },
  {
   "cell_type": "code",
   "execution_count": null,
   "id": "3209f32a",
   "metadata": {},
   "outputs": [],
   "source": [
    "products = []\n",
    "products.append(Product())\n",
    "products.append(Product())\n",
    "products.append(InHouseProduct())\n",
    "\n",
    "for product in products:       \n",
    "    print(f\"Final discount: {product.get_discount()}\")"
   ]
  },
  {
   "cell_type": "markdown",
   "id": "ccb89bf3",
   "metadata": {
    "slideshow": {
     "slide_type": "slide"
    }
   },
   "source": [
    "## ISP: Interface Segregation Principle\n",
    "\n",
    "\"No client should be forced to depend on methods it does not use\"\n",
    "\n",
    "Key points:\n",
    "- Fat interfaces\n",
    "- Interfaces with low cohesion\n",
    "- Empty method implementation"
   ]
  },
  {
   "cell_type": "markdown",
   "id": "bbf9eafa",
   "metadata": {
    "slideshow": {
     "slide_type": "subslide"
    }
   },
   "source": [
    "### Example: Multi Function Printer"
   ]
  },
  {
   "cell_type": "code",
   "execution_count": null,
   "id": "893b2c59",
   "metadata": {},
   "outputs": [],
   "source": [
    "from abc import ABC, abstractmethod\n",
    "\n",
    "class MultiFunctionPrinter(ABC):\n",
    "    @abstractmethod\n",
    "    def do_print(self) -> None:\n",
    "        pass\n",
    "    \n",
    "    @abstractmethod\n",
    "    def do_scan(self) -> None:\n",
    "        pass\n",
    "    \n",
    "    @abstractmethod\n",
    "    def do_fax(self) -> None:\n",
    "        pass"
   ]
  },
  {
   "cell_type": "code",
   "execution_count": null,
   "id": "9411920e",
   "metadata": {},
   "outputs": [],
   "source": [
    "class XeroxWorkCentre(MultiFunctionPrinter):\n",
    "    def do_print(self) -> None:\n",
    "        print(\"Xerox printing\")\n",
    "    \n",
    "    def do_scan(self) -> None:\n",
    "        print(\"Xerox scanning\")\n",
    "    \n",
    "    def do_fax(self) -> None:\n",
    "        print(\"Xerox faxing\")"
   ]
  },
  {
   "cell_type": "code",
   "execution_count": null,
   "id": "a0353a8f",
   "metadata": {},
   "outputs": [],
   "source": [
    "xerox = XeroxWorkCentre()\n",
    "xerox.do_print()\n",
    "xerox.do_scan()\n",
    "xerox.do_fax()"
   ]
  },
  {
   "cell_type": "code",
   "execution_count": null,
   "id": "4db94d89",
   "metadata": {},
   "outputs": [],
   "source": [
    "class HPPrintNScan(MultiFunctionPrinter):\n",
    "    def do_print(self) -> None:\n",
    "        print(\"HP printing\")\n",
    "    \n",
    "    def do_scan(self) -> None:\n",
    "        print(\"HP scanning\")\n",
    "    \n",
    "    def do_fax(self) -> None:\n",
    "        pass"
   ]
  },
  {
   "cell_type": "code",
   "execution_count": null,
   "id": "907cdb02",
   "metadata": {},
   "outputs": [],
   "source": [
    "hp = HPPrintNScan()\n",
    "hp.do_print()\n",
    "hp.do_scan()\n",
    "hp.do_fax()"
   ]
  },
  {
   "cell_type": "markdown",
   "id": "60a1f5e4",
   "metadata": {
    "slideshow": {
     "slide_type": "subslide"
    }
   },
   "source": [
    "### Let's refactor the code"
   ]
  },
  {
   "cell_type": "code",
   "execution_count": null,
   "id": "548d0e79",
   "metadata": {},
   "outputs": [],
   "source": [
    "from abc import ABC, abstractmethod\n",
    "\n",
    "class Printer(ABC):\n",
    "    @abstractmethod\n",
    "    def do_print(self) -> None:\n",
    "        pass\n",
    "    \n",
    "class Scanner(ABC):\n",
    "    @abstractmethod\n",
    "    def do_scan(self) -> None:\n",
    "        pass\n",
    "    \n",
    "class Faxer(ABC):\n",
    "    @abstractmethod\n",
    "    def do_fax(self) -> None:\n",
    "        pass"
   ]
  },
  {
   "cell_type": "code",
   "execution_count": null,
   "id": "4175956b",
   "metadata": {},
   "outputs": [],
   "source": [
    "class XeroxWorkCentre(Printer, Scanner, Faxer):\n",
    "    def do_print(self) -> None:\n",
    "        print(\"Xerox printing\")\n",
    "    \n",
    "    def do_scan(self) -> None:\n",
    "        print(\"Xerox scanning\")\n",
    "    \n",
    "    def do_fax(self) -> None:\n",
    "        print(\"Xerox faxing\")"
   ]
  },
  {
   "cell_type": "code",
   "execution_count": null,
   "id": "7582be90",
   "metadata": {},
   "outputs": [],
   "source": [
    "class HPPrintNScan(Printer, Scanner):\n",
    "    def do_print(self) -> None:\n",
    "        print(\"HP printing\")\n",
    "    \n",
    "    def do_scan(self) -> None:\n",
    "        print(\"HP scanning\")"
   ]
  },
  {
   "cell_type": "code",
   "execution_count": null,
   "id": "c41b6e68",
   "metadata": {},
   "outputs": [],
   "source": [
    "class CanonBasicPrinter(Printer):\n",
    "    def do_print(self) -> None:\n",
    "        print(\"Canon printing\")"
   ]
  },
  {
   "cell_type": "code",
   "execution_count": null,
   "id": "a0b01208",
   "metadata": {},
   "outputs": [],
   "source": [
    "xerox = XeroxWorkCentre()\n",
    "hp = HPPrintNScan()\n",
    "canon = CanonBasicPrinter()\n",
    "\n",
    "printers = [xerox, hp, canon]\n",
    "for printer in printers:\n",
    "    printer.do_print()"
   ]
  },
  {
   "cell_type": "code",
   "execution_count": null,
   "id": "cf781f33",
   "metadata": {},
   "outputs": [],
   "source": [
    "scanners = [xerox, hp]\n",
    "for scanner  in scanners:\n",
    "    scanner.do_scan()"
   ]
  },
  {
   "cell_type": "markdown",
   "id": "f5c4f38a",
   "metadata": {
    "slideshow": {
     "slide_type": "slide"
    }
   },
   "source": [
    "## DIP: Dependency Inversion Principle\n",
    "\n",
    "- \"High-level modules should not depend on low-level modules. Both should depend on abstractions\"\n",
    "- \"Abstractions should not depend on details. Details should depend on abstractions\""
   ]
  },
  {
   "cell_type": "markdown",
   "id": "c4d9f90d",
   "metadata": {
    "slideshow": {
     "slide_type": "subslide"
    }
   },
   "source": [
    "### Example: Product Catalog"
   ]
  },
  {
   "cell_type": "code",
   "execution_count": null,
   "id": "13d834b8",
   "metadata": {},
   "outputs": [],
   "source": [
    "class ProductCatalog:\n",
    "    def show_all_products(self) -> None:\n",
    "        product_repo = SQLProductRepository()\n",
    "        product_list = product_repo.get_all_product_names()\n",
    "        print(f\"List of all products: {product_list}\")\n",
    "\n",
    "\n",
    "class SQLProductRepository:\n",
    "    def get_all_product_names(self) -> list[str]:\n",
    "        return [\"soap\", \"tooth-paste\"]"
   ]
  },
  {
   "cell_type": "code",
   "execution_count": null,
   "id": "e8c15080",
   "metadata": {},
   "outputs": [],
   "source": [
    "catalog = ProductCatalog()\n",
    "catalog.show_all_products()"
   ]
  },
  {
   "cell_type": "markdown",
   "id": "3349987c",
   "metadata": {
    "slideshow": {
     "slide_type": "subslide"
    }
   },
   "source": [
    "### Let's refactor the code\n",
    "\"High-level modules should not depend on lolw-level modules. Both should depend on abstractions\""
   ]
  },
  {
   "cell_type": "code",
   "execution_count": null,
   "id": "5db86edb",
   "metadata": {},
   "outputs": [],
   "source": [
    "from abc import ABC, abstractmethod\n",
    "\n",
    "class ProductRepository(ABC):\n",
    "    @abstractmethod\n",
    "    def get_all_product_names(self) -> list[str]:\n",
    "        pass\n",
    "    \n",
    "class ProductFactory:\n",
    "    def create() -> ProductRepository:\n",
    "        return SQLProductRepository()"
   ]
  },
  {
   "cell_type": "code",
   "execution_count": null,
   "id": "ffe4788d",
   "metadata": {},
   "outputs": [],
   "source": [
    "class ProductCatalog:\n",
    "    def show_all_products(self) -> None:\n",
    "        product_repo = ProductFactory.create()\n",
    "        product_list = product_repo.get_all_product_names()\n",
    "        print(f\"List of all products: {product_list}\")"
   ]
  },
  {
   "cell_type": "code",
   "execution_count": null,
   "id": "eb98f8f1",
   "metadata": {},
   "outputs": [],
   "source": [
    "class SQLProductRepository(ProductRepository):\n",
    "    def get_all_product_names(self) -> list[str]:\n",
    "        return [\"soap\", \"tooth-paste\"]"
   ]
  },
  {
   "cell_type": "code",
   "execution_count": null,
   "id": "0e000d1c",
   "metadata": {},
   "outputs": [],
   "source": [
    "catalog = ProductCatalog()\n",
    "catalog.show_all_products()"
   ]
  },
  {
   "cell_type": "markdown",
   "id": "5514728d",
   "metadata": {
    "slideshow": {
     "slide_type": "slide"
    }
   },
   "source": [
    "## Bonus: Dependency Injection"
   ]
  },
  {
   "cell_type": "code",
   "execution_count": null,
   "id": "cf11b565",
   "metadata": {},
   "outputs": [],
   "source": [
    "from abc import ABC, abstractmethod\n",
    "\n",
    "class ProductRepository(ABC):\n",
    "    @abstractmethod\n",
    "    def get_all_product_names(self) -> list[str]:\n",
    "        pass\n",
    "    \n",
    "class ProductFactory:\n",
    "    def create() -> ProductRepository:\n",
    "        return SQLProductRepository()\n",
    "    \n",
    "class SQLProductRepository(ProductRepository):\n",
    "    def get_all_product_names(self) -> list[str]:\n",
    "        return [\"soap\", \"tooth-paste\"]"
   ]
  },
  {
   "cell_type": "code",
   "execution_count": null,
   "id": "749fae32",
   "metadata": {},
   "outputs": [],
   "source": [
    "class ProductCatalog:\n",
    "    def __init__(self, product_repository: ProductRepository):\n",
    "        self.__product_repository = product_repository\n",
    "    \n",
    "    def show_all_products(self) -> None:\n",
    "        product_list = self.__product_repository.get_all_product_names()\n",
    "        print(f\"List of all products: {product_list}\")"
   ]
  },
  {
   "cell_type": "code",
   "execution_count": null,
   "id": "a8cfaee8",
   "metadata": {},
   "outputs": [],
   "source": [
    "product_repo = ProductFactory.create()\n",
    "catalog = ProductCatalog(product_repo)\n",
    "catalog.show_all_products()"
   ]
  },
  {
   "cell_type": "markdown",
   "id": "ecb4ded7",
   "metadata": {
    "slideshow": {
     "slide_type": "slide"
    }
   },
   "source": [
    "## References\n",
    "\n",
    "### Books:\n",
    "- [Clean Code : A Handbook of Agile Software Craftsmanship by Robert C. Martin](https://learning.oreilly.com/library/view/clean-code-a/9780136083238/)\n",
    "- [Clean Architecture: A Craftsman's Guide to Software Structure and Design by Robert C. Martin](https://learning.oreilly.com/library/view/clean-architecture-a/9780134494272/)\n",
    "\n",
    "### Courses:\n",
    "- [Clean Code Fundamentals by Robert C. Martin](https://learning.oreilly.com/videos/clean-code-fundamentals/9780134661742/)"
   ]
  },
  {
   "cell_type": "markdown",
   "id": "e88d4b07",
   "metadata": {
    "slideshow": {
     "slide_type": "slide"
    }
   },
   "source": [
    "## Exercise\n",
    "Let's practice by refactoring this simple codebase."
   ]
  },
  {
   "cell_type": "code",
   "execution_count": null,
   "id": "29020260",
   "metadata": {},
   "outputs": [],
   "source": [
    "class Order:\n",
    "    items = []\n",
    "    quantities = []\n",
    "    prices = []\n",
    "    status = \"open\"\n",
    "\n",
    "    def add_item(self, name, quantity, price):\n",
    "        self.items.append(name)\n",
    "        self.quantities.append(quantity)\n",
    "        self.prices.append(price)\n",
    "\n",
    "    def total_price(self):\n",
    "        total = 0\n",
    "        for i in range(len(self.prices)):\n",
    "            total += self.quantities[i] * self.prices[i]\n",
    "        return total\n",
    "\n",
    "    def pay(self, payment_type, security_code):\n",
    "        if payment_type == \"debit\":\n",
    "            print(\"Processing debit payment type\")\n",
    "            print(f\"Verifying security code: {security_code}\")\n",
    "            self.status = \"paid\"\n",
    "        elif payment_type == \"credit\":\n",
    "            print(\"Processing credit payment type\")\n",
    "            print(f\"Verifying security code: {security_code}\")\n",
    "            self.status = \"paid\"\n",
    "        else:\n",
    "            raise Exception(f\"Unknown payment type: {payment_type}\")\n",
    "\n",
    "def main():\n",
    "    order = Order()\n",
    "    order.add_item(\"Keyboard\", 1, 50)\n",
    "    order.add_item('SSD', 1, 150)\n",
    "    order.add_item(\"USB cable\", 2, 5)\n",
    "    print(order.total_price())\n",
    "    order.pay('debit', '0372846')\n",
    "\n",
    "if __name__ == \"__main__\":\n",
    "    main()"
   ]
  },
  {
   "cell_type": "markdown",
   "id": "1826c22a",
   "metadata": {
    "slideshow": {
     "slide_type": "subslide"
    }
   },
   "source": [
    "### Step 1: SRP\n",
    "\n",
    "Can you spot any possibility to separate responsibilities in the code? Let's apply SRP."
   ]
  },
  {
   "cell_type": "code",
   "execution_count": null,
   "id": "bf26ca48",
   "metadata": {},
   "outputs": [],
   "source": []
  },
  {
   "cell_type": "markdown",
   "id": "09384abb",
   "metadata": {
    "slideshow": {
     "slide_type": "subslide"
    }
   },
   "source": [
    "### Step 2: OCP\n",
    "\n",
    "What if we have a new payment method (e.g., GoPay)? Let's apply OCP. "
   ]
  },
  {
   "cell_type": "code",
   "execution_count": null,
   "id": "6fc6f803",
   "metadata": {},
   "outputs": [],
   "source": []
  },
  {
   "cell_type": "markdown",
   "id": "d61f656d",
   "metadata": {
    "slideshow": {
     "slide_type": "subslide"
    }
   },
   "source": [
    "### Step 3: LSP\n",
    "\n",
    "What if we have PayPal as a new payment method which utilize email instead of security code for verification? Let's apply LSP. "
   ]
  },
  {
   "cell_type": "code",
   "execution_count": null,
   "id": "09430300",
   "metadata": {},
   "outputs": [],
   "source": []
  }
 ],
 "metadata": {
  "celltoolbar": "Slideshow",
  "kernelspec": {
   "display_name": "Python 3 (ipykernel)",
   "language": "python",
   "name": "python3"
  },
  "language_info": {
   "codemirror_mode": {
    "name": "ipython",
    "version": 3
   },
   "file_extension": ".py",
   "mimetype": "text/x-python",
   "name": "python",
   "nbconvert_exporter": "python",
   "pygments_lexer": "ipython3",
   "version": "3.10.10"
  }
 },
 "nbformat": 4,
 "nbformat_minor": 5
}
