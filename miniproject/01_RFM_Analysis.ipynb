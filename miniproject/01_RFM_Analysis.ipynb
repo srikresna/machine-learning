{
  "cells": [
    {
      "cell_type": "code",
      "execution_count": null,
      "id": "5dfb69eb",
      "metadata": {
        "id": "5dfb69eb"
      },
      "outputs": [],
      "source": [
        "import os\n",
        "import sys\n",
        "import numpy as np\n",
        "import pandas as pd\n",
        "import seaborn as sns"
      ]
    },
    {
      "cell_type": "markdown",
      "id": "796a7acf",
      "metadata": {
        "id": "796a7acf"
      },
      "source": [
        "# Data Loading"
      ]
    },
    {
      "cell_type": "code",
      "execution_count": null,
      "id": "3c32557c",
      "metadata": {
        "id": "3c32557c"
      },
      "outputs": [],
      "source": [
        "df = pd.read_csv('../data/data.csv', encoding = \"ISO-8859-1\", parse_dates=['InvoiceDate'])"
      ]
    },
    {
      "cell_type": "code",
      "execution_count": null,
      "id": "4518c0cf",
      "metadata": {
        "id": "4518c0cf",
        "outputId": "606f4818-666c-4477-924b-0da02040daee"
      },
      "outputs": [
        {
          "data": {
            "text/html": [
              "<div>\n",
              "<style scoped>\n",
              "    .dataframe tbody tr th:only-of-type {\n",
              "        vertical-align: middle;\n",
              "    }\n",
              "\n",
              "    .dataframe tbody tr th {\n",
              "        vertical-align: top;\n",
              "    }\n",
              "\n",
              "    .dataframe thead th {\n",
              "        text-align: right;\n",
              "    }\n",
              "</style>\n",
              "<table border=\"1\" class=\"dataframe\">\n",
              "  <thead>\n",
              "    <tr style=\"text-align: right;\">\n",
              "      <th></th>\n",
              "      <th>Quantity</th>\n",
              "      <th>UnitPrice</th>\n",
              "      <th>CustomerID</th>\n",
              "    </tr>\n",
              "  </thead>\n",
              "  <tbody>\n",
              "    <tr>\n",
              "      <th>count</th>\n",
              "      <td>541909.000000</td>\n",
              "      <td>541909.000000</td>\n",
              "      <td>406829.000000</td>\n",
              "    </tr>\n",
              "    <tr>\n",
              "      <th>mean</th>\n",
              "      <td>9.552250</td>\n",
              "      <td>4.611114</td>\n",
              "      <td>15287.690570</td>\n",
              "    </tr>\n",
              "    <tr>\n",
              "      <th>std</th>\n",
              "      <td>218.081158</td>\n",
              "      <td>96.759853</td>\n",
              "      <td>1713.600303</td>\n",
              "    </tr>\n",
              "    <tr>\n",
              "      <th>min</th>\n",
              "      <td>-80995.000000</td>\n",
              "      <td>-11062.060000</td>\n",
              "      <td>12346.000000</td>\n",
              "    </tr>\n",
              "    <tr>\n",
              "      <th>25%</th>\n",
              "      <td>1.000000</td>\n",
              "      <td>1.250000</td>\n",
              "      <td>13953.000000</td>\n",
              "    </tr>\n",
              "    <tr>\n",
              "      <th>50%</th>\n",
              "      <td>3.000000</td>\n",
              "      <td>2.080000</td>\n",
              "      <td>15152.000000</td>\n",
              "    </tr>\n",
              "    <tr>\n",
              "      <th>75%</th>\n",
              "      <td>10.000000</td>\n",
              "      <td>4.130000</td>\n",
              "      <td>16791.000000</td>\n",
              "    </tr>\n",
              "    <tr>\n",
              "      <th>max</th>\n",
              "      <td>80995.000000</td>\n",
              "      <td>38970.000000</td>\n",
              "      <td>18287.000000</td>\n",
              "    </tr>\n",
              "  </tbody>\n",
              "</table>\n",
              "</div>"
            ],
            "text/plain": [
              "            Quantity      UnitPrice     CustomerID\n",
              "count  541909.000000  541909.000000  406829.000000\n",
              "mean        9.552250       4.611114   15287.690570\n",
              "std       218.081158      96.759853    1713.600303\n",
              "min    -80995.000000  -11062.060000   12346.000000\n",
              "25%         1.000000       1.250000   13953.000000\n",
              "50%         3.000000       2.080000   15152.000000\n",
              "75%        10.000000       4.130000   16791.000000\n",
              "max     80995.000000   38970.000000   18287.000000"
            ]
          },
          "execution_count": 57,
          "metadata": {},
          "output_type": "execute_result"
        }
      ],
      "source": [
        "df.describe()"
      ]
    },
    {
      "cell_type": "code",
      "execution_count": null,
      "id": "9450bc7c",
      "metadata": {
        "id": "9450bc7c",
        "outputId": "54cafd4a-64ed-4356-9eed-9b011e51005f"
      },
      "outputs": [
        {
          "data": {
            "text/html": [
              "<div>\n",
              "<style scoped>\n",
              "    .dataframe tbody tr th:only-of-type {\n",
              "        vertical-align: middle;\n",
              "    }\n",
              "\n",
              "    .dataframe tbody tr th {\n",
              "        vertical-align: top;\n",
              "    }\n",
              "\n",
              "    .dataframe thead th {\n",
              "        text-align: right;\n",
              "    }\n",
              "</style>\n",
              "<table border=\"1\" class=\"dataframe\">\n",
              "  <thead>\n",
              "    <tr style=\"text-align: right;\">\n",
              "      <th></th>\n",
              "      <th>InvoiceNo</th>\n",
              "      <th>StockCode</th>\n",
              "      <th>Description</th>\n",
              "      <th>Quantity</th>\n",
              "      <th>InvoiceDate</th>\n",
              "      <th>UnitPrice</th>\n",
              "      <th>CustomerID</th>\n",
              "      <th>Country</th>\n",
              "    </tr>\n",
              "  </thead>\n",
              "  <tbody>\n",
              "    <tr>\n",
              "      <th>0</th>\n",
              "      <td>536365</td>\n",
              "      <td>85123A</td>\n",
              "      <td>WHITE HANGING HEART T-LIGHT HOLDER</td>\n",
              "      <td>6</td>\n",
              "      <td>2010-12-01 08:26:00</td>\n",
              "      <td>2.55</td>\n",
              "      <td>17850.0</td>\n",
              "      <td>United Kingdom</td>\n",
              "    </tr>\n",
              "    <tr>\n",
              "      <th>1</th>\n",
              "      <td>536365</td>\n",
              "      <td>71053</td>\n",
              "      <td>WHITE METAL LANTERN</td>\n",
              "      <td>6</td>\n",
              "      <td>2010-12-01 08:26:00</td>\n",
              "      <td>3.39</td>\n",
              "      <td>17850.0</td>\n",
              "      <td>United Kingdom</td>\n",
              "    </tr>\n",
              "    <tr>\n",
              "      <th>2</th>\n",
              "      <td>536365</td>\n",
              "      <td>84406B</td>\n",
              "      <td>CREAM CUPID HEARTS COAT HANGER</td>\n",
              "      <td>8</td>\n",
              "      <td>2010-12-01 08:26:00</td>\n",
              "      <td>2.75</td>\n",
              "      <td>17850.0</td>\n",
              "      <td>United Kingdom</td>\n",
              "    </tr>\n",
              "    <tr>\n",
              "      <th>3</th>\n",
              "      <td>536365</td>\n",
              "      <td>84029G</td>\n",
              "      <td>KNITTED UNION FLAG HOT WATER BOTTLE</td>\n",
              "      <td>6</td>\n",
              "      <td>2010-12-01 08:26:00</td>\n",
              "      <td>3.39</td>\n",
              "      <td>17850.0</td>\n",
              "      <td>United Kingdom</td>\n",
              "    </tr>\n",
              "    <tr>\n",
              "      <th>4</th>\n",
              "      <td>536365</td>\n",
              "      <td>84029E</td>\n",
              "      <td>RED WOOLLY HOTTIE WHITE HEART.</td>\n",
              "      <td>6</td>\n",
              "      <td>2010-12-01 08:26:00</td>\n",
              "      <td>3.39</td>\n",
              "      <td>17850.0</td>\n",
              "      <td>United Kingdom</td>\n",
              "    </tr>\n",
              "  </tbody>\n",
              "</table>\n",
              "</div>"
            ],
            "text/plain": [
              "  InvoiceNo StockCode                          Description  Quantity  \\\n",
              "0    536365    85123A   WHITE HANGING HEART T-LIGHT HOLDER         6   \n",
              "1    536365     71053                  WHITE METAL LANTERN         6   \n",
              "2    536365    84406B       CREAM CUPID HEARTS COAT HANGER         8   \n",
              "3    536365    84029G  KNITTED UNION FLAG HOT WATER BOTTLE         6   \n",
              "4    536365    84029E       RED WOOLLY HOTTIE WHITE HEART.         6   \n",
              "\n",
              "          InvoiceDate  UnitPrice  CustomerID         Country  \n",
              "0 2010-12-01 08:26:00       2.55     17850.0  United Kingdom  \n",
              "1 2010-12-01 08:26:00       3.39     17850.0  United Kingdom  \n",
              "2 2010-12-01 08:26:00       2.75     17850.0  United Kingdom  \n",
              "3 2010-12-01 08:26:00       3.39     17850.0  United Kingdom  \n",
              "4 2010-12-01 08:26:00       3.39     17850.0  United Kingdom  "
            ]
          },
          "execution_count": 58,
          "metadata": {},
          "output_type": "execute_result"
        }
      ],
      "source": [
        "df.head()"
      ]
    },
    {
      "cell_type": "code",
      "execution_count": null,
      "id": "4f8d6a04",
      "metadata": {
        "id": "4f8d6a04",
        "outputId": "30b1f3d9-07eb-4417-e7cb-374cfdcb74a7"
      },
      "outputs": [
        {
          "data": {
            "text/plain": [
              "(541909, 8)"
            ]
          },
          "execution_count": 59,
          "metadata": {},
          "output_type": "execute_result"
        }
      ],
      "source": [
        "df.shape"
      ]
    },
    {
      "cell_type": "markdown",
      "id": "aae29e47",
      "metadata": {
        "id": "aae29e47"
      },
      "source": [
        "# Missing Value Check"
      ]
    },
    {
      "cell_type": "code",
      "execution_count": null,
      "id": "8ea0e861",
      "metadata": {
        "id": "8ea0e861",
        "outputId": "2301a4ed-f278-4148-94bd-7f4fa74a35db"
      },
      "outputs": [
        {
          "data": {
            "text/plain": [
              "InvoiceNo           0\n",
              "StockCode           0\n",
              "Description      1454\n",
              "Quantity            0\n",
              "InvoiceDate         0\n",
              "UnitPrice           0\n",
              "CustomerID     135080\n",
              "Country             0\n",
              "dtype: int64"
            ]
          },
          "execution_count": 60,
          "metadata": {},
          "output_type": "execute_result"
        }
      ],
      "source": [
        "df.isna().sum()"
      ]
    },
    {
      "cell_type": "code",
      "execution_count": null,
      "id": "4c14d7fc",
      "metadata": {
        "id": "4c14d7fc",
        "outputId": "cf71ea61-8545-4799-cf32-d9e69312ab26"
      },
      "outputs": [
        {
          "data": {
            "text/html": [
              "<div>\n",
              "<style scoped>\n",
              "    .dataframe tbody tr th:only-of-type {\n",
              "        vertical-align: middle;\n",
              "    }\n",
              "\n",
              "    .dataframe tbody tr th {\n",
              "        vertical-align: top;\n",
              "    }\n",
              "\n",
              "    .dataframe thead th {\n",
              "        text-align: right;\n",
              "    }\n",
              "</style>\n",
              "<table border=\"1\" class=\"dataframe\">\n",
              "  <thead>\n",
              "    <tr style=\"text-align: right;\">\n",
              "      <th></th>\n",
              "      <th>InvoiceNo</th>\n",
              "      <th>StockCode</th>\n",
              "      <th>Description</th>\n",
              "      <th>Quantity</th>\n",
              "      <th>InvoiceDate</th>\n",
              "      <th>UnitPrice</th>\n",
              "      <th>CustomerID</th>\n",
              "      <th>Country</th>\n",
              "    </tr>\n",
              "  </thead>\n",
              "  <tbody>\n",
              "    <tr>\n",
              "      <th>622</th>\n",
              "      <td>536414</td>\n",
              "      <td>22139</td>\n",
              "      <td>NaN</td>\n",
              "      <td>56</td>\n",
              "      <td>2010-12-01 11:52:00</td>\n",
              "      <td>0.00</td>\n",
              "      <td>NaN</td>\n",
              "      <td>United Kingdom</td>\n",
              "    </tr>\n",
              "    <tr>\n",
              "      <th>1443</th>\n",
              "      <td>536544</td>\n",
              "      <td>21773</td>\n",
              "      <td>DECORATIVE ROSE BATHROOM BOTTLE</td>\n",
              "      <td>1</td>\n",
              "      <td>2010-12-01 14:32:00</td>\n",
              "      <td>2.51</td>\n",
              "      <td>NaN</td>\n",
              "      <td>United Kingdom</td>\n",
              "    </tr>\n",
              "    <tr>\n",
              "      <th>1444</th>\n",
              "      <td>536544</td>\n",
              "      <td>21774</td>\n",
              "      <td>DECORATIVE CATS BATHROOM BOTTLE</td>\n",
              "      <td>2</td>\n",
              "      <td>2010-12-01 14:32:00</td>\n",
              "      <td>2.51</td>\n",
              "      <td>NaN</td>\n",
              "      <td>United Kingdom</td>\n",
              "    </tr>\n",
              "    <tr>\n",
              "      <th>1445</th>\n",
              "      <td>536544</td>\n",
              "      <td>21786</td>\n",
              "      <td>POLKADOT RAIN HAT</td>\n",
              "      <td>4</td>\n",
              "      <td>2010-12-01 14:32:00</td>\n",
              "      <td>0.85</td>\n",
              "      <td>NaN</td>\n",
              "      <td>United Kingdom</td>\n",
              "    </tr>\n",
              "    <tr>\n",
              "      <th>1446</th>\n",
              "      <td>536544</td>\n",
              "      <td>21787</td>\n",
              "      <td>RAIN PONCHO RETROSPOT</td>\n",
              "      <td>2</td>\n",
              "      <td>2010-12-01 14:32:00</td>\n",
              "      <td>1.66</td>\n",
              "      <td>NaN</td>\n",
              "      <td>United Kingdom</td>\n",
              "    </tr>\n",
              "  </tbody>\n",
              "</table>\n",
              "</div>"
            ],
            "text/plain": [
              "     InvoiceNo StockCode                      Description  Quantity  \\\n",
              "622     536414     22139                              NaN        56   \n",
              "1443    536544     21773  DECORATIVE ROSE BATHROOM BOTTLE         1   \n",
              "1444    536544     21774  DECORATIVE CATS BATHROOM BOTTLE         2   \n",
              "1445    536544     21786               POLKADOT RAIN HAT          4   \n",
              "1446    536544     21787            RAIN PONCHO RETROSPOT         2   \n",
              "\n",
              "             InvoiceDate  UnitPrice  CustomerID         Country  \n",
              "622  2010-12-01 11:52:00       0.00         NaN  United Kingdom  \n",
              "1443 2010-12-01 14:32:00       2.51         NaN  United Kingdom  \n",
              "1444 2010-12-01 14:32:00       2.51         NaN  United Kingdom  \n",
              "1445 2010-12-01 14:32:00       0.85         NaN  United Kingdom  \n",
              "1446 2010-12-01 14:32:00       1.66         NaN  United Kingdom  "
            ]
          },
          "execution_count": 61,
          "metadata": {},
          "output_type": "execute_result"
        }
      ],
      "source": [
        "df[df['CustomerID'].isna()].head()"
      ]
    },
    {
      "cell_type": "code",
      "execution_count": null,
      "id": "c478905f",
      "metadata": {
        "id": "c478905f",
        "outputId": "07ad648e-91fe-446c-e709-eae86dd1506e"
      },
      "outputs": [
        {
          "data": {
            "text/html": [
              "<div>\n",
              "<style scoped>\n",
              "    .dataframe tbody tr th:only-of-type {\n",
              "        vertical-align: middle;\n",
              "    }\n",
              "\n",
              "    .dataframe tbody tr th {\n",
              "        vertical-align: top;\n",
              "    }\n",
              "\n",
              "    .dataframe thead th {\n",
              "        text-align: right;\n",
              "    }\n",
              "</style>\n",
              "<table border=\"1\" class=\"dataframe\">\n",
              "  <thead>\n",
              "    <tr style=\"text-align: right;\">\n",
              "      <th></th>\n",
              "      <th>InvoiceNo</th>\n",
              "      <th>StockCode</th>\n",
              "      <th>Description</th>\n",
              "      <th>Quantity</th>\n",
              "      <th>InvoiceDate</th>\n",
              "      <th>UnitPrice</th>\n",
              "      <th>CustomerID</th>\n",
              "      <th>Country</th>\n",
              "    </tr>\n",
              "  </thead>\n",
              "  <tbody>\n",
              "  </tbody>\n",
              "</table>\n",
              "</div>"
            ],
            "text/plain": [
              "Empty DataFrame\n",
              "Columns: [InvoiceNo, StockCode, Description, Quantity, InvoiceDate, UnitPrice, CustomerID, Country]\n",
              "Index: []"
            ]
          },
          "execution_count": 62,
          "metadata": {},
          "output_type": "execute_result"
        }
      ],
      "source": [
        "df[(~df['CustomerID'].isna()) & df['Description'].isna()]"
      ]
    },
    {
      "cell_type": "code",
      "execution_count": null,
      "id": "928d9436",
      "metadata": {
        "id": "928d9436",
        "outputId": "f1edd28d-4206-494e-8528-d1b04638b312"
      },
      "outputs": [
        {
          "data": {
            "text/plain": [
              "InvoiceNo      0.000000\n",
              "StockCode      0.000000\n",
              "Description    0.002683\n",
              "Quantity       0.000000\n",
              "InvoiceDate    0.000000\n",
              "UnitPrice      0.000000\n",
              "CustomerID     0.249267\n",
              "Country        0.000000\n",
              "dtype: float64"
            ]
          },
          "execution_count": 63,
          "metadata": {},
          "output_type": "execute_result"
        }
      ],
      "source": [
        "df.isna().sum() / df.shape[0]"
      ]
    },
    {
      "cell_type": "markdown",
      "id": "62a34c5b",
      "metadata": {
        "id": "62a34c5b"
      },
      "source": [
        "All Null `Description` comes from Null `CustomerID`. Since `CustomerID` can't be filled, and we need this variable, then we have to drop 25% of our data. "
      ]
    },
    {
      "cell_type": "code",
      "execution_count": null,
      "id": "1fd5aa19",
      "metadata": {
        "id": "1fd5aa19",
        "outputId": "5940a72b-b196-4fc9-a1cb-1e18aa4e35f5"
      },
      "outputs": [
        {
          "data": {
            "text/plain": [
              "InvoiceNo      0\n",
              "StockCode      0\n",
              "Description    0\n",
              "Quantity       0\n",
              "InvoiceDate    0\n",
              "UnitPrice      0\n",
              "CustomerID     0\n",
              "Country        0\n",
              "dtype: int64"
            ]
          },
          "execution_count": 64,
          "metadata": {},
          "output_type": "execute_result"
        }
      ],
      "source": [
        "df = df[~df['CustomerID'].isna()].reset_index(drop=True)\n",
        "df.isna().sum()"
      ]
    },
    {
      "cell_type": "markdown",
      "id": "b0f26aeb",
      "metadata": {
        "id": "b0f26aeb"
      },
      "source": [
        "# Variable Exploration"
      ]
    },
    {
      "cell_type": "code",
      "execution_count": null,
      "id": "2847a221",
      "metadata": {
        "id": "2847a221",
        "outputId": "fe53eae9-6a6d-48f4-c882-84b5f52b4aa3"
      },
      "outputs": [
        {
          "data": {
            "text/plain": [
              "4372"
            ]
          },
          "execution_count": 65,
          "metadata": {},
          "output_type": "execute_result"
        }
      ],
      "source": [
        "df['CustomerID'].nunique()"
      ]
    },
    {
      "cell_type": "code",
      "execution_count": null,
      "id": "4ddcff84",
      "metadata": {
        "id": "4ddcff84",
        "outputId": "7e3e5988-004f-475a-8140-b675b643e8a7"
      },
      "outputs": [
        {
          "data": {
            "text/plain": [
              "array(['United Kingdom', 'France', 'Australia', 'Netherlands', 'Germany',\n",
              "       'Norway', 'EIRE', 'Switzerland', 'Spain', 'Poland', 'Portugal',\n",
              "       'Italy', 'Belgium', 'Lithuania', 'Japan', 'Iceland',\n",
              "       'Channel Islands', 'Denmark', 'Cyprus', 'Sweden', 'Austria',\n",
              "       'Israel', 'Finland', 'Greece', 'Singapore', 'Lebanon',\n",
              "       'United Arab Emirates', 'Saudi Arabia', 'Czech Republic', 'Canada',\n",
              "       'Unspecified', 'Brazil', 'USA', 'European Community', 'Bahrain',\n",
              "       'Malta', 'RSA'], dtype=object)"
            ]
          },
          "execution_count": 66,
          "metadata": {},
          "output_type": "execute_result"
        }
      ],
      "source": [
        "df['Country'].unique()"
      ]
    },
    {
      "cell_type": "code",
      "execution_count": null,
      "id": "ea406592",
      "metadata": {
        "id": "ea406592",
        "outputId": "811ea77b-6229-4e6d-bea3-b746a16cb3e7"
      },
      "outputs": [
        {
          "data": {
            "text/plain": [
              "(Timestamp('2010-12-01 08:26:00'), Timestamp('2011-12-09 12:50:00'))"
            ]
          },
          "execution_count": 67,
          "metadata": {},
          "output_type": "execute_result"
        }
      ],
      "source": [
        "df['InvoiceDate'].min(), df['InvoiceDate'].max()"
      ]
    },
    {
      "cell_type": "code",
      "execution_count": null,
      "id": "d8f702ba",
      "metadata": {
        "id": "d8f702ba"
      },
      "outputs": [],
      "source": [
        "# convert to date\n",
        "df['Date'] = df['InvoiceDate'].apply(lambda x: x.date())"
      ]
    },
    {
      "cell_type": "code",
      "execution_count": null,
      "id": "32cf9114",
      "metadata": {
        "id": "32cf9114",
        "outputId": "539f51c5-2431-43fd-d540-c2f65c0ea49f"
      },
      "outputs": [
        {
          "data": {
            "text/plain": [
              "<AxesSubplot:xlabel='Date'>"
            ]
          },
          "execution_count": 69,
          "metadata": {},
          "output_type": "execute_result"
        },
        {
          "data": {
            "image/png": "[encoded data removed]",
            "text/plain": [
              "<Figure size 432x288 with 1 Axes>"
            ]
          },
          "metadata": {
            "needs_background": "light"
          },
          "output_type": "display_data"
        }
      ],
      "source": [
        "# looking for anomaly\n",
        "sns.scatterplot(data=df.groupby('Date').size())"
      ]
    },
    {
      "cell_type": "code",
      "execution_count": null,
      "id": "27186815",
      "metadata": {
        "id": "27186815",
        "outputId": "37e1c3c9-dc7d-4efb-e30f-74e69e503290"
      },
      "outputs": [
        {
          "data": {
            "text/plain": [
              "count    406829.000000\n",
              "mean          3.460471\n",
              "std          69.315162\n",
              "min           0.000000\n",
              "25%           1.250000\n",
              "50%           1.950000\n",
              "75%           3.750000\n",
              "max       38970.000000\n",
              "Name: UnitPrice, dtype: float64"
            ]
          },
          "execution_count": 70,
          "metadata": {},
          "output_type": "execute_result"
        }
      ],
      "source": [
        "df['UnitPrice'].describe()"
      ]
    },
    {
      "cell_type": "code",
      "execution_count": null,
      "id": "b49db9d0",
      "metadata": {
        "id": "b49db9d0",
        "outputId": "1e4bee21-a5ab-4279-b609-27b1a636f198"
      },
      "outputs": [
        {
          "data": {
            "text/plain": [
              "<AxesSubplot:>"
            ]
          },
          "execution_count": 71,
          "metadata": {},
          "output_type": "execute_result"
        },
        {
          "data": {
            "image/png": "[encoded data removed]",
            "text/plain": [
              "<Figure size 432x288 with 1 Axes>"
            ]
          },
          "metadata": {
            "needs_background": "light"
          },
          "output_type": "display_data"
        }
      ],
      "source": [
        "df['UnitPrice'].hist()"
      ]
    },
    {
      "cell_type": "code",
      "execution_count": null,
      "id": "a2c07c86",
      "metadata": {
        "id": "a2c07c86",
        "outputId": "d31d3979-c1e1-4963-b7a7-597018163854"
      },
      "outputs": [
        {
          "data": {
            "text/plain": [
              "count    406829.000000\n",
              "mean         12.061303\n",
              "std         248.693370\n",
              "min      -80995.000000\n",
              "25%           2.000000\n",
              "50%           5.000000\n",
              "75%          12.000000\n",
              "max       80995.000000\n",
              "Name: Quantity, dtype: float64"
            ]
          },
          "execution_count": 72,
          "metadata": {},
          "output_type": "execute_result"
        }
      ],
      "source": [
        "df['Quantity'].describe()"
      ]
    },
    {
      "cell_type": "markdown",
      "id": "2fda9a62",
      "metadata": {
        "id": "2fda9a62"
      },
      "source": [
        "We have quantity less than 0. **Assumption**: Give away item. Need to exclude it."
      ]
    },
    {
      "cell_type": "code",
      "execution_count": null,
      "id": "6dcda9b4",
      "metadata": {
        "id": "6dcda9b4",
        "outputId": "d028f053-9e76-4d66-d901-8c4e5ce0eaa3"
      },
      "outputs": [
        {
          "data": {
            "text/html": [
              "<div>\n",
              "<style scoped>\n",
              "    .dataframe tbody tr th:only-of-type {\n",
              "        vertical-align: middle;\n",
              "    }\n",
              "\n",
              "    .dataframe tbody tr th {\n",
              "        vertical-align: top;\n",
              "    }\n",
              "\n",
              "    .dataframe thead th {\n",
              "        text-align: right;\n",
              "    }\n",
              "</style>\n",
              "<table border=\"1\" class=\"dataframe\">\n",
              "  <thead>\n",
              "    <tr style=\"text-align: right;\">\n",
              "      <th></th>\n",
              "      <th>InvoiceNo</th>\n",
              "      <th>StockCode</th>\n",
              "      <th>Description</th>\n",
              "      <th>Quantity</th>\n",
              "      <th>InvoiceDate</th>\n",
              "      <th>UnitPrice</th>\n",
              "      <th>CustomerID</th>\n",
              "      <th>Country</th>\n",
              "      <th>Date</th>\n",
              "    </tr>\n",
              "  </thead>\n",
              "  <tbody>\n",
              "    <tr>\n",
              "      <th>141</th>\n",
              "      <td>C536379</td>\n",
              "      <td>D</td>\n",
              "      <td>Discount</td>\n",
              "      <td>-1</td>\n",
              "      <td>2010-12-01 09:41:00</td>\n",
              "      <td>27.50</td>\n",
              "      <td>14527.0</td>\n",
              "      <td>United Kingdom</td>\n",
              "      <td>2010-12-01</td>\n",
              "    </tr>\n",
              "    <tr>\n",
              "      <th>154</th>\n",
              "      <td>C536383</td>\n",
              "      <td>35004C</td>\n",
              "      <td>SET OF 3 COLOURED  FLYING DUCKS</td>\n",
              "      <td>-1</td>\n",
              "      <td>2010-12-01 09:49:00</td>\n",
              "      <td>4.65</td>\n",
              "      <td>15311.0</td>\n",
              "      <td>United Kingdom</td>\n",
              "      <td>2010-12-01</td>\n",
              "    </tr>\n",
              "    <tr>\n",
              "      <th>235</th>\n",
              "      <td>C536391</td>\n",
              "      <td>22556</td>\n",
              "      <td>PLASTERS IN TIN CIRCUS PARADE</td>\n",
              "      <td>-12</td>\n",
              "      <td>2010-12-01 10:24:00</td>\n",
              "      <td>1.65</td>\n",
              "      <td>17548.0</td>\n",
              "      <td>United Kingdom</td>\n",
              "      <td>2010-12-01</td>\n",
              "    </tr>\n",
              "    <tr>\n",
              "      <th>236</th>\n",
              "      <td>C536391</td>\n",
              "      <td>21984</td>\n",
              "      <td>PACK OF 12 PINK PAISLEY TISSUES</td>\n",
              "      <td>-24</td>\n",
              "      <td>2010-12-01 10:24:00</td>\n",
              "      <td>0.29</td>\n",
              "      <td>17548.0</td>\n",
              "      <td>United Kingdom</td>\n",
              "      <td>2010-12-01</td>\n",
              "    </tr>\n",
              "    <tr>\n",
              "      <th>237</th>\n",
              "      <td>C536391</td>\n",
              "      <td>21983</td>\n",
              "      <td>PACK OF 12 BLUE PAISLEY TISSUES</td>\n",
              "      <td>-24</td>\n",
              "      <td>2010-12-01 10:24:00</td>\n",
              "      <td>0.29</td>\n",
              "      <td>17548.0</td>\n",
              "      <td>United Kingdom</td>\n",
              "      <td>2010-12-01</td>\n",
              "    </tr>\n",
              "  </tbody>\n",
              "</table>\n",
              "</div>"
            ],
            "text/plain": [
              "    InvoiceNo StockCode                       Description  Quantity  \\\n",
              "141   C536379         D                          Discount        -1   \n",
              "154   C536383    35004C   SET OF 3 COLOURED  FLYING DUCKS        -1   \n",
              "235   C536391     22556    PLASTERS IN TIN CIRCUS PARADE        -12   \n",
              "236   C536391     21984  PACK OF 12 PINK PAISLEY TISSUES        -24   \n",
              "237   C536391     21983  PACK OF 12 BLUE PAISLEY TISSUES        -24   \n",
              "\n",
              "            InvoiceDate  UnitPrice  CustomerID         Country        Date  \n",
              "141 2010-12-01 09:41:00      27.50     14527.0  United Kingdom  2010-12-01  \n",
              "154 2010-12-01 09:49:00       4.65     15311.0  United Kingdom  2010-12-01  \n",
              "235 2010-12-01 10:24:00       1.65     17548.0  United Kingdom  2010-12-01  \n",
              "236 2010-12-01 10:24:00       0.29     17548.0  United Kingdom  2010-12-01  \n",
              "237 2010-12-01 10:24:00       0.29     17548.0  United Kingdom  2010-12-01  "
            ]
          },
          "execution_count": 73,
          "metadata": {},
          "output_type": "execute_result"
        }
      ],
      "source": [
        "df[df['Quantity'] <= 0].head()"
      ]
    },
    {
      "cell_type": "code",
      "execution_count": null,
      "id": "5fb22451",
      "metadata": {
        "id": "5fb22451",
        "outputId": "2d2cad30-7ea8-41ca-85d0-5197edb6d625"
      },
      "outputs": [
        {
          "data": {
            "text/plain": [
              "0.021888803403887137"
            ]
          },
          "execution_count": 74,
          "metadata": {},
          "output_type": "execute_result"
        }
      ],
      "source": [
        "df[df['Quantity'] <= 0].shape[0] / df.shape[0]"
      ]
    },
    {
      "cell_type": "markdown",
      "id": "b5f7a689",
      "metadata": {
        "id": "b5f7a689"
      },
      "source": [
        "Less than 2%, drop it."
      ]
    },
    {
      "cell_type": "code",
      "execution_count": null,
      "id": "8aac5aac",
      "metadata": {
        "id": "8aac5aac"
      },
      "outputs": [],
      "source": [
        "df = df[df['Quantity'] > 0].reset_index(drop=True)"
      ]
    },
    {
      "cell_type": "markdown",
      "id": "815f0aea",
      "metadata": {
        "id": "815f0aea"
      },
      "source": [
        "# Feature Engineering"
      ]
    },
    {
      "cell_type": "code",
      "execution_count": null,
      "id": "c0a03779",
      "metadata": {
        "id": "c0a03779",
        "outputId": "89ab2cb7-4c86-4679-d0ef-8e4dee44fbcc"
      },
      "outputs": [
        {
          "data": {
            "text/html": [
              "<div>\n",
              "<style scoped>\n",
              "    .dataframe tbody tr th:only-of-type {\n",
              "        vertical-align: middle;\n",
              "    }\n",
              "\n",
              "    .dataframe tbody tr th {\n",
              "        vertical-align: top;\n",
              "    }\n",
              "\n",
              "    .dataframe thead th {\n",
              "        text-align: right;\n",
              "    }\n",
              "</style>\n",
              "<table border=\"1\" class=\"dataframe\">\n",
              "  <thead>\n",
              "    <tr style=\"text-align: right;\">\n",
              "      <th></th>\n",
              "      <th>InvoiceNo</th>\n",
              "      <th>StockCode</th>\n",
              "      <th>Description</th>\n",
              "      <th>Quantity</th>\n",
              "      <th>InvoiceDate</th>\n",
              "      <th>UnitPrice</th>\n",
              "      <th>CustomerID</th>\n",
              "      <th>Country</th>\n",
              "      <th>Date</th>\n",
              "      <th>TotalPrice</th>\n",
              "    </tr>\n",
              "  </thead>\n",
              "  <tbody>\n",
              "    <tr>\n",
              "      <th>0</th>\n",
              "      <td>536365</td>\n",
              "      <td>85123A</td>\n",
              "      <td>WHITE HANGING HEART T-LIGHT HOLDER</td>\n",
              "      <td>6</td>\n",
              "      <td>2010-12-01 08:26:00</td>\n",
              "      <td>2.55</td>\n",
              "      <td>17850.0</td>\n",
              "      <td>United Kingdom</td>\n",
              "      <td>2010-12-01</td>\n",
              "      <td>15.30</td>\n",
              "    </tr>\n",
              "    <tr>\n",
              "      <th>1</th>\n",
              "      <td>536365</td>\n",
              "      <td>71053</td>\n",
              "      <td>WHITE METAL LANTERN</td>\n",
              "      <td>6</td>\n",
              "      <td>2010-12-01 08:26:00</td>\n",
              "      <td>3.39</td>\n",
              "      <td>17850.0</td>\n",
              "      <td>United Kingdom</td>\n",
              "      <td>2010-12-01</td>\n",
              "      <td>20.34</td>\n",
              "    </tr>\n",
              "    <tr>\n",
              "      <th>2</th>\n",
              "      <td>536365</td>\n",
              "      <td>84406B</td>\n",
              "      <td>CREAM CUPID HEARTS COAT HANGER</td>\n",
              "      <td>8</td>\n",
              "      <td>2010-12-01 08:26:00</td>\n",
              "      <td>2.75</td>\n",
              "      <td>17850.0</td>\n",
              "      <td>United Kingdom</td>\n",
              "      <td>2010-12-01</td>\n",
              "      <td>22.00</td>\n",
              "    </tr>\n",
              "    <tr>\n",
              "      <th>3</th>\n",
              "      <td>536365</td>\n",
              "      <td>84029G</td>\n",
              "      <td>KNITTED UNION FLAG HOT WATER BOTTLE</td>\n",
              "      <td>6</td>\n",
              "      <td>2010-12-01 08:26:00</td>\n",
              "      <td>3.39</td>\n",
              "      <td>17850.0</td>\n",
              "      <td>United Kingdom</td>\n",
              "      <td>2010-12-01</td>\n",
              "      <td>20.34</td>\n",
              "    </tr>\n",
              "    <tr>\n",
              "      <th>4</th>\n",
              "      <td>536365</td>\n",
              "      <td>84029E</td>\n",
              "      <td>RED WOOLLY HOTTIE WHITE HEART.</td>\n",
              "      <td>6</td>\n",
              "      <td>2010-12-01 08:26:00</td>\n",
              "      <td>3.39</td>\n",
              "      <td>17850.0</td>\n",
              "      <td>United Kingdom</td>\n",
              "      <td>2010-12-01</td>\n",
              "      <td>20.34</td>\n",
              "    </tr>\n",
              "  </tbody>\n",
              "</table>\n",
              "</div>"
            ],
            "text/plain": [
              "  InvoiceNo StockCode                          Description  Quantity  \\\n",
              "0    536365    85123A   WHITE HANGING HEART T-LIGHT HOLDER         6   \n",
              "1    536365     71053                  WHITE METAL LANTERN         6   \n",
              "2    536365    84406B       CREAM CUPID HEARTS COAT HANGER         8   \n",
              "3    536365    84029G  KNITTED UNION FLAG HOT WATER BOTTLE         6   \n",
              "4    536365    84029E       RED WOOLLY HOTTIE WHITE HEART.         6   \n",
              "\n",
              "          InvoiceDate  UnitPrice  CustomerID         Country        Date  \\\n",
              "0 2010-12-01 08:26:00       2.55     17850.0  United Kingdom  2010-12-01   \n",
              "1 2010-12-01 08:26:00       3.39     17850.0  United Kingdom  2010-12-01   \n",
              "2 2010-12-01 08:26:00       2.75     17850.0  United Kingdom  2010-12-01   \n",
              "3 2010-12-01 08:26:00       3.39     17850.0  United Kingdom  2010-12-01   \n",
              "4 2010-12-01 08:26:00       3.39     17850.0  United Kingdom  2010-12-01   \n",
              "\n",
              "   TotalPrice  \n",
              "0       15.30  \n",
              "1       20.34  \n",
              "2       22.00  \n",
              "3       20.34  \n",
              "4       20.34  "
            ]
          },
          "execution_count": 76,
          "metadata": {},
          "output_type": "execute_result"
        }
      ],
      "source": [
        "df['TotalPrice'] = df['Quantity'] * df['UnitPrice']\n",
        "df.head()"
      ]
    },
    {
      "cell_type": "code",
      "execution_count": null,
      "id": "4d856da8",
      "metadata": {
        "id": "4d856da8"
      },
      "outputs": [],
      "source": [
        "MAX_DATE = df['Date'].max()"
      ]
    },
    {
      "cell_type": "code",
      "execution_count": null,
      "id": "c65f7c0f",
      "metadata": {
        "id": "c65f7c0f"
      },
      "outputs": [],
      "source": [
        "# assuming we get from the recent date\n",
        "df['Recency'] = df['Date'].apply(lambda x: (MAX_DATE - x).days)"
      ]
    },
    {
      "cell_type": "code",
      "execution_count": null,
      "id": "7d6217e7",
      "metadata": {
        "id": "7d6217e7",
        "outputId": "4ffe604d-15da-4a84-badb-6ae6311c6da8"
      },
      "outputs": [
        {
          "data": {
            "text/plain": [
              "count    397924.000000\n",
              "mean        151.562839\n",
              "std         112.819533\n",
              "min           0.000000\n",
              "25%          50.000000\n",
              "50%         131.000000\n",
              "75%         246.000000\n",
              "max         373.000000\n",
              "Name: Recency, dtype: float64"
            ]
          },
          "execution_count": 79,
          "metadata": {},
          "output_type": "execute_result"
        }
      ],
      "source": [
        "df['Recency'].describe()"
      ]
    },
    {
      "cell_type": "code",
      "execution_count": null,
      "id": "1d4e2389",
      "metadata": {
        "id": "1d4e2389"
      },
      "outputs": [],
      "source": [
        "df['CustomerID'] = df['CustomerID'].astype('int')\n",
        "df_agg = df.groupby('CustomerID').agg({\n",
        "    'TotalPrice': 'sum',\n",
        "    'Recency': 'min',\n",
        "    'InvoiceNo': 'count'\n",
        "}).reset_index()\n",
        "df_agg.columns = ['CustomerID', 'Monetary', 'Recency', 'Frequency']"
      ]
    },
    {
      "cell_type": "code",
      "execution_count": null,
      "id": "f04318d5",
      "metadata": {
        "id": "f04318d5",
        "outputId": "cad39e1a-2f84-4f7e-ac0a-e895486768d7"
      },
      "outputs": [
        {
          "data": {
            "text/html": [
              "<div>\n",
              "<style scoped>\n",
              "    .dataframe tbody tr th:only-of-type {\n",
              "        vertical-align: middle;\n",
              "    }\n",
              "\n",
              "    .dataframe tbody tr th {\n",
              "        vertical-align: top;\n",
              "    }\n",
              "\n",
              "    .dataframe thead th {\n",
              "        text-align: right;\n",
              "    }\n",
              "</style>\n",
              "<table border=\"1\" class=\"dataframe\">\n",
              "  <thead>\n",
              "    <tr style=\"text-align: right;\">\n",
              "      <th></th>\n",
              "      <th>CustomerID</th>\n",
              "      <th>Monetary</th>\n",
              "      <th>Recency</th>\n",
              "      <th>Frequency</th>\n",
              "    </tr>\n",
              "  </thead>\n",
              "  <tbody>\n",
              "    <tr>\n",
              "      <th>0</th>\n",
              "      <td>12346</td>\n",
              "      <td>77183.60</td>\n",
              "      <td>325</td>\n",
              "      <td>1</td>\n",
              "    </tr>\n",
              "    <tr>\n",
              "      <th>1</th>\n",
              "      <td>12347</td>\n",
              "      <td>4310.00</td>\n",
              "      <td>2</td>\n",
              "      <td>182</td>\n",
              "    </tr>\n",
              "    <tr>\n",
              "      <th>2</th>\n",
              "      <td>12348</td>\n",
              "      <td>1797.24</td>\n",
              "      <td>75</td>\n",
              "      <td>31</td>\n",
              "    </tr>\n",
              "    <tr>\n",
              "      <th>3</th>\n",
              "      <td>12349</td>\n",
              "      <td>1757.55</td>\n",
              "      <td>18</td>\n",
              "      <td>73</td>\n",
              "    </tr>\n",
              "    <tr>\n",
              "      <th>4</th>\n",
              "      <td>12350</td>\n",
              "      <td>334.40</td>\n",
              "      <td>310</td>\n",
              "      <td>17</td>\n",
              "    </tr>\n",
              "  </tbody>\n",
              "</table>\n",
              "</div>"
            ],
            "text/plain": [
              "   CustomerID  Monetary  Recency  Frequency\n",
              "0       12346  77183.60      325          1\n",
              "1       12347   4310.00        2        182\n",
              "2       12348   1797.24       75         31\n",
              "3       12349   1757.55       18         73\n",
              "4       12350    334.40      310         17"
            ]
          },
          "execution_count": 81,
          "metadata": {},
          "output_type": "execute_result"
        }
      ],
      "source": [
        "df_agg.head()"
      ]
    },
    {
      "cell_type": "code",
      "execution_count": null,
      "id": "285e5ecf",
      "metadata": {
        "id": "285e5ecf",
        "outputId": "4029996b-9daf-4c0f-fe0c-1aebc56c8245"
      },
      "outputs": [
        {
          "data": {
            "text/html": [
              "<div>\n",
              "<style scoped>\n",
              "    .dataframe tbody tr th:only-of-type {\n",
              "        vertical-align: middle;\n",
              "    }\n",
              "\n",
              "    .dataframe tbody tr th {\n",
              "        vertical-align: top;\n",
              "    }\n",
              "\n",
              "    .dataframe thead th {\n",
              "        text-align: right;\n",
              "    }\n",
              "</style>\n",
              "<table border=\"1\" class=\"dataframe\">\n",
              "  <thead>\n",
              "    <tr style=\"text-align: right;\">\n",
              "      <th></th>\n",
              "      <th>CustomerID</th>\n",
              "      <th>Monetary</th>\n",
              "      <th>Recency</th>\n",
              "      <th>Frequency</th>\n",
              "    </tr>\n",
              "  </thead>\n",
              "  <tbody>\n",
              "    <tr>\n",
              "      <th>count</th>\n",
              "      <td>4339.000000</td>\n",
              "      <td>4339.000000</td>\n",
              "      <td>4339.000000</td>\n",
              "      <td>4339.000000</td>\n",
              "    </tr>\n",
              "    <tr>\n",
              "      <th>mean</th>\n",
              "      <td>15299.936852</td>\n",
              "      <td>2053.793018</td>\n",
              "      <td>92.041484</td>\n",
              "      <td>91.708689</td>\n",
              "    </tr>\n",
              "    <tr>\n",
              "      <th>std</th>\n",
              "      <td>1721.889758</td>\n",
              "      <td>8988.248381</td>\n",
              "      <td>100.007757</td>\n",
              "      <td>228.792852</td>\n",
              "    </tr>\n",
              "    <tr>\n",
              "      <th>min</th>\n",
              "      <td>12346.000000</td>\n",
              "      <td>0.000000</td>\n",
              "      <td>0.000000</td>\n",
              "      <td>1.000000</td>\n",
              "    </tr>\n",
              "    <tr>\n",
              "      <th>25%</th>\n",
              "      <td>13812.500000</td>\n",
              "      <td>307.245000</td>\n",
              "      <td>17.000000</td>\n",
              "      <td>17.000000</td>\n",
              "    </tr>\n",
              "    <tr>\n",
              "      <th>50%</th>\n",
              "      <td>15299.000000</td>\n",
              "      <td>674.450000</td>\n",
              "      <td>50.000000</td>\n",
              "      <td>41.000000</td>\n",
              "    </tr>\n",
              "    <tr>\n",
              "      <th>75%</th>\n",
              "      <td>16778.500000</td>\n",
              "      <td>1661.640000</td>\n",
              "      <td>141.500000</td>\n",
              "      <td>100.000000</td>\n",
              "    </tr>\n",
              "    <tr>\n",
              "      <th>max</th>\n",
              "      <td>18287.000000</td>\n",
              "      <td>280206.020000</td>\n",
              "      <td>373.000000</td>\n",
              "      <td>7847.000000</td>\n",
              "    </tr>\n",
              "  </tbody>\n",
              "</table>\n",
              "</div>"
            ],
            "text/plain": [
              "         CustomerID       Monetary      Recency    Frequency\n",
              "count   4339.000000    4339.000000  4339.000000  4339.000000\n",
              "mean   15299.936852    2053.793018    92.041484    91.708689\n",
              "std     1721.889758    8988.248381   100.007757   228.792852\n",
              "min    12346.000000       0.000000     0.000000     1.000000\n",
              "25%    13812.500000     307.245000    17.000000    17.000000\n",
              "50%    15299.000000     674.450000    50.000000    41.000000\n",
              "75%    16778.500000    1661.640000   141.500000   100.000000\n",
              "max    18287.000000  280206.020000   373.000000  7847.000000"
            ]
          },
          "execution_count": 82,
          "metadata": {},
          "output_type": "execute_result"
        }
      ],
      "source": [
        "df_agg.describe()"
      ]
    },
    {
      "cell_type": "markdown",
      "id": "53f668a9",
      "metadata": {
        "id": "53f668a9"
      },
      "source": [
        "# Quartile Segmentation"
      ]
    },
    {
      "cell_type": "code",
      "execution_count": null,
      "id": "a4493d72",
      "metadata": {
        "id": "a4493d72",
        "outputId": "d7984134-c2c2-41d5-bc71-c5a61e67c84b"
      },
      "outputs": [
        {
          "data": {
            "text/plain": [
              "0    4\n",
              "1    4\n",
              "2    4\n",
              "3    4\n",
              "4    2\n",
              "Name: Monetary_Label, dtype: category\n",
              "Categories (4, int64): [1 < 2 < 3 < 4]"
            ]
          },
          "execution_count": 83,
          "metadata": {},
          "output_type": "execute_result"
        }
      ],
      "source": [
        "df_agg['Monetary_Label'] = pd.qcut(\n",
        "    df_agg['Monetary'], \n",
        "    q=4, \n",
        "    labels=[1, 2, 3, 4]\n",
        ")\n",
        "df_agg['Monetary_Label'].head()"
      ]
    },
    {
      "cell_type": "code",
      "execution_count": null,
      "id": "39a4af40",
      "metadata": {
        "id": "39a4af40",
        "outputId": "8a482341-80b9-4925-94b2-2a5d2d79c28a"
      },
      "outputs": [
        {
          "data": {
            "text/plain": [
              "0    1\n",
              "1    4\n",
              "2    2\n",
              "3    3\n",
              "4    1\n",
              "Name: Frequency_Label, dtype: category\n",
              "Categories (4, int64): [1 < 2 < 3 < 4]"
            ]
          },
          "execution_count": 84,
          "metadata": {},
          "output_type": "execute_result"
        }
      ],
      "source": [
        "df_agg['Frequency_Label'] = pd.qcut(\n",
        "    df_agg['Frequency'],\n",
        "    q=4,\n",
        "    labels=[1, 2, 3, 4]\n",
        ")\n",
        "df_agg['Frequency_Label'].head()"
      ]
    },
    {
      "cell_type": "code",
      "execution_count": null,
      "id": "8d6ada15",
      "metadata": {
        "id": "8d6ada15",
        "outputId": "83262eb4-33af-4aea-8137-fe45f0faf0d9"
      },
      "outputs": [
        {
          "data": {
            "text/plain": [
              "0    1\n",
              "1    4\n",
              "2    2\n",
              "3    3\n",
              "4    1\n",
              "Name: Recency_Label, dtype: category\n",
              "Categories (4, int64): [4 < 3 < 2 < 1]"
            ]
          },
          "execution_count": 85,
          "metadata": {},
          "output_type": "execute_result"
        }
      ],
      "source": [
        "df_agg['Recency_Label'] = pd.qcut(\n",
        "    df_agg['Recency'],\n",
        "    q=4,\n",
        "    labels=[4, 3, 2, 1]\n",
        ")\n",
        "df_agg['Recency_Label'].head()"
      ]
    },
    {
      "cell_type": "code",
      "execution_count": null,
      "id": "b8d6e13e",
      "metadata": {
        "id": "b8d6e13e",
        "outputId": "68f8486c-40dd-4e9e-d18e-e387defca485"
      },
      "outputs": [
        {
          "data": {
            "text/html": [
              "<div>\n",
              "<style scoped>\n",
              "    .dataframe tbody tr th:only-of-type {\n",
              "        vertical-align: middle;\n",
              "    }\n",
              "\n",
              "    .dataframe tbody tr th {\n",
              "        vertical-align: top;\n",
              "    }\n",
              "\n",
              "    .dataframe thead th {\n",
              "        text-align: right;\n",
              "    }\n",
              "</style>\n",
              "<table border=\"1\" class=\"dataframe\">\n",
              "  <thead>\n",
              "    <tr style=\"text-align: right;\">\n",
              "      <th></th>\n",
              "      <th>CustomerID</th>\n",
              "      <th>Monetary_Label</th>\n",
              "      <th>Frequency_Label</th>\n",
              "      <th>Recency_Label</th>\n",
              "    </tr>\n",
              "  </thead>\n",
              "  <tbody>\n",
              "    <tr>\n",
              "      <th>0</th>\n",
              "      <td>12346</td>\n",
              "      <td>4</td>\n",
              "      <td>1</td>\n",
              "      <td>1</td>\n",
              "    </tr>\n",
              "    <tr>\n",
              "      <th>1</th>\n",
              "      <td>12347</td>\n",
              "      <td>4</td>\n",
              "      <td>4</td>\n",
              "      <td>4</td>\n",
              "    </tr>\n",
              "    <tr>\n",
              "      <th>2</th>\n",
              "      <td>12348</td>\n",
              "      <td>4</td>\n",
              "      <td>2</td>\n",
              "      <td>2</td>\n",
              "    </tr>\n",
              "    <tr>\n",
              "      <th>3</th>\n",
              "      <td>12349</td>\n",
              "      <td>4</td>\n",
              "      <td>3</td>\n",
              "      <td>3</td>\n",
              "    </tr>\n",
              "    <tr>\n",
              "      <th>4</th>\n",
              "      <td>12350</td>\n",
              "      <td>2</td>\n",
              "      <td>1</td>\n",
              "      <td>1</td>\n",
              "    </tr>\n",
              "  </tbody>\n",
              "</table>\n",
              "</div>"
            ],
            "text/plain": [
              "   CustomerID Monetary_Label Frequency_Label Recency_Label\n",
              "0       12346              4               1             1\n",
              "1       12347              4               4             4\n",
              "2       12348              4               2             2\n",
              "3       12349              4               3             3\n",
              "4       12350              2               1             1"
            ]
          },
          "execution_count": 86,
          "metadata": {},
          "output_type": "execute_result"
        }
      ],
      "source": [
        "df_agg.head()[['CustomerID', 'Monetary_Label', 'Frequency_Label', 'Recency_Label']]"
      ]
    },
    {
      "cell_type": "markdown",
      "id": "e83d7ea4",
      "metadata": {
        "id": "e83d7ea4"
      },
      "source": [
        "# RFM Classification\n",
        "RFM\n",
        "4|4|>=3 - Big Fish\n",
        "\n",
        "4|4|<3 - Loyal Customer\n",
        "\n",
        "(3)|>=3|X - Regular Customer\n",
        "\n",
        "(3)|<=2|X - Infrequent Customer\n",
        "\n",
        "1XX - Lost Customer\n",
        "\n",
        "<3|>=3|>=3 - Can't Lose\n",
        "\n",
        "<3|X|X - About Churn\n",
        "\n"
      ]
    },
    {
      "cell_type": "code",
      "execution_count": null,
      "id": "4bba7878",
      "metadata": {
        "id": "4bba7878"
      },
      "outputs": [],
      "source": [
        "def make_category(R,F,M):\n",
        "    if R == 4 and F == 4 and M >= 3: return 'Big Fish'\n",
        "    elif R >= 3 and F >= 3: return 'Regular Customer'\n",
        "    elif R >= 3 and F <= 2: return 'Seasonal/New Customer'\n",
        "    elif R == 2 and F >= 3 and M >= 3: return \"Can't Lose\"\n",
        "    elif R == 2: return 'About to Churn'\n",
        "    elif R == 1: return 'Lost Customer'\n",
        "    else: return '??'\n",
        "\n",
        "df_agg['category'] = df_agg.apply(\n",
        "    lambda x: make_category(\n",
        "        x['Recency_Label'], \n",
        "        x['Frequency_Label'], \n",
        "        x['Monetary_Label']\n",
        "    ),\n",
        "    axis=1\n",
        ")"
      ]
    },
    {
      "cell_type": "code",
      "execution_count": null,
      "id": "7bc53ff8",
      "metadata": {
        "id": "7bc53ff8"
      },
      "outputs": [],
      "source": [
        "df_agg_cat = df_agg.groupby('category').size().to_frame('total').reset_index()"
      ]
    },
    {
      "cell_type": "code",
      "execution_count": null,
      "id": "1b742801",
      "metadata": {
        "id": "1b742801",
        "outputId": "4d8738ff-8d70-4e6e-bd03-0307bed038e2"
      },
      "outputs": [
        {
          "data": {
            "text/plain": [
              "<AxesSubplot:xlabel='total', ylabel='category'>"
            ]
          },
          "execution_count": 89,
          "metadata": {},
          "output_type": "execute_result"
        },
        {
          "data": {
            "image/png": "[encoded data removed]",
            "text/plain": [
              "<Figure size 432x288 with 1 Axes>"
            ]
          },
          "metadata": {
            "needs_background": "light"
          },
          "output_type": "display_data"
        }
      ],
      "source": [
        "sns.barplot(data=df_agg_cat, x='total', y='category')"
      ]
    },
    {
      "cell_type": "code",
      "execution_count": null,
      "id": "7f14ebd3",
      "metadata": {
        "id": "7f14ebd3",
        "outputId": "87157ad6-cd4f-4474-aa57-3602d31c5dd8"
      },
      "outputs": [
        {
          "data": {
            "text/html": [
              "<div>\n",
              "<style scoped>\n",
              "    .dataframe tbody tr th:only-of-type {\n",
              "        vertical-align: middle;\n",
              "    }\n",
              "\n",
              "    .dataframe tbody tr th {\n",
              "        vertical-align: top;\n",
              "    }\n",
              "\n",
              "    .dataframe thead th {\n",
              "        text-align: right;\n",
              "    }\n",
              "</style>\n",
              "<table border=\"1\" class=\"dataframe\">\n",
              "  <thead>\n",
              "    <tr style=\"text-align: right;\">\n",
              "      <th></th>\n",
              "      <th>index</th>\n",
              "      <th>CustomerID</th>\n",
              "      <th>Monetary</th>\n",
              "      <th>Recency</th>\n",
              "      <th>Frequency</th>\n",
              "    </tr>\n",
              "  </thead>\n",
              "  <tbody>\n",
              "    <tr>\n",
              "      <th>0</th>\n",
              "      <td>0</td>\n",
              "      <td>12346</td>\n",
              "      <td>77183.60</td>\n",
              "      <td>325</td>\n",
              "      <td>1</td>\n",
              "    </tr>\n",
              "    <tr>\n",
              "      <th>1</th>\n",
              "      <td>1</td>\n",
              "      <td>12347</td>\n",
              "      <td>4310.00</td>\n",
              "      <td>2</td>\n",
              "      <td>182</td>\n",
              "    </tr>\n",
              "    <tr>\n",
              "      <th>2</th>\n",
              "      <td>2</td>\n",
              "      <td>12348</td>\n",
              "      <td>1797.24</td>\n",
              "      <td>75</td>\n",
              "      <td>31</td>\n",
              "    </tr>\n",
              "    <tr>\n",
              "      <th>3</th>\n",
              "      <td>3</td>\n",
              "      <td>12349</td>\n",
              "      <td>1757.55</td>\n",
              "      <td>18</td>\n",
              "      <td>73</td>\n",
              "    </tr>\n",
              "    <tr>\n",
              "      <th>4</th>\n",
              "      <td>4</td>\n",
              "      <td>12350</td>\n",
              "      <td>334.40</td>\n",
              "      <td>310</td>\n",
              "      <td>17</td>\n",
              "    </tr>\n",
              "    <tr>\n",
              "      <th>...</th>\n",
              "      <td>...</td>\n",
              "      <td>...</td>\n",
              "      <td>...</td>\n",
              "      <td>...</td>\n",
              "      <td>...</td>\n",
              "    </tr>\n",
              "    <tr>\n",
              "      <th>4334</th>\n",
              "      <td>4334</td>\n",
              "      <td>18280</td>\n",
              "      <td>180.60</td>\n",
              "      <td>277</td>\n",
              "      <td>10</td>\n",
              "    </tr>\n",
              "    <tr>\n",
              "      <th>4335</th>\n",
              "      <td>4335</td>\n",
              "      <td>18281</td>\n",
              "      <td>80.82</td>\n",
              "      <td>180</td>\n",
              "      <td>7</td>\n",
              "    </tr>\n",
              "    <tr>\n",
              "      <th>4336</th>\n",
              "      <td>4336</td>\n",
              "      <td>18282</td>\n",
              "      <td>178.05</td>\n",
              "      <td>7</td>\n",
              "      <td>12</td>\n",
              "    </tr>\n",
              "    <tr>\n",
              "      <th>4337</th>\n",
              "      <td>4337</td>\n",
              "      <td>18283</td>\n",
              "      <td>2094.88</td>\n",
              "      <td>3</td>\n",
              "      <td>756</td>\n",
              "    </tr>\n",
              "    <tr>\n",
              "      <th>4338</th>\n",
              "      <td>4338</td>\n",
              "      <td>18287</td>\n",
              "      <td>1837.28</td>\n",
              "      <td>42</td>\n",
              "      <td>70</td>\n",
              "    </tr>\n",
              "  </tbody>\n",
              "</table>\n",
              "<p>4339 rows × 5 columns</p>\n",
              "</div>"
            ],
            "text/plain": [
              "      index  CustomerID  Monetary  Recency  Frequency\n",
              "0         0       12346  77183.60      325          1\n",
              "1         1       12347   4310.00        2        182\n",
              "2         2       12348   1797.24       75         31\n",
              "3         3       12349   1757.55       18         73\n",
              "4         4       12350    334.40      310         17\n",
              "...     ...         ...       ...      ...        ...\n",
              "4334   4334       18280    180.60      277         10\n",
              "4335   4335       18281     80.82      180          7\n",
              "4336   4336       18282    178.05        7         12\n",
              "4337   4337       18283   2094.88        3        756\n",
              "4338   4338       18287   1837.28       42         70\n",
              "\n",
              "[4339 rows x 5 columns]"
            ]
          },
          "execution_count": 90,
          "metadata": {},
          "output_type": "execute_result"
        }
      ],
      "source": [
        "df_agg_clusters = df_agg[['CustomerID', 'Monetary', 'Recency', 'Frequency']].reset_index()\n",
        "df_agg_clusters"
      ]
    },
    {
      "cell_type": "markdown",
      "id": "ec4511da",
      "metadata": {
        "id": "ec4511da"
      },
      "source": [
        "# Segmenting Using Unsupervised Learning"
      ]
    },
    {
      "cell_type": "markdown",
      "id": "79a38ed5",
      "metadata": {
        "id": "79a38ed5"
      },
      "source": [
        "Apart from using quartile to segmenting the data, we could use another technique such as clustering to automatically find cluster from the data.\n",
        "In this simple experiment, we will use KMeans to find the segment."
      ]
    },
    {
      "cell_type": "markdown",
      "id": "5567994d",
      "metadata": {
        "id": "5567994d"
      },
      "source": [
        "# Data Scaling\n",
        "\n",
        "Since the data having different range (i.e price in hundred thousand, but frequency in 1-100), it's a good idea to scale the data so when doing distance calculation, one variable doesn't hugely impact the calculation."
      ]
    },
    {
      "cell_type": "code",
      "execution_count": null,
      "id": "9ed33bd5",
      "metadata": {
        "id": "9ed33bd5"
      },
      "outputs": [],
      "source": [
        "from sklearn.preprocessing import StandardScaler\n",
        "scaler = {}\n",
        "for key in ('Monetary', 'Recency', 'Frequency'):\n",
        "    scaler[key] = StandardScaler()\n",
        "    df_agg_clusters['scaled_{}'.format(key)] = scaler[key].fit_transform(df_agg_clusters[[key]])"
      ]
    },
    {
      "cell_type": "code",
      "execution_count": null,
      "id": "97b1b10b",
      "metadata": {
        "id": "97b1b10b",
        "outputId": "3c6e6abe-e3e4-498d-d832-35da6d1cc60a"
      },
      "outputs": [
        {
          "data": {
            "text/html": [
              "<div>\n",
              "<style scoped>\n",
              "    .dataframe tbody tr th:only-of-type {\n",
              "        vertical-align: middle;\n",
              "    }\n",
              "\n",
              "    .dataframe tbody tr th {\n",
              "        vertical-align: top;\n",
              "    }\n",
              "\n",
              "    .dataframe thead th {\n",
              "        text-align: right;\n",
              "    }\n",
              "</style>\n",
              "<table border=\"1\" class=\"dataframe\">\n",
              "  <thead>\n",
              "    <tr style=\"text-align: right;\">\n",
              "      <th></th>\n",
              "      <th>index</th>\n",
              "      <th>CustomerID</th>\n",
              "      <th>Monetary</th>\n",
              "      <th>Recency</th>\n",
              "      <th>Frequency</th>\n",
              "      <th>scaled_Monetary</th>\n",
              "      <th>scaled_Recency</th>\n",
              "      <th>scaled_Frequency</th>\n",
              "    </tr>\n",
              "  </thead>\n",
              "  <tbody>\n",
              "    <tr>\n",
              "      <th>0</th>\n",
              "      <td>0</td>\n",
              "      <td>12346</td>\n",
              "      <td>77183.60</td>\n",
              "      <td>325</td>\n",
              "      <td>1</td>\n",
              "      <td>8.359634</td>\n",
              "      <td>2.329673</td>\n",
              "      <td>-0.396512</td>\n",
              "    </tr>\n",
              "    <tr>\n",
              "      <th>1</th>\n",
              "      <td>1</td>\n",
              "      <td>12347</td>\n",
              "      <td>4310.00</td>\n",
              "      <td>2</td>\n",
              "      <td>182</td>\n",
              "      <td>0.251046</td>\n",
              "      <td>-0.900449</td>\n",
              "      <td>0.394688</td>\n",
              "    </tr>\n",
              "    <tr>\n",
              "      <th>2</th>\n",
              "      <td>2</td>\n",
              "      <td>12348</td>\n",
              "      <td>1797.24</td>\n",
              "      <td>75</td>\n",
              "      <td>31</td>\n",
              "      <td>-0.028546</td>\n",
              "      <td>-0.170421</td>\n",
              "      <td>-0.265374</td>\n",
              "    </tr>\n",
              "    <tr>\n",
              "      <th>3</th>\n",
              "      <td>3</td>\n",
              "      <td>12349</td>\n",
              "      <td>1757.55</td>\n",
              "      <td>18</td>\n",
              "      <td>73</td>\n",
              "      <td>-0.032963</td>\n",
              "      <td>-0.740443</td>\n",
              "      <td>-0.081781</td>\n",
              "    </tr>\n",
              "    <tr>\n",
              "      <th>4</th>\n",
              "      <td>4</td>\n",
              "      <td>12350</td>\n",
              "      <td>334.40</td>\n",
              "      <td>310</td>\n",
              "      <td>17</td>\n",
              "      <td>-0.191315</td>\n",
              "      <td>2.179667</td>\n",
              "      <td>-0.326572</td>\n",
              "    </tr>\n",
              "  </tbody>\n",
              "</table>\n",
              "</div>"
            ],
            "text/plain": [
              "   index  CustomerID  Monetary  Recency  Frequency  scaled_Monetary  \\\n",
              "0      0       12346  77183.60      325          1         8.359634   \n",
              "1      1       12347   4310.00        2        182         0.251046   \n",
              "2      2       12348   1797.24       75         31        -0.028546   \n",
              "3      3       12349   1757.55       18         73        -0.032963   \n",
              "4      4       12350    334.40      310         17        -0.191315   \n",
              "\n",
              "   scaled_Recency  scaled_Frequency  \n",
              "0        2.329673         -0.396512  \n",
              "1       -0.900449          0.394688  \n",
              "2       -0.170421         -0.265374  \n",
              "3       -0.740443         -0.081781  \n",
              "4        2.179667         -0.326572  "
            ]
          },
          "execution_count": 92,
          "metadata": {},
          "output_type": "execute_result"
        }
      ],
      "source": [
        "df_agg_clusters.head()"
      ]
    },
    {
      "cell_type": "markdown",
      "id": "196793d8",
      "metadata": {
        "id": "196793d8"
      },
      "source": [
        "# Find the best K"
      ]
    },
    {
      "cell_type": "code",
      "execution_count": null,
      "id": "a26038e6",
      "metadata": {
        "id": "a26038e6",
        "outputId": "7fd361c8-834f-4866-8c2b-eb3cefe10ca9"
      },
      "outputs": [
        {
          "data": {
            "text/html": [
              "<style>#sk-container-id-1 {color: black;background-color: white;}#sk-container-id-1 pre{padding: 0;}#sk-container-id-1 div.sk-toggleable {background-color: white;}#sk-container-id-1 label.sk-toggleable__label {cursor: pointer;display: block;width: 100%;margin-bottom: 0;padding: 0.3em;box-sizing: border-box;text-align: center;}#sk-container-id-1 label.sk-toggleable__label-arrow:before {content: \"▸\";float: left;margin-right: 0.25em;color: #696969;}#sk-container-id-1 label.sk-toggleable__label-arrow:hover:before {color: black;}#sk-container-id-1 div.sk-estimator:hover label.sk-toggleable__label-arrow:before {color: black;}#sk-container-id-1 div.sk-toggleable__content {max-height: 0;max-width: 0;overflow: hidden;text-align: left;background-color: #f0f8ff;}#sk-container-id-1 div.sk-toggleable__content pre {margin: 0.2em;color: black;border-radius: 0.25em;background-color: #f0f8ff;}#sk-container-id-1 input.sk-toggleable__control:checked~div.sk-toggleable__content {max-height: 200px;max-width: 100%;overflow: auto;}#sk-container-id-1 input.sk-toggleable__control:checked~label.sk-toggleable__label-arrow:before {content: \"▾\";}#sk-container-id-1 div.sk-estimator input.sk-toggleable__control:checked~label.sk-toggleable__label {background-color: #d4ebff;}#sk-container-id-1 div.sk-label input.sk-toggleable__control:checked~label.sk-toggleable__label {background-color: #d4ebff;}#sk-container-id-1 input.sk-hidden--visually {border: 0;clip: rect(1px 1px 1px 1px);clip: rect(1px, 1px, 1px, 1px);height: 1px;margin: -1px;overflow: hidden;padding: 0;position: absolute;width: 1px;}#sk-container-id-1 div.sk-estimator {font-family: monospace;background-color: #f0f8ff;border: 1px dotted black;border-radius: 0.25em;box-sizing: border-box;margin-bottom: 0.5em;}#sk-container-id-1 div.sk-estimator:hover {background-color: #d4ebff;}#sk-container-id-1 div.sk-parallel-item::after {content: \"\";width: 100%;border-bottom: 1px solid gray;flex-grow: 1;}#sk-container-id-1 div.sk-label:hover label.sk-toggleable__label {background-color: #d4ebff;}#sk-container-id-1 div.sk-serial::before {content: \"\";position: absolute;border-left: 1px solid gray;box-sizing: border-box;top: 0;bottom: 0;left: 50%;z-index: 0;}#sk-container-id-1 div.sk-serial {display: flex;flex-direction: column;align-items: center;background-color: white;padding-right: 0.2em;padding-left: 0.2em;position: relative;}#sk-container-id-1 div.sk-item {position: relative;z-index: 1;}#sk-container-id-1 div.sk-parallel {display: flex;align-items: stretch;justify-content: center;background-color: white;position: relative;}#sk-container-id-1 div.sk-item::before, #sk-container-id-1 div.sk-parallel-item::before {content: \"\";position: absolute;border-left: 1px solid gray;box-sizing: border-box;top: 0;bottom: 0;left: 50%;z-index: -1;}#sk-container-id-1 div.sk-parallel-item {display: flex;flex-direction: column;z-index: 1;position: relative;background-color: white;}#sk-container-id-1 div.sk-parallel-item:first-child::after {align-self: flex-end;width: 50%;}#sk-container-id-1 div.sk-parallel-item:last-child::after {align-self: flex-start;width: 50%;}#sk-container-id-1 div.sk-parallel-item:only-child::after {width: 0;}#sk-container-id-1 div.sk-dashed-wrapped {border: 1px dashed gray;margin: 0 0.4em 0.5em 0.4em;box-sizing: border-box;padding-bottom: 0.4em;background-color: white;}#sk-container-id-1 div.sk-label label {font-family: monospace;font-weight: bold;display: inline-block;line-height: 1.2em;}#sk-container-id-1 div.sk-label-container {text-align: center;}#sk-container-id-1 div.sk-container {/* jupyter's `normalize.less` sets `[hidden] { display: none; }` but bootstrap.min.css set `[hidden] { display: none !important; }` so we also need the `!important` here to be able to override the default hidden behavior on the sphinx rendered scikit-learn.org. See: https://github.com/scikit-learn/scikit-learn/issues/21755 */display: inline-block !important;position: relative;}#sk-container-id-1 div.sk-text-repr-fallback {display: none;}</style><div id=\"sk-container-id-1\" class=\"sk-top-container\"><div class=\"sk-text-repr-fallback\"><pre>KElbowVisualizer(ax=&lt;AxesSubplot:&gt;,\n",
              "                 estimator=KMeans(n_clusters=19, random_state=5), k=(2, 20))</pre><b>In a Jupyter environment, please rerun this cell to show the HTML representation or trust the notebook. <br />On GitHub, the HTML representation is unable to render, please try loading this page with nbviewer.org.</b></div><div class=\"sk-container\" hidden><div class=\"sk-item sk-dashed-wrapped\"><div class=\"sk-label-container\"><div class=\"sk-label sk-toggleable\"><input class=\"sk-toggleable__control sk-hidden--visually\" id=\"sk-estimator-id-1\" type=\"checkbox\" ><label for=\"sk-estimator-id-1\" class=\"sk-toggleable__label sk-toggleable__label-arrow\">KElbowVisualizer</label><div class=\"sk-toggleable__content\"><pre>KElbowVisualizer(ax=&lt;AxesSubplot:&gt;,\n",
              "                 estimator=KMeans(n_clusters=19, random_state=5), k=(2, 20))</pre></div></div></div><div class=\"sk-parallel\"><div class=\"sk-parallel-item\"><div class=\"sk-item\"><div class=\"sk-label-container\"><div class=\"sk-label sk-toggleable\"><input class=\"sk-toggleable__control sk-hidden--visually\" id=\"sk-estimator-id-2\" type=\"checkbox\" ><label for=\"sk-estimator-id-2\" class=\"sk-toggleable__label sk-toggleable__label-arrow\">estimator: KMeans</label><div class=\"sk-toggleable__content\"><pre>KMeans(n_clusters=19, random_state=5)</pre></div></div></div><div class=\"sk-serial\"><div class=\"sk-item\"><div class=\"sk-estimator sk-toggleable\"><input class=\"sk-toggleable__control sk-hidden--visually\" id=\"sk-estimator-id-3\" type=\"checkbox\" ><label for=\"sk-estimator-id-3\" class=\"sk-toggleable__label sk-toggleable__label-arrow\">KMeans</label><div class=\"sk-toggleable__content\"><pre>KMeans(n_clusters=19, random_state=5)</pre></div></div></div></div></div></div></div></div></div></div>"
            ],
            "text/plain": [
              "KElbowVisualizer(ax=<AxesSubplot:>,\n",
              "                 estimator=KMeans(n_clusters=19, random_state=5), k=(2, 20))"
            ]
          },
          "execution_count": 93,
          "metadata": {},
          "output_type": "execute_result"
        },
        {
          "data": {
            "image/png": "[encoded data removed]",
            "text/plain": [
              "<Figure size 576x396 with 2 Axes>"
            ]
          },
          "metadata": {},
          "output_type": "display_data"
        }
      ],
      "source": [
        "from sklearn.cluster import KMeans\n",
        "from yellowbrick.cluster import KElbowVisualizer\n",
        "\n",
        "model = KMeans(random_state=5)\n",
        "visualizer = KElbowVisualizer(model, k=(2, 20))\n",
        "X = df_agg_clusters[['scaled_Recency', 'scaled_Frequency', 'scaled_Monetary']]\n",
        "visualizer.fit(X)"
      ]
    },
    {
      "cell_type": "markdown",
      "id": "1a3562e8",
      "metadata": {
        "id": "1a3562e8"
      },
      "source": [
        "# Modeling"
      ]
    },
    {
      "cell_type": "code",
      "execution_count": null,
      "id": "3d73bdfc",
      "metadata": {
        "id": "3d73bdfc"
      },
      "outputs": [],
      "source": [
        "model = KMeans(6, random_state=5)\n",
        "clusters = model.fit_predict(X)"
      ]
    },
    {
      "cell_type": "code",
      "execution_count": null,
      "id": "e66ad26c",
      "metadata": {
        "id": "e66ad26c"
      },
      "outputs": [],
      "source": [
        "df_agg_clusters['cluster'] = clusters"
      ]
    },
    {
      "cell_type": "code",
      "execution_count": null,
      "id": "66c3d75f",
      "metadata": {
        "id": "66c3d75f",
        "outputId": "8c6e2765-16c0-46d7-b161-3732b4490312"
      },
      "outputs": [
        {
          "data": {
            "text/plain": [
              "cluster\n",
              "0    2923\n",
              "1    1056\n",
              "2      14\n",
              "3       4\n",
              "4     338\n",
              "5       4\n",
              "dtype: int64"
            ]
          },
          "execution_count": 96,
          "metadata": {},
          "output_type": "execute_result"
        }
      ],
      "source": [
        "df_agg_clusters.groupby('cluster').size()"
      ]
    },
    {
      "cell_type": "markdown",
      "id": "787811a9",
      "metadata": {
        "id": "787811a9"
      },
      "source": [
        "### Interpreting Result"
      ]
    },
    {
      "cell_type": "code",
      "execution_count": null,
      "id": "e0d108ea",
      "metadata": {
        "id": "e0d108ea",
        "outputId": "fc6ce941-7a90-4b26-dbf6-cb467d4cc682"
      },
      "outputs": [
        {
          "data": {
            "text/plain": [
              "<AxesSubplot:xlabel='cluster', ylabel='Monetary'>"
            ]
          },
          "execution_count": 97,
          "metadata": {},
          "output_type": "execute_result"
        },
        {
          "data": {
            "image/png": "[encoded data removed]",
            "text/plain": [
              "<Figure size 576x396 with 1 Axes>"
            ]
          },
          "metadata": {},
          "output_type": "display_data"
        }
      ],
      "source": [
        "sns.boxplot(data=df_agg_clusters, x='cluster', y='Monetary')"
      ]
    },
    {
      "cell_type": "code",
      "execution_count": null,
      "id": "bf646e91",
      "metadata": {
        "id": "bf646e91",
        "outputId": "bbcbad0d-9ca2-4c9c-850d-ba97fa0bb622"
      },
      "outputs": [
        {
          "data": {
            "text/plain": [
              "<AxesSubplot:xlabel='cluster', ylabel='Recency'>"
            ]
          },
          "execution_count": 98,
          "metadata": {},
          "output_type": "execute_result"
        },
        {
          "data": {
            "image/png": "[encoded data removed]",
            "text/plain": [
              "<Figure size 576x396 with 1 Axes>"
            ]
          },
          "metadata": {},
          "output_type": "display_data"
        }
      ],
      "source": [
        "sns.boxplot(data=df_agg_clusters, x='cluster', y='Recency')"
      ]
    },
    {
      "cell_type": "code",
      "execution_count": null,
      "id": "8844fc27",
      "metadata": {
        "id": "8844fc27",
        "outputId": "95d9dc5b-ec11-41c2-869b-11c15f168ac2"
      },
      "outputs": [
        {
          "data": {
            "text/plain": [
              "<AxesSubplot:xlabel='cluster', ylabel='Frequency'>"
            ]
          },
          "execution_count": 99,
          "metadata": {},
          "output_type": "execute_result"
        },
        {
          "data": {
            "image/png": "[encoded data removed]",
            "text/plain": [
              "<Figure size 576x396 with 1 Axes>"
            ]
          },
          "metadata": {},
          "output_type": "display_data"
        }
      ],
      "source": [
        "sns.boxplot(data=df_agg_clusters, x='cluster', y='Frequency')"
      ]
    }
  ],
  "metadata": {
    "kernelspec": {
      "display_name": "Python 3 (ipykernel)",
      "language": "python",
      "name": "python3"
    },
    "language_info": {
      "codemirror_mode": {
        "name": "ipython",
        "version": 3
      },
      "file_extension": ".py",
      "mimetype": "text/x-python",
      "name": "python",
      "nbconvert_exporter": "python",
      "pygments_lexer": "ipython3",
      "version": "3.9.7"
    },
    "colab": {
      "provenance": []
    }
  },
  "nbformat": 4,
  "nbformat_minor": 5
}