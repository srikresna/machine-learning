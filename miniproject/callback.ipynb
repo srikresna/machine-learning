{
  "cells": [
    {
      "cell_type": "markdown",
      "metadata": {
        "id": "3Xkd75iaLgUx"
      },
      "source": [
        "fungsi callback membantu kita untuk memberi tahu model agar berhenti melakukan pelatihan ketika sudah mencapai target tertentu. Fungsi ini sangat berguna untuk menghemat waktu pelatihan dari model seperti yang dijelaskan pada paragraf sebelumnya."
      ]
    },
    {
      "cell_type": "code",
      "execution_count": 2,
      "metadata": {
        "id": "gaQ5E-V2LYKY"
      },
      "outputs": [],
      "source": [
        "#import library\n",
        "import tensorflow as tf\n",
        "import pandas as pd\n",
        "from sklearn import preprocessing\n",
        "from sklearn.model_selection import train_test_split\n",
        "from keras.models import Sequential\n",
        "from keras.layers import Dense\n",
        "\n",
        "#sesuaikan dataset\n",
        "df = pd.read_csv('Iris.csv')\n",
        "df = df.drop(columns = 'Id')\n",
        "\n",
        "#lakukan hot encoding\n",
        "category = pd.get_dummies(df.Species)\n",
        "\n",
        "#gabungkan kolom hasil one hot encoding dan buang kolom spesies karena tidak dipakai\n",
        "new_df = pd.concat([df, category], axis = 1)\n",
        "new_df = new_df.drop(columns = 'Species')\n",
        "\n",
        "#konversi menjadi numpy array\n",
        "dataset = new_df.values\n",
        "\n",
        "#pisahkan atribut dan label\n",
        "X = dataset[:, 0:4]\n",
        "y = dataset[:, 4:7]\n",
        "\n",
        "#normalisasi\n",
        "min_max_scaler = preprocessing.MinMaxScaler()\n",
        "X_scale = min_max_scaler.fit_transform(X)\n",
        "\n",
        "#pisahkan menjadi train & test\n",
        "X_train, X_test, Y_train, Y_test = train_test_split(X_scale, y, test_size = 0.3)\n",
        "\n",
        "#bangun model\n",
        "model = Sequential([\n",
        "                    Dense(64, activation = 'relu', input_shape = (4,)),\n",
        "                    Dense(64, activation = 'relu'),\n",
        "                    Dense(3, activation = 'softmax')])\n",
        "\n",
        "#compile\n",
        "model.compile(optimizer = 'Adam', \n",
        "              loss = 'categorical_crossentropy',\n",
        "              metrics = ['accuracy'])\n"
      ]
    },
    {
      "cell_type": "code",
      "execution_count": 6,
      "metadata": {
        "id": "Pvg3dxr_Mok1"
      },
      "outputs": [],
      "source": [
        "#callback class\n",
        "class callback(tf.keras.callbacks.Callback):\n",
        "  def on_epoch_end(self, sepoch, logs = {}):\n",
        "    if(logs.get('accuracy') > 0.9):\n",
        "      print(\"\\nAkurasi telah mencapai > 90%!\")\n",
        "      self.model.stop_training = True\n",
        "\n",
        "callback = callback()"
      ]
    },
    {
      "cell_type": "code",
      "execution_count": 7,
      "metadata": {
        "colab": {
          "base_uri": "https://localhost:8080/"
        },
        "id": "EX-P5iVBVavR",
        "outputId": "c71a4d24-e4ba-467d-82d7-4deedba6e91a"
      },
      "outputs": [
        {
          "name": "stdout",
          "output_type": "stream",
          "text": [
            "Epoch 1/50\n",
            "4/4 [==============================] - 0s 6ms/step - loss: 1.0622 - accuracy: 0.3429\n",
            "Epoch 2/50\n",
            "4/4 [==============================] - 0s 5ms/step - loss: 1.0379 - accuracy: 0.3429\n",
            "Epoch 3/50\n",
            "4/4 [==============================] - 0s 3ms/step - loss: 1.0176 - accuracy: 0.3429\n",
            "Epoch 4/50\n",
            "4/4 [==============================] - 0s 4ms/step - loss: 0.9965 - accuracy: 0.3524\n",
            "Epoch 5/50\n",
            "4/4 [==============================] - 0s 4ms/step - loss: 0.9747 - accuracy: 0.4571\n",
            "Epoch 6/50\n",
            "4/4 [==============================] - 0s 4ms/step - loss: 0.9534 - accuracy: 0.6476\n",
            "Epoch 7/50\n",
            "4/4 [==============================] - 0s 5ms/step - loss: 0.9309 - accuracy: 0.6857\n",
            "Epoch 8/50\n",
            "4/4 [==============================] - 0s 4ms/step - loss: 0.9074 - accuracy: 0.6857\n",
            "Epoch 9/50\n",
            "4/4 [==============================] - 0s 4ms/step - loss: 0.8840 - accuracy: 0.6857\n",
            "Epoch 10/50\n",
            "4/4 [==============================] - 0s 6ms/step - loss: 0.8588 - accuracy: 0.6857\n",
            "Epoch 11/50\n",
            "4/4 [==============================] - 0s 4ms/step - loss: 0.8339 - accuracy: 0.6857\n",
            "Epoch 12/50\n",
            "4/4 [==============================] - 0s 4ms/step - loss: 0.8091 - accuracy: 0.6857\n",
            "Epoch 13/50\n",
            "4/4 [==============================] - 0s 4ms/step - loss: 0.7810 - accuracy: 0.6857\n",
            "Epoch 14/50\n",
            "4/4 [==============================] - 0s 5ms/step - loss: 0.7557 - accuracy: 0.6857\n",
            "Epoch 15/50\n",
            "4/4 [==============================] - 0s 4ms/step - loss: 0.7288 - accuracy: 0.6857\n",
            "Epoch 16/50\n",
            "4/4 [==============================] - 0s 4ms/step - loss: 0.7016 - accuracy: 0.6857\n",
            "Epoch 17/50\n",
            "4/4 [==============================] - 0s 4ms/step - loss: 0.6744 - accuracy: 0.6857\n",
            "Epoch 18/50\n",
            "4/4 [==============================] - 0s 4ms/step - loss: 0.6481 - accuracy: 0.6857\n",
            "Epoch 19/50\n",
            "4/4 [==============================] - 0s 4ms/step - loss: 0.6234 - accuracy: 0.6857\n",
            "Epoch 20/50\n",
            "4/4 [==============================] - 0s 4ms/step - loss: 0.5985 - accuracy: 0.6857\n",
            "Epoch 21/50\n",
            "4/4 [==============================] - 0s 4ms/step - loss: 0.5734 - accuracy: 0.6857\n",
            "Epoch 22/50\n",
            "4/4 [==============================] - 0s 4ms/step - loss: 0.5524 - accuracy: 0.6857\n",
            "Epoch 23/50\n",
            "4/4 [==============================] - 0s 4ms/step - loss: 0.5331 - accuracy: 0.6857\n",
            "Epoch 24/50\n",
            "4/4 [==============================] - 0s 4ms/step - loss: 0.5146 - accuracy: 0.7048\n",
            "Epoch 25/50\n",
            "4/4 [==============================] - 0s 5ms/step - loss: 0.4976 - accuracy: 0.7048\n",
            "Epoch 26/50\n",
            "4/4 [==============================] - 0s 4ms/step - loss: 0.4823 - accuracy: 0.7238\n",
            "Epoch 27/50\n",
            "4/4 [==============================] - 0s 4ms/step - loss: 0.4681 - accuracy: 0.7238\n",
            "Epoch 28/50\n",
            "4/4 [==============================] - 0s 4ms/step - loss: 0.4565 - accuracy: 0.7619\n",
            "Epoch 29/50\n",
            "4/4 [==============================] - 0s 4ms/step - loss: 0.4442 - accuracy: 0.8095\n",
            "Epoch 30/50\n",
            "4/4 [==============================] - 0s 4ms/step - loss: 0.4332 - accuracy: 0.8095\n",
            "Epoch 31/50\n",
            "4/4 [==============================] - 0s 7ms/step - loss: 0.4263 - accuracy: 0.7810\n",
            "Epoch 32/50\n",
            "4/4 [==============================] - 0s 5ms/step - loss: 0.4127 - accuracy: 0.7714\n",
            "Epoch 33/50\n",
            "4/4 [==============================] - 0s 4ms/step - loss: 0.4052 - accuracy: 0.8667\n",
            "Epoch 34/50\n",
            "1/4 [======>.......................] - ETA: 0s - loss: 0.3794 - accuracy: 0.9062\n",
            "Akurasi telah mencapai > 90%!\n",
            "4/4 [==============================] - 0s 5ms/step - loss: 0.3950 - accuracy: 0.9524\n"
          ]
        },
        {
          "data": {
            "text/plain": [
              "<keras.callbacks.History at 0x7f84d591add0>"
            ]
          },
          "execution_count": 7,
          "metadata": {},
          "output_type": "execute_result"
        }
      ],
      "source": [
        "model.fit(X_train, Y_train, epochs = 50, callbacks = [callback])"
      ]
    }
  ],
  "metadata": {
    "colab": {
      "provenance": []
    },
    "kernelspec": {
      "display_name": "Python 3",
      "language": "python",
      "name": "python3"
    },
    "language_info": {
      "name": "python",
      "version": "3.11.1"
    },
    "vscode": {
      "interpreter": {
        "hash": "ebfc0a8d552866b0d59eba665220a57de3bc06f3ac643b8bef38dd8f66781fdd"
      }
    }
  },
  "nbformat": 4,
  "nbformat_minor": 0
}
