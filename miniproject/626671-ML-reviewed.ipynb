{
  "cells": [
    {
      "attachments": {},
      "cell_type": "markdown",
      "metadata": {},
      "source": [
        "<h1> REVIEW CODE FOR REQUIREMENT DICODING ELITE"
      ]
    },
    {
      "cell_type": "code",
      "execution_count": 1,
      "metadata": {
        "colab": {
          "base_uri": "https://localhost:8080/",
          "height": 204
        },
        "id": "lC7FZZJxwpAY",
        "outputId": "90d9dfff-5113-4b8d-9a4c-d6bde92c7d22"
      },
      "outputs": [
        {
          "name": "stderr",
          "output_type": "stream",
          "text": [
            "C:\\Users\\User\\AppData\\Local\\Temp\\ipykernel_22180\\3018017304.py:5: FutureWarning: The error_bad_lines argument has been deprecated and will be removed in a future version. Use on_bad_lines in the future.\n",
            "\n",
            "\n",
            "  df= pd.read_csv('Corona_NLP.csv',error_bad_lines=False )\n"
          ]
        },
        {
          "data": {
            "text/html": [
              "<div>\n",
              "<style scoped>\n",
              "    .dataframe tbody tr th:only-of-type {\n",
              "        vertical-align: middle;\n",
              "    }\n",
              "\n",
              "    .dataframe tbody tr th {\n",
              "        vertical-align: top;\n",
              "    }\n",
              "\n",
              "    .dataframe thead th {\n",
              "        text-align: right;\n",
              "    }\n",
              "</style>\n",
              "<table border=\"1\" class=\"dataframe\">\n",
              "  <thead>\n",
              "    <tr style=\"text-align: right;\">\n",
              "      <th></th>\n",
              "      <th>UserName</th>\n",
              "      <th>ScreenName</th>\n",
              "      <th>Location</th>\n",
              "      <th>TweetAt</th>\n",
              "      <th>OriginalTweet</th>\n",
              "      <th>Sentiment</th>\n",
              "    </tr>\n",
              "  </thead>\n",
              "  <tbody>\n",
              "    <tr>\n",
              "      <th>0</th>\n",
              "      <td>1</td>\n",
              "      <td>44953</td>\n",
              "      <td>NYC</td>\n",
              "      <td>02-03-2020</td>\n",
              "      <td>TRENDING: New Yorkers encounter empty supermar...</td>\n",
              "      <td>Extremely Negative</td>\n",
              "    </tr>\n",
              "    <tr>\n",
              "      <th>1</th>\n",
              "      <td>2</td>\n",
              "      <td>44954</td>\n",
              "      <td>Seattle, WA</td>\n",
              "      <td>02-03-2020</td>\n",
              "      <td>When I couldn't find hand sanitizer at Fred Me...</td>\n",
              "      <td>Positive</td>\n",
              "    </tr>\n",
              "    <tr>\n",
              "      <th>2</th>\n",
              "      <td>3</td>\n",
              "      <td>44955</td>\n",
              "      <td>NaN</td>\n",
              "      <td>02-03-2020</td>\n",
              "      <td>Find out how you can protect yourself and love...</td>\n",
              "      <td>Extremely Positive</td>\n",
              "    </tr>\n",
              "    <tr>\n",
              "      <th>3</th>\n",
              "      <td>4</td>\n",
              "      <td>44956</td>\n",
              "      <td>Chicagoland</td>\n",
              "      <td>02-03-2020</td>\n",
              "      <td>#Panic buying hits #NewYork City as anxious sh...</td>\n",
              "      <td>Negative</td>\n",
              "    </tr>\n",
              "    <tr>\n",
              "      <th>4</th>\n",
              "      <td>5</td>\n",
              "      <td>44957</td>\n",
              "      <td>Melbourne, Victoria</td>\n",
              "      <td>03-03-2020</td>\n",
              "      <td>#toiletpaper #dunnypaper #coronavirus #coronav...</td>\n",
              "      <td>Neutral</td>\n",
              "    </tr>\n",
              "  </tbody>\n",
              "</table>\n",
              "</div>"
            ],
            "text/plain": [
              "   UserName  ScreenName             Location     TweetAt  \\\n",
              "0         1       44953                  NYC  02-03-2020   \n",
              "1         2       44954          Seattle, WA  02-03-2020   \n",
              "2         3       44955                  NaN  02-03-2020   \n",
              "3         4       44956          Chicagoland  02-03-2020   \n",
              "4         5       44957  Melbourne, Victoria  03-03-2020   \n",
              "\n",
              "                                       OriginalTweet           Sentiment  \n",
              "0  TRENDING: New Yorkers encounter empty supermar...  Extremely Negative  \n",
              "1  When I couldn't find hand sanitizer at Fred Me...            Positive  \n",
              "2  Find out how you can protect yourself and love...  Extremely Positive  \n",
              "3  #Panic buying hits #NewYork City as anxious sh...            Negative  \n",
              "4  #toiletpaper #dunnypaper #coronavirus #coronav...             Neutral  "
            ]
          },
          "execution_count": 1,
          "metadata": {},
          "output_type": "execute_result"
        }
      ],
      "source": [
        "# Import dataset using pandas\n",
        "\n",
        "import pandas as pd\n",
        "\n",
        "df= pd.read_csv('Corona_NLP.csv',error_bad_lines=False )\n",
        "df.head()"
      ]
    },
    {
      "cell_type": "code",
      "execution_count": 2,
      "metadata": {
        "id": "dMft-aovyN00"
      },
      "outputs": [],
      "source": [
        "# Drop useless columns\n",
        "df = df.drop(columns=['UserName','ScreenName','Location','TweetAt'], axis=1)"
      ]
    },
    {
      "cell_type": "code",
      "execution_count": 91,
      "metadata": {
        "colab": {
          "base_uri": "https://localhost:8080/",
          "height": 204
        },
        "id": "kO_39G9ezF04",
        "outputId": "aedbec6c-1a55-4bec-8173-1c4a8df32ef8"
      },
      "outputs": [
        {
          "data": {
            "text/html": [
              "<div>\n",
              "<style scoped>\n",
              "    .dataframe tbody tr th:only-of-type {\n",
              "        vertical-align: middle;\n",
              "    }\n",
              "\n",
              "    .dataframe tbody tr th {\n",
              "        vertical-align: top;\n",
              "    }\n",
              "\n",
              "    .dataframe thead th {\n",
              "        text-align: right;\n",
              "    }\n",
              "</style>\n",
              "<table border=\"1\" class=\"dataframe\">\n",
              "  <thead>\n",
              "    <tr style=\"text-align: right;\">\n",
              "      <th></th>\n",
              "      <th>OriginalTweet</th>\n",
              "      <th>Sentiment</th>\n",
              "    </tr>\n",
              "  </thead>\n",
              "  <tbody>\n",
              "    <tr>\n",
              "      <th>0</th>\n",
              "      <td>TRENDING: New Yorkers encounter empty supermar...</td>\n",
              "      <td>Extremely Negative</td>\n",
              "    </tr>\n",
              "    <tr>\n",
              "      <th>1</th>\n",
              "      <td>When I couldn't find hand sanitizer at Fred Me...</td>\n",
              "      <td>Positive</td>\n",
              "    </tr>\n",
              "    <tr>\n",
              "      <th>2</th>\n",
              "      <td>Find out how you can protect yourself and love...</td>\n",
              "      <td>Extremely Positive</td>\n",
              "    </tr>\n",
              "    <tr>\n",
              "      <th>3</th>\n",
              "      <td>#Panic buying hits #NewYork City as anxious sh...</td>\n",
              "      <td>Negative</td>\n",
              "    </tr>\n",
              "    <tr>\n",
              "      <th>4</th>\n",
              "      <td>#toiletpaper #dunnypaper #coronavirus #coronav...</td>\n",
              "      <td>Neutral</td>\n",
              "    </tr>\n",
              "  </tbody>\n",
              "</table>\n",
              "</div>"
            ],
            "text/plain": [
              "                                       OriginalTweet           Sentiment\n",
              "0  TRENDING: New Yorkers encounter empty supermar...  Extremely Negative\n",
              "1  When I couldn't find hand sanitizer at Fred Me...            Positive\n",
              "2  Find out how you can protect yourself and love...  Extremely Positive\n",
              "3  #Panic buying hits #NewYork City as anxious sh...            Negative\n",
              "4  #toiletpaper #dunnypaper #coronavirus #coronav...             Neutral"
            ]
          },
          "execution_count": 91,
          "metadata": {
            "tags": []
          },
          "output_type": "execute_result"
        }
      ],
      "source": [
        "df.head()"
      ]
    },
    {
      "attachments": {},
      "cell_type": "markdown",
      "metadata": {},
      "source": [
        "kamu bisa melakukan visualisasi data untuk mendapatkan insight dari data yang kamu miliki."
      ]
    },
    {
      "attachments": {},
      "cell_type": "markdown",
      "metadata": {},
      "source": [
        "Ketika pada tahap eksplorasi data, kamu menemukan adanya ketidak seimbangan data atau imbalance dataset, kamu bisa menggunakan teknik resampling untuk mengatasi masalah tersebut. Teknik resampling yang bisa kamu gunakan adalah undersampling dan oversampling."
      ]
    },
    {
      "cell_type": "code",
      "execution_count": 92,
      "metadata": {
        "colab": {
          "base_uri": "https://localhost:8080/",
          "height": 204
        },
        "id": "4liKxrntwo-P",
        "outputId": "babed3f8-c123-40eb-b233-59c15c011cda"
      },
      "outputs": [
        {
          "data": {
            "text/html": [
              "<div>\n",
              "<style scoped>\n",
              "    .dataframe tbody tr th:only-of-type {\n",
              "        vertical-align: middle;\n",
              "    }\n",
              "\n",
              "    .dataframe tbody tr th {\n",
              "        vertical-align: top;\n",
              "    }\n",
              "\n",
              "    .dataframe thead th {\n",
              "        text-align: right;\n",
              "    }\n",
              "</style>\n",
              "<table border=\"1\" class=\"dataframe\">\n",
              "  <thead>\n",
              "    <tr style=\"text-align: right;\">\n",
              "      <th></th>\n",
              "      <th>OriginalTweet</th>\n",
              "      <th>Extremely Negative</th>\n",
              "      <th>Extremely Positive</th>\n",
              "      <th>Negative</th>\n",
              "      <th>Neutral</th>\n",
              "      <th>Positive</th>\n",
              "    </tr>\n",
              "  </thead>\n",
              "  <tbody>\n",
              "    <tr>\n",
              "      <th>0</th>\n",
              "      <td>TRENDING: New Yorkers encounter empty supermar...</td>\n",
              "      <td>1</td>\n",
              "      <td>0</td>\n",
              "      <td>0</td>\n",
              "      <td>0</td>\n",
              "      <td>0</td>\n",
              "    </tr>\n",
              "    <tr>\n",
              "      <th>1</th>\n",
              "      <td>When I couldn't find hand sanitizer at Fred Me...</td>\n",
              "      <td>0</td>\n",
              "      <td>0</td>\n",
              "      <td>0</td>\n",
              "      <td>0</td>\n",
              "      <td>1</td>\n",
              "    </tr>\n",
              "    <tr>\n",
              "      <th>2</th>\n",
              "      <td>Find out how you can protect yourself and love...</td>\n",
              "      <td>0</td>\n",
              "      <td>1</td>\n",
              "      <td>0</td>\n",
              "      <td>0</td>\n",
              "      <td>0</td>\n",
              "    </tr>\n",
              "    <tr>\n",
              "      <th>3</th>\n",
              "      <td>#Panic buying hits #NewYork City as anxious sh...</td>\n",
              "      <td>0</td>\n",
              "      <td>0</td>\n",
              "      <td>1</td>\n",
              "      <td>0</td>\n",
              "      <td>0</td>\n",
              "    </tr>\n",
              "    <tr>\n",
              "      <th>4</th>\n",
              "      <td>#toiletpaper #dunnypaper #coronavirus #coronav...</td>\n",
              "      <td>0</td>\n",
              "      <td>0</td>\n",
              "      <td>0</td>\n",
              "      <td>1</td>\n",
              "      <td>0</td>\n",
              "    </tr>\n",
              "  </tbody>\n",
              "</table>\n",
              "</div>"
            ],
            "text/plain": [
              "                                       OriginalTweet  ...  Positive\n",
              "0  TRENDING: New Yorkers encounter empty supermar...  ...         0\n",
              "1  When I couldn't find hand sanitizer at Fred Me...  ...         1\n",
              "2  Find out how you can protect yourself and love...  ...         0\n",
              "3  #Panic buying hits #NewYork City as anxious sh...  ...         0\n",
              "4  #toiletpaper #dunnypaper #coronavirus #coronav...  ...         0\n",
              "\n",
              "[5 rows x 6 columns]"
            ]
          },
          "execution_count": 92,
          "metadata": {
            "tags": []
          },
          "output_type": "execute_result"
        }
      ],
      "source": [
        "# One Hot Encoding\n",
        "\n",
        "label_category = pd.get_dummies(df.Sentiment)\n",
        "new_df = pd.concat([df,label_category],axis=1)\n",
        "new_df = new_df.drop(columns=['Sentiment'])\n",
        "new_df.head()"
      ]
    },
    {
      "attachments": {},
      "cell_type": "markdown",
      "metadata": {},
      "source": [
        "Coba lakukan tahap preprocessing pada data tersebut, karena seperti yang terlihat pada data tersebut masih mengandung simbol dan huruf kapital.\n",
        "Tahap preprocessing yang dapat anda lakukan seperti menghilangkan stopword, mengubah ke lowercase dan menghilangkan simbol. Lebih lengkapnya anda dapat melakukan lemmatization atau stemming pada data tersebut. Anda dapat menggunakan library NLTK untuk melakukan preprocessing, sehingga data menjadi lebih powerfull untuk dilakukan training."
      ]
    },
    {
      "cell_type": "code",
      "execution_count": 93,
      "metadata": {
        "id": "jCtHneDR0WbI"
      },
      "outputs": [],
      "source": [
        "# Dataframe to array\n",
        "\n",
        "dataset = new_df.values\n",
        "\n",
        "tweet = dataset[:,0]\n",
        "labels = dataset[:,1:]\n",
        "\n",
        "# Convert to float32\n",
        "\n",
        "import numpy as np\n",
        "\n",
        "labels=np.asarray(labels).astype(np.float32)"
      ]
    },
    {
      "cell_type": "code",
      "execution_count": 94,
      "metadata": {
        "colab": {
          "base_uri": "https://localhost:8080/"
        },
        "id": "9f9k4FDH13kc",
        "outputId": "4bac016f-a49d-402a-8eeb-9d355e89d5d1"
      },
      "outputs": [
        {
          "data": {
            "text/plain": [
              "array([[0., 0., 0., 0., 1.],\n",
              "       [0., 1., 0., 0., 0.],\n",
              "       [0., 0., 0., 0., 1.],\n",
              "       ...,\n",
              "       [0., 0., 1., 0., 0.],\n",
              "       [0., 0., 1., 0., 0.],\n",
              "       [0., 0., 1., 0., 0.]], dtype=float32)"
            ]
          },
          "execution_count": 94,
          "metadata": {
            "tags": []
          },
          "output_type": "execute_result"
        }
      ],
      "source": [
        "# Training and Testing data\n",
        "\n",
        "from sklearn.model_selection import train_test_split\n",
        "\n",
        "X_train, X_test, y_train, y_test = train_test_split(tweet,labels,test_size = 0.2 )\n",
        "y_test"
      ]
    },
    {
      "cell_type": "code",
      "execution_count": 95,
      "metadata": {
        "id": "SOHuxl5Awbo8"
      },
      "outputs": [],
      "source": [
        "# Tokenizer\n",
        "from tensorflow.keras.preprocessing.text import Tokenizer\n",
        "\n",
        "tokenizer = Tokenizer(num_words = 5000, oov_token='x')\n",
        "tokenizer.fit_on_texts(X_train) \n",
        "tokenizer.fit_on_texts(X_test)\n",
        "\n",
        "\n",
        "# Sequence\n",
        "\n",
        "sequence_training = tokenizer.texts_to_sequences(X_train)\n",
        "sequence_testing = tokenizer.texts_to_sequences(X_test)\n",
        "\n",
        "\n",
        "# Padding \n",
        "from tensorflow.keras.preprocessing.sequence import pad_sequences\n",
        "\n",
        "padded_training = pad_sequences(sequence_training) \n",
        "padded_testing = pad_sequences(sequence_testing)"
      ]
    },
    {
      "attachments": {},
      "cell_type": "markdown",
      "metadata": {},
      "source": [
        "Metode `tokenizer.fit_on_texts` sebaiknya dilakukan pada data training saja, karena data testing tidak boleh diketahui oleh model. Jadi, sebaiknya data testing dijadikan data baru yang tidak pernah dilihat oleh model sebelumnya."
      ]
    },
    {
      "attachments": {},
      "cell_type": "markdown",
      "metadata": {},
      "source": [
        "Kamu bisa menambahkan parameter <oov> atau <unk> pada tokenizer.fit_on_texts untuk menangani kata-kata yang tidak ada dalam vocab. Jadi, kata-kata yang tidak ada dalam vocab akan dianggap sebagai <oov> atau <unk>."
      ]
    },
    {
      "attachments": {},
      "cell_type": "markdown",
      "metadata": {},
      "source": [
        "Kamu bisa menambahkan parameter pada fungsi `pad_sequence` seperti maxlen, padding, dan truncating pada tokenizer.texts_to_sequences untuk menangani panjang sequence yang berbeda-beda."
      ]
    },
    {
      "cell_type": "code",
      "execution_count": 96,
      "metadata": {
        "id": "oXha6Aht2-Qk"
      },
      "outputs": [],
      "source": [
        "# Making NN and Compile\n",
        "import tensorflow as tf\n",
        "model = tf.keras.Sequential([\n",
        "    tf.keras.layers.Embedding(input_dim=6000, output_dim=16),\n",
        "    tf.keras.layers.LSTM(64),\n",
        "    tf.keras.layers.Dense(128, activation='relu'),\n",
        "    tf.keras.layers.Dense(64, activation='relu'),\n",
        "    tf.keras.layers.Dense(5, activation='softmax')\n",
        "])\n",
        "model.compile(loss='categorical_crossentropy',optimizer='adam',metrics=['accuracy'])"
      ]
    },
    {
      "cell_type": "code",
      "execution_count": 97,
      "metadata": {
        "id": "3xVtyf_b5nMj"
      },
      "outputs": [],
      "source": [
        "# Callback  Function\n",
        "\n",
        "class myCallback(tf.keras.callbacks.Callback):\n",
        "  def on_epoch_end(self, epoch, logs={}):\n",
        "    accruacy_threshold = 0.98\n",
        "    if(logs.get('accuracy')>accruacy_threshold):\n",
        "      print(\"\\n Accuracy Over \"+ str(accruacy_threshold)+\"% !\")\n",
        "      self.model.stop_training = True\n",
        "callbacks = myCallback()"
      ]
    },
    {
      "attachments": {},
      "cell_type": "markdown",
      "metadata": {},
      "source": [
        "kamu juga bisa menambahkan accuracy threshold untuk akurasi validasi sehingga kita mengetahui perbandingan antara akurasi data training dan data testing.\n",
        "Anda bisa memodifikasi code menjadi seperti berikut ini :\n",
        "\n",
        "`accuraccy_threshold = 0.98`\n",
        "\n",
        "`val_accuracy_threshold = 0.98`\n",
        "\n",
        "`if(logs.get('accuracy') > accuracy_threshold and logs.get('val_accuracy') > val_accuracy_threshold):`\n",
        "\n",
        "`print(\"\\n Accuracy Over \" + str(accuracy_threshold) + \" and Validation Accuracy Over \" + str(val_accuracy_threshold) + \" - Stopping training!!\")`\n",
        "\n",
        "`self.model.stop_training = True`"
      ]
    },
    {
      "cell_type": "code",
      "execution_count": 98,
      "metadata": {
        "colab": {
          "base_uri": "https://localhost:8080/"
        },
        "id": "eCqIfRfu3Ivu",
        "outputId": "ab90c742-8a6e-44be-accd-3641841b347e"
      },
      "outputs": [
        {
          "name": "stdout",
          "output_type": "stream",
          "text": [
            "Epoch 1/100\n",
            "24/24 - 5s - loss: 1.5939 - accuracy: 0.2449 - val_loss: 1.5666 - val_accuracy: 0.2592\n",
            "Epoch 2/100\n",
            "24/24 - 2s - loss: 1.5790 - accuracy: 0.2663 - val_loss: 1.5633 - val_accuracy: 0.2908\n",
            "Epoch 3/100\n",
            "24/24 - 2s - loss: 1.5625 - accuracy: 0.2699 - val_loss: 1.5482 - val_accuracy: 0.2908\n",
            "Epoch 4/100\n",
            "24/24 - 2s - loss: 1.4954 - accuracy: 0.3018 - val_loss: 1.5293 - val_accuracy: 0.2921\n",
            "Epoch 5/100\n",
            "24/24 - 2s - loss: 1.3437 - accuracy: 0.3891 - val_loss: 1.5404 - val_accuracy: 0.3184\n",
            "Epoch 6/100\n",
            "24/24 - 2s - loss: 1.1396 - accuracy: 0.5013 - val_loss: 1.6841 - val_accuracy: 0.3355\n",
            "Epoch 7/100\n",
            "24/24 - 3s - loss: 0.9363 - accuracy: 0.5997 - val_loss: 1.8058 - val_accuracy: 0.3618\n",
            "Epoch 8/100\n",
            "24/24 - 2s - loss: 0.7348 - accuracy: 0.7031 - val_loss: 2.0324 - val_accuracy: 0.3789\n",
            "Epoch 9/100\n",
            "24/24 - 2s - loss: 0.5311 - accuracy: 0.7959 - val_loss: 2.4957 - val_accuracy: 0.3987\n",
            "Epoch 10/100\n",
            "24/24 - 2s - loss: 0.3594 - accuracy: 0.8736 - val_loss: 2.7519 - val_accuracy: 0.3868\n",
            "Epoch 11/100\n",
            "24/24 - 2s - loss: 0.2485 - accuracy: 0.9210 - val_loss: 2.7984 - val_accuracy: 0.3947\n",
            "Epoch 12/100\n",
            "24/24 - 2s - loss: 0.1616 - accuracy: 0.9510 - val_loss: 3.1957 - val_accuracy: 0.4092\n",
            "Epoch 13/100\n",
            "24/24 - 2s - loss: 0.1315 - accuracy: 0.9562 - val_loss: 3.1469 - val_accuracy: 0.3947\n",
            "Epoch 14/100\n",
            "24/24 - 2s - loss: 0.1125 - accuracy: 0.9727 - val_loss: 3.8005 - val_accuracy: 0.3895\n",
            "Epoch 15/100\n",
            "24/24 - 2s - loss: 0.0677 - accuracy: 0.9839 - val_loss: 3.6998 - val_accuracy: 0.3921\n",
            "\n",
            " Accuracy Over 0.98% !\n"
          ]
        }
      ],
      "source": [
        "num_epochs = 100\n",
        "history = model.fit(padded_training, y_train, batch_size = 128, epochs=num_epochs, \n",
        "                    validation_data=(padded_testing, y_test), verbose=2,callbacks=[callbacks])"
      ]
    },
    {
      "attachments": {},
      "cell_type": "markdown",
      "metadata": {},
      "source": [
        "Model diatas memiliki performa yang cukup baik dengan mencapai akurasi di atas 98%. Namun, terdapat kecenderungan overfitting pada model karena terlihat perbedaan antara akurasi pada data training dan data validasi."
      ]
    },
    {
      "attachments": {},
      "cell_type": "markdown",
      "metadata": {},
      "source": [
        "Anda bisa menambahkan regularisasi, seperti dropout, untuk mengurangi overfitting. Anda dapat menambahkan layer dropout di antara layer yang ada di model Anda.\n",
        "\n",
        "`tf.keras.layers.Dropout(params)`"
      ]
    },
    {
      "attachments": {},
      "cell_type": "markdown",
      "metadata": {},
      "source": [
        "Gunakan Early Stopping untuk menghentikan training ketika akurasi pada data validasi tidak terus meningkat. Anda dapat menggabungkan ini dengan ModelCheckpoint untuk menyimpan model terbaik.\n",
        "\n",
        "`from tensorflow.keras.callbacks import EarlyStopping, ModelCheckpoint`\n",
        "\n",
        "`early_stopping = EarlyStopping(monitor='val_loss', patience=3)`\n",
        "`model_checkpoint = ModelCheckpoint(filepath='best_model.h5', monitor='val_loss', save_best_only=True)`\n",
        "`callbacks = [early_stopping, model_checkpoint]`"
      ]
    },
    {
      "attachments": {},
      "cell_type": "markdown",
      "metadata": {},
      "source": [
        "Gunakan Callback Lainnya seperti Auto Reduce Learning Rate dan lainnya. "
      ]
    },
    {
      "cell_type": "code",
      "execution_count": 99,
      "metadata": {
        "colab": {
          "base_uri": "https://localhost:8080/",
          "height": 295
        },
        "id": "QUE4OEEE6sNJ",
        "outputId": "2a582430-ae36-4d7f-99db-bd98898dd82d"
      },
      "outputs": [
        {
          "data": {
            "image/png": "[encoded data removed]",
            "text/plain": [
              "<Figure size 432x288 with 1 Axes>"
            ]
          },
          "metadata": {
            "needs_background": "light",
            "tags": []
          },
          "output_type": "display_data"
        }
      ],
      "source": [
        "# Plot using matplotlib\n",
        "\n",
        "import matplotlib.pyplot as plt\n",
        "\n",
        "plt.plot(history.history['loss'])\n",
        "plt.title('Model loss')\n",
        "plt.ylabel('Loss')\n",
        "plt.xlabel('Epochs')\n",
        "plt.legend(['Train'], loc='lower left')\n",
        "plt.show()"
      ]
    },
    {
      "cell_type": "code",
      "execution_count": 100,
      "metadata": {
        "colab": {
          "base_uri": "https://localhost:8080/",
          "height": 295
        },
        "id": "SObyVBvS63YC",
        "outputId": "b00c3698-33aa-434d-f975-60d3287222b9"
      },
      "outputs": [
        {
          "data": {
            "image/png": "[encoded data removed]",
            "text/plain": [
              "<Figure size 432x288 with 1 Axes>"
            ]
          },
          "metadata": {
            "needs_background": "light",
            "tags": []
          },
          "output_type": "display_data"
        }
      ],
      "source": [
        "plt.plot(history.history['accuracy'])\n",
        "plt.title('Model Accuracy')\n",
        "plt.ylabel('Accuracy')\n",
        "plt.xlabel('Epochs')\n",
        "plt.legend(['Train'], loc='upper left')\n",
        "plt.show()"
      ]
    },
    {
      "attachments": {},
      "cell_type": "markdown",
      "metadata": {},
      "source": [
        "Ingatlah bahwa mengoptimalkan model deep learning seringkali merupakan proses iteratif dan memerlukan banyak eksperimen untuk menemukan kombinasi terbaik dari teknik dan hyperparameter."
      ]
    },
    {
      "attachments": {},
      "cell_type": "markdown",
      "metadata": {},
      "source": [
        "# Summary Projects\n",
        "\n",
        "- Perlu adanya ekplorasi terhadap data untuk menemukan adanya keganjilan dalam data, seperti data yang tidak seimbang, duplikat data, data yang kosong, dan lainnya. Jika ditemukan suatu keganjilan dalam dataset, alangkah baiknya melakukan penanganan terlebih dahulu sebelum lanjut ke tahap selanjutnya agar model yang akan dibuat memiliki performa yang baik.\n",
        "- Dalam memproses sebuah data teks kita perlu melakukan tahap preprocessing yang dimana kita perlu melakukan beberapa cara agar teks yang kita dapat bersih dari simbol, emoji, kata tidak baku, dan lainnya. Tahapan-tahapan tersebut dapat dilakukan menggunakan library NLTK ataupun regex.\n",
        "- Performa model dilihat dari nilai akurasi pada data validasi perlu di evaluasi kembali karena model cenderung overfitting\n",
        "- Percobaan dengan data yang lebih besar. Data yang digunakan saat ini relatif kecil, hanya memiliki kurang lebih 3800 data. Dapat mencoba dengan data yang lebih besar untuk mengetahui seberapa baik performa model ketika berjalan."
      ]
    }
  ],
  "metadata": {
    "colab": {
      "collapsed_sections": [],
      "name": "dicoding-nlp-submission.ipynb",
      "provenance": []
    },
    "kernelspec": {
      "display_name": "base",
      "language": "python",
      "name": "python3"
    },
    "language_info": {
      "codemirror_mode": {
        "name": "ipython",
        "version": 3
      },
      "file_extension": ".py",
      "mimetype": "text/x-python",
      "name": "python",
      "nbconvert_exporter": "python",
      "pygments_lexer": "ipython3",
      "version": "3.10.8"
    },
    "vscode": {
      "interpreter": {
        "hash": "9429e3d8733c1ac76f5c3b0c6cdd2706acd1fd7b4f8c91f27a242412c8600fc4"
      }
    }
  },
  "nbformat": 4,
  "nbformat_minor": 0
}
