{
  "nbformat": 4,
  "nbformat_minor": 0,
  "metadata": {
    "colab": {
      "provenance": []
    },
    "kernelspec": {
      "name": "python3",
      "display_name": "Python 3"
    },
    "language_info": {
      "name": "python"
    },
    "accelerator": "GPU",
    "gpuClass": "standard"
  },
  "cells": [
    {
      "cell_type": "markdown",
      "source": [
        "<h1> Binary Text Classification"
      ],
      "metadata": {
        "id": "IV1mdtlniS0U"
      }
    },
    {
      "cell_type": "markdown",
      "source": [
        "upload kemudian extract berkas zip dataset yelp"
      ],
      "metadata": {
        "id": "PCyYk7omiJJT"
      }
    },
    {
      "cell_type": "code",
      "execution_count": 1,
      "metadata": {
        "id": "UQSiwBk2hk1k"
      },
      "outputs": [],
      "source": [
        "import zipfile, os\n",
        "local_zip = 'DatasetYelp.zip'\n",
        "zip_ref = zipfile.ZipFile(local_zip, 'r')\n",
        "zip_ref.extractall('/yelp')\n",
        "zip_ref.close()"
      ]
    },
    {
      "cell_type": "markdown",
      "source": [
        "Setelah dataset diunduh, kita load dataset pada Colaboratory. Dan pastinya kita buat dataframe dari dataset kita agar lebih mudah diproses."
      ],
      "metadata": {
        "id": "-KwgFbQSiZlr"
      }
    },
    {
      "cell_type": "code",
      "source": [
        "import pandas as pd\n",
        "df = pd.read_csv('/yelp/sentiment labelled sentences/yelp_labelled.txt', names=['sentence', 'label'], sep='\\t')"
      ],
      "metadata": {
        "id": "JWMx2IeliVp8"
      },
      "execution_count": 2,
      "outputs": []
    },
    {
      "cell_type": "code",
      "source": [
        "df.tail()"
      ],
      "metadata": {
        "colab": {
          "base_uri": "https://localhost:8080/",
          "height": 206
        },
        "id": "aNOsBchfijXq",
        "outputId": "4a0d2a69-e0fb-4116-980d-244b869a0300"
      },
      "execution_count": 3,
      "outputs": [
        {
          "output_type": "execute_result",
          "data": {
            "text/plain": [
              "                                              sentence  label\n",
              "995  I think food should have flavor and texture an...      0\n",
              "996                           Appetite instantly gone.      0\n",
              "997  Overall I was not impressed and would not go b...      0\n",
              "998  The whole experience was underwhelming, and I ...      0\n",
              "999  Then, as if I hadn't wasted enough of my life ...      0"
            ],
            "text/html": [
              "\n",
              "  <div id=\"df-6d6eb92d-4975-4550-a379-3a1d2e59b719\">\n",
              "    <div class=\"colab-df-container\">\n",
              "      <div>\n",
              "<style scoped>\n",
              "    .dataframe tbody tr th:only-of-type {\n",
              "        vertical-align: middle;\n",
              "    }\n",
              "\n",
              "    .dataframe tbody tr th {\n",
              "        vertical-align: top;\n",
              "    }\n",
              "\n",
              "    .dataframe thead th {\n",
              "        text-align: right;\n",
              "    }\n",
              "</style>\n",
              "<table border=\"1\" class=\"dataframe\">\n",
              "  <thead>\n",
              "    <tr style=\"text-align: right;\">\n",
              "      <th></th>\n",
              "      <th>sentence</th>\n",
              "      <th>label</th>\n",
              "    </tr>\n",
              "  </thead>\n",
              "  <tbody>\n",
              "    <tr>\n",
              "      <th>995</th>\n",
              "      <td>I think food should have flavor and texture an...</td>\n",
              "      <td>0</td>\n",
              "    </tr>\n",
              "    <tr>\n",
              "      <th>996</th>\n",
              "      <td>Appetite instantly gone.</td>\n",
              "      <td>0</td>\n",
              "    </tr>\n",
              "    <tr>\n",
              "      <th>997</th>\n",
              "      <td>Overall I was not impressed and would not go b...</td>\n",
              "      <td>0</td>\n",
              "    </tr>\n",
              "    <tr>\n",
              "      <th>998</th>\n",
              "      <td>The whole experience was underwhelming, and I ...</td>\n",
              "      <td>0</td>\n",
              "    </tr>\n",
              "    <tr>\n",
              "      <th>999</th>\n",
              "      <td>Then, as if I hadn't wasted enough of my life ...</td>\n",
              "      <td>0</td>\n",
              "    </tr>\n",
              "  </tbody>\n",
              "</table>\n",
              "</div>\n",
              "      <button class=\"colab-df-convert\" onclick=\"convertToInteractive('df-6d6eb92d-4975-4550-a379-3a1d2e59b719')\"\n",
              "              title=\"Convert this dataframe to an interactive table.\"\n",
              "              style=\"display:none;\">\n",
              "        \n",
              "  <svg xmlns=\"http://www.w3.org/2000/svg\" height=\"24px\"viewBox=\"0 0 24 24\"\n",
              "       width=\"24px\">\n",
              "    <path d=\"M0 0h24v24H0V0z\" fill=\"none\"/>\n",
              "    <path d=\"M18.56 5.44l.94 2.06.94-2.06 2.06-.94-2.06-.94-.94-2.06-.94 2.06-2.06.94zm-11 1L8.5 8.5l.94-2.06 2.06-.94-2.06-.94L8.5 2.5l-.94 2.06-2.06.94zm10 10l.94 2.06.94-2.06 2.06-.94-2.06-.94-.94-2.06-.94 2.06-2.06.94z\"/><path d=\"M17.41 7.96l-1.37-1.37c-.4-.4-.92-.59-1.43-.59-.52 0-1.04.2-1.43.59L10.3 9.45l-7.72 7.72c-.78.78-.78 2.05 0 2.83L4 21.41c.39.39.9.59 1.41.59.51 0 1.02-.2 1.41-.59l7.78-7.78 2.81-2.81c.8-.78.8-2.07 0-2.86zM5.41 20L4 18.59l7.72-7.72 1.47 1.35L5.41 20z\"/>\n",
              "  </svg>\n",
              "      </button>\n",
              "      \n",
              "  <style>\n",
              "    .colab-df-container {\n",
              "      display:flex;\n",
              "      flex-wrap:wrap;\n",
              "      gap: 12px;\n",
              "    }\n",
              "\n",
              "    .colab-df-convert {\n",
              "      background-color: #E8F0FE;\n",
              "      border: none;\n",
              "      border-radius: 50%;\n",
              "      cursor: pointer;\n",
              "      display: none;\n",
              "      fill: #1967D2;\n",
              "      height: 32px;\n",
              "      padding: 0 0 0 0;\n",
              "      width: 32px;\n",
              "    }\n",
              "\n",
              "    .colab-df-convert:hover {\n",
              "      background-color: #E2EBFA;\n",
              "      box-shadow: 0px 1px 2px rgba(60, 64, 67, 0.3), 0px 1px 3px 1px rgba(60, 64, 67, 0.15);\n",
              "      fill: #174EA6;\n",
              "    }\n",
              "\n",
              "    [theme=dark] .colab-df-convert {\n",
              "      background-color: #3B4455;\n",
              "      fill: #D2E3FC;\n",
              "    }\n",
              "\n",
              "    [theme=dark] .colab-df-convert:hover {\n",
              "      background-color: #434B5C;\n",
              "      box-shadow: 0px 1px 3px 1px rgba(0, 0, 0, 0.15);\n",
              "      filter: drop-shadow(0px 1px 2px rgba(0, 0, 0, 0.3));\n",
              "      fill: #FFFFFF;\n",
              "    }\n",
              "  </style>\n",
              "\n",
              "      <script>\n",
              "        const buttonEl =\n",
              "          document.querySelector('#df-6d6eb92d-4975-4550-a379-3a1d2e59b719 button.colab-df-convert');\n",
              "        buttonEl.style.display =\n",
              "          google.colab.kernel.accessAllowed ? 'block' : 'none';\n",
              "\n",
              "        async function convertToInteractive(key) {\n",
              "          const element = document.querySelector('#df-6d6eb92d-4975-4550-a379-3a1d2e59b719');\n",
              "          const dataTable =\n",
              "            await google.colab.kernel.invokeFunction('convertToInteractive',\n",
              "                                                     [key], {});\n",
              "          if (!dataTable) return;\n",
              "\n",
              "          const docLinkHtml = 'Like what you see? Visit the ' +\n",
              "            '<a target=\"_blank\" href=https://colab.research.google.com/notebooks/data_table.ipynb>data table notebook</a>'\n",
              "            + ' to learn more about interactive tables.';\n",
              "          element.innerHTML = '';\n",
              "          dataTable['output_type'] = 'display_data';\n",
              "          await google.colab.output.renderOutput(dataTable, element);\n",
              "          const docLink = document.createElement('div');\n",
              "          docLink.innerHTML = docLinkHtml;\n",
              "          element.appendChild(docLink);\n",
              "        }\n",
              "      </script>\n",
              "    </div>\n",
              "  </div>\n",
              "  "
            ]
          },
          "metadata": {},
          "execution_count": 3
        }
      ]
    },
    {
      "cell_type": "markdown",
      "source": [
        "Setelah itu kita bagi dataset menjadi train dan test set."
      ],
      "metadata": {
        "id": "fExGKbcdjfmD"
      }
    },
    {
      "cell_type": "code",
      "source": [
        "from sklearn.model_selection import train_test_split\n",
        "kalimat = df['sentence'].values\n",
        "y = df['label'].values\n",
        "kalimat_latih, kalimat_test, y_latih, y_test = train_test_split(kalimat, y, test_size=0.2)"
      ],
      "metadata": {
        "id": "ytkBeMn5ikku"
      },
      "execution_count": 4,
      "outputs": []
    },
    {
      "cell_type": "markdown",
      "source": [
        "Agar teks dapat dipahami oleh model, kita harus lakukan tokenisasi. Gunakan fungsi tokenizer pada data latih dan data test. Jangan lupa gunakan fungsi pad_sequences agar setiap sequence sama panjang."
      ],
      "metadata": {
        "id": "HF1cwYt7jma6"
      }
    },
    {
      "cell_type": "code",
      "source": [
        "from tensorflow.keras.preprocessing.text import Tokenizer\n",
        "from tensorflow.keras.preprocessing.sequence import pad_sequences\n",
        " \n",
        "tokenizer = Tokenizer(num_words=250, oov_token='x')\n",
        "tokenizer.fit_on_texts(kalimat_latih) \n",
        "tokenizer.fit_on_texts(kalimat_test)\n",
        " \n",
        "sekuens_latih = tokenizer.texts_to_sequences(kalimat_latih)\n",
        "sekuens_test = tokenizer.texts_to_sequences(kalimat_test)\n",
        " \n",
        "padded_latih = pad_sequences(sekuens_latih) \n",
        "padded_test = pad_sequences(sekuens_test)"
      ],
      "metadata": {
        "id": "g9kxIniIjjf6"
      },
      "execution_count": 5,
      "outputs": []
    },
    {
      "cell_type": "markdown",
      "source": [
        "Untuk arsitektur yang akan digunakan adalah layer embedding, dengan argumen pertama sesuai dengan jumlah vocabulary/kata yang kita pakai pada tokenizer. Argumen selanjutnya adalah dimensi embedding, dan input_length yang merupakan panjang dari sequence. Nah di kita tidak menggunakan layer Flatten melainkan kita menggantinya dengan GlobalAveragePooling1D. Fungsi ini bekerja lebih baik pada kasus NLP dibanding Flatten."
      ],
      "metadata": {
        "id": "M3yrRqsMj5ey"
      }
    },
    {
      "cell_type": "code",
      "source": [
        "import tensorflow as tf\n",
        "model = tf.keras.Sequential([\n",
        "    tf.keras.layers.Embedding(250, 16),\n",
        "    tf.keras.layers.GlobalAveragePooling1D(),\n",
        "    tf.keras.layers.Dense(24, activation='relu'),\n",
        "    tf.keras.layers.Dense(1, activation='sigmoid')\n",
        "])\n",
        "\n",
        "\n",
        "#compile model\n",
        "model.compile(loss='binary_crossentropy',optimizer='adam',metrics=['accuracy'])"
      ],
      "metadata": {
        "id": "SGGaqvkZj6GC"
      },
      "execution_count": 8,
      "outputs": []
    },
    {
      "cell_type": "markdown",
      "source": [
        "Setelah arsitektur model dibentuk, dan loss function serta optimizer ditentukan, kita dapat memulai pelatihan model kita. "
      ],
      "metadata": {
        "id": "t6gNxrFmkEaq"
      }
    },
    {
      "cell_type": "code",
      "source": [
        "num_epochs = 30\n",
        "history = model.fit(padded_latih, y_latih, epochs=num_epochs, \n",
        "                    validation_data=(padded_test, y_test), verbose=2)"
      ],
      "metadata": {
        "id": "wx_UThWJkE0i",
        "outputId": "467e8ab2-61f1-44ce-d8e4-4eb01a0bbb14",
        "colab": {
          "base_uri": "https://localhost:8080/"
        }
      },
      "execution_count": 9,
      "outputs": [
        {
          "output_type": "stream",
          "name": "stdout",
          "text": [
            "Epoch 1/30\n",
            "25/25 - 3s - loss: 0.6929 - accuracy: 0.5213 - val_loss: 0.6921 - val_accuracy: 0.5750 - 3s/epoch - 116ms/step\n",
            "Epoch 2/30\n",
            "25/25 - 0s - loss: 0.6910 - accuracy: 0.6075 - val_loss: 0.6907 - val_accuracy: 0.5650 - 88ms/epoch - 4ms/step\n",
            "Epoch 3/30\n",
            "25/25 - 0s - loss: 0.6882 - accuracy: 0.6250 - val_loss: 0.6881 - val_accuracy: 0.5850 - 93ms/epoch - 4ms/step\n",
            "Epoch 4/30\n",
            "25/25 - 0s - loss: 0.6839 - accuracy: 0.6475 - val_loss: 0.6838 - val_accuracy: 0.6350 - 88ms/epoch - 4ms/step\n",
            "Epoch 5/30\n",
            "25/25 - 0s - loss: 0.6775 - accuracy: 0.6600 - val_loss: 0.6778 - val_accuracy: 0.6400 - 124ms/epoch - 5ms/step\n",
            "Epoch 6/30\n",
            "25/25 - 0s - loss: 0.6677 - accuracy: 0.6862 - val_loss: 0.6693 - val_accuracy: 0.6300 - 91ms/epoch - 4ms/step\n",
            "Epoch 7/30\n",
            "25/25 - 0s - loss: 0.6540 - accuracy: 0.6988 - val_loss: 0.6576 - val_accuracy: 0.6650 - 110ms/epoch - 4ms/step\n",
            "Epoch 8/30\n",
            "25/25 - 0s - loss: 0.6368 - accuracy: 0.7200 - val_loss: 0.6460 - val_accuracy: 0.6450 - 100ms/epoch - 4ms/step\n",
            "Epoch 9/30\n",
            "25/25 - 0s - loss: 0.6162 - accuracy: 0.7212 - val_loss: 0.6291 - val_accuracy: 0.6950 - 97ms/epoch - 4ms/step\n",
            "Epoch 10/30\n",
            "25/25 - 0s - loss: 0.5935 - accuracy: 0.7475 - val_loss: 0.6135 - val_accuracy: 0.7000 - 98ms/epoch - 4ms/step\n",
            "Epoch 11/30\n",
            "25/25 - 0s - loss: 0.5663 - accuracy: 0.7563 - val_loss: 0.5949 - val_accuracy: 0.7100 - 86ms/epoch - 3ms/step\n",
            "Epoch 12/30\n",
            "25/25 - 0s - loss: 0.5400 - accuracy: 0.7850 - val_loss: 0.5804 - val_accuracy: 0.7250 - 98ms/epoch - 4ms/step\n",
            "Epoch 13/30\n",
            "25/25 - 0s - loss: 0.5122 - accuracy: 0.8000 - val_loss: 0.5609 - val_accuracy: 0.7800 - 85ms/epoch - 3ms/step\n",
            "Epoch 14/30\n",
            "25/25 - 0s - loss: 0.4903 - accuracy: 0.8112 - val_loss: 0.5504 - val_accuracy: 0.7650 - 100ms/epoch - 4ms/step\n",
            "Epoch 15/30\n",
            "25/25 - 0s - loss: 0.4621 - accuracy: 0.8213 - val_loss: 0.5355 - val_accuracy: 0.7650 - 103ms/epoch - 4ms/step\n",
            "Epoch 16/30\n",
            "25/25 - 0s - loss: 0.4408 - accuracy: 0.8313 - val_loss: 0.5262 - val_accuracy: 0.7850 - 97ms/epoch - 4ms/step\n",
            "Epoch 17/30\n",
            "25/25 - 0s - loss: 0.4194 - accuracy: 0.8363 - val_loss: 0.5186 - val_accuracy: 0.7850 - 88ms/epoch - 4ms/step\n",
            "Epoch 18/30\n",
            "25/25 - 0s - loss: 0.4019 - accuracy: 0.8438 - val_loss: 0.5168 - val_accuracy: 0.7750 - 90ms/epoch - 4ms/step\n",
            "Epoch 19/30\n",
            "25/25 - 0s - loss: 0.3890 - accuracy: 0.8462 - val_loss: 0.5075 - val_accuracy: 0.7650 - 89ms/epoch - 4ms/step\n",
            "Epoch 20/30\n",
            "25/25 - 0s - loss: 0.3703 - accuracy: 0.8550 - val_loss: 0.5027 - val_accuracy: 0.7800 - 100ms/epoch - 4ms/step\n",
            "Epoch 21/30\n",
            "25/25 - 0s - loss: 0.3572 - accuracy: 0.8600 - val_loss: 0.5004 - val_accuracy: 0.7650 - 85ms/epoch - 3ms/step\n",
            "Epoch 22/30\n",
            "25/25 - 0s - loss: 0.3455 - accuracy: 0.8612 - val_loss: 0.4955 - val_accuracy: 0.7850 - 84ms/epoch - 3ms/step\n",
            "Epoch 23/30\n",
            "25/25 - 0s - loss: 0.3360 - accuracy: 0.8687 - val_loss: 0.4965 - val_accuracy: 0.7800 - 96ms/epoch - 4ms/step\n",
            "Epoch 24/30\n",
            "25/25 - 0s - loss: 0.3252 - accuracy: 0.8675 - val_loss: 0.5001 - val_accuracy: 0.7900 - 96ms/epoch - 4ms/step\n",
            "Epoch 25/30\n",
            "25/25 - 0s - loss: 0.3204 - accuracy: 0.8612 - val_loss: 0.4967 - val_accuracy: 0.7800 - 95ms/epoch - 4ms/step\n",
            "Epoch 26/30\n",
            "25/25 - 0s - loss: 0.3095 - accuracy: 0.8725 - val_loss: 0.4989 - val_accuracy: 0.7800 - 85ms/epoch - 3ms/step\n",
            "Epoch 27/30\n",
            "25/25 - 0s - loss: 0.3025 - accuracy: 0.8737 - val_loss: 0.5007 - val_accuracy: 0.7900 - 86ms/epoch - 3ms/step\n",
            "Epoch 28/30\n",
            "25/25 - 0s - loss: 0.2983 - accuracy: 0.8725 - val_loss: 0.5049 - val_accuracy: 0.7900 - 84ms/epoch - 3ms/step\n",
            "Epoch 29/30\n",
            "25/25 - 0s - loss: 0.2907 - accuracy: 0.8788 - val_loss: 0.5067 - val_accuracy: 0.7850 - 106ms/epoch - 4ms/step\n",
            "Epoch 30/30\n",
            "25/25 - 0s - loss: 0.2842 - accuracy: 0.8913 - val_loss: 0.5109 - val_accuracy: 0.7850 - 85ms/epoch - 3ms/step\n"
          ]
        }
      ]
    }
  ]
}
