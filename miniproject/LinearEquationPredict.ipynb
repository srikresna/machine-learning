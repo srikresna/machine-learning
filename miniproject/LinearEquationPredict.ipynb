{
  "nbformat": 4,
  "nbformat_minor": 0,
  "metadata": {
    "colab": {
      "provenance": []
    },
    "kernelspec": {
      "name": "python3",
      "display_name": "Python 3"
    },
    "language_info": {
      "name": "python"
    }
  },
  "cells": [
    {
      "cell_type": "markdown",
      "source": [
        "Sebuah model dari API keras dapat menerima masukan dengan tipe data numpy array. Sehingga kita bisa membuat 2 buah objek bertipe numpy array, satu untuk atribut dan satu sebagai labelnya."
      ],
      "metadata": {
        "id": "VAy2CciyoDsN"
      }
    },
    {
      "cell_type": "code",
      "execution_count": 1,
      "metadata": {
        "id": "Sf7uLRQxmqWp"
      },
      "outputs": [],
      "source": [
        "import tensorflow as tf\n",
        "import numpy as np\n",
        "from tensorflow import keras"
      ]
    },
    {
      "cell_type": "code",
      "source": [
        "xs = np.array([1.0, 2.0, 3.0, 4.0, 5.0, 6.0], dtype=float)\n",
        "ys = np.array([4.0, 6.0, 8.0, 10.0, 12.0, 14.0], dtype=float)"
      ],
      "metadata": {
        "id": "bkjBvJ2FnNof"
      },
      "execution_count": 2,
      "outputs": []
    },
    {
      "cell_type": "markdown",
      "source": [
        "Kemudian kita buat model JST kita dengan memanggil fungsi tf.keras.Sequential(). Sequential adalah model JST yang paling sederhana dan telah kita pelajari sebelumnya. Pada model sequential, setiap layer pada jaringan saraf tiruan terhubung secara sekuensial, sesuai namanya. "
      ],
      "metadata": {
        "id": "LbZnQbH6oGff"
      }
    },
    {
      "cell_type": "code",
      "source": [
        "model = tf.keras.Sequential([keras.layers.Dense(units=1, input_shape=[1])])"
      ],
      "metadata": {
        "id": "GtD-s7xtn9Pf"
      },
      "execution_count": 4,
      "outputs": []
    },
    {
      "cell_type": "markdown",
      "source": [
        "Pada model sequential ini, kita kemudian isi layer yang kita inginkan untuk model kita. Untuk membuat sebuah layer, kita dapat menggunakan fungsi keras.layers.Dense().\n",
        "\n",
        "1. Parameter units dari fungsi keras.layers.Dense() adalah jumlah perseptron yang dimiliki oleh layer tersebut. Yang perlu diperhatikan pada model sequential adalah, layer pertama dari model tersebut haruslah memiliki parameter input_shape agar model bisa mengenali bentuk input yang akan diprosesnya.\n",
        "\n",
        "2. Parameter input_shape menunjukkan bentuk dari setiap elemen input yang akan diterima oleh model. Pada kasus kita setiap elemen dari data kita adalah sebuah bilangan numerik 1 digit, sehingga kita bisa isi input_shape kita dengan angka 1. Jika sebuah elemen dari dataset kita berupa gambar yang memiliki dimensi 32*32 piksel, maka input_shape yang sesuai adalah [32,32]."
      ],
      "metadata": {
        "id": "sOWPEerQoTI1"
      }
    },
    {
      "cell_type": "markdown",
      "source": [
        "Kemudian, hal yang paling penting selanjutnya adalah menentukan optimizer dan loss dari model agar model kita bisa belajar. Untuk menentukan optimizer dan loss kita gunakan fungsi compile. Untuk masalah regresi kita yang sederhana, kita dapat menggunakan stochastic gradient descent sebagai optimizer, dan mean squared error sebagai loss function model kita."
      ],
      "metadata": {
        "id": "97U-9OrwoiHI"
      }
    },
    {
      "cell_type": "code",
      "source": [
        "model.compile(optimizer='sgd', loss='mean_squared_error')"
      ],
      "metadata": {
        "id": "YOZL0iaQoVDG"
      },
      "execution_count": 5,
      "outputs": []
    },
    {
      "cell_type": "markdown",
      "source": [
        "Terakhir, yuk kita panggil fungsi yang paling terkenal dari machine learning yaitu fit(). Fungsi fit() adalah fungsi di mana kita menyuruh model kita untuk mempelajari hubungan antara atribut dan label pada dataset. Selain atribut dan label, Parameter lain yang diperlukan sebuah model keras pada fit adalah epochs. Epochs adalah berapa kali sebuah JST harus belajar memperbaiki akurasinya."
      ],
      "metadata": {
        "id": "sQn-9tkto5lz"
      }
    },
    {
      "cell_type": "code",
      "source": [
        "model.fit(xs, ys, epochs=150)"
      ],
      "metadata": {
        "colab": {
          "base_uri": "https://localhost:8080/"
        },
        "id": "umm_Na51olvr",
        "outputId": "9103052c-b330-4e2e-ed9a-a7d0408680b8"
      },
      "execution_count": 6,
      "outputs": [
        {
          "output_type": "stream",
          "name": "stdout",
          "text": [
            "Epoch 1/150\n",
            "1/1 [==============================] - 1s 531ms/step - loss: 191.7961\n",
            "Epoch 2/150\n",
            "1/1 [==============================] - 0s 9ms/step - loss: 88.9189\n",
            "Epoch 3/150\n",
            "1/1 [==============================] - 0s 12ms/step - loss: 41.3032\n",
            "Epoch 4/150\n",
            "1/1 [==============================] - 0s 14ms/step - loss: 19.2641\n",
            "Epoch 5/150\n",
            "1/1 [==============================] - 0s 7ms/step - loss: 9.0627\n",
            "Epoch 6/150\n",
            "1/1 [==============================] - 0s 8ms/step - loss: 4.3401\n",
            "Epoch 7/150\n",
            "1/1 [==============================] - 0s 8ms/step - loss: 2.1533\n",
            "Epoch 8/150\n",
            "1/1 [==============================] - 0s 7ms/step - loss: 1.1401\n",
            "Epoch 9/150\n",
            "1/1 [==============================] - 0s 10ms/step - loss: 0.6701\n",
            "Epoch 10/150\n",
            "1/1 [==============================] - 0s 12ms/step - loss: 0.4516\n",
            "Epoch 11/150\n",
            "1/1 [==============================] - 0s 10ms/step - loss: 0.3494\n",
            "Epoch 12/150\n",
            "1/1 [==============================] - 0s 29ms/step - loss: 0.3011\n",
            "Epoch 13/150\n",
            "1/1 [==============================] - 0s 8ms/step - loss: 0.2777\n",
            "Epoch 14/150\n",
            "1/1 [==============================] - 0s 6ms/step - loss: 0.2659\n",
            "Epoch 15/150\n",
            "1/1 [==============================] - 0s 6ms/step - loss: 0.2594\n",
            "Epoch 16/150\n",
            "1/1 [==============================] - 0s 6ms/step - loss: 0.2554\n",
            "Epoch 17/150\n",
            "1/1 [==============================] - 0s 6ms/step - loss: 0.2526\n",
            "Epoch 18/150\n",
            "1/1 [==============================] - 0s 6ms/step - loss: 0.2503\n",
            "Epoch 19/150\n",
            "1/1 [==============================] - 0s 6ms/step - loss: 0.2483\n",
            "Epoch 20/150\n",
            "1/1 [==============================] - 0s 6ms/step - loss: 0.2464\n",
            "Epoch 21/150\n",
            "1/1 [==============================] - 0s 6ms/step - loss: 0.2445\n",
            "Epoch 22/150\n",
            "1/1 [==============================] - 0s 6ms/step - loss: 0.2427\n",
            "Epoch 23/150\n",
            "1/1 [==============================] - 0s 6ms/step - loss: 0.2409\n",
            "Epoch 24/150\n",
            "1/1 [==============================] - 0s 7ms/step - loss: 0.2392\n",
            "Epoch 25/150\n",
            "1/1 [==============================] - 0s 6ms/step - loss: 0.2374\n",
            "Epoch 26/150\n",
            "1/1 [==============================] - 0s 6ms/step - loss: 0.2357\n",
            "Epoch 27/150\n",
            "1/1 [==============================] - 0s 6ms/step - loss: 0.2340\n",
            "Epoch 28/150\n",
            "1/1 [==============================] - 0s 6ms/step - loss: 0.2323\n",
            "Epoch 29/150\n",
            "1/1 [==============================] - 0s 6ms/step - loss: 0.2306\n",
            "Epoch 30/150\n",
            "1/1 [==============================] - 0s 6ms/step - loss: 0.2289\n",
            "Epoch 31/150\n",
            "1/1 [==============================] - 0s 6ms/step - loss: 0.2272\n",
            "Epoch 32/150\n",
            "1/1 [==============================] - 0s 6ms/step - loss: 0.2256\n",
            "Epoch 33/150\n",
            "1/1 [==============================] - 0s 6ms/step - loss: 0.2239\n",
            "Epoch 34/150\n",
            "1/1 [==============================] - 0s 6ms/step - loss: 0.2223\n",
            "Epoch 35/150\n",
            "1/1 [==============================] - 0s 6ms/step - loss: 0.2207\n",
            "Epoch 36/150\n",
            "1/1 [==============================] - 0s 6ms/step - loss: 0.2191\n",
            "Epoch 37/150\n",
            "1/1 [==============================] - 0s 6ms/step - loss: 0.2175\n",
            "Epoch 38/150\n",
            "1/1 [==============================] - 0s 6ms/step - loss: 0.2159\n",
            "Epoch 39/150\n",
            "1/1 [==============================] - 0s 6ms/step - loss: 0.2143\n",
            "Epoch 40/150\n",
            "1/1 [==============================] - 0s 6ms/step - loss: 0.2128\n",
            "Epoch 41/150\n",
            "1/1 [==============================] - 0s 6ms/step - loss: 0.2112\n",
            "Epoch 42/150\n",
            "1/1 [==============================] - 0s 6ms/step - loss: 0.2097\n",
            "Epoch 43/150\n",
            "1/1 [==============================] - 0s 6ms/step - loss: 0.2082\n",
            "Epoch 44/150\n",
            "1/1 [==============================] - 0s 6ms/step - loss: 0.2066\n",
            "Epoch 45/150\n",
            "1/1 [==============================] - 0s 6ms/step - loss: 0.2051\n",
            "Epoch 46/150\n",
            "1/1 [==============================] - 0s 6ms/step - loss: 0.2036\n",
            "Epoch 47/150\n",
            "1/1 [==============================] - 0s 6ms/step - loss: 0.2022\n",
            "Epoch 48/150\n",
            "1/1 [==============================] - 0s 6ms/step - loss: 0.2007\n",
            "Epoch 49/150\n",
            "1/1 [==============================] - 0s 6ms/step - loss: 0.1992\n",
            "Epoch 50/150\n",
            "1/1 [==============================] - 0s 6ms/step - loss: 0.1978\n",
            "Epoch 51/150\n",
            "1/1 [==============================] - 0s 6ms/step - loss: 0.1963\n",
            "Epoch 52/150\n",
            "1/1 [==============================] - 0s 6ms/step - loss: 0.1949\n",
            "Epoch 53/150\n",
            "1/1 [==============================] - 0s 7ms/step - loss: 0.1935\n",
            "Epoch 54/150\n",
            "1/1 [==============================] - 0s 6ms/step - loss: 0.1921\n",
            "Epoch 55/150\n",
            "1/1 [==============================] - 0s 6ms/step - loss: 0.1907\n",
            "Epoch 56/150\n",
            "1/1 [==============================] - 0s 6ms/step - loss: 0.1893\n",
            "Epoch 57/150\n",
            "1/1 [==============================] - 0s 7ms/step - loss: 0.1879\n",
            "Epoch 58/150\n",
            "1/1 [==============================] - 0s 6ms/step - loss: 0.1865\n",
            "Epoch 59/150\n",
            "1/1 [==============================] - 0s 7ms/step - loss: 0.1852\n",
            "Epoch 60/150\n",
            "1/1 [==============================] - 0s 7ms/step - loss: 0.1838\n",
            "Epoch 61/150\n",
            "1/1 [==============================] - 0s 6ms/step - loss: 0.1825\n",
            "Epoch 62/150\n",
            "1/1 [==============================] - 0s 7ms/step - loss: 0.1812\n",
            "Epoch 63/150\n",
            "1/1 [==============================] - 0s 6ms/step - loss: 0.1798\n",
            "Epoch 64/150\n",
            "1/1 [==============================] - 0s 6ms/step - loss: 0.1785\n",
            "Epoch 65/150\n",
            "1/1 [==============================] - 0s 6ms/step - loss: 0.1772\n",
            "Epoch 66/150\n",
            "1/1 [==============================] - 0s 6ms/step - loss: 0.1759\n",
            "Epoch 67/150\n",
            "1/1 [==============================] - 0s 10ms/step - loss: 0.1746\n",
            "Epoch 68/150\n",
            "1/1 [==============================] - 0s 6ms/step - loss: 0.1734\n",
            "Epoch 69/150\n",
            "1/1 [==============================] - 0s 6ms/step - loss: 0.1721\n",
            "Epoch 70/150\n",
            "1/1 [==============================] - 0s 6ms/step - loss: 0.1709\n",
            "Epoch 71/150\n",
            "1/1 [==============================] - 0s 7ms/step - loss: 0.1696\n",
            "Epoch 72/150\n",
            "1/1 [==============================] - 0s 6ms/step - loss: 0.1684\n",
            "Epoch 73/150\n",
            "1/1 [==============================] - 0s 6ms/step - loss: 0.1672\n",
            "Epoch 74/150\n",
            "1/1 [==============================] - 0s 6ms/step - loss: 0.1659\n",
            "Epoch 75/150\n",
            "1/1 [==============================] - 0s 7ms/step - loss: 0.1647\n",
            "Epoch 76/150\n",
            "1/1 [==============================] - 0s 6ms/step - loss: 0.1635\n",
            "Epoch 77/150\n",
            "1/1 [==============================] - 0s 7ms/step - loss: 0.1623\n",
            "Epoch 78/150\n",
            "1/1 [==============================] - 0s 7ms/step - loss: 0.1612\n",
            "Epoch 79/150\n",
            "1/1 [==============================] - 0s 7ms/step - loss: 0.1600\n",
            "Epoch 80/150\n",
            "1/1 [==============================] - 0s 7ms/step - loss: 0.1588\n",
            "Epoch 81/150\n",
            "1/1 [==============================] - 0s 7ms/step - loss: 0.1577\n",
            "Epoch 82/150\n",
            "1/1 [==============================] - 0s 6ms/step - loss: 0.1565\n",
            "Epoch 83/150\n",
            "1/1 [==============================] - 0s 6ms/step - loss: 0.1554\n",
            "Epoch 84/150\n",
            "1/1 [==============================] - 0s 7ms/step - loss: 0.1542\n",
            "Epoch 85/150\n",
            "1/1 [==============================] - 0s 6ms/step - loss: 0.1531\n",
            "Epoch 86/150\n",
            "1/1 [==============================] - 0s 7ms/step - loss: 0.1520\n",
            "Epoch 87/150\n",
            "1/1 [==============================] - 0s 7ms/step - loss: 0.1509\n",
            "Epoch 88/150\n",
            "1/1 [==============================] - 0s 7ms/step - loss: 0.1498\n",
            "Epoch 89/150\n",
            "1/1 [==============================] - 0s 7ms/step - loss: 0.1487\n",
            "Epoch 90/150\n",
            "1/1 [==============================] - 0s 6ms/step - loss: 0.1476\n",
            "Epoch 91/150\n",
            "1/1 [==============================] - 0s 6ms/step - loss: 0.1465\n",
            "Epoch 92/150\n",
            "1/1 [==============================] - 0s 6ms/step - loss: 0.1455\n",
            "Epoch 93/150\n",
            "1/1 [==============================] - 0s 6ms/step - loss: 0.1444\n",
            "Epoch 94/150\n",
            "1/1 [==============================] - 0s 6ms/step - loss: 0.1434\n",
            "Epoch 95/150\n",
            "1/1 [==============================] - 0s 7ms/step - loss: 0.1423\n",
            "Epoch 96/150\n",
            "1/1 [==============================] - 0s 6ms/step - loss: 0.1413\n",
            "Epoch 97/150\n",
            "1/1 [==============================] - 0s 8ms/step - loss: 0.1402\n",
            "Epoch 98/150\n",
            "1/1 [==============================] - 0s 7ms/step - loss: 0.1392\n",
            "Epoch 99/150\n",
            "1/1 [==============================] - 0s 7ms/step - loss: 0.1382\n",
            "Epoch 100/150\n",
            "1/1 [==============================] - 0s 6ms/step - loss: 0.1372\n",
            "Epoch 101/150\n",
            "1/1 [==============================] - 0s 7ms/step - loss: 0.1362\n",
            "Epoch 102/150\n",
            "1/1 [==============================] - 0s 7ms/step - loss: 0.1352\n",
            "Epoch 103/150\n",
            "1/1 [==============================] - 0s 7ms/step - loss: 0.1342\n",
            "Epoch 104/150\n",
            "1/1 [==============================] - 0s 7ms/step - loss: 0.1332\n",
            "Epoch 105/150\n",
            "1/1 [==============================] - 0s 7ms/step - loss: 0.1323\n",
            "Epoch 106/150\n",
            "1/1 [==============================] - 0s 7ms/step - loss: 0.1313\n",
            "Epoch 107/150\n",
            "1/1 [==============================] - 0s 6ms/step - loss: 0.1304\n",
            "Epoch 108/150\n",
            "1/1 [==============================] - 0s 6ms/step - loss: 0.1294\n",
            "Epoch 109/150\n",
            "1/1 [==============================] - 0s 7ms/step - loss: 0.1285\n",
            "Epoch 110/150\n",
            "1/1 [==============================] - 0s 7ms/step - loss: 0.1275\n",
            "Epoch 111/150\n",
            "1/1 [==============================] - 0s 7ms/step - loss: 0.1266\n",
            "Epoch 112/150\n",
            "1/1 [==============================] - 0s 6ms/step - loss: 0.1257\n",
            "Epoch 113/150\n",
            "1/1 [==============================] - 0s 6ms/step - loss: 0.1248\n",
            "Epoch 114/150\n",
            "1/1 [==============================] - 0s 6ms/step - loss: 0.1239\n",
            "Epoch 115/150\n",
            "1/1 [==============================] - 0s 6ms/step - loss: 0.1230\n",
            "Epoch 116/150\n",
            "1/1 [==============================] - 0s 8ms/step - loss: 0.1221\n",
            "Epoch 117/150\n",
            "1/1 [==============================] - 0s 9ms/step - loss: 0.1212\n",
            "Epoch 118/150\n",
            "1/1 [==============================] - 0s 9ms/step - loss: 0.1203\n",
            "Epoch 119/150\n",
            "1/1 [==============================] - 0s 10ms/step - loss: 0.1194\n",
            "Epoch 120/150\n",
            "1/1 [==============================] - 0s 7ms/step - loss: 0.1185\n",
            "Epoch 121/150\n",
            "1/1 [==============================] - 0s 7ms/step - loss: 0.1177\n",
            "Epoch 122/150\n",
            "1/1 [==============================] - 0s 7ms/step - loss: 0.1168\n",
            "Epoch 123/150\n",
            "1/1 [==============================] - 0s 7ms/step - loss: 0.1160\n",
            "Epoch 124/150\n",
            "1/1 [==============================] - 0s 6ms/step - loss: 0.1151\n",
            "Epoch 125/150\n",
            "1/1 [==============================] - 0s 86ms/step - loss: 0.1143\n",
            "Epoch 126/150\n",
            "1/1 [==============================] - 0s 7ms/step - loss: 0.1134\n",
            "Epoch 127/150\n",
            "1/1 [==============================] - 0s 7ms/step - loss: 0.1126\n",
            "Epoch 128/150\n",
            "1/1 [==============================] - 0s 7ms/step - loss: 0.1118\n",
            "Epoch 129/150\n",
            "1/1 [==============================] - 0s 7ms/step - loss: 0.1110\n",
            "Epoch 130/150\n",
            "1/1 [==============================] - 0s 7ms/step - loss: 0.1102\n",
            "Epoch 131/150\n",
            "1/1 [==============================] - 0s 7ms/step - loss: 0.1094\n",
            "Epoch 132/150\n",
            "1/1 [==============================] - 0s 6ms/step - loss: 0.1086\n",
            "Epoch 133/150\n",
            "1/1 [==============================] - 0s 7ms/step - loss: 0.1078\n",
            "Epoch 134/150\n",
            "1/1 [==============================] - 0s 7ms/step - loss: 0.1070\n",
            "Epoch 135/150\n",
            "1/1 [==============================] - 0s 6ms/step - loss: 0.1062\n",
            "Epoch 136/150\n",
            "1/1 [==============================] - 0s 6ms/step - loss: 0.1054\n",
            "Epoch 137/150\n",
            "1/1 [==============================] - 0s 7ms/step - loss: 0.1047\n",
            "Epoch 138/150\n",
            "1/1 [==============================] - 0s 7ms/step - loss: 0.1039\n",
            "Epoch 139/150\n",
            "1/1 [==============================] - 0s 6ms/step - loss: 0.1032\n",
            "Epoch 140/150\n",
            "1/1 [==============================] - 0s 6ms/step - loss: 0.1024\n",
            "Epoch 141/150\n",
            "1/1 [==============================] - 0s 7ms/step - loss: 0.1017\n",
            "Epoch 142/150\n",
            "1/1 [==============================] - 0s 6ms/step - loss: 0.1009\n",
            "Epoch 143/150\n",
            "1/1 [==============================] - 0s 6ms/step - loss: 0.1002\n",
            "Epoch 144/150\n",
            "1/1 [==============================] - 0s 6ms/step - loss: 0.0995\n",
            "Epoch 145/150\n",
            "1/1 [==============================] - 0s 7ms/step - loss: 0.0987\n",
            "Epoch 146/150\n",
            "1/1 [==============================] - 0s 6ms/step - loss: 0.0980\n",
            "Epoch 147/150\n",
            "1/1 [==============================] - 0s 7ms/step - loss: 0.0973\n",
            "Epoch 148/150\n",
            "1/1 [==============================] - 0s 7ms/step - loss: 0.0966\n",
            "Epoch 149/150\n",
            "1/1 [==============================] - 0s 6ms/step - loss: 0.0959\n",
            "Epoch 150/150\n",
            "1/1 [==============================] - 0s 6ms/step - loss: 0.0952\n"
          ]
        },
        {
          "output_type": "execute_result",
          "data": {
            "text/plain": [
              "<keras.callbacks.History at 0x7f9785c67550>"
            ]
          },
          "metadata": {},
          "execution_count": 6
        }
      ]
    },
    {
      "cell_type": "code",
      "source": [
        "print(model.predict([10.0]))"
      ],
      "metadata": {
        "colab": {
          "base_uri": "https://localhost:8080/"
        },
        "id": "TZWtnJS9pPbO",
        "outputId": "3d3cf7e0-9704-4631-bd56-60f2b6c5b253"
      },
      "execution_count": 7,
      "outputs": [
        {
          "output_type": "stream",
          "name": "stdout",
          "text": [
            "1/1 [==============================] - 0s 87ms/step\n",
            "[[22.936075]]\n"
          ]
        }
      ]
    }
  ]
}