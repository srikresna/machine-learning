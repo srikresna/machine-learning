{
  "nbformat": 4,
  "nbformat_minor": 0,
  "metadata": {
    "colab": {
      "provenance": []
    },
    "kernelspec": {
      "name": "python3",
      "display_name": "Python 3"
    },
    "language_info": {
      "name": "python"
    },
    "accelerator": "GPU",
    "gpuClass": "standard"
  },
  "cells": [
    {
      "cell_type": "markdown",
      "source": [
        "<h1>Multiclass Text Classification </h1>\n",
        "Pada project kali ini kita akan melakukan klasifikasi teks multikelas menggunakan LSTM."
      ],
      "metadata": {
        "id": "_DiAG8SIu1Jf"
      }
    },
    {
      "cell_type": "markdown",
      "source": [
        "Pada cell pertama impor library pandas dan ubah dataset menjadi dataframe. Kemudian buang kolom 'judul_film' karena kita hanya akan menggunakan sinopsis sebagai atribut untuk dilatih pada model."
      ],
      "metadata": {
        "id": "gnd8TpfvvCIZ"
      }
    },
    {
      "cell_type": "code",
      "execution_count": 1,
      "metadata": {
        "id": "Uph63DhDuuZI"
      },
      "outputs": [],
      "source": [
        "import pandas as pd\n",
        "df = pd.read_csv('imdb_indonesian_movies_2.csv')\n",
        "df = df.drop(columns=['judul_film'])"
      ]
    },
    {
      "cell_type": "code",
      "source": [
        "df.head()\n",
        "df"
      ],
      "metadata": {
        "colab": {
          "base_uri": "https://localhost:8080/",
          "height": 424
        },
        "id": "RoKcaqNCvPJX",
        "outputId": "9499bf98-780e-4cc8-9376-a9ccafac88bc"
      },
      "execution_count": 2,
      "outputs": [
        {
          "output_type": "execute_result",
          "data": {
            "text/plain": [
              "                                     ringkasan_sinopsis     genre\n",
              "0     Raden Mas Said putra sulung Tumenggung Wilarik...     Drama\n",
              "1     Soe Hok Gie adalah seorang aktivis yang hidup ...     Drama\n",
              "2     Guru Bangsa Tjokroaminoto menceritakan tentang...     Drama\n",
              "3     POL menceritakan kisah hidup yang luar biasa d...     Drama\n",
              "4     Perjalanan pahlawan Indonesia KH Ahmad Dahlan ...     Drama\n",
              "...                                                 ...       ...\n",
              "1000  Winter in Tokyo berpusat pada kehidupan Ishida...  Romantis\n",
              "1001  Markonah melarikan diri ke Jakarta karena akan...  Romantis\n",
              "1002  Tempat aking lebih dari 36 jam, Last Night ada...  Romantis\n",
              "1003  Proyek baru ini adalah tentang seorang lelaki ...  Romantis\n",
              "1004  Atika (Meriam Bellina) mantan penyanyi tenar, ...  Romantis\n",
              "\n",
              "[1005 rows x 2 columns]"
            ],
            "text/html": [
              "\n",
              "  <div id=\"df-e506893f-a687-44a0-a1f0-7c7e17e0c569\">\n",
              "    <div class=\"colab-df-container\">\n",
              "      <div>\n",
              "<style scoped>\n",
              "    .dataframe tbody tr th:only-of-type {\n",
              "        vertical-align: middle;\n",
              "    }\n",
              "\n",
              "    .dataframe tbody tr th {\n",
              "        vertical-align: top;\n",
              "    }\n",
              "\n",
              "    .dataframe thead th {\n",
              "        text-align: right;\n",
              "    }\n",
              "</style>\n",
              "<table border=\"1\" class=\"dataframe\">\n",
              "  <thead>\n",
              "    <tr style=\"text-align: right;\">\n",
              "      <th></th>\n",
              "      <th>ringkasan_sinopsis</th>\n",
              "      <th>genre</th>\n",
              "    </tr>\n",
              "  </thead>\n",
              "  <tbody>\n",
              "    <tr>\n",
              "      <th>0</th>\n",
              "      <td>Raden Mas Said putra sulung Tumenggung Wilarik...</td>\n",
              "      <td>Drama</td>\n",
              "    </tr>\n",
              "    <tr>\n",
              "      <th>1</th>\n",
              "      <td>Soe Hok Gie adalah seorang aktivis yang hidup ...</td>\n",
              "      <td>Drama</td>\n",
              "    </tr>\n",
              "    <tr>\n",
              "      <th>2</th>\n",
              "      <td>Guru Bangsa Tjokroaminoto menceritakan tentang...</td>\n",
              "      <td>Drama</td>\n",
              "    </tr>\n",
              "    <tr>\n",
              "      <th>3</th>\n",
              "      <td>POL menceritakan kisah hidup yang luar biasa d...</td>\n",
              "      <td>Drama</td>\n",
              "    </tr>\n",
              "    <tr>\n",
              "      <th>4</th>\n",
              "      <td>Perjalanan pahlawan Indonesia KH Ahmad Dahlan ...</td>\n",
              "      <td>Drama</td>\n",
              "    </tr>\n",
              "    <tr>\n",
              "      <th>...</th>\n",
              "      <td>...</td>\n",
              "      <td>...</td>\n",
              "    </tr>\n",
              "    <tr>\n",
              "      <th>1000</th>\n",
              "      <td>Winter in Tokyo berpusat pada kehidupan Ishida...</td>\n",
              "      <td>Romantis</td>\n",
              "    </tr>\n",
              "    <tr>\n",
              "      <th>1001</th>\n",
              "      <td>Markonah melarikan diri ke Jakarta karena akan...</td>\n",
              "      <td>Romantis</td>\n",
              "    </tr>\n",
              "    <tr>\n",
              "      <th>1002</th>\n",
              "      <td>Tempat aking lebih dari 36 jam, Last Night ada...</td>\n",
              "      <td>Romantis</td>\n",
              "    </tr>\n",
              "    <tr>\n",
              "      <th>1003</th>\n",
              "      <td>Proyek baru ini adalah tentang seorang lelaki ...</td>\n",
              "      <td>Romantis</td>\n",
              "    </tr>\n",
              "    <tr>\n",
              "      <th>1004</th>\n",
              "      <td>Atika (Meriam Bellina) mantan penyanyi tenar, ...</td>\n",
              "      <td>Romantis</td>\n",
              "    </tr>\n",
              "  </tbody>\n",
              "</table>\n",
              "<p>1005 rows × 2 columns</p>\n",
              "</div>\n",
              "      <button class=\"colab-df-convert\" onclick=\"convertToInteractive('df-e506893f-a687-44a0-a1f0-7c7e17e0c569')\"\n",
              "              title=\"Convert this dataframe to an interactive table.\"\n",
              "              style=\"display:none;\">\n",
              "        \n",
              "  <svg xmlns=\"http://www.w3.org/2000/svg\" height=\"24px\"viewBox=\"0 0 24 24\"\n",
              "       width=\"24px\">\n",
              "    <path d=\"M0 0h24v24H0V0z\" fill=\"none\"/>\n",
              "    <path d=\"M18.56 5.44l.94 2.06.94-2.06 2.06-.94-2.06-.94-.94-2.06-.94 2.06-2.06.94zm-11 1L8.5 8.5l.94-2.06 2.06-.94-2.06-.94L8.5 2.5l-.94 2.06-2.06.94zm10 10l.94 2.06.94-2.06 2.06-.94-2.06-.94-.94-2.06-.94 2.06-2.06.94z\"/><path d=\"M17.41 7.96l-1.37-1.37c-.4-.4-.92-.59-1.43-.59-.52 0-1.04.2-1.43.59L10.3 9.45l-7.72 7.72c-.78.78-.78 2.05 0 2.83L4 21.41c.39.39.9.59 1.41.59.51 0 1.02-.2 1.41-.59l7.78-7.78 2.81-2.81c.8-.78.8-2.07 0-2.86zM5.41 20L4 18.59l7.72-7.72 1.47 1.35L5.41 20z\"/>\n",
              "  </svg>\n",
              "      </button>\n",
              "      \n",
              "  <style>\n",
              "    .colab-df-container {\n",
              "      display:flex;\n",
              "      flex-wrap:wrap;\n",
              "      gap: 12px;\n",
              "    }\n",
              "\n",
              "    .colab-df-convert {\n",
              "      background-color: #E8F0FE;\n",
              "      border: none;\n",
              "      border-radius: 50%;\n",
              "      cursor: pointer;\n",
              "      display: none;\n",
              "      fill: #1967D2;\n",
              "      height: 32px;\n",
              "      padding: 0 0 0 0;\n",
              "      width: 32px;\n",
              "    }\n",
              "\n",
              "    .colab-df-convert:hover {\n",
              "      background-color: #E2EBFA;\n",
              "      box-shadow: 0px 1px 2px rgba(60, 64, 67, 0.3), 0px 1px 3px 1px rgba(60, 64, 67, 0.15);\n",
              "      fill: #174EA6;\n",
              "    }\n",
              "\n",
              "    [theme=dark] .colab-df-convert {\n",
              "      background-color: #3B4455;\n",
              "      fill: #D2E3FC;\n",
              "    }\n",
              "\n",
              "    [theme=dark] .colab-df-convert:hover {\n",
              "      background-color: #434B5C;\n",
              "      box-shadow: 0px 1px 3px 1px rgba(0, 0, 0, 0.15);\n",
              "      filter: drop-shadow(0px 1px 2px rgba(0, 0, 0, 0.3));\n",
              "      fill: #FFFFFF;\n",
              "    }\n",
              "  </style>\n",
              "\n",
              "      <script>\n",
              "        const buttonEl =\n",
              "          document.querySelector('#df-e506893f-a687-44a0-a1f0-7c7e17e0c569 button.colab-df-convert');\n",
              "        buttonEl.style.display =\n",
              "          google.colab.kernel.accessAllowed ? 'block' : 'none';\n",
              "\n",
              "        async function convertToInteractive(key) {\n",
              "          const element = document.querySelector('#df-e506893f-a687-44a0-a1f0-7c7e17e0c569');\n",
              "          const dataTable =\n",
              "            await google.colab.kernel.invokeFunction('convertToInteractive',\n",
              "                                                     [key], {});\n",
              "          if (!dataTable) return;\n",
              "\n",
              "          const docLinkHtml = 'Like what you see? Visit the ' +\n",
              "            '<a target=\"_blank\" href=https://colab.research.google.com/notebooks/data_table.ipynb>data table notebook</a>'\n",
              "            + ' to learn more about interactive tables.';\n",
              "          element.innerHTML = '';\n",
              "          dataTable['output_type'] = 'display_data';\n",
              "          await google.colab.output.renderOutput(dataTable, element);\n",
              "          const docLink = document.createElement('div');\n",
              "          docLink.innerHTML = docLinkHtml;\n",
              "          element.appendChild(docLink);\n",
              "        }\n",
              "      </script>\n",
              "    </div>\n",
              "  </div>\n",
              "  "
            ]
          },
          "metadata": {},
          "execution_count": 2
        }
      ]
    },
    {
      "cell_type": "markdown",
      "source": [
        "Karena label kita berupa data kategorikal, maka kita perlu melakukan proses one-hot-encoding. Jalankan kode di bawah untuk melakukan one-hot-encoding dan membuat dataframe baru."
      ],
      "metadata": {
        "id": "OAsUjbUhvWQ4"
      }
    },
    {
      "cell_type": "code",
      "source": [
        "category = pd.get_dummies(df.genre)\n",
        "df_baru = pd.concat([df, category], axis=1)\n",
        "df_baru = df_baru.drop(columns='genre')\n",
        "df_baru"
      ],
      "metadata": {
        "colab": {
          "base_uri": "https://localhost:8080/",
          "height": 424
        },
        "id": "c0RG7tpHvQF8",
        "outputId": "be28afd6-3ac4-4733-9aeb-d94fe696e5e4"
      },
      "execution_count": 3,
      "outputs": [
        {
          "output_type": "execute_result",
          "data": {
            "text/plain": [
              "                                     ringkasan_sinopsis  Drama  Horor  Komedi  \\\n",
              "0     Raden Mas Said putra sulung Tumenggung Wilarik...      1      0       0   \n",
              "1     Soe Hok Gie adalah seorang aktivis yang hidup ...      1      0       0   \n",
              "2     Guru Bangsa Tjokroaminoto menceritakan tentang...      1      0       0   \n",
              "3     POL menceritakan kisah hidup yang luar biasa d...      1      0       0   \n",
              "4     Perjalanan pahlawan Indonesia KH Ahmad Dahlan ...      1      0       0   \n",
              "...                                                 ...    ...    ...     ...   \n",
              "1000  Winter in Tokyo berpusat pada kehidupan Ishida...      0      0       0   \n",
              "1001  Markonah melarikan diri ke Jakarta karena akan...      0      0       0   \n",
              "1002  Tempat aking lebih dari 36 jam, Last Night ada...      0      0       0   \n",
              "1003  Proyek baru ini adalah tentang seorang lelaki ...      0      0       0   \n",
              "1004  Atika (Meriam Bellina) mantan penyanyi tenar, ...      0      0       0   \n",
              "\n",
              "      Laga  Romantis  \n",
              "0        0         0  \n",
              "1        0         0  \n",
              "2        0         0  \n",
              "3        0         0  \n",
              "4        0         0  \n",
              "...    ...       ...  \n",
              "1000     0         1  \n",
              "1001     0         1  \n",
              "1002     0         1  \n",
              "1003     0         1  \n",
              "1004     0         1  \n",
              "\n",
              "[1005 rows x 6 columns]"
            ],
            "text/html": [
              "\n",
              "  <div id=\"df-9afa0220-0a08-4022-90ed-941fa958085c\">\n",
              "    <div class=\"colab-df-container\">\n",
              "      <div>\n",
              "<style scoped>\n",
              "    .dataframe tbody tr th:only-of-type {\n",
              "        vertical-align: middle;\n",
              "    }\n",
              "\n",
              "    .dataframe tbody tr th {\n",
              "        vertical-align: top;\n",
              "    }\n",
              "\n",
              "    .dataframe thead th {\n",
              "        text-align: right;\n",
              "    }\n",
              "</style>\n",
              "<table border=\"1\" class=\"dataframe\">\n",
              "  <thead>\n",
              "    <tr style=\"text-align: right;\">\n",
              "      <th></th>\n",
              "      <th>ringkasan_sinopsis</th>\n",
              "      <th>Drama</th>\n",
              "      <th>Horor</th>\n",
              "      <th>Komedi</th>\n",
              "      <th>Laga</th>\n",
              "      <th>Romantis</th>\n",
              "    </tr>\n",
              "  </thead>\n",
              "  <tbody>\n",
              "    <tr>\n",
              "      <th>0</th>\n",
              "      <td>Raden Mas Said putra sulung Tumenggung Wilarik...</td>\n",
              "      <td>1</td>\n",
              "      <td>0</td>\n",
              "      <td>0</td>\n",
              "      <td>0</td>\n",
              "      <td>0</td>\n",
              "    </tr>\n",
              "    <tr>\n",
              "      <th>1</th>\n",
              "      <td>Soe Hok Gie adalah seorang aktivis yang hidup ...</td>\n",
              "      <td>1</td>\n",
              "      <td>0</td>\n",
              "      <td>0</td>\n",
              "      <td>0</td>\n",
              "      <td>0</td>\n",
              "    </tr>\n",
              "    <tr>\n",
              "      <th>2</th>\n",
              "      <td>Guru Bangsa Tjokroaminoto menceritakan tentang...</td>\n",
              "      <td>1</td>\n",
              "      <td>0</td>\n",
              "      <td>0</td>\n",
              "      <td>0</td>\n",
              "      <td>0</td>\n",
              "    </tr>\n",
              "    <tr>\n",
              "      <th>3</th>\n",
              "      <td>POL menceritakan kisah hidup yang luar biasa d...</td>\n",
              "      <td>1</td>\n",
              "      <td>0</td>\n",
              "      <td>0</td>\n",
              "      <td>0</td>\n",
              "      <td>0</td>\n",
              "    </tr>\n",
              "    <tr>\n",
              "      <th>4</th>\n",
              "      <td>Perjalanan pahlawan Indonesia KH Ahmad Dahlan ...</td>\n",
              "      <td>1</td>\n",
              "      <td>0</td>\n",
              "      <td>0</td>\n",
              "      <td>0</td>\n",
              "      <td>0</td>\n",
              "    </tr>\n",
              "    <tr>\n",
              "      <th>...</th>\n",
              "      <td>...</td>\n",
              "      <td>...</td>\n",
              "      <td>...</td>\n",
              "      <td>...</td>\n",
              "      <td>...</td>\n",
              "      <td>...</td>\n",
              "    </tr>\n",
              "    <tr>\n",
              "      <th>1000</th>\n",
              "      <td>Winter in Tokyo berpusat pada kehidupan Ishida...</td>\n",
              "      <td>0</td>\n",
              "      <td>0</td>\n",
              "      <td>0</td>\n",
              "      <td>0</td>\n",
              "      <td>1</td>\n",
              "    </tr>\n",
              "    <tr>\n",
              "      <th>1001</th>\n",
              "      <td>Markonah melarikan diri ke Jakarta karena akan...</td>\n",
              "      <td>0</td>\n",
              "      <td>0</td>\n",
              "      <td>0</td>\n",
              "      <td>0</td>\n",
              "      <td>1</td>\n",
              "    </tr>\n",
              "    <tr>\n",
              "      <th>1002</th>\n",
              "      <td>Tempat aking lebih dari 36 jam, Last Night ada...</td>\n",
              "      <td>0</td>\n",
              "      <td>0</td>\n",
              "      <td>0</td>\n",
              "      <td>0</td>\n",
              "      <td>1</td>\n",
              "    </tr>\n",
              "    <tr>\n",
              "      <th>1003</th>\n",
              "      <td>Proyek baru ini adalah tentang seorang lelaki ...</td>\n",
              "      <td>0</td>\n",
              "      <td>0</td>\n",
              "      <td>0</td>\n",
              "      <td>0</td>\n",
              "      <td>1</td>\n",
              "    </tr>\n",
              "    <tr>\n",
              "      <th>1004</th>\n",
              "      <td>Atika (Meriam Bellina) mantan penyanyi tenar, ...</td>\n",
              "      <td>0</td>\n",
              "      <td>0</td>\n",
              "      <td>0</td>\n",
              "      <td>0</td>\n",
              "      <td>1</td>\n",
              "    </tr>\n",
              "  </tbody>\n",
              "</table>\n",
              "<p>1005 rows × 6 columns</p>\n",
              "</div>\n",
              "      <button class=\"colab-df-convert\" onclick=\"convertToInteractive('df-9afa0220-0a08-4022-90ed-941fa958085c')\"\n",
              "              title=\"Convert this dataframe to an interactive table.\"\n",
              "              style=\"display:none;\">\n",
              "        \n",
              "  <svg xmlns=\"http://www.w3.org/2000/svg\" height=\"24px\"viewBox=\"0 0 24 24\"\n",
              "       width=\"24px\">\n",
              "    <path d=\"M0 0h24v24H0V0z\" fill=\"none\"/>\n",
              "    <path d=\"M18.56 5.44l.94 2.06.94-2.06 2.06-.94-2.06-.94-.94-2.06-.94 2.06-2.06.94zm-11 1L8.5 8.5l.94-2.06 2.06-.94-2.06-.94L8.5 2.5l-.94 2.06-2.06.94zm10 10l.94 2.06.94-2.06 2.06-.94-2.06-.94-.94-2.06-.94 2.06-2.06.94z\"/><path d=\"M17.41 7.96l-1.37-1.37c-.4-.4-.92-.59-1.43-.59-.52 0-1.04.2-1.43.59L10.3 9.45l-7.72 7.72c-.78.78-.78 2.05 0 2.83L4 21.41c.39.39.9.59 1.41.59.51 0 1.02-.2 1.41-.59l7.78-7.78 2.81-2.81c.8-.78.8-2.07 0-2.86zM5.41 20L4 18.59l7.72-7.72 1.47 1.35L5.41 20z\"/>\n",
              "  </svg>\n",
              "      </button>\n",
              "      \n",
              "  <style>\n",
              "    .colab-df-container {\n",
              "      display:flex;\n",
              "      flex-wrap:wrap;\n",
              "      gap: 12px;\n",
              "    }\n",
              "\n",
              "    .colab-df-convert {\n",
              "      background-color: #E8F0FE;\n",
              "      border: none;\n",
              "      border-radius: 50%;\n",
              "      cursor: pointer;\n",
              "      display: none;\n",
              "      fill: #1967D2;\n",
              "      height: 32px;\n",
              "      padding: 0 0 0 0;\n",
              "      width: 32px;\n",
              "    }\n",
              "\n",
              "    .colab-df-convert:hover {\n",
              "      background-color: #E2EBFA;\n",
              "      box-shadow: 0px 1px 2px rgba(60, 64, 67, 0.3), 0px 1px 3px 1px rgba(60, 64, 67, 0.15);\n",
              "      fill: #174EA6;\n",
              "    }\n",
              "\n",
              "    [theme=dark] .colab-df-convert {\n",
              "      background-color: #3B4455;\n",
              "      fill: #D2E3FC;\n",
              "    }\n",
              "\n",
              "    [theme=dark] .colab-df-convert:hover {\n",
              "      background-color: #434B5C;\n",
              "      box-shadow: 0px 1px 3px 1px rgba(0, 0, 0, 0.15);\n",
              "      filter: drop-shadow(0px 1px 2px rgba(0, 0, 0, 0.3));\n",
              "      fill: #FFFFFF;\n",
              "    }\n",
              "  </style>\n",
              "\n",
              "      <script>\n",
              "        const buttonEl =\n",
              "          document.querySelector('#df-9afa0220-0a08-4022-90ed-941fa958085c button.colab-df-convert');\n",
              "        buttonEl.style.display =\n",
              "          google.colab.kernel.accessAllowed ? 'block' : 'none';\n",
              "\n",
              "        async function convertToInteractive(key) {\n",
              "          const element = document.querySelector('#df-9afa0220-0a08-4022-90ed-941fa958085c');\n",
              "          const dataTable =\n",
              "            await google.colab.kernel.invokeFunction('convertToInteractive',\n",
              "                                                     [key], {});\n",
              "          if (!dataTable) return;\n",
              "\n",
              "          const docLinkHtml = 'Like what you see? Visit the ' +\n",
              "            '<a target=\"_blank\" href=https://colab.research.google.com/notebooks/data_table.ipynb>data table notebook</a>'\n",
              "            + ' to learn more about interactive tables.';\n",
              "          element.innerHTML = '';\n",
              "          dataTable['output_type'] = 'display_data';\n",
              "          await google.colab.output.renderOutput(dataTable, element);\n",
              "          const docLink = document.createElement('div');\n",
              "          docLink.innerHTML = docLinkHtml;\n",
              "          element.appendChild(docLink);\n",
              "        }\n",
              "      </script>\n",
              "    </div>\n",
              "  </div>\n",
              "  "
            ]
          },
          "metadata": {},
          "execution_count": 3
        }
      ]
    },
    {
      "cell_type": "markdown",
      "source": [
        "Agar dapat diproses oleh model, kita perlu mengubah nilai-nilai dari dataframe ke dalam tipe data numpy array menggunakan atribut values."
      ],
      "metadata": {
        "id": "PQZrH7hfv1pe"
      }
    },
    {
      "cell_type": "code",
      "source": [
        "sinopsis = df_baru['ringkasan_sinopsis'].values\n",
        "label = df_baru[['Drama', 'Horor', 'Komedi', 'Laga', 'Romantis']].values"
      ],
      "metadata": {
        "id": "wMWfuiy3v0nM"
      },
      "execution_count": 4,
      "outputs": []
    },
    {
      "cell_type": "markdown",
      "source": [
        "Lalu, bagi data untuk training dan data untuk testing."
      ],
      "metadata": {
        "id": "9cLfbJv_w4_2"
      }
    },
    {
      "cell_type": "code",
      "source": [
        "from sklearn.model_selection import train_test_split\n",
        "sinopsis_latih, sinopsis_test, label_latih, label_test = train_test_split(sinopsis, label, test_size=0.2)"
      ],
      "metadata": {
        "id": "ViLUDCw4w6LK"
      },
      "execution_count": 5,
      "outputs": []
    },
    {
      "cell_type": "markdown",
      "source": [
        "Kemudian kita ubah setiap kata pada dataset kita ke dalam bilangan numerik dengan fungsi Tokenizer. Setelah tokenisasi selesai, kita perlu membuat mengonversi setiap sampel menjadi sequence."
      ],
      "metadata": {
        "id": "z0sq1e8Rw_e3"
      }
    },
    {
      "cell_type": "code",
      "source": [
        "from tensorflow.keras.preprocessing.text import Tokenizer\n",
        "from tensorflow.keras.preprocessing.sequence import pad_sequences\n",
        " \n",
        "tokenizer = Tokenizer(num_words=5000, oov_token='x')\n",
        "tokenizer.fit_on_texts(sinopsis_latih) \n",
        "tokenizer.fit_on_texts(sinopsis_test)\n",
        " \n",
        "sekuens_latih = tokenizer.texts_to_sequences(sinopsis_latih)\n",
        "sekuens_test = tokenizer.texts_to_sequences(sinopsis_test)\n",
        " \n",
        "padded_latih = pad_sequences(sekuens_latih) \n",
        "padded_test = pad_sequences(sekuens_test)"
      ],
      "metadata": {
        "id": "QY7IYprgxCCv"
      },
      "execution_count": 6,
      "outputs": []
    },
    {
      "cell_type": "markdown",
      "source": [
        "Untuk arsitektur model kita menggunakan layer Embedding dengan dimensi embedding sebesar 16, serta dimensi dari input sebesar nilai num_words pada objek tokenizer. Jangan lupa panggil fungsi compile dan tentukan optimizer serta loss function yang akan dipakai oleh model."
      ],
      "metadata": {
        "id": "P7_eCBCzxGZJ"
      }
    },
    {
      "cell_type": "code",
      "source": [
        "import tensorflow as tf\n",
        "model = tf.keras.Sequential([\n",
        "    tf.keras.layers.Embedding(input_dim=5000, output_dim=16),\n",
        "    tf.keras.layers.LSTM(64),\n",
        "    tf.keras.layers.Dense(128, activation='relu'),\n",
        "    tf.keras.layers.Dense(64, activation='relu'),\n",
        "    tf.keras.layers.Dense(5, activation='softmax')\n",
        "])\n",
        "model.compile(loss='categorical_crossentropy',optimizer='adam',metrics=['accuracy'])"
      ],
      "metadata": {
        "id": "2Ds10ZpIxG8I"
      },
      "execution_count": 7,
      "outputs": []
    },
    {
      "cell_type": "markdown",
      "source": [
        "Terakhir kita dapat mulai melatih model kita dengan memanggil fungsi fit()."
      ],
      "metadata": {
        "id": "pGDXQV64xMTG"
      }
    },
    {
      "cell_type": "code",
      "source": [
        "num_epochs = 30\n",
        "history = model.fit(padded_latih, label_latih, epochs=num_epochs, \n",
        "                    validation_data=(padded_test, label_test), verbose=2)"
      ],
      "metadata": {
        "colab": {
          "base_uri": "https://localhost:8080/"
        },
        "id": "jEJ_BtsexMzY",
        "outputId": "a4a2f904-baf8-45b7-f27b-05149faa7162"
      },
      "execution_count": 8,
      "outputs": [
        {
          "output_type": "stream",
          "name": "stdout",
          "text": [
            "Epoch 1/30\n",
            "26/26 - 8s - loss: 1.6099 - accuracy: 0.2127 - val_loss: 1.6128 - val_accuracy: 0.1493 - 8s/epoch - 306ms/step\n",
            "Epoch 2/30\n",
            "26/26 - 1s - loss: 1.6058 - accuracy: 0.2289 - val_loss: 1.6143 - val_accuracy: 0.1493 - 1s/epoch - 49ms/step\n",
            "Epoch 3/30\n",
            "26/26 - 1s - loss: 1.5622 - accuracy: 0.2836 - val_loss: 1.5974 - val_accuracy: 0.2090 - 1s/epoch - 48ms/step\n",
            "Epoch 4/30\n",
            "26/26 - 1s - loss: 1.3772 - accuracy: 0.4938 - val_loss: 1.5698 - val_accuracy: 0.2886 - 1s/epoch - 48ms/step\n",
            "Epoch 5/30\n",
            "26/26 - 1s - loss: 0.8883 - accuracy: 0.6891 - val_loss: 1.6987 - val_accuracy: 0.3184 - 1s/epoch - 48ms/step\n",
            "Epoch 6/30\n",
            "26/26 - 1s - loss: 0.7435 - accuracy: 0.7724 - val_loss: 1.8378 - val_accuracy: 0.3333 - 1s/epoch - 48ms/step\n",
            "Epoch 7/30\n",
            "26/26 - 1s - loss: 0.3675 - accuracy: 0.8968 - val_loss: 2.2667 - val_accuracy: 0.3134 - 1s/epoch - 48ms/step\n",
            "Epoch 8/30\n",
            "26/26 - 1s - loss: 0.1883 - accuracy: 0.9602 - val_loss: 2.6395 - val_accuracy: 0.3582 - 1s/epoch - 48ms/step\n",
            "Epoch 9/30\n",
            "26/26 - 1s - loss: 0.0729 - accuracy: 0.9826 - val_loss: 3.0740 - val_accuracy: 0.3483 - 1s/epoch - 48ms/step\n",
            "Epoch 10/30\n",
            "26/26 - 1s - loss: 0.0438 - accuracy: 0.9900 - val_loss: 3.3781 - val_accuracy: 0.3134 - 1s/epoch - 49ms/step\n",
            "Epoch 11/30\n",
            "26/26 - 1s - loss: 0.0240 - accuracy: 0.9975 - val_loss: 3.4826 - val_accuracy: 0.3134 - 1s/epoch - 49ms/step\n",
            "Epoch 12/30\n",
            "26/26 - 1s - loss: 0.0152 - accuracy: 0.9963 - val_loss: 3.7411 - val_accuracy: 0.3333 - 1s/epoch - 48ms/step\n",
            "Epoch 13/30\n",
            "26/26 - 1s - loss: 0.0146 - accuracy: 0.9988 - val_loss: 3.7172 - val_accuracy: 0.3383 - 1s/epoch - 49ms/step\n",
            "Epoch 14/30\n",
            "26/26 - 1s - loss: 0.0103 - accuracy: 0.9975 - val_loss: 3.8816 - val_accuracy: 0.3333 - 1s/epoch - 48ms/step\n",
            "Epoch 15/30\n",
            "26/26 - 1s - loss: 0.0141 - accuracy: 0.9975 - val_loss: 3.7649 - val_accuracy: 0.3731 - 1s/epoch - 55ms/step\n",
            "Epoch 16/30\n",
            "26/26 - 2s - loss: 0.0083 - accuracy: 0.9988 - val_loss: 3.9665 - val_accuracy: 0.3532 - 2s/epoch - 61ms/step\n",
            "Epoch 17/30\n",
            "26/26 - 1s - loss: 0.0080 - accuracy: 0.9975 - val_loss: 4.1203 - val_accuracy: 0.3483 - 1s/epoch - 48ms/step\n",
            "Epoch 18/30\n",
            "26/26 - 1s - loss: 0.0062 - accuracy: 0.9988 - val_loss: 4.2201 - val_accuracy: 0.3483 - 1s/epoch - 49ms/step\n",
            "Epoch 19/30\n",
            "26/26 - 1s - loss: 0.0087 - accuracy: 0.9963 - val_loss: 4.1863 - val_accuracy: 0.3383 - 1s/epoch - 49ms/step\n",
            "Epoch 20/30\n",
            "26/26 - 1s - loss: 0.0043 - accuracy: 0.9988 - val_loss: 4.3829 - val_accuracy: 0.3284 - 1s/epoch - 48ms/step\n",
            "Epoch 21/30\n",
            "26/26 - 1s - loss: 0.0048 - accuracy: 0.9975 - val_loss: 4.4663 - val_accuracy: 0.3433 - 1s/epoch - 49ms/step\n",
            "Epoch 22/30\n",
            "26/26 - 1s - loss: 0.0063 - accuracy: 0.9988 - val_loss: 4.5819 - val_accuracy: 0.3383 - 1s/epoch - 48ms/step\n",
            "Epoch 23/30\n",
            "26/26 - 1s - loss: 0.0067 - accuracy: 0.9975 - val_loss: 4.5677 - val_accuracy: 0.3532 - 1s/epoch - 48ms/step\n",
            "Epoch 24/30\n",
            "26/26 - 1s - loss: 0.0048 - accuracy: 0.9988 - val_loss: 4.6750 - val_accuracy: 0.3483 - 1s/epoch - 48ms/step\n",
            "Epoch 25/30\n",
            "26/26 - 1s - loss: 0.0056 - accuracy: 0.9988 - val_loss: 4.7338 - val_accuracy: 0.3383 - 1s/epoch - 48ms/step\n",
            "Epoch 26/30\n",
            "26/26 - 1s - loss: 0.0034 - accuracy: 0.9988 - val_loss: 4.7145 - val_accuracy: 0.3532 - 1s/epoch - 48ms/step\n",
            "Epoch 27/30\n",
            "26/26 - 1s - loss: 0.0049 - accuracy: 0.9988 - val_loss: 4.8105 - val_accuracy: 0.3383 - 1s/epoch - 53ms/step\n",
            "Epoch 28/30\n",
            "26/26 - 2s - loss: 0.0028 - accuracy: 0.9988 - val_loss: 4.9311 - val_accuracy: 0.3383 - 2s/epoch - 58ms/step\n",
            "Epoch 29/30\n",
            "26/26 - 1s - loss: 0.0037 - accuracy: 0.9988 - val_loss: 4.9101 - val_accuracy: 0.3433 - 1s/epoch - 48ms/step\n",
            "Epoch 30/30\n",
            "26/26 - 1s - loss: 0.0038 - accuracy: 0.9988 - val_loss: 4.9223 - val_accuracy: 0.3383 - 1s/epoch - 48ms/step\n"
          ]
        }
      ]
    },
    {
      "cell_type": "markdown",
      "source": [
        "Akurasi dari model kita menunjukkan terjadinya overfitting karena akurasi pada data testing sangat besar, sedangkan akurasi pada data validasi jauh lebih kecil. Hal ini masih sangat luar biasa karena kita hanya memiliki 1000 buah sampel data!"
      ],
      "metadata": {
        "id": "qQwSjQhWxX72"
      }
    }
  ]
}