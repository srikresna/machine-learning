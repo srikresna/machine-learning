{
  "nbformat": 4,
  "nbformat_minor": 0,
  "metadata": {
    "colab": {
      "provenance": []
    },
    "kernelspec": {
      "name": "python3",
      "display_name": "Python 3"
    },
    "language_info": {
      "name": "python"
    }
  },
  "cells": [
    {
      "cell_type": "code",
      "execution_count": 1,
      "metadata": {
        "id": "JRaK71CAboha"
      },
      "outputs": [],
      "source": [
        "!pip install -q kaggle"
      ]
    },
    {
      "cell_type": "code",
      "source": [
        "from google.colab import files\n",
        "files.upload()"
      ],
      "metadata": {
        "colab": {
          "base_uri": "https://localhost:8080/",
          "height": 90
        },
        "id": "NF-tGb97bwJd",
        "outputId": "b7517028-6ddf-43e8-c924-4c7519dc7278"
      },
      "execution_count": 2,
      "outputs": [
        {
          "output_type": "display_data",
          "data": {
            "text/plain": [
              "<IPython.core.display.HTML object>"
            ],
            "text/html": [
              "\n",
              "     <input type=\"file\" id=\"files-50a911d5-4b8a-44c0-a4fe-634f7924381f\" name=\"files[]\" multiple disabled\n",
              "        style=\"border:none\" />\n",
              "     <output id=\"result-50a911d5-4b8a-44c0-a4fe-634f7924381f\">\n",
              "      Upload widget is only available when the cell has been executed in the\n",
              "      current browser session. Please rerun this cell to enable.\n",
              "      </output>\n",
              "      <script>// Copyright 2017 Google LLC\n",
              "//\n",
              "// Licensed under the Apache License, Version 2.0 (the \"License\");\n",
              "// you may not use this file except in compliance with the License.\n",
              "// You may obtain a copy of the License at\n",
              "//\n",
              "//      http://www.apache.org/licenses/LICENSE-2.0\n",
              "//\n",
              "// Unless required by applicable law or agreed to in writing, software\n",
              "// distributed under the License is distributed on an \"AS IS\" BASIS,\n",
              "// WITHOUT WARRANTIES OR CONDITIONS OF ANY KIND, either express or implied.\n",
              "// See the License for the specific language governing permissions and\n",
              "// limitations under the License.\n",
              "\n",
              "/**\n",
              " * @fileoverview Helpers for google.colab Python module.\n",
              " */\n",
              "(function(scope) {\n",
              "function span(text, styleAttributes = {}) {\n",
              "  const element = document.createElement('span');\n",
              "  element.textContent = text;\n",
              "  for (const key of Object.keys(styleAttributes)) {\n",
              "    element.style[key] = styleAttributes[key];\n",
              "  }\n",
              "  return element;\n",
              "}\n",
              "\n",
              "// Max number of bytes which will be uploaded at a time.\n",
              "const MAX_PAYLOAD_SIZE = 100 * 1024;\n",
              "\n",
              "function _uploadFiles(inputId, outputId) {\n",
              "  const steps = uploadFilesStep(inputId, outputId);\n",
              "  const outputElement = document.getElementById(outputId);\n",
              "  // Cache steps on the outputElement to make it available for the next call\n",
              "  // to uploadFilesContinue from Python.\n",
              "  outputElement.steps = steps;\n",
              "\n",
              "  return _uploadFilesContinue(outputId);\n",
              "}\n",
              "\n",
              "// This is roughly an async generator (not supported in the browser yet),\n",
              "// where there are multiple asynchronous steps and the Python side is going\n",
              "// to poll for completion of each step.\n",
              "// This uses a Promise to block the python side on completion of each step,\n",
              "// then passes the result of the previous step as the input to the next step.\n",
              "function _uploadFilesContinue(outputId) {\n",
              "  const outputElement = document.getElementById(outputId);\n",
              "  const steps = outputElement.steps;\n",
              "\n",
              "  const next = steps.next(outputElement.lastPromiseValue);\n",
              "  return Promise.resolve(next.value.promise).then((value) => {\n",
              "    // Cache the last promise value to make it available to the next\n",
              "    // step of the generator.\n",
              "    outputElement.lastPromiseValue = value;\n",
              "    return next.value.response;\n",
              "  });\n",
              "}\n",
              "\n",
              "/**\n",
              " * Generator function which is called between each async step of the upload\n",
              " * process.\n",
              " * @param {string} inputId Element ID of the input file picker element.\n",
              " * @param {string} outputId Element ID of the output display.\n",
              " * @return {!Iterable<!Object>} Iterable of next steps.\n",
              " */\n",
              "function* uploadFilesStep(inputId, outputId) {\n",
              "  const inputElement = document.getElementById(inputId);\n",
              "  inputElement.disabled = false;\n",
              "\n",
              "  const outputElement = document.getElementById(outputId);\n",
              "  outputElement.innerHTML = '';\n",
              "\n",
              "  const pickedPromise = new Promise((resolve) => {\n",
              "    inputElement.addEventListener('change', (e) => {\n",
              "      resolve(e.target.files);\n",
              "    });\n",
              "  });\n",
              "\n",
              "  const cancel = document.createElement('button');\n",
              "  inputElement.parentElement.appendChild(cancel);\n",
              "  cancel.textContent = 'Cancel upload';\n",
              "  const cancelPromise = new Promise((resolve) => {\n",
              "    cancel.onclick = () => {\n",
              "      resolve(null);\n",
              "    };\n",
              "  });\n",
              "\n",
              "  // Wait for the user to pick the files.\n",
              "  const files = yield {\n",
              "    promise: Promise.race([pickedPromise, cancelPromise]),\n",
              "    response: {\n",
              "      action: 'starting',\n",
              "    }\n",
              "  };\n",
              "\n",
              "  cancel.remove();\n",
              "\n",
              "  // Disable the input element since further picks are not allowed.\n",
              "  inputElement.disabled = true;\n",
              "\n",
              "  if (!files) {\n",
              "    return {\n",
              "      response: {\n",
              "        action: 'complete',\n",
              "      }\n",
              "    };\n",
              "  }\n",
              "\n",
              "  for (const file of files) {\n",
              "    const li = document.createElement('li');\n",
              "    li.append(span(file.name, {fontWeight: 'bold'}));\n",
              "    li.append(span(\n",
              "        `(${file.type || 'n/a'}) - ${file.size} bytes, ` +\n",
              "        `last modified: ${\n",
              "            file.lastModifiedDate ? file.lastModifiedDate.toLocaleDateString() :\n",
              "                                    'n/a'} - `));\n",
              "    const percent = span('0% done');\n",
              "    li.appendChild(percent);\n",
              "\n",
              "    outputElement.appendChild(li);\n",
              "\n",
              "    const fileDataPromise = new Promise((resolve) => {\n",
              "      const reader = new FileReader();\n",
              "      reader.onload = (e) => {\n",
              "        resolve(e.target.result);\n",
              "      };\n",
              "      reader.readAsArrayBuffer(file);\n",
              "    });\n",
              "    // Wait for the data to be ready.\n",
              "    let fileData = yield {\n",
              "      promise: fileDataPromise,\n",
              "      response: {\n",
              "        action: 'continue',\n",
              "      }\n",
              "    };\n",
              "\n",
              "    // Use a chunked sending to avoid message size limits. See b/62115660.\n",
              "    let position = 0;\n",
              "    do {\n",
              "      const length = Math.min(fileData.byteLength - position, MAX_PAYLOAD_SIZE);\n",
              "      const chunk = new Uint8Array(fileData, position, length);\n",
              "      position += length;\n",
              "\n",
              "      const base64 = btoa(String.fromCharCode.apply(null, chunk));\n",
              "      yield {\n",
              "        response: {\n",
              "          action: 'append',\n",
              "          file: file.name,\n",
              "          data: base64,\n",
              "        },\n",
              "      };\n",
              "\n",
              "      let percentDone = fileData.byteLength === 0 ?\n",
              "          100 :\n",
              "          Math.round((position / fileData.byteLength) * 100);\n",
              "      percent.textContent = `${percentDone}% done`;\n",
              "\n",
              "    } while (position < fileData.byteLength);\n",
              "  }\n",
              "\n",
              "  // All done.\n",
              "  yield {\n",
              "    response: {\n",
              "      action: 'complete',\n",
              "    }\n",
              "  };\n",
              "}\n",
              "\n",
              "scope.google = scope.google || {};\n",
              "scope.google.colab = scope.google.colab || {};\n",
              "scope.google.colab._files = {\n",
              "  _uploadFiles,\n",
              "  _uploadFilesContinue,\n",
              "};\n",
              "})(self);\n",
              "</script> "
            ]
          },
          "metadata": {}
        },
        {
          "output_type": "stream",
          "name": "stdout",
          "text": [
            "Saving kaggle.json to kaggle.json\n"
          ]
        },
        {
          "output_type": "execute_result",
          "data": {
            "text/plain": [
              "{'kaggle.json': b'{\"username\":\"srikresna\",\"key\":\"c90f9c19af6b129911ae9410dd23cde4\"}'}"
            ]
          },
          "metadata": {},
          "execution_count": 2
        }
      ]
    },
    {
      "cell_type": "code",
      "source": [
        "!mkdir ~/.kaggle\n",
        "!cp kaggle.json ~/.kaggle/\n",
        "!chmod 600 ~/.kaggle/kaggle.json"
      ],
      "metadata": {
        "colab": {
          "base_uri": "https://localhost:8080/"
        },
        "id": "Zx78-vbpb2NO",
        "outputId": "d738e682-2f0b-43e4-97f2-8b6fe45f0262"
      },
      "execution_count": 5,
      "outputs": [
        {
          "output_type": "stream",
          "name": "stdout",
          "text": [
            "mkdir: cannot create directory ‘/root/.kaggle’: File exists\n"
          ]
        }
      ]
    },
    {
      "cell_type": "code",
      "source": [
        "!kaggle datasets download -d sumanthvrao/daily-climate-time-series-data"
      ],
      "metadata": {
        "colab": {
          "base_uri": "https://localhost:8080/"
        },
        "id": "eeFr09ihcJNX",
        "outputId": "f6366c57-c149-4b4e-cfbf-f45c33a49aa7"
      },
      "execution_count": 6,
      "outputs": [
        {
          "output_type": "stream",
          "name": "stdout",
          "text": [
            "Downloading daily-climate-time-series-data.zip to /content\n",
            "\r  0% 0.00/22.0k [00:00<?, ?B/s]\n",
            "\r100% 22.0k/22.0k [00:00<00:00, 16.9MB/s]\n"
          ]
        }
      ]
    },
    {
      "cell_type": "code",
      "source": [
        "!unzip daily-climate-time-series-data.zip"
      ],
      "metadata": {
        "colab": {
          "base_uri": "https://localhost:8080/"
        },
        "id": "UlFkk_UZcTjx",
        "outputId": "27c0606e-4cf9-4313-ca23-24b4ba123e5f"
      },
      "execution_count": 7,
      "outputs": [
        {
          "output_type": "stream",
          "name": "stdout",
          "text": [
            "Archive:  daily-climate-time-series-data.zip\n",
            "  inflating: DailyDelhiClimateTest.csv  \n",
            "  inflating: DailyDelhiClimateTrain.csv  \n"
          ]
        }
      ]
    },
    {
      "cell_type": "markdown",
      "source": [
        "<h1>Untuk project kali ini kita akan menggunakan dataset cuaca kota Delhi pada tahun 2013 sampai 2017."
      ],
      "metadata": {
        "id": "TAsnkpRZcppU"
      }
    },
    {
      "cell_type": "code",
      "source": [
        "#import library yang kita butuhkan\n",
        "import numpy as np\n",
        "import pandas as pd\n",
        "from keras.layers import Dense, LSTM\n",
        "import matplotlib.pyplot as plt\n",
        "import tensorflow as tf"
      ],
      "metadata": {
        "id": "mOD0DuKvcfkJ"
      },
      "execution_count": 8,
      "outputs": []
    },
    {
      "cell_type": "markdown",
      "source": [
        "Kemudian, ubah dataset menjadi dataframe dengan fungsi read_csv(). Tampilkan 5 data teratas pada dataframe menggunakan fungsi head()."
      ],
      "metadata": {
        "id": "pRVOJztrdAuV"
      }
    },
    {
      "cell_type": "code",
      "source": [
        "data_train = pd.read_csv('DailyDelhiClimateTrain.csv')\n",
        "\n",
        "data_train.head()"
      ],
      "metadata": {
        "colab": {
          "base_uri": "https://localhost:8080/",
          "height": 206
        },
        "id": "JK5nzs8Qc3DJ",
        "outputId": "1583cf7e-a215-4e62-8c57-7a9ad26c2f4a"
      },
      "execution_count": 9,
      "outputs": [
        {
          "output_type": "execute_result",
          "data": {
            "text/plain": [
              "         date   meantemp   humidity  wind_speed  meanpressure\n",
              "0  2013-01-01  10.000000  84.500000    0.000000   1015.666667\n",
              "1  2013-01-02   7.400000  92.000000    2.980000   1017.800000\n",
              "2  2013-01-03   7.166667  87.000000    4.633333   1018.666667\n",
              "3  2013-01-04   8.666667  71.333333    1.233333   1017.166667\n",
              "4  2013-01-05   6.000000  86.833333    3.700000   1016.500000"
            ],
            "text/html": [
              "\n",
              "  <div id=\"df-1e5df8d1-acca-430e-9d4f-5bef43f1ff0f\">\n",
              "    <div class=\"colab-df-container\">\n",
              "      <div>\n",
              "<style scoped>\n",
              "    .dataframe tbody tr th:only-of-type {\n",
              "        vertical-align: middle;\n",
              "    }\n",
              "\n",
              "    .dataframe tbody tr th {\n",
              "        vertical-align: top;\n",
              "    }\n",
              "\n",
              "    .dataframe thead th {\n",
              "        text-align: right;\n",
              "    }\n",
              "</style>\n",
              "<table border=\"1\" class=\"dataframe\">\n",
              "  <thead>\n",
              "    <tr style=\"text-align: right;\">\n",
              "      <th></th>\n",
              "      <th>date</th>\n",
              "      <th>meantemp</th>\n",
              "      <th>humidity</th>\n",
              "      <th>wind_speed</th>\n",
              "      <th>meanpressure</th>\n",
              "    </tr>\n",
              "  </thead>\n",
              "  <tbody>\n",
              "    <tr>\n",
              "      <th>0</th>\n",
              "      <td>2013-01-01</td>\n",
              "      <td>10.000000</td>\n",
              "      <td>84.500000</td>\n",
              "      <td>0.000000</td>\n",
              "      <td>1015.666667</td>\n",
              "    </tr>\n",
              "    <tr>\n",
              "      <th>1</th>\n",
              "      <td>2013-01-02</td>\n",
              "      <td>7.400000</td>\n",
              "      <td>92.000000</td>\n",
              "      <td>2.980000</td>\n",
              "      <td>1017.800000</td>\n",
              "    </tr>\n",
              "    <tr>\n",
              "      <th>2</th>\n",
              "      <td>2013-01-03</td>\n",
              "      <td>7.166667</td>\n",
              "      <td>87.000000</td>\n",
              "      <td>4.633333</td>\n",
              "      <td>1018.666667</td>\n",
              "    </tr>\n",
              "    <tr>\n",
              "      <th>3</th>\n",
              "      <td>2013-01-04</td>\n",
              "      <td>8.666667</td>\n",
              "      <td>71.333333</td>\n",
              "      <td>1.233333</td>\n",
              "      <td>1017.166667</td>\n",
              "    </tr>\n",
              "    <tr>\n",
              "      <th>4</th>\n",
              "      <td>2013-01-05</td>\n",
              "      <td>6.000000</td>\n",
              "      <td>86.833333</td>\n",
              "      <td>3.700000</td>\n",
              "      <td>1016.500000</td>\n",
              "    </tr>\n",
              "  </tbody>\n",
              "</table>\n",
              "</div>\n",
              "      <button class=\"colab-df-convert\" onclick=\"convertToInteractive('df-1e5df8d1-acca-430e-9d4f-5bef43f1ff0f')\"\n",
              "              title=\"Convert this dataframe to an interactive table.\"\n",
              "              style=\"display:none;\">\n",
              "        \n",
              "  <svg xmlns=\"http://www.w3.org/2000/svg\" height=\"24px\"viewBox=\"0 0 24 24\"\n",
              "       width=\"24px\">\n",
              "    <path d=\"M0 0h24v24H0V0z\" fill=\"none\"/>\n",
              "    <path d=\"M18.56 5.44l.94 2.06.94-2.06 2.06-.94-2.06-.94-.94-2.06-.94 2.06-2.06.94zm-11 1L8.5 8.5l.94-2.06 2.06-.94-2.06-.94L8.5 2.5l-.94 2.06-2.06.94zm10 10l.94 2.06.94-2.06 2.06-.94-2.06-.94-.94-2.06-.94 2.06-2.06.94z\"/><path d=\"M17.41 7.96l-1.37-1.37c-.4-.4-.92-.59-1.43-.59-.52 0-1.04.2-1.43.59L10.3 9.45l-7.72 7.72c-.78.78-.78 2.05 0 2.83L4 21.41c.39.39.9.59 1.41.59.51 0 1.02-.2 1.41-.59l7.78-7.78 2.81-2.81c.8-.78.8-2.07 0-2.86zM5.41 20L4 18.59l7.72-7.72 1.47 1.35L5.41 20z\"/>\n",
              "  </svg>\n",
              "      </button>\n",
              "      \n",
              "  <style>\n",
              "    .colab-df-container {\n",
              "      display:flex;\n",
              "      flex-wrap:wrap;\n",
              "      gap: 12px;\n",
              "    }\n",
              "\n",
              "    .colab-df-convert {\n",
              "      background-color: #E8F0FE;\n",
              "      border: none;\n",
              "      border-radius: 50%;\n",
              "      cursor: pointer;\n",
              "      display: none;\n",
              "      fill: #1967D2;\n",
              "      height: 32px;\n",
              "      padding: 0 0 0 0;\n",
              "      width: 32px;\n",
              "    }\n",
              "\n",
              "    .colab-df-convert:hover {\n",
              "      background-color: #E2EBFA;\n",
              "      box-shadow: 0px 1px 2px rgba(60, 64, 67, 0.3), 0px 1px 3px 1px rgba(60, 64, 67, 0.15);\n",
              "      fill: #174EA6;\n",
              "    }\n",
              "\n",
              "    [theme=dark] .colab-df-convert {\n",
              "      background-color: #3B4455;\n",
              "      fill: #D2E3FC;\n",
              "    }\n",
              "\n",
              "    [theme=dark] .colab-df-convert:hover {\n",
              "      background-color: #434B5C;\n",
              "      box-shadow: 0px 1px 3px 1px rgba(0, 0, 0, 0.15);\n",
              "      filter: drop-shadow(0px 1px 2px rgba(0, 0, 0, 0.3));\n",
              "      fill: #FFFFFF;\n",
              "    }\n",
              "  </style>\n",
              "\n",
              "      <script>\n",
              "        const buttonEl =\n",
              "          document.querySelector('#df-1e5df8d1-acca-430e-9d4f-5bef43f1ff0f button.colab-df-convert');\n",
              "        buttonEl.style.display =\n",
              "          google.colab.kernel.accessAllowed ? 'block' : 'none';\n",
              "\n",
              "        async function convertToInteractive(key) {\n",
              "          const element = document.querySelector('#df-1e5df8d1-acca-430e-9d4f-5bef43f1ff0f');\n",
              "          const dataTable =\n",
              "            await google.colab.kernel.invokeFunction('convertToInteractive',\n",
              "                                                     [key], {});\n",
              "          if (!dataTable) return;\n",
              "\n",
              "          const docLinkHtml = 'Like what you see? Visit the ' +\n",
              "            '<a target=\"_blank\" href=https://colab.research.google.com/notebooks/data_table.ipynb>data table notebook</a>'\n",
              "            + ' to learn more about interactive tables.';\n",
              "          element.innerHTML = '';\n",
              "          dataTable['output_type'] = 'display_data';\n",
              "          await google.colab.output.renderOutput(dataTable, element);\n",
              "          const docLink = document.createElement('div');\n",
              "          docLink.innerHTML = docLinkHtml;\n",
              "          element.appendChild(docLink);\n",
              "        }\n",
              "      </script>\n",
              "    </div>\n",
              "  </div>\n",
              "  "
            ]
          },
          "metadata": {},
          "execution_count": 9
        }
      ]
    },
    {
      "cell_type": "markdown",
      "source": [
        "Kita dapat mengecek apakah ada nilai yang hilang dari dataset menggunakan fungsi isnull()."
      ],
      "metadata": {
        "id": "d3fHI4GndJOZ"
      }
    },
    {
      "cell_type": "code",
      "source": [
        "data_train.isnull().sum()"
      ],
      "metadata": {
        "colab": {
          "base_uri": "https://localhost:8080/"
        },
        "id": "GdrwvrvndHSI",
        "outputId": "73f88796-2eaf-40c1-c661-83aae24b9569"
      },
      "execution_count": 10,
      "outputs": [
        {
          "output_type": "execute_result",
          "data": {
            "text/plain": [
              "date            0\n",
              "meantemp        0\n",
              "humidity        0\n",
              "wind_speed      0\n",
              "meanpressure    0\n",
              "dtype: int64"
            ]
          },
          "metadata": {},
          "execution_count": 10
        }
      ]
    },
    {
      "cell_type": "markdown",
      "source": [
        "Untuk membuat plot dari data kita dapat menggunakan fungsi plot dari library matplotlib. Dapat dilihat dari output cell yang kita jalankan menunjukkan bahwa data kita merupakan time series yang bersifat musiman."
      ],
      "metadata": {
        "id": "tKyQJWZodOKh"
      }
    },
    {
      "cell_type": "code",
      "source": [
        "dates = data_train['date'].values\n",
        "temp = data_train['meantemp'].values\n",
        "\n",
        "plt.figure(figsize = (15, 5))\n",
        "plt.plot(dates, temp)\n",
        "plt.title('Temperature average',\n",
        "          fontsize = 20);"
      ],
      "metadata": {
        "colab": {
          "base_uri": "https://localhost:8080/",
          "height": 341
        },
        "id": "pOG_zEipdMSa",
        "outputId": "3d25d93b-47d5-4c17-9089-e88f4351b538"
      },
      "execution_count": 13,
      "outputs": [
        {
          "output_type": "display_data",
          "data": {
            "text/plain": [
              "<Figure size 1080x360 with 1 Axes>"
            ],
            "image/png": "[encoded data removed]"
          },
          "metadata": {
            "needs_background": "light"
          }
        }
      ]
    },
    {
      "cell_type": "markdown",
      "source": [
        "Tuliskan fungsi di bawah yang dapat mengubah data kita menjadi format yang dapat diterima oleh model. Fungsi di bawah menerima sebuah series/atribut kita yang telah di konversi menjadi tipe numpy, lalu mengembalikan label dan atribut dari dataset dalam bentuk batch."
      ],
      "metadata": {
        "id": "UpmZoT0pdtHb"
      }
    },
    {
      "cell_type": "code",
      "source": [
        "def windowed_dataset(series, window_size, batch_size, shuffle_buffer):\n",
        "    series = tf.expand_dims(series, axis=-1)\n",
        "    ds = tf.data.Dataset.from_tensor_slices(series)\n",
        "    ds = ds.window(window_size + 1, shift=1, drop_remainder=True)\n",
        "    ds = ds.flat_map(lambda w: w.batch(window_size + 1))\n",
        "    ds = ds.shuffle(shuffle_buffer)\n",
        "    ds = ds.map(lambda w: (w[:-1], w[-1:]))\n",
        "    return ds.batch(batch_size).prefetch(1)"
      ],
      "metadata": {
        "id": "IsiYfVxddidt"
      },
      "execution_count": 14,
      "outputs": []
    },
    {
      "cell_type": "markdown",
      "source": [
        "Selanjutnya untuk arsitektur model gunakan 2 buah layer LSTM. Ketika menggunakan 2 buah layer LSTM, perhatikan bahwa layer pertama harus memiliki parameter return_sequences yang bernilai True."
      ],
      "metadata": {
        "id": "JnX48IaKd3bm"
      }
    },
    {
      "cell_type": "code",
      "source": [
        "train_set = windowed_dataset(temp, window_size=60, batch_size=100, shuffle_buffer=1000)\n",
        "model = tf.keras.models.Sequential([\n",
        "  tf.keras.layers.LSTM(60, return_sequences=True),\n",
        "  tf.keras.layers.LSTM(60),\n",
        "  tf.keras.layers.Dense(30, activation=\"relu\"),\n",
        "  tf.keras.layers.Dense(10, activation=\"relu\"),\n",
        "  tf.keras.layers.Dense(1),\n",
        "])"
      ],
      "metadata": {
        "id": "-qbPPZTwd0fs"
      },
      "execution_count": 15,
      "outputs": []
    },
    {
      "cell_type": "markdown",
      "source": [
        "Lalu pada optimizer, kita akan menggunakan parameter learning rate dan momentum seperti di bawah. Loss function yang dapat dicoba untuk ini adalah Huber yang merupakan salah satu loss function yang umum digunakan pada kasus time series.  Serta metrik yang digunakan untuk mengevaluasi model adalah MAE."
      ],
      "metadata": {
        "id": "-ABbOgGBeBlh"
      }
    },
    {
      "cell_type": "code",
      "source": [
        "optimizer = tf.keras.optimizers.SGD(lr=1.0000e-04, momentum=0.9)\n",
        "model.compile(loss=tf.keras.losses.Huber(),\n",
        "              optimizer=optimizer,\n",
        "              metrics=[\"mae\"])\n",
        "history = model.fit(train_set,epochs=100)"
      ],
      "metadata": {
        "colab": {
          "base_uri": "https://localhost:8080/"
        },
        "id": "EPOm3L0fd9wf",
        "outputId": "aa375cbd-6bea-4446-818b-1c7b383e89e2"
      },
      "execution_count": 16,
      "outputs": [
        {
          "output_type": "stream",
          "name": "stderr",
          "text": [
            "/usr/local/lib/python3.7/dist-packages/keras/optimizers/optimizer_v2/gradient_descent.py:108: UserWarning: The `lr` argument is deprecated, use `learning_rate` instead.\n",
            "  super(SGD, self).__init__(name, **kwargs)\n"
          ]
        },
        {
          "output_type": "stream",
          "name": "stdout",
          "text": [
            "Epoch 1/100\n",
            "15/15 [==============================] - 14s 114ms/step - loss: 25.4501 - mae: 25.9501\n",
            "Epoch 2/100\n",
            "15/15 [==============================] - 2s 107ms/step - loss: 25.4136 - mae: 25.9136\n",
            "Epoch 3/100\n",
            "15/15 [==============================] - 2s 108ms/step - loss: 25.3673 - mae: 25.8673\n",
            "Epoch 4/100\n",
            "15/15 [==============================] - 2s 106ms/step - loss: 25.3235 - mae: 25.8235\n",
            "Epoch 5/100\n",
            "15/15 [==============================] - 2s 105ms/step - loss: 25.2852 - mae: 25.7852\n",
            "Epoch 6/100\n",
            "15/15 [==============================] - 2s 108ms/step - loss: 25.2492 - mae: 25.7492\n",
            "Epoch 7/100\n",
            "15/15 [==============================] - 2s 106ms/step - loss: 25.2120 - mae: 25.7120\n",
            "Epoch 8/100\n",
            "15/15 [==============================] - 2s 106ms/step - loss: 25.1722 - mae: 25.6722\n",
            "Epoch 9/100\n",
            "15/15 [==============================] - 2s 111ms/step - loss: 25.1291 - mae: 25.6291\n",
            "Epoch 10/100\n",
            "15/15 [==============================] - 3s 210ms/step - loss: 25.0824 - mae: 25.5824\n",
            "Epoch 11/100\n",
            "15/15 [==============================] - 3s 159ms/step - loss: 25.0313 - mae: 25.5313\n",
            "Epoch 12/100\n",
            "15/15 [==============================] - 2s 128ms/step - loss: 24.9749 - mae: 25.4749\n",
            "Epoch 13/100\n",
            "15/15 [==============================] - 2s 143ms/step - loss: 24.9125 - mae: 25.4125\n",
            "Epoch 14/100\n",
            "15/15 [==============================] - 2s 106ms/step - loss: 24.8429 - mae: 25.3429\n",
            "Epoch 15/100\n",
            "15/15 [==============================] - 2s 105ms/step - loss: 24.7654 - mae: 25.2654\n",
            "Epoch 16/100\n",
            "15/15 [==============================] - 2s 105ms/step - loss: 24.6771 - mae: 25.1771\n",
            "Epoch 17/100\n",
            "15/15 [==============================] - 2s 106ms/step - loss: 24.5742 - mae: 25.0742\n",
            "Epoch 18/100\n",
            "15/15 [==============================] - 2s 105ms/step - loss: 24.4544 - mae: 24.9544\n",
            "Epoch 19/100\n",
            "15/15 [==============================] - 2s 104ms/step - loss: 24.3131 - mae: 24.8131\n",
            "Epoch 20/100\n",
            "15/15 [==============================] - 2s 106ms/step - loss: 24.1493 - mae: 24.6493\n",
            "Epoch 21/100\n",
            "15/15 [==============================] - 2s 105ms/step - loss: 23.9603 - mae: 24.4603\n",
            "Epoch 22/100\n",
            "15/15 [==============================] - 2s 106ms/step - loss: 23.7398 - mae: 24.2398\n",
            "Epoch 23/100\n",
            "15/15 [==============================] - 2s 107ms/step - loss: 23.4793 - mae: 23.9793\n",
            "Epoch 24/100\n",
            "15/15 [==============================] - 2s 108ms/step - loss: 23.1695 - mae: 23.6695\n",
            "Epoch 25/100\n",
            "15/15 [==============================] - 2s 105ms/step - loss: 22.7972 - mae: 23.2972\n",
            "Epoch 26/100\n",
            "15/15 [==============================] - 2s 102ms/step - loss: 22.3435 - mae: 22.8435\n",
            "Epoch 27/100\n",
            "15/15 [==============================] - 2s 108ms/step - loss: 21.7790 - mae: 22.2790\n",
            "Epoch 28/100\n",
            "15/15 [==============================] - 2s 107ms/step - loss: 21.0646 - mae: 21.5646\n",
            "Epoch 29/100\n",
            "15/15 [==============================] - 2s 106ms/step - loss: 20.1474 - mae: 20.6474\n",
            "Epoch 30/100\n",
            "15/15 [==============================] - 2s 108ms/step - loss: 18.9516 - mae: 19.4516\n",
            "Epoch 31/100\n",
            "15/15 [==============================] - 2s 105ms/step - loss: 17.3541 - mae: 17.8540\n",
            "Epoch 32/100\n",
            "15/15 [==============================] - 2s 106ms/step - loss: 15.1709 - mae: 15.6691\n",
            "Epoch 33/100\n",
            "15/15 [==============================] - 2s 105ms/step - loss: 12.2708 - mae: 12.7640\n",
            "Epoch 34/100\n",
            "15/15 [==============================] - 2s 104ms/step - loss: 9.0390 - mae: 9.5273\n",
            "Epoch 35/100\n",
            "15/15 [==============================] - 2s 106ms/step - loss: 6.5789 - mae: 7.0700\n",
            "Epoch 36/100\n",
            "15/15 [==============================] - 2s 105ms/step - loss: 5.3621 - mae: 5.8504\n",
            "Epoch 37/100\n",
            "15/15 [==============================] - 2s 109ms/step - loss: 5.1106 - mae: 5.5939\n",
            "Epoch 38/100\n",
            "15/15 [==============================] - 2s 107ms/step - loss: 5.0752 - mae: 5.5568\n",
            "Epoch 39/100\n",
            "15/15 [==============================] - 2s 104ms/step - loss: 5.0228 - mae: 5.5022\n",
            "Epoch 40/100\n",
            "15/15 [==============================] - 2s 105ms/step - loss: 4.8762 - mae: 5.3570\n",
            "Epoch 41/100\n",
            "15/15 [==============================] - 2s 105ms/step - loss: 4.4055 - mae: 4.8857\n",
            "Epoch 42/100\n",
            "15/15 [==============================] - 2s 107ms/step - loss: 4.0651 - mae: 4.5433\n",
            "Epoch 43/100\n",
            "15/15 [==============================] - 2s 105ms/step - loss: 4.3359 - mae: 4.8144\n",
            "Epoch 44/100\n",
            "15/15 [==============================] - 2s 106ms/step - loss: 3.6900 - mae: 4.1695\n",
            "Epoch 45/100\n",
            "15/15 [==============================] - 2s 130ms/step - loss: 3.0913 - mae: 3.5661\n",
            "Epoch 46/100\n",
            "15/15 [==============================] - 3s 142ms/step - loss: 3.5299 - mae: 4.0046\n",
            "Epoch 47/100\n",
            "15/15 [==============================] - 2s 107ms/step - loss: 3.1439 - mae: 3.6117\n",
            "Epoch 48/100\n",
            "15/15 [==============================] - 2s 105ms/step - loss: 1.9217 - mae: 2.3741\n",
            "Epoch 49/100\n",
            "15/15 [==============================] - 2s 106ms/step - loss: 1.9933 - mae: 2.4495\n",
            "Epoch 50/100\n",
            "15/15 [==============================] - 2s 104ms/step - loss: 2.0942 - mae: 2.5516\n",
            "Epoch 51/100\n",
            "15/15 [==============================] - 2s 108ms/step - loss: 1.7872 - mae: 2.2397\n",
            "Epoch 52/100\n",
            "15/15 [==============================] - 2s 106ms/step - loss: 1.4958 - mae: 1.9437\n",
            "Epoch 53/100\n",
            "15/15 [==============================] - 2s 105ms/step - loss: 2.3143 - mae: 2.7790\n",
            "Epoch 54/100\n",
            "15/15 [==============================] - 2s 105ms/step - loss: 1.7377 - mae: 2.1902\n",
            "Epoch 55/100\n",
            "15/15 [==============================] - 2s 109ms/step - loss: 2.0131 - mae: 2.4717\n",
            "Epoch 56/100\n",
            "15/15 [==============================] - 3s 157ms/step - loss: 1.4056 - mae: 1.8452\n",
            "Epoch 57/100\n",
            "15/15 [==============================] - 2s 110ms/step - loss: 1.6093 - mae: 2.0587\n",
            "Epoch 58/100\n",
            "15/15 [==============================] - 2s 106ms/step - loss: 1.3428 - mae: 1.7831\n",
            "Epoch 59/100\n",
            "15/15 [==============================] - 2s 106ms/step - loss: 1.2705 - mae: 1.7067\n",
            "Epoch 60/100\n",
            "15/15 [==============================] - 2s 105ms/step - loss: 1.2594 - mae: 1.6962\n",
            "Epoch 61/100\n",
            "15/15 [==============================] - 2s 105ms/step - loss: 1.3392 - mae: 1.7787\n",
            "Epoch 62/100\n",
            "15/15 [==============================] - 2s 106ms/step - loss: 1.2720 - mae: 1.7132\n",
            "Epoch 63/100\n",
            "15/15 [==============================] - 2s 108ms/step - loss: 1.4359 - mae: 1.8809\n",
            "Epoch 64/100\n",
            "15/15 [==============================] - 2s 104ms/step - loss: 1.2881 - mae: 1.7281\n",
            "Epoch 65/100\n",
            "15/15 [==============================] - 2s 108ms/step - loss: 1.2564 - mae: 1.6938\n",
            "Epoch 66/100\n",
            "15/15 [==============================] - 2s 108ms/step - loss: 1.2048 - mae: 1.6411\n",
            "Epoch 67/100\n",
            "15/15 [==============================] - 2s 107ms/step - loss: 1.1581 - mae: 1.5911\n",
            "Epoch 68/100\n",
            "15/15 [==============================] - 2s 105ms/step - loss: 1.2263 - mae: 1.6542\n",
            "Epoch 69/100\n",
            "15/15 [==============================] - 2s 109ms/step - loss: 1.2333 - mae: 1.6694\n",
            "Epoch 70/100\n",
            "15/15 [==============================] - 2s 109ms/step - loss: 1.6082 - mae: 2.0579\n",
            "Epoch 71/100\n",
            "15/15 [==============================] - 2s 107ms/step - loss: 1.1752 - mae: 1.6107\n",
            "Epoch 72/100\n",
            "15/15 [==============================] - 2s 152ms/step - loss: 1.2750 - mae: 1.7142\n",
            "Epoch 73/100\n",
            "15/15 [==============================] - 2s 105ms/step - loss: 1.5002 - mae: 1.9438\n",
            "Epoch 74/100\n",
            "15/15 [==============================] - 2s 105ms/step - loss: 1.1956 - mae: 1.6330\n",
            "Epoch 75/100\n",
            "15/15 [==============================] - 2s 107ms/step - loss: 1.1467 - mae: 1.5794\n",
            "Epoch 76/100\n",
            "15/15 [==============================] - 2s 106ms/step - loss: 1.2283 - mae: 1.6640\n",
            "Epoch 77/100\n",
            "15/15 [==============================] - 2s 106ms/step - loss: 1.1490 - mae: 1.5812\n",
            "Epoch 78/100\n",
            "15/15 [==============================] - 2s 108ms/step - loss: 1.0925 - mae: 1.5202\n",
            "Epoch 79/100\n",
            "15/15 [==============================] - 2s 106ms/step - loss: 1.0868 - mae: 1.5133\n",
            "Epoch 80/100\n",
            "15/15 [==============================] - 2s 107ms/step - loss: 1.0753 - mae: 1.5020\n",
            "Epoch 81/100\n",
            "15/15 [==============================] - 2s 107ms/step - loss: 1.6638 - mae: 2.1156\n",
            "Epoch 82/100\n",
            "15/15 [==============================] - 2s 107ms/step - loss: 1.3290 - mae: 1.7669\n",
            "Epoch 83/100\n",
            "15/15 [==============================] - 2s 105ms/step - loss: 1.1348 - mae: 1.5628\n",
            "Epoch 84/100\n",
            "15/15 [==============================] - 2s 108ms/step - loss: 1.1302 - mae: 1.5563\n",
            "Epoch 85/100\n",
            "15/15 [==============================] - 2s 108ms/step - loss: 1.3123 - mae: 1.7472\n",
            "Epoch 86/100\n",
            "15/15 [==============================] - 2s 108ms/step - loss: 1.2381 - mae: 1.6738\n",
            "Epoch 87/100\n",
            "15/15 [==============================] - 2s 107ms/step - loss: 1.1096 - mae: 1.5432\n",
            "Epoch 88/100\n",
            "15/15 [==============================] - 2s 105ms/step - loss: 1.5287 - mae: 1.9733\n",
            "Epoch 89/100\n",
            "15/15 [==============================] - 2s 103ms/step - loss: 1.3495 - mae: 1.7916\n",
            "Epoch 90/100\n",
            "15/15 [==============================] - 2s 108ms/step - loss: 1.1750 - mae: 1.6063\n",
            "Epoch 91/100\n",
            "15/15 [==============================] - 2s 106ms/step - loss: 1.1005 - mae: 1.5303\n",
            "Epoch 92/100\n",
            "15/15 [==============================] - 2s 110ms/step - loss: 1.3533 - mae: 1.7999\n",
            "Epoch 93/100\n",
            "15/15 [==============================] - 2s 108ms/step - loss: 1.1752 - mae: 1.6117\n",
            "Epoch 94/100\n",
            "15/15 [==============================] - 2s 106ms/step - loss: 1.1406 - mae: 1.5699\n",
            "Epoch 95/100\n",
            "15/15 [==============================] - 2s 105ms/step - loss: 1.1631 - mae: 1.5963\n",
            "Epoch 96/100\n",
            "15/15 [==============================] - 2s 108ms/step - loss: 1.1605 - mae: 1.5953\n",
            "Epoch 97/100\n",
            "15/15 [==============================] - 2s 109ms/step - loss: 1.0559 - mae: 1.4834\n",
            "Epoch 98/100\n",
            "15/15 [==============================] - 2s 112ms/step - loss: 1.0616 - mae: 1.4865\n",
            "Epoch 99/100\n",
            "15/15 [==============================] - 2s 116ms/step - loss: 1.2624 - mae: 1.6991\n",
            "Epoch 100/100\n",
            "15/15 [==============================] - 2s 112ms/step - loss: 1.0867 - mae: 1.5175\n"
          ]
        }
      ]
    },
    {
      "cell_type": "markdown",
      "source": [
        "Hasil dari pelatihan menunjukkan model memiliki MAE yang relatif rendah dibandingkan skala data."
      ],
      "metadata": {
        "id": "X_ln6ydXeTtY"
      }
    }
  ]
}