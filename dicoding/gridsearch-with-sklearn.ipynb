{
  "nbformat": 4,
  "nbformat_minor": 0,
  "metadata": {
    "colab": {
      "provenance": []
    },
    "kernelspec": {
      "name": "python3",
      "display_name": "Python 3"
    },
    "language_info": {
      "name": "python"
    }
  },
  "cells": [
    {
      "cell_type": "markdown",
      "source": [
        "1. Ubah dataset data menjadi Dataframe.\n",
        "2. Definisikan parameter yang akan diuji.\n",
        "3. Jalankan fungsi grid search.\n",
        "4. Latih model dengan parameter terbaik hasil grid search.\n",
        "5. Buat plot dari model."
      ],
      "metadata": {
        "id": "OfF5NrSVn94X"
      }
    },
    {
      "cell_type": "code",
      "execution_count": 1,
      "metadata": {
        "id": "3f5kpGM4nsFo"
      },
      "outputs": [],
      "source": [
        "import pandas as pd\n",
        "\n",
        "data = pd.read_csv('/content/drive/MyDrive/assets_ML/Salary_Data.csv')"
      ]
    },
    {
      "cell_type": "code",
      "source": [
        "data.info()\n",
        "data.head()"
      ],
      "metadata": {
        "colab": {
          "base_uri": "https://localhost:8080/",
          "height": 362
        },
        "id": "wPlCmSJNoPn5",
        "outputId": "979ddcec-28e7-43f9-95d8-fbfc3a7d8283"
      },
      "execution_count": 3,
      "outputs": [
        {
          "output_type": "stream",
          "name": "stdout",
          "text": [
            "<class 'pandas.core.frame.DataFrame'>\n",
            "RangeIndex: 30 entries, 0 to 29\n",
            "Data columns (total 2 columns):\n",
            " #   Column           Non-Null Count  Dtype  \n",
            "---  ------           --------------  -----  \n",
            " 0   YearsExperience  30 non-null     float64\n",
            " 1   Salary           30 non-null     float64\n",
            "dtypes: float64(2)\n",
            "memory usage: 608.0 bytes\n"
          ]
        },
        {
          "output_type": "execute_result",
          "data": {
            "text/plain": [
              "   YearsExperience   Salary\n",
              "0              1.1  39343.0\n",
              "1              1.3  46205.0\n",
              "2              1.5  37731.0\n",
              "3              2.0  43525.0\n",
              "4              2.2  39891.0"
            ],
            "text/html": [
              "\n",
              "  <div id=\"df-c1b957fa-024c-48e2-8821-1272916e4696\">\n",
              "    <div class=\"colab-df-container\">\n",
              "      <div>\n",
              "<style scoped>\n",
              "    .dataframe tbody tr th:only-of-type {\n",
              "        vertical-align: middle;\n",
              "    }\n",
              "\n",
              "    .dataframe tbody tr th {\n",
              "        vertical-align: top;\n",
              "    }\n",
              "\n",
              "    .dataframe thead th {\n",
              "        text-align: right;\n",
              "    }\n",
              "</style>\n",
              "<table border=\"1\" class=\"dataframe\">\n",
              "  <thead>\n",
              "    <tr style=\"text-align: right;\">\n",
              "      <th></th>\n",
              "      <th>YearsExperience</th>\n",
              "      <th>Salary</th>\n",
              "    </tr>\n",
              "  </thead>\n",
              "  <tbody>\n",
              "    <tr>\n",
              "      <th>0</th>\n",
              "      <td>1.1</td>\n",
              "      <td>39343.0</td>\n",
              "    </tr>\n",
              "    <tr>\n",
              "      <th>1</th>\n",
              "      <td>1.3</td>\n",
              "      <td>46205.0</td>\n",
              "    </tr>\n",
              "    <tr>\n",
              "      <th>2</th>\n",
              "      <td>1.5</td>\n",
              "      <td>37731.0</td>\n",
              "    </tr>\n",
              "    <tr>\n",
              "      <th>3</th>\n",
              "      <td>2.0</td>\n",
              "      <td>43525.0</td>\n",
              "    </tr>\n",
              "    <tr>\n",
              "      <th>4</th>\n",
              "      <td>2.2</td>\n",
              "      <td>39891.0</td>\n",
              "    </tr>\n",
              "  </tbody>\n",
              "</table>\n",
              "</div>\n",
              "      <button class=\"colab-df-convert\" onclick=\"convertToInteractive('df-c1b957fa-024c-48e2-8821-1272916e4696')\"\n",
              "              title=\"Convert this dataframe to an interactive table.\"\n",
              "              style=\"display:none;\">\n",
              "        \n",
              "  <svg xmlns=\"http://www.w3.org/2000/svg\" height=\"24px\"viewBox=\"0 0 24 24\"\n",
              "       width=\"24px\">\n",
              "    <path d=\"M0 0h24v24H0V0z\" fill=\"none\"/>\n",
              "    <path d=\"M18.56 5.44l.94 2.06.94-2.06 2.06-.94-2.06-.94-.94-2.06-.94 2.06-2.06.94zm-11 1L8.5 8.5l.94-2.06 2.06-.94-2.06-.94L8.5 2.5l-.94 2.06-2.06.94zm10 10l.94 2.06.94-2.06 2.06-.94-2.06-.94-.94-2.06-.94 2.06-2.06.94z\"/><path d=\"M17.41 7.96l-1.37-1.37c-.4-.4-.92-.59-1.43-.59-.52 0-1.04.2-1.43.59L10.3 9.45l-7.72 7.72c-.78.78-.78 2.05 0 2.83L4 21.41c.39.39.9.59 1.41.59.51 0 1.02-.2 1.41-.59l7.78-7.78 2.81-2.81c.8-.78.8-2.07 0-2.86zM5.41 20L4 18.59l7.72-7.72 1.47 1.35L5.41 20z\"/>\n",
              "  </svg>\n",
              "      </button>\n",
              "      \n",
              "  <style>\n",
              "    .colab-df-container {\n",
              "      display:flex;\n",
              "      flex-wrap:wrap;\n",
              "      gap: 12px;\n",
              "    }\n",
              "\n",
              "    .colab-df-convert {\n",
              "      background-color: #E8F0FE;\n",
              "      border: none;\n",
              "      border-radius: 50%;\n",
              "      cursor: pointer;\n",
              "      display: none;\n",
              "      fill: #1967D2;\n",
              "      height: 32px;\n",
              "      padding: 0 0 0 0;\n",
              "      width: 32px;\n",
              "    }\n",
              "\n",
              "    .colab-df-convert:hover {\n",
              "      background-color: #E2EBFA;\n",
              "      box-shadow: 0px 1px 2px rgba(60, 64, 67, 0.3), 0px 1px 3px 1px rgba(60, 64, 67, 0.15);\n",
              "      fill: #174EA6;\n",
              "    }\n",
              "\n",
              "    [theme=dark] .colab-df-convert {\n",
              "      background-color: #3B4455;\n",
              "      fill: #D2E3FC;\n",
              "    }\n",
              "\n",
              "    [theme=dark] .colab-df-convert:hover {\n",
              "      background-color: #434B5C;\n",
              "      box-shadow: 0px 1px 3px 1px rgba(0, 0, 0, 0.15);\n",
              "      filter: drop-shadow(0px 1px 2px rgba(0, 0, 0, 0.3));\n",
              "      fill: #FFFFFF;\n",
              "    }\n",
              "  </style>\n",
              "\n",
              "      <script>\n",
              "        const buttonEl =\n",
              "          document.querySelector('#df-c1b957fa-024c-48e2-8821-1272916e4696 button.colab-df-convert');\n",
              "        buttonEl.style.display =\n",
              "          google.colab.kernel.accessAllowed ? 'block' : 'none';\n",
              "\n",
              "        async function convertToInteractive(key) {\n",
              "          const element = document.querySelector('#df-c1b957fa-024c-48e2-8821-1272916e4696');\n",
              "          const dataTable =\n",
              "            await google.colab.kernel.invokeFunction('convertToInteractive',\n",
              "                                                     [key], {});\n",
              "          if (!dataTable) return;\n",
              "\n",
              "          const docLinkHtml = 'Like what you see? Visit the ' +\n",
              "            '<a target=\"_blank\" href=https://colab.research.google.com/notebooks/data_table.ipynb>data table notebook</a>'\n",
              "            + ' to learn more about interactive tables.';\n",
              "          element.innerHTML = '';\n",
              "          dataTable['output_type'] = 'display_data';\n",
              "          await google.colab.output.renderOutput(dataTable, element);\n",
              "          const docLink = document.createElement('div');\n",
              "          docLink.innerHTML = docLinkHtml;\n",
              "          element.appendChild(docLink);\n",
              "        }\n",
              "      </script>\n",
              "    </div>\n",
              "  </div>\n",
              "  "
            ]
          },
          "metadata": {},
          "execution_count": 3
        }
      ]
    },
    {
      "cell_type": "markdown",
      "source": [
        "Kemudian pisahkan atribut dan label pada dataset. Masih ingat bukan, bahwa jika hanya terdapat 1 atribut pada dataset kita perlu mengubah bentuknya agar bisa dipakai pada pelatihan model."
      ],
      "metadata": {
        "id": "1AWNqoutpTla"
      }
    },
    {
      "cell_type": "code",
      "source": [
        "import numpy as np\n",
        " \n",
        "# memisahkan atribut dan label\n",
        "X = data['YearsExperience']\n",
        "y = data['Salary']\n",
        " \n",
        "# mengubah bentuk atribut\n",
        "X = X[:,np.newaxis]"
      ],
      "metadata": {
        "colab": {
          "base_uri": "https://localhost:8080/"
        },
        "id": "iaF9-SfQpP5S",
        "outputId": "3ac856b9-9e8b-416d-acd5-2c370a89e836"
      },
      "execution_count": 13,
      "outputs": [
        {
          "output_type": "stream",
          "name": "stderr",
          "text": [
            "/usr/local/lib/python3.7/dist-packages/ipykernel_launcher.py:8: FutureWarning: Support for multi-dimensional indexing (e.g. `obj[:, None]`) is deprecated and will be removed in a future version.  Convert to a numpy array before indexing instead.\n",
            "  \n"
          ]
        }
      ]
    },
    {
      "cell_type": "code",
      "source": [
        "#hasilnya\n",
        "print(X)"
      ],
      "metadata": {
        "colab": {
          "base_uri": "https://localhost:8080/"
        },
        "id": "_kE8xeRCpaj7",
        "outputId": "17e708df-828e-496b-a7c1-a253d13ad821"
      },
      "execution_count": 8,
      "outputs": [
        {
          "output_type": "stream",
          "name": "stdout",
          "text": [
            "[[ 1.1]\n",
            " [ 1.3]\n",
            " [ 1.5]\n",
            " [ 2. ]\n",
            " [ 2.2]\n",
            " [ 2.9]\n",
            " [ 3. ]\n",
            " [ 3.2]\n",
            " [ 3.2]\n",
            " [ 3.7]\n",
            " [ 3.9]\n",
            " [ 4. ]\n",
            " [ 4. ]\n",
            " [ 4.1]\n",
            " [ 4.5]\n",
            " [ 4.9]\n",
            " [ 5.1]\n",
            " [ 5.3]\n",
            " [ 5.9]\n",
            " [ 6. ]\n",
            " [ 6.8]\n",
            " [ 7.1]\n",
            " [ 7.9]\n",
            " [ 8.2]\n",
            " [ 8.7]\n",
            " [ 9. ]\n",
            " [ 9.5]\n",
            " [ 9.6]\n",
            " [10.3]\n",
            " [10.5]]\n"
          ]
        }
      ]
    },
    {
      "cell_type": "markdown",
      "source": [
        "Selanjutnya, untuk menggunakan grid search, kita impor library GridSearchCV dari sklearn.model_selection. Lalu kita buat model yang ingin kita uji dengan grid search dalam hal ini model SVR. Kemudian kita buat sebuah python dictionary yang berisi nama parameter yang akan diuji, serta nilai-nilainya. Selanjutnya kita buat objek grid search dan mengisi parameter-parameternya. Parameter pertama adalah model yang akan kita uji. Parameter kedua adalah dictionary yang berisi kumpulan parameter dari model yang akan diuji. Terakhir kita panggil fungsi fit() pada objek grid search yang telah kita buat."
      ],
      "metadata": {
        "id": "aSZHE343r6wh"
      }
    },
    {
      "cell_type": "code",
      "source": [
        "from sklearn.model_selection import GridSearchCV\n",
        "from sklearn.svm import SVR\n",
        " \n",
        "# membangun model dengan parameter C, gamma, dan kernel\n",
        "model = SVR()\n",
        "parameters = {\n",
        "    'kernel': ['rbf'],\n",
        "    'C':     [1000, 10000, 100000],\n",
        "    'gamma': [0.5, 0.05,0.005]\n",
        "}\n",
        "grid_search = GridSearchCV(model, parameters)\n",
        " \n",
        "# melatih model dengan fungsi fit\n",
        "grid_search.fit(X,y)"
      ],
      "metadata": {
        "colab": {
          "base_uri": "https://localhost:8080/"
        },
        "id": "c9NnTwYIpd1J",
        "outputId": "6fabee9f-619e-49bf-c1b8-1ef0bdabb60a"
      },
      "execution_count": 9,
      "outputs": [
        {
          "output_type": "execute_result",
          "data": {
            "text/plain": [
              "GridSearchCV(estimator=SVR(),\n",
              "             param_grid={'C': [1000, 10000, 100000],\n",
              "                         'gamma': [0.5, 0.05, 0.005], 'kernel': ['rbf']})"
            ]
          },
          "metadata": {},
          "execution_count": 9
        }
      ]
    },
    {
      "cell_type": "markdown",
      "source": [
        "Setelah grid search mencari parameter terbaik pada model, kita bisa menampilkan parameter terbaik dengan memanggil atribut best_params_ dari objek grid search."
      ],
      "metadata": {
        "id": "_j0yvsLisPAx"
      }
    },
    {
      "cell_type": "code",
      "source": [
        "# menampilkan parameter terbaik dari objek grid_search\n",
        "print(grid_search.best_params_)"
      ],
      "metadata": {
        "colab": {
          "base_uri": "https://localhost:8080/"
        },
        "id": "0N-UB4znsKZe",
        "outputId": "85eed5f4-0e83-4c07-f3e5-90fd435b07c0"
      },
      "execution_count": 10,
      "outputs": [
        {
          "output_type": "stream",
          "name": "stdout",
          "text": [
            "{'C': 100000, 'gamma': 0.005, 'kernel': 'rbf'}\n"
          ]
        }
      ]
    },
    {
      "cell_type": "markdown",
      "source": [
        "Selanjutnya Anda bisa mencoba membuat model SVM baru dengan parameter hasil grid search dan melatihnya pada data."
      ],
      "metadata": {
        "id": "93BTWtqGsaOE"
      }
    },
    {
      "cell_type": "code",
      "source": [
        "# membuat model SVM baru dengan parameter terbaik hasil grid search\n",
        "model_baru  = SVR(C=100000, gamma=0.005, kernel='rbf')\n",
        "model_baru.fit(X,y)"
      ],
      "metadata": {
        "colab": {
          "base_uri": "https://localhost:8080/"
        },
        "id": "GX7-fDp8sUKJ",
        "outputId": "a1b2c627-21c1-4a6e-ea6c-e8d51af9ea06"
      },
      "execution_count": 11,
      "outputs": [
        {
          "output_type": "execute_result",
          "data": {
            "text/plain": [
              "SVR(C=100000, gamma=0.005)"
            ]
          },
          "metadata": {},
          "execution_count": 11
        }
      ]
    },
    {
      "cell_type": "markdown",
      "source": [
        "Terakhir kita bisa memvisualisasikan SVR dengan parameter hasil grid search. Dapat dilihat dari hasil plot bahwa grid search berhasil mencari parameter yang lebih baik sehingga meningkatkan performa dari model."
      ],
      "metadata": {
        "id": "g9NpUgMttA1s"
      }
    },
    {
      "cell_type": "code",
      "source": [
        "import matplotlib.pyplot as plt\n",
        "plt.scatter(X, y)\n",
        "plt.plot(X, model_baru.predict(X))"
      ],
      "metadata": {
        "colab": {
          "base_uri": "https://localhost:8080/",
          "height": 282
        },
        "id": "ACsvAuqrse0W",
        "outputId": "2799edcb-870c-4a27-afdb-bf648e6b4311"
      },
      "execution_count": 16,
      "outputs": [
        {
          "output_type": "execute_result",
          "data": {
            "text/plain": [
              "[<matplotlib.lines.Line2D at 0x7f344056ed50>]"
            ]
          },
          "metadata": {},
          "execution_count": 16
        },
        {
          "output_type": "display_data",
          "data": {
            "text/plain": [
              "<Figure size 432x288 with 1 Axes>"
            ],
            "image/png": "[encoded data removed]"
          },
          "metadata": {
            "needs_background": "light"
          }
        }
      ]
    },
    {
      "cell_type": "markdown",
      "source": [
        "![image.png](data:image/png;base64,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)\n",
        "\n",
        "grafik sebelumnya"
      ],
      "metadata": {
        "id": "mJAZxEd6tXxp"
      }
    }
  ]
}