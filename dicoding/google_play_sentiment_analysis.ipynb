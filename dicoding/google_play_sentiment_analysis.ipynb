{
  "nbformat": 4,
  "nbformat_minor": 0,
  "metadata": {
    "colab": {
      "provenance": [],
      "gpuType": "T4"
    },
    "kernelspec": {
      "name": "python3",
      "display_name": "Python 3"
    },
    "language_info": {
      "name": "python"
    },
    "accelerator": "GPU"
  },
  "cells": [
    {
      "cell_type": "code",
      "execution_count": 12,
      "metadata": {
        "colab": {
          "base_uri": "https://localhost:8080/"
        },
        "id": "dmH9IfX86snx",
        "outputId": "2aa57ccf-bf24-4d98-b844-81fc2c5e3d2c"
      },
      "outputs": [
        {
          "output_type": "stream",
          "name": "stdout",
          "text": [
            "Requirement already satisfied: google-play-scraper in /usr/local/lib/python3.10/dist-packages (1.2.7)\n",
            "Requirement already satisfied: sastrawi in /usr/local/lib/python3.10/dist-packages (1.0.1)\n"
          ]
        },
        {
          "output_type": "stream",
          "name": "stderr",
          "text": [
            "[nltk_data] Downloading package punkt to /root/nltk_data...\n",
            "[nltk_data]   Package punkt is already up-to-date!\n",
            "[nltk_data] Downloading package stopwords to /root/nltk_data...\n",
            "[nltk_data]   Package stopwords is already up-to-date!\n"
          ]
        },
        {
          "output_type": "execute_result",
          "data": {
            "text/plain": [
              "True"
            ]
          },
          "metadata": {},
          "execution_count": 12
        }
      ],
      "source": [
        "!pip install google-play-scraper\n",
        "\n",
        "# Mengimpor pustaka google_play_scraper untuk mengakses ulasan dan informasi aplikasi dari Google Play Store.\n",
        "from google_play_scraper import app, reviews, Sort, reviews_all\n",
        "\n",
        "import pandas as pd  # Pandas untuk manipulasi dan analisis data\n",
        "pd.options.mode.chained_assignment = None  # Menonaktifkan peringatan chaining\n",
        "import numpy as np  # NumPy untuk komputasi numerik\n",
        "seed = 0\n",
        "np.random.seed(seed)  # Mengatur seed untuk reproduktibilitas\n",
        "import matplotlib.pyplot as plt  # Matplotlib untuk visualisasi data\n",
        "import seaborn as sns  # Seaborn untuk visualisasi data statistik, mengatur gaya visualisasi\n",
        "\n",
        "import datetime as dt  # Manipulasi data waktu dan tanggal\n",
        "import re  # Modul untuk bekerja dengan ekspresi reguler\n",
        "import string  # Berisi konstanta string, seperti tanda baca\n",
        "from nltk.tokenize import word_tokenize  # Tokenisasi teks\n",
        "from nltk.corpus import stopwords  # Daftar kata-kata berhenti dalam teks\n",
        "\n",
        "!pip install sastrawi\n",
        "from Sastrawi.Stemmer.StemmerFactory import StemmerFactory  # Stemming (penghilangan imbuhan kata) dalam bahasa Indonesia\n",
        "from Sastrawi.StopWordRemover.StopWordRemoverFactory import StopWordRemoverFactory  # Menghapus kata-kata berhenti dalam bahasa Indonesia\n",
        "\n",
        "from wordcloud import WordCloud  # Membuat visualisasi berbentuk awan kata (word cloud) dari teks\n",
        "\n",
        "import nltk  # Import pustaka NLTK (Natural Language Toolkit).\n",
        "nltk.download('punkt')  # Mengunduh dataset yang diperlukan untuk tokenisasi teks.\n",
        "nltk.download('stopwords')  # Mengunduh dataset yang berisi daftar kata-kata berhenti (stopwords) dalam berbagai bahasa."
      ]
    },
    {
      "cell_type": "code",
      "source": [
        "# Mengimpor pustaka google_play_scraper untuk mengakses ulasan dan informasi aplikasi dari Google Play Store.\n",
        "from google_play_scraper import app, reviews_all, Sort\n",
        "\n",
        "# Mengambil semua ulasan dari aplikasi dengan ID 'com.byu.id' di Google Play Store.\n",
        "# Proses scraping mungkin memerlukan beberapa saat tergantung pada jumlah ulasan yang ada.\n",
        "scrapreview = reviews_all(\n",
        "    'com.byu.id',          # ID aplikasi\n",
        "    lang='id',             # Bahasa ulasan (default: 'en')\n",
        "    country='id',          # Negara (default: 'us')\n",
        "    sort=Sort.MOST_RELEVANT, # Urutan ulasan (default: Sort.MOST_RELEVANT)\n",
        "    count=1000             # Jumlah maksimum ulasan yang ingin diambil\n",
        ")"
      ],
      "metadata": {
        "id": "JSccFDmV7H6A"
      },
      "execution_count": 2,
      "outputs": []
    },
    {
      "cell_type": "code",
      "source": [
        "# Menyimpan ulasan dalam file CSV\n",
        "import csv\n",
        "\n",
        "with open('ulasan_aplikasi.csv', mode='w', newline='', encoding='utf-8') as file:\n",
        "    writer = csv.writer(file)\n",
        "    writer.writerow(['Review'])  # Menulis header kolom\n",
        "    for review in scrapreview:\n",
        "        writer.writerow([review['content']])  # Menulis konten ulasan ke dalam file CSV"
      ],
      "metadata": {
        "id": "jb6qv-b17hc7"
      },
      "execution_count": 3,
      "outputs": []
    },
    {
      "cell_type": "code",
      "source": [
        "app_reviews_df = pd.DataFrame(scrapreview)\n",
        "app_reviews_df.shape\n",
        "app_reviews_df.head()\n",
        "app_reviews_df.to_csv('ulasan_aplikasi.csv', index=False)\n",
        "\n",
        "# Membuat DataFrame dari hasil scrapreview\n",
        "app_reviews_df = pd.DataFrame(scrapreview)\n",
        "\n",
        "# Menghitung jumlah baris dan kolom dalam DataFrame\n",
        "jumlah_ulasan, jumlah_kolom = app_reviews_df.shape\n",
        "print(f\"Jumlah baris: {jumlah_ulasan}\")\n",
        "print(f\"Jumlah kolom: {jumlah_kolom}\")"
      ],
      "metadata": {
        "colab": {
          "base_uri": "https://localhost:8080/"
        },
        "id": "ji9U_RLr7juK",
        "outputId": "e9bba601-ebc7-44e0-8556-5c44af75dd9b"
      },
      "execution_count": 6,
      "outputs": [
        {
          "output_type": "stream",
          "name": "stdout",
          "text": [
            "Jumlah baris: 117000\n",
            "Jumlah kolom: 11\n"
          ]
        }
      ]
    },
    {
      "cell_type": "code",
      "source": [
        "# Menampilkan lima baris pertama dari DataFrame app_reviews_df\n",
        "app_reviews_df.head()"
      ],
      "metadata": {
        "colab": {
          "base_uri": "https://localhost:8080/",
          "height": 311
        },
        "id": "EBr9ocu27lmP",
        "outputId": "e1c98b21-a19d-4950-a442-36f807307d83"
      },
      "execution_count": 7,
      "outputs": [
        {
          "output_type": "execute_result",
          "data": {
            "text/plain": [
              "                               reviewId         userName  \\\n",
              "0  ae75ea02-47b6-43a6-9853-344bb45f0455  Pengguna Google   \n",
              "1  cc4fbfad-d0a0-495a-a7ce-00ba02478e16  Pengguna Google   \n",
              "2  745064f3-5896-4b17-baf7-525ca5d6d8d2  Pengguna Google   \n",
              "3  0acdcd22-28d4-4617-a607-e45743fd08be  Pengguna Google   \n",
              "4  d67e1a7a-12ad-4c0c-93a0-b7c184126420  Pengguna Google   \n",
              "\n",
              "                                           userImage  \\\n",
              "0  https://play-lh.googleusercontent.com/EGemoI2N...   \n",
              "1  https://play-lh.googleusercontent.com/EGemoI2N...   \n",
              "2  https://play-lh.googleusercontent.com/EGemoI2N...   \n",
              "3  https://play-lh.googleusercontent.com/EGemoI2N...   \n",
              "4  https://play-lh.googleusercontent.com/EGemoI2N...   \n",
              "\n",
              "                                             content  score  thumbsUpCount  \\\n",
              "0  Perbaikin dulu aplikasinya, jaringan stabil be...      3             36   \n",
              "1  Tolonglah ya buat aplikasi By.U ini, sering ba...      1             56   \n",
              "2  Selama 3 tahun pakai tidak ada perkembangan da...      2             23   \n",
              "3  waduuh kenapa sinyal byu jadi gni udh lebih dr...      1             11   \n",
              "4  Jaringan nya kadang lelet banget dan sekarang ...      3             39   \n",
              "\n",
              "  reviewCreatedVersion                  at  \\\n",
              "0               1.55.0 2024-06-26 16:25:12   \n",
              "1               1.55.0 2024-07-03 14:31:55   \n",
              "2               1.54.1 2024-06-26 20:15:58   \n",
              "3               1.54.1 2024-07-02 13:56:31   \n",
              "4               1.55.0 2024-06-16 01:26:36   \n",
              "\n",
              "                                        replyContent           repliedAt  \\\n",
              "0  Hi, Kak. Maaf banget jadi bikin gak nyaman. Ni... 2024-06-27 14:56:30   \n",
              "1  Hi, Kak. Maaf banget jadi bikin gak nyaman. Ni... 2024-07-03 14:34:55   \n",
              "2  Hi, Kak. Maaf banget jadi bikin gak nyaman. Ni... 2024-06-27 14:56:35   \n",
              "3  Hai Kak, maaf nih terkait kendala jaringan, bi... 2024-07-02 14:16:39   \n",
              "4  Halo, pagi Kak :) Maaf banget ya Kak jadi biki... 2024-06-16 01:31:31   \n",
              "\n",
              "  appVersion  \n",
              "0     1.55.0  \n",
              "1     1.55.0  \n",
              "2     1.54.1  \n",
              "3     1.54.1  \n",
              "4     1.55.0  "
            ],
            "text/html": [
              "\n",
              "  <div id=\"df-86c2926d-2f62-4035-958d-73fb5bbcc717\" class=\"colab-df-container\">\n",
              "    <div>\n",
              "<style scoped>\n",
              "    .dataframe tbody tr th:only-of-type {\n",
              "        vertical-align: middle;\n",
              "    }\n",
              "\n",
              "    .dataframe tbody tr th {\n",
              "        vertical-align: top;\n",
              "    }\n",
              "\n",
              "    .dataframe thead th {\n",
              "        text-align: right;\n",
              "    }\n",
              "</style>\n",
              "<table border=\"1\" class=\"dataframe\">\n",
              "  <thead>\n",
              "    <tr style=\"text-align: right;\">\n",
              "      <th></th>\n",
              "      <th>reviewId</th>\n",
              "      <th>userName</th>\n",
              "      <th>userImage</th>\n",
              "      <th>content</th>\n",
              "      <th>score</th>\n",
              "      <th>thumbsUpCount</th>\n",
              "      <th>reviewCreatedVersion</th>\n",
              "      <th>at</th>\n",
              "      <th>replyContent</th>\n",
              "      <th>repliedAt</th>\n",
              "      <th>appVersion</th>\n",
              "    </tr>\n",
              "  </thead>\n",
              "  <tbody>\n",
              "    <tr>\n",
              "      <th>0</th>\n",
              "      <td>ae75ea02-47b6-43a6-9853-344bb45f0455</td>\n",
              "      <td>Pengguna Google</td>\n",
              "      <td>https://play-lh.googleusercontent.com/EGemoI2N...</td>\n",
              "      <td>Perbaikin dulu aplikasinya, jaringan stabil be...</td>\n",
              "      <td>3</td>\n",
              "      <td>36</td>\n",
              "      <td>1.55.0</td>\n",
              "      <td>2024-06-26 16:25:12</td>\n",
              "      <td>Hi, Kak. Maaf banget jadi bikin gak nyaman. Ni...</td>\n",
              "      <td>2024-06-27 14:56:30</td>\n",
              "      <td>1.55.0</td>\n",
              "    </tr>\n",
              "    <tr>\n",
              "      <th>1</th>\n",
              "      <td>cc4fbfad-d0a0-495a-a7ce-00ba02478e16</td>\n",
              "      <td>Pengguna Google</td>\n",
              "      <td>https://play-lh.googleusercontent.com/EGemoI2N...</td>\n",
              "      <td>Tolonglah ya buat aplikasi By.U ini, sering ba...</td>\n",
              "      <td>1</td>\n",
              "      <td>56</td>\n",
              "      <td>1.55.0</td>\n",
              "      <td>2024-07-03 14:31:55</td>\n",
              "      <td>Hi, Kak. Maaf banget jadi bikin gak nyaman. Ni...</td>\n",
              "      <td>2024-07-03 14:34:55</td>\n",
              "      <td>1.55.0</td>\n",
              "    </tr>\n",
              "    <tr>\n",
              "      <th>2</th>\n",
              "      <td>745064f3-5896-4b17-baf7-525ca5d6d8d2</td>\n",
              "      <td>Pengguna Google</td>\n",
              "      <td>https://play-lh.googleusercontent.com/EGemoI2N...</td>\n",
              "      <td>Selama 3 tahun pakai tidak ada perkembangan da...</td>\n",
              "      <td>2</td>\n",
              "      <td>23</td>\n",
              "      <td>1.54.1</td>\n",
              "      <td>2024-06-26 20:15:58</td>\n",
              "      <td>Hi, Kak. Maaf banget jadi bikin gak nyaman. Ni...</td>\n",
              "      <td>2024-06-27 14:56:35</td>\n",
              "      <td>1.54.1</td>\n",
              "    </tr>\n",
              "    <tr>\n",
              "      <th>3</th>\n",
              "      <td>0acdcd22-28d4-4617-a607-e45743fd08be</td>\n",
              "      <td>Pengguna Google</td>\n",
              "      <td>https://play-lh.googleusercontent.com/EGemoI2N...</td>\n",
              "      <td>waduuh kenapa sinyal byu jadi gni udh lebih dr...</td>\n",
              "      <td>1</td>\n",
              "      <td>11</td>\n",
              "      <td>1.54.1</td>\n",
              "      <td>2024-07-02 13:56:31</td>\n",
              "      <td>Hai Kak, maaf nih terkait kendala jaringan, bi...</td>\n",
              "      <td>2024-07-02 14:16:39</td>\n",
              "      <td>1.54.1</td>\n",
              "    </tr>\n",
              "    <tr>\n",
              "      <th>4</th>\n",
              "      <td>d67e1a7a-12ad-4c0c-93a0-b7c184126420</td>\n",
              "      <td>Pengguna Google</td>\n",
              "      <td>https://play-lh.googleusercontent.com/EGemoI2N...</td>\n",
              "      <td>Jaringan nya kadang lelet banget dan sekarang ...</td>\n",
              "      <td>3</td>\n",
              "      <td>39</td>\n",
              "      <td>1.55.0</td>\n",
              "      <td>2024-06-16 01:26:36</td>\n",
              "      <td>Halo, pagi Kak :) Maaf banget ya Kak jadi biki...</td>\n",
              "      <td>2024-06-16 01:31:31</td>\n",
              "      <td>1.55.0</td>\n",
              "    </tr>\n",
              "  </tbody>\n",
              "</table>\n",
              "</div>\n",
              "    <div class=\"colab-df-buttons\">\n",
              "\n",
              "  <div class=\"colab-df-container\">\n",
              "    <button class=\"colab-df-convert\" onclick=\"convertToInteractive('df-86c2926d-2f62-4035-958d-73fb5bbcc717')\"\n",
              "            title=\"Convert this dataframe to an interactive table.\"\n",
              "            style=\"display:none;\">\n",
              "\n",
              "  <svg xmlns=\"http://www.w3.org/2000/svg\" height=\"24px\" viewBox=\"0 -960 960 960\">\n",
              "    <path d=\"M120-120v-720h720v720H120Zm60-500h600v-160H180v160Zm220 220h160v-160H400v160Zm0 220h160v-160H400v160ZM180-400h160v-160H180v160Zm440 0h160v-160H620v160ZM180-180h160v-160H180v160Zm440 0h160v-160H620v160Z\"/>\n",
              "  </svg>\n",
              "    </button>\n",
              "\n",
              "  <style>\n",
              "    .colab-df-container {\n",
              "      display:flex;\n",
              "      gap: 12px;\n",
              "    }\n",
              "\n",
              "    .colab-df-convert {\n",
              "      background-color: #E8F0FE;\n",
              "      border: none;\n",
              "      border-radius: 50%;\n",
              "      cursor: pointer;\n",
              "      display: none;\n",
              "      fill: #1967D2;\n",
              "      height: 32px;\n",
              "      padding: 0 0 0 0;\n",
              "      width: 32px;\n",
              "    }\n",
              "\n",
              "    .colab-df-convert:hover {\n",
              "      background-color: #E2EBFA;\n",
              "      box-shadow: 0px 1px 2px rgba(60, 64, 67, 0.3), 0px 1px 3px 1px rgba(60, 64, 67, 0.15);\n",
              "      fill: #174EA6;\n",
              "    }\n",
              "\n",
              "    .colab-df-buttons div {\n",
              "      margin-bottom: 4px;\n",
              "    }\n",
              "\n",
              "    [theme=dark] .colab-df-convert {\n",
              "      background-color: #3B4455;\n",
              "      fill: #D2E3FC;\n",
              "    }\n",
              "\n",
              "    [theme=dark] .colab-df-convert:hover {\n",
              "      background-color: #434B5C;\n",
              "      box-shadow: 0px 1px 3px 1px rgba(0, 0, 0, 0.15);\n",
              "      filter: drop-shadow(0px 1px 2px rgba(0, 0, 0, 0.3));\n",
              "      fill: #FFFFFF;\n",
              "    }\n",
              "  </style>\n",
              "\n",
              "    <script>\n",
              "      const buttonEl =\n",
              "        document.querySelector('#df-86c2926d-2f62-4035-958d-73fb5bbcc717 button.colab-df-convert');\n",
              "      buttonEl.style.display =\n",
              "        google.colab.kernel.accessAllowed ? 'block' : 'none';\n",
              "\n",
              "      async function convertToInteractive(key) {\n",
              "        const element = document.querySelector('#df-86c2926d-2f62-4035-958d-73fb5bbcc717');\n",
              "        const dataTable =\n",
              "          await google.colab.kernel.invokeFunction('convertToInteractive',\n",
              "                                                    [key], {});\n",
              "        if (!dataTable) return;\n",
              "\n",
              "        const docLinkHtml = 'Like what you see? Visit the ' +\n",
              "          '<a target=\"_blank\" href=https://colab.research.google.com/notebooks/data_table.ipynb>data table notebook</a>'\n",
              "          + ' to learn more about interactive tables.';\n",
              "        element.innerHTML = '';\n",
              "        dataTable['output_type'] = 'display_data';\n",
              "        await google.colab.output.renderOutput(dataTable, element);\n",
              "        const docLink = document.createElement('div');\n",
              "        docLink.innerHTML = docLinkHtml;\n",
              "        element.appendChild(docLink);\n",
              "      }\n",
              "    </script>\n",
              "  </div>\n",
              "\n",
              "\n",
              "<div id=\"df-a2dae2fd-4ccf-4567-89bc-f0c71c660f6e\">\n",
              "  <button class=\"colab-df-quickchart\" onclick=\"quickchart('df-a2dae2fd-4ccf-4567-89bc-f0c71c660f6e')\"\n",
              "            title=\"Suggest charts\"\n",
              "            style=\"display:none;\">\n",
              "\n",
              "<svg xmlns=\"http://www.w3.org/2000/svg\" height=\"24px\"viewBox=\"0 0 24 24\"\n",
              "     width=\"24px\">\n",
              "    <g>\n",
              "        <path d=\"M19 3H5c-1.1 0-2 .9-2 2v14c0 1.1.9 2 2 2h14c1.1 0 2-.9 2-2V5c0-1.1-.9-2-2-2zM9 17H7v-7h2v7zm4 0h-2V7h2v10zm4 0h-2v-4h2v4z\"/>\n",
              "    </g>\n",
              "</svg>\n",
              "  </button>\n",
              "\n",
              "<style>\n",
              "  .colab-df-quickchart {\n",
              "      --bg-color: #E8F0FE;\n",
              "      --fill-color: #1967D2;\n",
              "      --hover-bg-color: #E2EBFA;\n",
              "      --hover-fill-color: #174EA6;\n",
              "      --disabled-fill-color: #AAA;\n",
              "      --disabled-bg-color: #DDD;\n",
              "  }\n",
              "\n",
              "  [theme=dark] .colab-df-quickchart {\n",
              "      --bg-color: #3B4455;\n",
              "      --fill-color: #D2E3FC;\n",
              "      --hover-bg-color: #434B5C;\n",
              "      --hover-fill-color: #FFFFFF;\n",
              "      --disabled-bg-color: #3B4455;\n",
              "      --disabled-fill-color: #666;\n",
              "  }\n",
              "\n",
              "  .colab-df-quickchart {\n",
              "    background-color: var(--bg-color);\n",
              "    border: none;\n",
              "    border-radius: 50%;\n",
              "    cursor: pointer;\n",
              "    display: none;\n",
              "    fill: var(--fill-color);\n",
              "    height: 32px;\n",
              "    padding: 0;\n",
              "    width: 32px;\n",
              "  }\n",
              "\n",
              "  .colab-df-quickchart:hover {\n",
              "    background-color: var(--hover-bg-color);\n",
              "    box-shadow: 0 1px 2px rgba(60, 64, 67, 0.3), 0 1px 3px 1px rgba(60, 64, 67, 0.15);\n",
              "    fill: var(--button-hover-fill-color);\n",
              "  }\n",
              "\n",
              "  .colab-df-quickchart-complete:disabled,\n",
              "  .colab-df-quickchart-complete:disabled:hover {\n",
              "    background-color: var(--disabled-bg-color);\n",
              "    fill: var(--disabled-fill-color);\n",
              "    box-shadow: none;\n",
              "  }\n",
              "\n",
              "  .colab-df-spinner {\n",
              "    border: 2px solid var(--fill-color);\n",
              "    border-color: transparent;\n",
              "    border-bottom-color: var(--fill-color);\n",
              "    animation:\n",
              "      spin 1s steps(1) infinite;\n",
              "  }\n",
              "\n",
              "  @keyframes spin {\n",
              "    0% {\n",
              "      border-color: transparent;\n",
              "      border-bottom-color: var(--fill-color);\n",
              "      border-left-color: var(--fill-color);\n",
              "    }\n",
              "    20% {\n",
              "      border-color: transparent;\n",
              "      border-left-color: var(--fill-color);\n",
              "      border-top-color: var(--fill-color);\n",
              "    }\n",
              "    30% {\n",
              "      border-color: transparent;\n",
              "      border-left-color: var(--fill-color);\n",
              "      border-top-color: var(--fill-color);\n",
              "      border-right-color: var(--fill-color);\n",
              "    }\n",
              "    40% {\n",
              "      border-color: transparent;\n",
              "      border-right-color: var(--fill-color);\n",
              "      border-top-color: var(--fill-color);\n",
              "    }\n",
              "    60% {\n",
              "      border-color: transparent;\n",
              "      border-right-color: var(--fill-color);\n",
              "    }\n",
              "    80% {\n",
              "      border-color: transparent;\n",
              "      border-right-color: var(--fill-color);\n",
              "      border-bottom-color: var(--fill-color);\n",
              "    }\n",
              "    90% {\n",
              "      border-color: transparent;\n",
              "      border-bottom-color: var(--fill-color);\n",
              "    }\n",
              "  }\n",
              "</style>\n",
              "\n",
              "  <script>\n",
              "    async function quickchart(key) {\n",
              "      const quickchartButtonEl =\n",
              "        document.querySelector('#' + key + ' button');\n",
              "      quickchartButtonEl.disabled = true;  // To prevent multiple clicks.\n",
              "      quickchartButtonEl.classList.add('colab-df-spinner');\n",
              "      try {\n",
              "        const charts = await google.colab.kernel.invokeFunction(\n",
              "            'suggestCharts', [key], {});\n",
              "      } catch (error) {\n",
              "        console.error('Error during call to suggestCharts:', error);\n",
              "      }\n",
              "      quickchartButtonEl.classList.remove('colab-df-spinner');\n",
              "      quickchartButtonEl.classList.add('colab-df-quickchart-complete');\n",
              "    }\n",
              "    (() => {\n",
              "      let quickchartButtonEl =\n",
              "        document.querySelector('#df-a2dae2fd-4ccf-4567-89bc-f0c71c660f6e button');\n",
              "      quickchartButtonEl.style.display =\n",
              "        google.colab.kernel.accessAllowed ? 'block' : 'none';\n",
              "    })();\n",
              "  </script>\n",
              "</div>\n",
              "\n",
              "    </div>\n",
              "  </div>\n"
            ],
            "application/vnd.google.colaboratory.intrinsic+json": {
              "type": "dataframe",
              "variable_name": "app_reviews_df"
            }
          },
          "metadata": {},
          "execution_count": 7
        }
      ]
    },
    {
      "cell_type": "code",
      "source": [
        "# Menampilkan informasi tentang DataFrame app_reviews_df\n",
        "app_reviews_df.info()"
      ],
      "metadata": {
        "colab": {
          "base_uri": "https://localhost:8080/"
        },
        "id": "eC2Eol_K7nDi",
        "outputId": "033ffbeb-3520-45a5-c158-e52cab135ce3"
      },
      "execution_count": 8,
      "outputs": [
        {
          "output_type": "stream",
          "name": "stdout",
          "text": [
            "<class 'pandas.core.frame.DataFrame'>\n",
            "RangeIndex: 117000 entries, 0 to 116999\n",
            "Data columns (total 11 columns):\n",
            " #   Column                Non-Null Count   Dtype         \n",
            "---  ------                --------------   -----         \n",
            " 0   reviewId              117000 non-null  object        \n",
            " 1   userName              117000 non-null  object        \n",
            " 2   userImage             117000 non-null  object        \n",
            " 3   content               116999 non-null  object        \n",
            " 4   score                 117000 non-null  int64         \n",
            " 5   thumbsUpCount         117000 non-null  int64         \n",
            " 6   reviewCreatedVersion  102153 non-null  object        \n",
            " 7   at                    117000 non-null  datetime64[ns]\n",
            " 8   replyContent          108188 non-null  object        \n",
            " 9   repliedAt             108188 non-null  datetime64[ns]\n",
            " 10  appVersion            102153 non-null  object        \n",
            "dtypes: datetime64[ns](2), int64(2), object(7)\n",
            "memory usage: 9.8+ MB\n"
          ]
        }
      ]
    },
    {
      "cell_type": "code",
      "source": [
        "# Membuat DataFrame baru (clean_df) dengan menghapus baris yang memiliki nilai yang hilang (NaN) dari app_reviews_df\n",
        "clean_df = app_reviews_df.dropna()"
      ],
      "metadata": {
        "id": "T1Bk0Ffl7obM"
      },
      "execution_count": 9,
      "outputs": []
    },
    {
      "cell_type": "code",
      "source": [
        "# Menghapus baris duplikat dari DataFrame clean_df\n",
        "clean_df = clean_df.drop_duplicates()\n",
        "\n",
        "# Menghitung jumlah baris dan kolom dalam DataFrame clean_df setelah menghapus duplikat\n",
        "jumlah_ulasan_setelah_hapus_duplikat, jumlah_kolom_setelah_hapus_duplikat = clean_df.shape"
      ],
      "metadata": {
        "id": "dnB7VekI7ptO"
      },
      "execution_count": 10,
      "outputs": []
    },
    {
      "cell_type": "code",
      "source": [
        "import re\n",
        "import string\n",
        "from nltk.tokenize import word_tokenize\n",
        "from nltk.corpus import stopwords\n",
        "# from Sastrawi.Stemmer.Factory import StemmerFactory\n",
        "\n",
        "def cleaningText(text):\n",
        "    text = re.sub(r'@[A-Za-z0-9]+', '', text) # menghapus mention\n",
        "    text = re.sub(r'#[A-Za-z0-9]+', '', text) # menghapus hashtag\n",
        "    text = re.sub(r'RT[\\s]', '', text) # menghapus RT\n",
        "    text = re.sub(r\"http\\S+\", '', text) # menghapus link\n",
        "    text = re.sub(r'[0-9]+', '', text) # menghapus angka\n",
        "    text = re.sub(r'[^\\w\\s]', '', text) # menghapus karakter selain huruf dan angka\n",
        "\n",
        "    text = text.replace('\\n', ' ') # mengganti baris baru dengan spasi\n",
        "    text = text.translate(str.maketrans('', '', string.punctuation)) # menghapus semua tanda baca\n",
        "    text = text.strip(' ') # menghapus karakter spasi dari kiri dan kanan teks\n",
        "    return text\n",
        "\n",
        "def casefoldingText(text): # Mengubah semua karakter dalam teks menjadi huruf kecil\n",
        "    text = text.lower()\n",
        "    return text\n",
        "\n",
        "def tokenizingText(text): # Memecah atau membagi string, teks menjadi daftar token\n",
        "    text = word_tokenize(text)\n",
        "    return text\n",
        "\n",
        "def filteringText(text): # Menghapus stopwords dalam teks\n",
        "    listStopwords = set(stopwords.words('indonesian'))\n",
        "    listStopwords1 = set(stopwords.words('english'))\n",
        "    listStopwords.update(listStopwords1)\n",
        "    listStopwords.update(['iya','yaa','gak','nya','na','sih','ku',\"di\",\"ga\",\"ya\",\"gaa\",\"loh\",\"kah\",\"woi\",\"woii\",\"woy\"])\n",
        "    filtered = []\n",
        "    for txt in text:\n",
        "        if txt not in listStopwords:\n",
        "            filtered.append(txt)\n",
        "    text = filtered\n",
        "    return text\n",
        "\n",
        "def stemmingText(text): # Mengurangi kata ke bentuk dasarnya yang menghilangkan imbuhan awalan dan akhiran atau ke akar kata\n",
        "    # Membuat objek stemmer\n",
        "    factory = StemmerFactory()\n",
        "    stemmer = factory.create_stemmer()\n",
        "\n",
        "    # Memecah teks menjadi daftar kata\n",
        "    words = text.split()\n",
        "\n",
        "    # Menerapkan stemming pada setiap kata dalam daftar\n",
        "    stemmed_words = [stemmer.stem(word) for word in words]\n",
        "\n",
        "    # Menggabungkan kata-kata yang telah distem\n",
        "    stemmed_text = ' '.join(stemmed_words)\n",
        "\n",
        "    return stemmed_text\n",
        "\n",
        "def toSentence(list_words): # Mengubah daftar kata menjadi kalimat\n",
        "    sentence = ' '.join(word for word in list_words)\n",
        "    return sentence"
      ],
      "metadata": {
        "id": "vQKRJHSA7tAx"
      },
      "execution_count": 14,
      "outputs": []
    },
    {
      "cell_type": "code",
      "source": [
        "slangwords = {\"@\": \"di\", \"abis\": \"habis\", \"wtb\": \"beli\", \"masi\": \"masih\", \"wts\": \"jual\", \"wtt\": \"tukar\", \"bgt\": \"banget\", \"maks\": \"maksimal\"}\n",
        "def fix_slangwords(text):\n",
        "    words = text.split()\n",
        "    fixed_words = []\n",
        "\n",
        "    for word in words:\n",
        "        if word.lower() in slangwords:\n",
        "            fixed_words.append(slangwords[word.lower()])\n",
        "        else:\n",
        "            fixed_words.append(word)\n",
        "\n",
        "    fixed_text = ' '.join(fixed_words)\n",
        "    return fixed_text"
      ],
      "metadata": {
        "id": "pb7NqZ2k8nAQ"
      },
      "execution_count": 16,
      "outputs": []
    },
    {
      "cell_type": "code",
      "source": [
        "# Membersihkan teks dan menyimpannya di kolom 'text_clean'\n",
        "clean_df['text_clean'] = clean_df['content'].apply(cleaningText)\n",
        "\n",
        "# Mengubah huruf dalam teks menjadi huruf kecil dan menyimpannya di 'text_casefoldingText'\n",
        "clean_df['text_casefoldingText'] = clean_df['text_clean'].apply(casefoldingText)\n",
        "\n",
        "# Mengganti kata-kata slang dengan kata-kata standar dan menyimpannya di 'text_slangwords'\n",
        "clean_df['text_slangwords'] = clean_df['text_casefoldingText'].apply(fix_slangwords)\n",
        "\n",
        "# Memecah teks menjadi token (kata-kata) dan menyimpannya di 'text_tokenizingText'\n",
        "clean_df['text_tokenizingText'] = clean_df['text_slangwords'].apply(tokenizingText)\n",
        "\n",
        "# Menghapus kata-kata stop (kata-kata umum) dan menyimpannya di 'text_stopword'\n",
        "clean_df['text_stopword'] = clean_df['text_tokenizingText'].apply(filteringText)\n",
        "\n",
        "# Menggabungkan token-token menjadi kalimat dan menyimpannya di 'text_akhir'\n",
        "clean_df['text_akhir'] = clean_df['text_stopword'].apply(toSentence)"
      ],
      "metadata": {
        "id": "PeaaPZKE8w8Y"
      },
      "execution_count": 17,
      "outputs": []
    },
    {
      "cell_type": "code",
      "source": [
        "import csv\n",
        "import requests\n",
        "from io import StringIO\n",
        "\n",
        "# Membaca data kamus kata-kata positif dari GitHub\n",
        "lexicon_positive = dict()\n",
        "\n",
        "response = requests.get('https://raw.githubusercontent.com/angelmetanosaa/dataset/main/lexicon_positive.csv')\n",
        "# Mengirim permintaan HTTP untuk mendapatkan file CSV dari GitHub\n",
        "\n",
        "if response.status_code == 200:\n",
        "    # Jika permintaan berhasil\n",
        "    reader = csv.reader(StringIO(response.text), delimiter=',')\n",
        "    # Membaca teks respons sebagai file CSV menggunakan pembaca CSV dengan pemisah koma\n",
        "\n",
        "    for row in reader:\n",
        "        # Mengulangi setiap baris dalam file CSV\n",
        "        lexicon_positive[row[0]] = int(row[1])\n",
        "        # Menambahkan kata-kata positif dan skornya ke dalam kamus lexicon_positive\n",
        "else:\n",
        "    print(\"Failed to fetch positive lexicon data\")\n",
        "\n",
        "# Membaca data kamus kata-kata negatif dari GitHub\n",
        "lexicon_negative = dict()\n",
        "\n",
        "response = requests.get('https://raw.githubusercontent.com/angelmetanosaa/dataset/main/lexicon_negative.csv')\n",
        "# Mengirim permintaan HTTP untuk mendapatkan file CSV dari GitHub\n",
        "\n",
        "if response.status_code == 200:\n",
        "    # Jika permintaan berhasil\n",
        "    reader = csv.reader(StringIO(response.text), delimiter=',')\n",
        "    # Membaca teks respons sebagai file CSV menggunakan pembaca CSV dengan pemisah koma\n",
        "\n",
        "    for row in reader:\n",
        "        # Mengulangi setiap baris dalam file CSV\n",
        "        lexicon_negative[row[0]] = int(row[1])\n",
        "        # Menambahkan kata-kata negatif dan skornya dalam kamus lexicon_negative\n",
        "else:\n",
        "    print(\"Failed to fetch negative lexicon data\")"
      ],
      "metadata": {
        "id": "az7pD2YE9DmK"
      },
      "execution_count": 18,
      "outputs": []
    },
    {
      "cell_type": "code",
      "source": [
        "# Fungsi untuk menentukan polaritas sentimen dari tweet\n",
        "\n",
        "def sentiment_analysis_lexicon_indonesia(text):\n",
        "    #for word in text:\n",
        "\n",
        "    score = 0\n",
        "    # Inisialisasi skor sentimen ke 0\n",
        "\n",
        "    for word in text:\n",
        "        # Mengulangi setiap kata dalam teks\n",
        "\n",
        "        if (word in lexicon_positive):\n",
        "            score = score + lexicon_positive[word]\n",
        "            # Jika kata ada dalam kamus positif, tambahkan skornya ke skor sentimen\n",
        "\n",
        "    for word in text:\n",
        "        # Mengulangi setiap kata dalam teks (sekali lagi)\n",
        "\n",
        "        if (word in lexicon_negative):\n",
        "            score = score + lexicon_negative[word]\n",
        "            # Jika kata ada dalam kamus negatif, kurangkan skornya dari skor sentimen\n",
        "\n",
        "    polarity=''\n",
        "    # Inisialisasi variabel polaritas\n",
        "\n",
        "    if (score >= 0):\n",
        "        polarity = 'positive'\n",
        "        # Jika skor sentimen lebih besar atau sama dengan 0, maka polaritas adalah positif\n",
        "    elif (score < 0):\n",
        "        polarity = 'negative'\n",
        "        # Jika skor sentimen kurang dari 0, maka polaritas adalah negatif\n",
        "\n",
        "    # else:\n",
        "    #     polarity = 'neutral'\n",
        "    # Ini adalah bagian yang bisa digunakan untuk menentukan polaritas netral jika diperlukan\n",
        "\n",
        "    return score, polarity\n",
        "    # Mengembalikan skor sentimen dan polaritas teks"
      ],
      "metadata": {
        "id": "g5U_vDia9NEm"
      },
      "execution_count": 19,
      "outputs": []
    },
    {
      "cell_type": "code",
      "source": [
        "results = clean_df['text_stopword'].apply(sentiment_analysis_lexicon_indonesia)\n",
        "results = list(zip(*results))\n",
        "clean_df['polarity_score'] = results[0]\n",
        "clean_df['polarity'] = results[1]\n",
        "print(clean_df['polarity'].value_counts())"
      ],
      "metadata": {
        "colab": {
          "base_uri": "https://localhost:8080/"
        },
        "id": "NwT3WU6y9QBZ",
        "outputId": "04b240ab-2e30-4307-90b2-acbc9f8e3eb9"
      },
      "execution_count": 20,
      "outputs": [
        {
          "output_type": "stream",
          "name": "stdout",
          "text": [
            "polarity\n",
            "positive    55309\n",
            "negative    38895\n",
            "Name: count, dtype: int64\n"
          ]
        }
      ]
    },
    {
      "cell_type": "code",
      "source": [
        "from sklearn.feature_extraction.text import TfidfVectorizer\n",
        "from sklearn.model_selection import train_test_split\n",
        "\n",
        "# Pisahkan data menjadi fitur (tweet) dan label (sentimen)\n",
        "X = clean_df['text_akhir']\n",
        "y = clean_df['polarity']\n",
        "\n",
        "# Ekstraksi fitur dengan TF-IDF\n",
        "tfidf = TfidfVectorizer(max_features=200, min_df=17, max_df=0.8 )\n",
        "X_tfidf = tfidf.fit_transform(X)\n",
        "\n",
        "# Konversi hasil ekstraksi fitur menjadi dataframe\n",
        "features_df = pd.DataFrame(X_tfidf.toarray(), columns=tfidf.get_feature_names_out())\n",
        "\n",
        "# Menampilkan hasil ekstraksi fitur\n",
        "features_df\n",
        "\n",
        "# Bagi data menjadi data latih dan data uji\n",
        "X_train, X_test, y_train, y_test = train_test_split(X_tfidf, y, test_size=0.2, random_state=42)"
      ],
      "metadata": {
        "id": "yRKFsspm9ZjO"
      },
      "execution_count": 22,
      "outputs": []
    },
    {
      "cell_type": "code",
      "source": [
        "from sklearn.naive_bayes import BernoulliNB\n",
        "from sklearn.metrics import accuracy_score\n",
        "\n",
        "# Membuat objek model Naive Bayes (Bernoulli Naive Bayes)\n",
        "naive_bayes = BernoulliNB()\n",
        "\n",
        "# Melatih model Naive Bayes pada data pelatihan\n",
        "naive_bayes.fit(X_train.toarray(), y_train)\n",
        "\n",
        "# Prediksi sentimen pada data pelatihan dan data uji\n",
        "y_pred_train_nb = naive_bayes.predict(X_train.toarray())\n",
        "y_pred_test_nb = naive_bayes.predict(X_test.toarray())\n",
        "\n",
        "# Evaluasi akurasi model Naive Bayes\n",
        "accuracy_train_nb = accuracy_score(y_pred_train_nb, y_train)\n",
        "accuracy_test_nb = accuracy_score(y_pred_test_nb, y_test)\n",
        "\n",
        "# Menampilkan akurasi\n",
        "print('Naive Bayes - accuracy_train:', accuracy_train_nb)\n",
        "print('Naive Bayes - accuracy_test:', accuracy_test_nb)"
      ],
      "metadata": {
        "colab": {
          "base_uri": "https://localhost:8080/"
        },
        "id": "JIVqcUCm9ifs",
        "outputId": "7943ee79-8c76-408e-d29c-b45df802a74d"
      },
      "execution_count": 24,
      "outputs": [
        {
          "output_type": "stream",
          "name": "stdout",
          "text": [
            "Naive Bayes - accuracy_train: 0.782015047171689\n",
            "Naive Bayes - accuracy_test: 0.7851494082055093\n"
          ]
        }
      ]
    },
    {
      "cell_type": "code",
      "source": [
        "from sklearn.ensemble import RandomForestClassifier\n",
        "\n",
        "# Membuat objek model Random Forest\n",
        "random_forest = RandomForestClassifier()\n",
        "\n",
        "# Melatih model Random Forest pada data pelatihan\n",
        "random_forest.fit(X_train.toarray(), y_train)\n",
        "\n",
        "# Prediksi sentimen pada data pelatihan dan data uji\n",
        "y_pred_train_rf = random_forest.predict(X_train.toarray())\n",
        "y_pred_test_rf = random_forest.predict(X_test.toarray())\n",
        "\n",
        "# Evaluasi akurasi model Random Forest\n",
        "accuracy_train_rf = accuracy_score(y_pred_train_rf, y_train)\n",
        "accuracy_test_rf = accuracy_score(y_pred_test_rf, y_test)\n",
        "\n",
        "# Menampilkan akurasi\n",
        "print('Random Forest - accuracy_train:', accuracy_train_rf)\n",
        "print('Random Forest - accuracy_test:', accuracy_test_rf)"
      ],
      "metadata": {
        "colab": {
          "base_uri": "https://localhost:8080/"
        },
        "id": "4prIXou-9nGO",
        "outputId": "5ef6bdbe-278b-4cbf-b9a9-9bd47b433d6f"
      },
      "execution_count": 25,
      "outputs": [
        {
          "output_type": "stream",
          "name": "stdout",
          "text": [
            "Random Forest - accuracy_train: 0.9744834998606743\n",
            "Random Forest - accuracy_test: 0.8939015975797463\n"
          ]
        }
      ]
    },
    {
      "cell_type": "code",
      "source": [
        "from sklearn.linear_model import LogisticRegression\n",
        "\n",
        "# Membuat objek model Logistic Regression\n",
        "logistic_regression = LogisticRegression()\n",
        "\n",
        "# Melatih model Logistic Regression pada data pelatihan\n",
        "logistic_regression.fit(X_train.toarray(), y_train)\n",
        "\n",
        "# Prediksi sentimen pada data pelatihan dan data uji\n",
        "y_pred_train_lr = logistic_regression.predict(X_train.toarray())\n",
        "y_pred_test_lr = logistic_regression.predict(X_test.toarray())\n",
        "\n",
        "# Evaluasi akurasi model Logistic Regression pada data pelatihan\n",
        "accuracy_train_lr = accuracy_score(y_pred_train_lr, y_train)\n",
        "\n",
        "# Evaluasi akurasi model Logistic Regression pada data uji\n",
        "accuracy_test_lr = accuracy_score(y_pred_test_lr, y_test)\n",
        "\n",
        "# Menampilkan akurasi\n",
        "print('Logistic Regression - accuracy_train:', accuracy_train_lr)\n",
        "print('Logistic Regression - accuracy_test:', accuracy_test_lr)"
      ],
      "metadata": {
        "colab": {
          "base_uri": "https://localhost:8080/"
        },
        "id": "CYCuUwCR9vZN",
        "outputId": "6c38e9d9-e2e1-4d55-ebba-a41fd09dba80"
      },
      "execution_count": 26,
      "outputs": [
        {
          "output_type": "stream",
          "name": "stdout",
          "text": [
            "Logistic Regression - accuracy_train: 0.9074612210235792\n",
            "Logistic Regression - accuracy_test: 0.9101427737381244\n"
          ]
        }
      ]
    },
    {
      "cell_type": "code",
      "source": [
        "from sklearn.tree import DecisionTreeClassifier\n",
        "\n",
        "# Membuat objek model Decision Tree\n",
        "decision_tree = DecisionTreeClassifier()\n",
        "\n",
        "# Melatih model Decision Tree pada data pelatihan\n",
        "decision_tree.fit(X_train.toarray(), y_train)\n",
        "\n",
        "# Prediksi sentimen pada data pelatihan dan data uji\n",
        "y_pred_train_dt = decision_tree.predict(X_train.toarray())\n",
        "y_pred_test_dt = decision_tree.predict(X_test.toarray())\n",
        "\n",
        "# Evaluasi akurasi model Decision Tree\n",
        "accuracy_train_dt = accuracy_score(y_pred_train_dt, y_train)\n",
        "accuracy_test_dt = accuracy_score(y_pred_test_dt, y_test)\n",
        "\n",
        "# Menampilkan akurasi\n",
        "print('Decision Tree - accuracy_train:', accuracy_train_dt)\n",
        "print('Decision Tree - accuracy_test:', accuracy_test_dt)"
      ],
      "metadata": {
        "colab": {
          "base_uri": "https://localhost:8080/"
        },
        "id": "9eR3eAsT9zfb",
        "outputId": "100cece9-4f4a-4118-e954-89611b69cf74"
      },
      "execution_count": 27,
      "outputs": [
        {
          "output_type": "stream",
          "name": "stdout",
          "text": [
            "Decision Tree - accuracy_train: 0.9745100380823482\n",
            "Decision Tree - accuracy_test: 0.8595085186561223\n"
          ]
        }
      ]
    }
  ]
}