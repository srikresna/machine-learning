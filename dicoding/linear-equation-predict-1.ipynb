{
  "nbformat": 4,
  "nbformat_minor": 0,
  "metadata": {
    "colab": {
      "provenance": []
    },
    "kernelspec": {
      "name": "python3",
      "display_name": "Python 3"
    },
    "language_info": {
      "name": "python"
    }
  },
  "cells": [
    {
      "cell_type": "markdown",
      "source": [
        "Sebuah model dari API keras dapat menerima masukan dengan tipe data numpy array. Sehingga kita bisa membuat 2 buah objek bertipe numpy array, satu untuk atribut dan satu sebagai labelnya."
      ],
      "metadata": {
        "id": "VAy2CciyoDsN"
      }
    },
    {
      "cell_type": "code",
      "source": [],
      "metadata": {
        "id": "SMKU9txEzlRv"
      },
      "execution_count": null,
      "outputs": []
    },
    {
      "cell_type": "code",
      "execution_count": null,
      "metadata": {
        "id": "Sf7uLRQxmqWp"
      },
      "outputs": [],
      "source": [
        "import tensorflow as tf\n",
        "import numpy as np\n",
        "from tensorflow import keras"
      ]
    },
    {
      "cell_type": "code",
      "source": [
        "xs = np.array([1.0, 2.0, 3.0, 4.0, 5.0, 6.0], dtype=float)\n",
        "ys = np.array([4.0, 6.0, 8.0, 10.0, 12.0, 14.0], dtype=float)"
      ],
      "metadata": {
        "id": "bkjBvJ2FnNof"
      },
      "execution_count": null,
      "outputs": []
    },
    {
      "cell_type": "markdown",
      "source": [
        "Kemudian kita buat model JST kita dengan memanggil fungsi tf.keras.Sequential(). Sequential adalah model JST yang paling sederhana dan telah kita pelajari sebelumnya. Pada model sequential, setiap layer pada jaringan saraf tiruan terhubung secara sekuensial, sesuai namanya. "
      ],
      "metadata": {
        "id": "LbZnQbH6oGff"
      }
    },
    {
      "cell_type": "code",
      "source": [
        "#model = tf.keras.Sequential([keras.layers.Dense(units=1, input_shape=[1])])\n",
        "\n",
        "#model dengan 3 layer akan menjadi\n",
        "model = tf.keras.Sequential([\n",
        "                            keras.layers.Dense(units = 1, input_shape = [1]),\n",
        "                            keras.layers.Dense(units = 8),\n",
        "                            keras.layers.Dense(units = 1)])\n",
        "#unit merepresentasikan jumlah perseptron pada setiap layer"
      ],
      "metadata": {
        "id": "GtD-s7xtn9Pf"
      },
      "execution_count": 8,
      "outputs": []
    },
    {
      "cell_type": "markdown",
      "source": [
        "Pada model sequential ini, kita kemudian isi layer yang kita inginkan untuk model kita. Untuk membuat sebuah layer, kita dapat menggunakan fungsi keras.layers.Dense().\n",
        "\n",
        "1. Parameter units dari fungsi keras.layers.Dense() adalah jumlah perseptron yang dimiliki oleh layer tersebut. Yang perlu diperhatikan pada model sequential adalah, layer pertama dari model tersebut haruslah memiliki parameter input_shape agar model bisa mengenali bentuk input yang akan diprosesnya.\n",
        "\n",
        "2. Parameter input_shape menunjukkan bentuk dari setiap elemen input yang akan diterima oleh model. Pada kasus kita setiap elemen dari data kita adalah sebuah bilangan numerik 1 digit, sehingga kita bisa isi input_shape kita dengan angka 1. Jika sebuah elemen dari dataset kita berupa gambar yang memiliki dimensi 32*32 piksel, maka input_shape yang sesuai adalah [32,32]."
      ],
      "metadata": {
        "id": "sOWPEerQoTI1"
      }
    },
    {
      "cell_type": "markdown",
      "source": [
        "Kemudian, hal yang paling penting selanjutnya adalah menentukan optimizer dan loss dari model agar model kita bisa belajar. Untuk menentukan optimizer dan loss kita gunakan fungsi compile. Untuk masalah regresi kita yang sederhana, kita dapat menggunakan stochastic gradient descent sebagai optimizer, dan mean squared error sebagai loss function model kita."
      ],
      "metadata": {
        "id": "97U-9OrwoiHI"
      }
    },
    {
      "cell_type": "code",
      "source": [
        "model.compile(optimizer='sgd', loss='mean_squared_error')"
      ],
      "metadata": {
        "id": "YOZL0iaQoVDG"
      },
      "execution_count": 9,
      "outputs": []
    },
    {
      "cell_type": "markdown",
      "source": [
        "Terakhir, yuk kita panggil fungsi yang paling terkenal dari machine learning yaitu fit(). Fungsi fit() adalah fungsi di mana kita menyuruh model kita untuk mempelajari hubungan antara atribut dan label pada dataset. Selain atribut dan label, Parameter lain yang diperlukan sebuah model keras pada fit adalah epochs. Epochs adalah berapa kali sebuah JST harus belajar memperbaiki akurasinya."
      ],
      "metadata": {
        "id": "sQn-9tkto5lz"
      }
    },
    {
      "cell_type": "code",
      "source": [
        "model.fit(xs, ys, epochs=150)"
      ],
      "metadata": {
        "colab": {
          "base_uri": "https://localhost:8080/"
        },
        "id": "umm_Na51olvr",
        "outputId": "65b37f96-10c8-47bf-e993-9af3ff7ad128"
      },
      "execution_count": 13,
      "outputs": [
        {
          "output_type": "stream",
          "name": "stdout",
          "text": [
            "Epoch 1/150\n",
            "1/1 [==============================] - 0s 14ms/step - loss: 5.0518\n",
            "Epoch 2/150\n",
            "1/1 [==============================] - 0s 10ms/step - loss: 2.5624\n",
            "Epoch 3/150\n",
            "1/1 [==============================] - 0s 11ms/step - loss: 4.9848\n",
            "Epoch 4/150\n",
            "1/1 [==============================] - 0s 10ms/step - loss: 2.5383\n",
            "Epoch 5/150\n",
            "1/1 [==============================] - 0s 8ms/step - loss: 4.9194\n",
            "Epoch 6/150\n",
            "1/1 [==============================] - 0s 8ms/step - loss: 2.5147\n",
            "Epoch 7/150\n",
            "1/1 [==============================] - 0s 8ms/step - loss: 4.8556\n",
            "Epoch 8/150\n",
            "1/1 [==============================] - 0s 8ms/step - loss: 2.4914\n",
            "Epoch 9/150\n",
            "1/1 [==============================] - 0s 8ms/step - loss: 4.7931\n",
            "Epoch 10/150\n",
            "1/1 [==============================] - 0s 9ms/step - loss: 2.4685\n",
            "Epoch 11/150\n",
            "1/1 [==============================] - 0s 7ms/step - loss: 4.7322\n",
            "Epoch 12/150\n",
            "1/1 [==============================] - 0s 7ms/step - loss: 2.4459\n",
            "Epoch 13/150\n",
            "1/1 [==============================] - 0s 8ms/step - loss: 4.6725\n",
            "Epoch 14/150\n",
            "1/1 [==============================] - 0s 7ms/step - loss: 2.4237\n",
            "Epoch 15/150\n",
            "1/1 [==============================] - 0s 7ms/step - loss: 4.6141\n",
            "Epoch 16/150\n",
            "1/1 [==============================] - 0s 8ms/step - loss: 2.4019\n",
            "Epoch 17/150\n",
            "1/1 [==============================] - 0s 8ms/step - loss: 4.5570\n",
            "Epoch 18/150\n",
            "1/1 [==============================] - 0s 8ms/step - loss: 2.3803\n",
            "Epoch 19/150\n",
            "1/1 [==============================] - 0s 8ms/step - loss: 4.5011\n",
            "Epoch 20/150\n",
            "1/1 [==============================] - 0s 8ms/step - loss: 2.3591\n",
            "Epoch 21/150\n",
            "1/1 [==============================] - 0s 10ms/step - loss: 4.4463\n",
            "Epoch 22/150\n",
            "1/1 [==============================] - 0s 9ms/step - loss: 2.3382\n",
            "Epoch 23/150\n",
            "1/1 [==============================] - 0s 9ms/step - loss: 4.3926\n",
            "Epoch 24/150\n",
            "1/1 [==============================] - 0s 8ms/step - loss: 2.3175\n",
            "Epoch 25/150\n",
            "1/1 [==============================] - 0s 7ms/step - loss: 4.3400\n",
            "Epoch 26/150\n",
            "1/1 [==============================] - 0s 8ms/step - loss: 2.2972\n",
            "Epoch 27/150\n",
            "1/1 [==============================] - 0s 7ms/step - loss: 4.2884\n",
            "Epoch 28/150\n",
            "1/1 [==============================] - 0s 8ms/step - loss: 2.2771\n",
            "Epoch 29/150\n",
            "1/1 [==============================] - 0s 10ms/step - loss: 4.2378\n",
            "Epoch 30/150\n",
            "1/1 [==============================] - 0s 8ms/step - loss: 2.2574\n",
            "Epoch 31/150\n",
            "1/1 [==============================] - 0s 8ms/step - loss: 4.1881\n",
            "Epoch 32/150\n",
            "1/1 [==============================] - 0s 8ms/step - loss: 2.2378\n",
            "Epoch 33/150\n",
            "1/1 [==============================] - 0s 8ms/step - loss: 4.1394\n",
            "Epoch 34/150\n",
            "1/1 [==============================] - 0s 8ms/step - loss: 2.2185\n",
            "Epoch 35/150\n",
            "1/1 [==============================] - 0s 8ms/step - loss: 4.0915\n",
            "Epoch 36/150\n",
            "1/1 [==============================] - 0s 8ms/step - loss: 2.1995\n",
            "Epoch 37/150\n",
            "1/1 [==============================] - 0s 8ms/step - loss: 4.0445\n",
            "Epoch 38/150\n",
            "1/1 [==============================] - 0s 8ms/step - loss: 2.1807\n",
            "Epoch 39/150\n",
            "1/1 [==============================] - 0s 8ms/step - loss: 3.9983\n",
            "Epoch 40/150\n",
            "1/1 [==============================] - 0s 8ms/step - loss: 2.1622\n",
            "Epoch 41/150\n",
            "1/1 [==============================] - 0s 8ms/step - loss: 3.9529\n",
            "Epoch 42/150\n",
            "1/1 [==============================] - 0s 8ms/step - loss: 2.1438\n",
            "Epoch 43/150\n",
            "1/1 [==============================] - 0s 9ms/step - loss: 3.9082\n",
            "Epoch 44/150\n",
            "1/1 [==============================] - 0s 9ms/step - loss: 2.1257\n",
            "Epoch 45/150\n",
            "1/1 [==============================] - 0s 8ms/step - loss: 3.8643\n",
            "Epoch 46/150\n",
            "1/1 [==============================] - 0s 8ms/step - loss: 2.1078\n",
            "Epoch 47/150\n",
            "1/1 [==============================] - 0s 8ms/step - loss: 3.8211\n",
            "Epoch 48/150\n",
            "1/1 [==============================] - 0s 8ms/step - loss: 2.0901\n",
            "Epoch 49/150\n",
            "1/1 [==============================] - 0s 8ms/step - loss: 3.7786\n",
            "Epoch 50/150\n",
            "1/1 [==============================] - 0s 8ms/step - loss: 2.0727\n",
            "Epoch 51/150\n",
            "1/1 [==============================] - 0s 8ms/step - loss: 3.7368\n",
            "Epoch 52/150\n",
            "1/1 [==============================] - 0s 8ms/step - loss: 2.0554\n",
            "Epoch 53/150\n",
            "1/1 [==============================] - 0s 8ms/step - loss: 3.6956\n",
            "Epoch 54/150\n",
            "1/1 [==============================] - 0s 8ms/step - loss: 2.0383\n",
            "Epoch 55/150\n",
            "1/1 [==============================] - 0s 8ms/step - loss: 3.6551\n",
            "Epoch 56/150\n",
            "1/1 [==============================] - 0s 8ms/step - loss: 2.0214\n",
            "Epoch 57/150\n",
            "1/1 [==============================] - 0s 8ms/step - loss: 3.6152\n",
            "Epoch 58/150\n",
            "1/1 [==============================] - 0s 8ms/step - loss: 2.0047\n",
            "Epoch 59/150\n",
            "1/1 [==============================] - 0s 8ms/step - loss: 3.5759\n",
            "Epoch 60/150\n",
            "1/1 [==============================] - 0s 8ms/step - loss: 1.9881\n",
            "Epoch 61/150\n",
            "1/1 [==============================] - 0s 8ms/step - loss: 3.5372\n",
            "Epoch 62/150\n",
            "1/1 [==============================] - 0s 8ms/step - loss: 1.9718\n",
            "Epoch 63/150\n",
            "1/1 [==============================] - 0s 10ms/step - loss: 3.4990\n",
            "Epoch 64/150\n",
            "1/1 [==============================] - 0s 11ms/step - loss: 1.9556\n",
            "Epoch 65/150\n",
            "1/1 [==============================] - 0s 8ms/step - loss: 3.4614\n",
            "Epoch 66/150\n",
            "1/1 [==============================] - 0s 7ms/step - loss: 1.9396\n",
            "Epoch 67/150\n",
            "1/1 [==============================] - 0s 8ms/step - loss: 3.4243\n",
            "Epoch 68/150\n",
            "1/1 [==============================] - 0s 8ms/step - loss: 1.9237\n",
            "Epoch 69/150\n",
            "1/1 [==============================] - 0s 9ms/step - loss: 3.3878\n",
            "Epoch 70/150\n",
            "1/1 [==============================] - 0s 9ms/step - loss: 1.9080\n",
            "Epoch 71/150\n",
            "1/1 [==============================] - 0s 8ms/step - loss: 3.3517\n",
            "Epoch 72/150\n",
            "1/1 [==============================] - 0s 10ms/step - loss: 1.8925\n",
            "Epoch 73/150\n",
            "1/1 [==============================] - 0s 9ms/step - loss: 3.3162\n",
            "Epoch 74/150\n",
            "1/1 [==============================] - 0s 9ms/step - loss: 1.8771\n",
            "Epoch 75/150\n",
            "1/1 [==============================] - 0s 15ms/step - loss: 3.2811\n",
            "Epoch 76/150\n",
            "1/1 [==============================] - 0s 9ms/step - loss: 1.8619\n",
            "Epoch 77/150\n",
            "1/1 [==============================] - 0s 9ms/step - loss: 3.2465\n",
            "Epoch 78/150\n",
            "1/1 [==============================] - 0s 9ms/step - loss: 1.8468\n",
            "Epoch 79/150\n",
            "1/1 [==============================] - 0s 8ms/step - loss: 3.2124\n",
            "Epoch 80/150\n",
            "1/1 [==============================] - 0s 9ms/step - loss: 1.8318\n",
            "Epoch 81/150\n",
            "1/1 [==============================] - 0s 9ms/step - loss: 3.1787\n",
            "Epoch 82/150\n",
            "1/1 [==============================] - 0s 9ms/step - loss: 1.8171\n",
            "Epoch 83/150\n",
            "1/1 [==============================] - 0s 9ms/step - loss: 3.1454\n",
            "Epoch 84/150\n",
            "1/1 [==============================] - 0s 9ms/step - loss: 1.8024\n",
            "Epoch 85/150\n",
            "1/1 [==============================] - 0s 11ms/step - loss: 3.1126\n",
            "Epoch 86/150\n",
            "1/1 [==============================] - 0s 12ms/step - loss: 1.7879\n",
            "Epoch 87/150\n",
            "1/1 [==============================] - 0s 9ms/step - loss: 3.0802\n",
            "Epoch 88/150\n",
            "1/1 [==============================] - 0s 8ms/step - loss: 1.7735\n",
            "Epoch 89/150\n",
            "1/1 [==============================] - 0s 9ms/step - loss: 3.0482\n",
            "Epoch 90/150\n",
            "1/1 [==============================] - 0s 8ms/step - loss: 1.7592\n",
            "Epoch 91/150\n",
            "1/1 [==============================] - 0s 8ms/step - loss: 3.0166\n",
            "Epoch 92/150\n",
            "1/1 [==============================] - 0s 8ms/step - loss: 1.7451\n",
            "Epoch 93/150\n",
            "1/1 [==============================] - 0s 8ms/step - loss: 2.9854\n",
            "Epoch 94/150\n",
            "1/1 [==============================] - 0s 8ms/step - loss: 1.7311\n",
            "Epoch 95/150\n",
            "1/1 [==============================] - 0s 8ms/step - loss: 2.9546\n",
            "Epoch 96/150\n",
            "1/1 [==============================] - 0s 8ms/step - loss: 1.7173\n",
            "Epoch 97/150\n",
            "1/1 [==============================] - 0s 8ms/step - loss: 2.9242\n",
            "Epoch 98/150\n",
            "1/1 [==============================] - 0s 8ms/step - loss: 1.7035\n",
            "Epoch 99/150\n",
            "1/1 [==============================] - 0s 8ms/step - loss: 2.8942\n",
            "Epoch 100/150\n",
            "1/1 [==============================] - 0s 9ms/step - loss: 1.6899\n",
            "Epoch 101/150\n",
            "1/1 [==============================] - 0s 8ms/step - loss: 2.8645\n",
            "Epoch 102/150\n",
            "1/1 [==============================] - 0s 8ms/step - loss: 1.6764\n",
            "Epoch 103/150\n",
            "1/1 [==============================] - 0s 8ms/step - loss: 2.8352\n",
            "Epoch 104/150\n",
            "1/1 [==============================] - 0s 7ms/step - loss: 1.6630\n",
            "Epoch 105/150\n",
            "1/1 [==============================] - 0s 8ms/step - loss: 2.8062\n",
            "Epoch 106/150\n",
            "1/1 [==============================] - 0s 8ms/step - loss: 1.6497\n",
            "Epoch 107/150\n",
            "1/1 [==============================] - 0s 9ms/step - loss: 2.7775\n",
            "Epoch 108/150\n",
            "1/1 [==============================] - 0s 8ms/step - loss: 1.6366\n",
            "Epoch 109/150\n",
            "1/1 [==============================] - 0s 9ms/step - loss: 2.7492\n",
            "Epoch 110/150\n",
            "1/1 [==============================] - 0s 9ms/step - loss: 1.6235\n",
            "Epoch 111/150\n",
            "1/1 [==============================] - 0s 13ms/step - loss: 2.7213\n",
            "Epoch 112/150\n",
            "1/1 [==============================] - 0s 9ms/step - loss: 1.6106\n",
            "Epoch 113/150\n",
            "1/1 [==============================] - 0s 9ms/step - loss: 2.6936\n",
            "Epoch 114/150\n",
            "1/1 [==============================] - 0s 9ms/step - loss: 1.5978\n",
            "Epoch 115/150\n",
            "1/1 [==============================] - 0s 9ms/step - loss: 2.6663\n",
            "Epoch 116/150\n",
            "1/1 [==============================] - 0s 9ms/step - loss: 1.5851\n",
            "Epoch 117/150\n",
            "1/1 [==============================] - 0s 8ms/step - loss: 2.6393\n",
            "Epoch 118/150\n",
            "1/1 [==============================] - 0s 9ms/step - loss: 1.5725\n",
            "Epoch 119/150\n",
            "1/1 [==============================] - 0s 8ms/step - loss: 2.6126\n",
            "Epoch 120/150\n",
            "1/1 [==============================] - 0s 8ms/step - loss: 1.5600\n",
            "Epoch 121/150\n",
            "1/1 [==============================] - 0s 8ms/step - loss: 2.5862\n",
            "Epoch 122/150\n",
            "1/1 [==============================] - 0s 8ms/step - loss: 1.5476\n",
            "Epoch 123/150\n",
            "1/1 [==============================] - 0s 8ms/step - loss: 2.5601\n",
            "Epoch 124/150\n",
            "1/1 [==============================] - 0s 9ms/step - loss: 1.5353\n",
            "Epoch 125/150\n",
            "1/1 [==============================] - 0s 9ms/step - loss: 2.5343\n",
            "Epoch 126/150\n",
            "1/1 [==============================] - 0s 9ms/step - loss: 1.5231\n",
            "Epoch 127/150\n",
            "1/1 [==============================] - 0s 9ms/step - loss: 2.5088\n",
            "Epoch 128/150\n",
            "1/1 [==============================] - 0s 8ms/step - loss: 1.5110\n",
            "Epoch 129/150\n",
            "1/1 [==============================] - 0s 8ms/step - loss: 2.4836\n",
            "Epoch 130/150\n",
            "1/1 [==============================] - 0s 9ms/step - loss: 1.4990\n",
            "Epoch 131/150\n",
            "1/1 [==============================] - 0s 8ms/step - loss: 2.4586\n",
            "Epoch 132/150\n",
            "1/1 [==============================] - 0s 9ms/step - loss: 1.4871\n",
            "Epoch 133/150\n",
            "1/1 [==============================] - 0s 9ms/step - loss: 2.4340\n",
            "Epoch 134/150\n",
            "1/1 [==============================] - 0s 9ms/step - loss: 1.4753\n",
            "Epoch 135/150\n",
            "1/1 [==============================] - 0s 8ms/step - loss: 2.4096\n",
            "Epoch 136/150\n",
            "1/1 [==============================] - 0s 9ms/step - loss: 1.4636\n",
            "Epoch 137/150\n",
            "1/1 [==============================] - 0s 9ms/step - loss: 2.3855\n",
            "Epoch 138/150\n",
            "1/1 [==============================] - 0s 9ms/step - loss: 1.4520\n",
            "Epoch 139/150\n",
            "1/1 [==============================] - 0s 8ms/step - loss: 2.3616\n",
            "Epoch 140/150\n",
            "1/1 [==============================] - 0s 9ms/step - loss: 1.4405\n",
            "Epoch 141/150\n",
            "1/1 [==============================] - 0s 9ms/step - loss: 2.3380\n",
            "Epoch 142/150\n",
            "1/1 [==============================] - 0s 7ms/step - loss: 1.4290\n",
            "Epoch 143/150\n",
            "1/1 [==============================] - 0s 8ms/step - loss: 2.3147\n",
            "Epoch 144/150\n",
            "1/1 [==============================] - 0s 9ms/step - loss: 1.4177\n",
            "Epoch 145/150\n",
            "1/1 [==============================] - 0s 9ms/step - loss: 2.2916\n",
            "Epoch 146/150\n",
            "1/1 [==============================] - 0s 9ms/step - loss: 1.4065\n",
            "Epoch 147/150\n",
            "1/1 [==============================] - 0s 9ms/step - loss: 2.2688\n",
            "Epoch 148/150\n",
            "1/1 [==============================] - 0s 9ms/step - loss: 1.3953\n",
            "Epoch 149/150\n",
            "1/1 [==============================] - 0s 8ms/step - loss: 2.2462\n",
            "Epoch 150/150\n",
            "1/1 [==============================] - 0s 9ms/step - loss: 1.3842\n"
          ]
        },
        {
          "output_type": "execute_result",
          "data": {
            "text/plain": [
              "<keras.callbacks.History at 0x7f977d7eeed0>"
            ]
          },
          "metadata": {},
          "execution_count": 13
        }
      ]
    },
    {
      "cell_type": "code",
      "source": [
        "print(model.predict([10.0]))"
      ],
      "metadata": {
        "colab": {
          "base_uri": "https://localhost:8080/"
        },
        "id": "TZWtnJS9pPbO",
        "outputId": "bd054139-7f5a-41f6-f55a-825d7afb518b"
      },
      "execution_count": 14,
      "outputs": [
        {
          "output_type": "stream",
          "name": "stdout",
          "text": [
            "1/1 [==============================] - 0s 32ms/step\n",
            "[[17.706347]]\n"
          ]
        }
      ]
    }
  ]
}