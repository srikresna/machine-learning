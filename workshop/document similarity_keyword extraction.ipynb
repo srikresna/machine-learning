{
 "cells": [
  {
   "cell_type": "code",
   "execution_count": 1,
   "metadata": {},
   "outputs": [],
   "source": [
    "import pandas as pd\n",
    "from nltk.tokenize import word_tokenize\n",
    "from nltk.corpus import stopwords\n",
    "from string import punctuation\n",
    "\n",
    "sw_indo = stopwords.words('indonesian') + list(punctuation)"
   ]
  },
  {
   "cell_type": "code",
   "execution_count": 2,
   "metadata": {},
   "outputs": [
    {
     "data": {
      "text/html": [
       "<div>\n",
       "<style scoped>\n",
       "    .dataframe tbody tr th:only-of-type {\n",
       "        vertical-align: middle;\n",
       "    }\n",
       "\n",
       "    .dataframe tbody tr th {\n",
       "        vertical-align: top;\n",
       "    }\n",
       "\n",
       "    .dataframe thead th {\n",
       "        text-align: right;\n",
       "    }\n",
       "</style>\n",
       "<table border=\"1\" class=\"dataframe\">\n",
       "  <thead>\n",
       "    <tr style=\"text-align: right;\">\n",
       "      <th></th>\n",
       "      <th>teks</th>\n",
       "    </tr>\n",
       "  </thead>\n",
       "  <tbody>\n",
       "    <tr>\n",
       "      <th>0</th>\n",
       "      <td>Ginandjar Tetap Ditahan. Jaksa Agung Dilaporka...</td>\n",
       "    </tr>\n",
       "    <tr>\n",
       "      <th>1</th>\n",
       "      <td>Jakarta Dikangkangi Para Preman\\nKALAU tak pun...</td>\n",
       "    </tr>\n",
       "    <tr>\n",
       "      <th>2</th>\n",
       "      <td>Penyimpangan di Setpres Seolah Terjadi Sekaran...</td>\n",
       "    </tr>\n",
       "    <tr>\n",
       "      <th>3</th>\n",
       "      <td>Dibayarkan, Rapel Kenaikan Gaji Pegawai Pos\\nK...</td>\n",
       "    </tr>\n",
       "    <tr>\n",
       "      <th>4</th>\n",
       "      <td>Stop Kekerasan, Elite agar Duduk Bersama\\nSeju...</td>\n",
       "    </tr>\n",
       "  </tbody>\n",
       "</table>\n",
       "</div>"
      ],
      "text/plain": [
       "                                                teks\n",
       "0  Ginandjar Tetap Ditahan. Jaksa Agung Dilaporka...\n",
       "1  Jakarta Dikangkangi Para Preman\\nKALAU tak pun...\n",
       "2  Penyimpangan di Setpres Seolah Terjadi Sekaran...\n",
       "3  Dibayarkan, Rapel Kenaikan Gaji Pegawai Pos\\nK...\n",
       "4  Stop Kekerasan, Elite agar Duduk Bersama\\nSeju..."
      ]
     },
     "execution_count": 2,
     "metadata": {},
     "output_type": "execute_result"
    }
   ],
   "source": [
    "df = pd.read_csv(\"assets/data2/kompas.csv\")\n",
    "df.head()"
   ]
  },
  {
   "cell_type": "code",
   "execution_count": 3,
   "metadata": {},
   "outputs": [],
   "source": [
    "from sklearn.feature_extraction.text import TfidfVectorizer"
   ]
  },
  {
   "cell_type": "code",
   "execution_count": 4,
   "metadata": {},
   "outputs": [],
   "source": [
    "tfidf = TfidfVectorizer(ngram_range=(1, 2), tokenizer=word_tokenize, stop_words=sw_indo)"
   ]
  },
  {
   "cell_type": "code",
   "execution_count": 6,
   "metadata": {},
   "outputs": [
    {
     "name": "stderr",
     "output_type": "stream",
     "text": [
      "c:\\Users\\Kresna\\miniconda3\\lib\\site-packages\\sklearn\\feature_extraction\\text.py:528: UserWarning: The parameter 'token_pattern' will not be used since 'tokenizer' is not None'\n",
      "  warnings.warn(\n",
      "c:\\Users\\Kresna\\miniconda3\\lib\\site-packages\\sklearn\\feature_extraction\\text.py:409: UserWarning: Your stop_words may be inconsistent with your preprocessing. Tokenizing the stop words generated tokens ['``'] not in stop_words.\n",
      "  warnings.warn(\n"
     ]
    }
   ],
   "source": [
    "tfidf_matrix = tfidf.fit_transform(df.teks)"
   ]
  },
  {
   "cell_type": "markdown",
   "metadata": {},
   "source": [
    "<h1> TFIDF Similarity -> Docoment Similarity"
   ]
  },
  {
   "cell_type": "code",
   "execution_count": 7,
   "metadata": {},
   "outputs": [],
   "source": [
    "from sklearn.metrics.pairwise import cosine_similarity"
   ]
  },
  {
   "cell_type": "code",
   "execution_count": 10,
   "metadata": {},
   "outputs": [
    {
     "data": {
      "text/plain": [
       "array([[1.        , 0.00858328, 0.01060043, ..., 0.00856287, 0.00677808,\n",
       "        0.01513341]])"
      ]
     },
     "execution_count": 10,
     "metadata": {},
     "output_type": "execute_result"
    }
   ],
   "source": [
    "sim = cosine_similarity(tfidf_matrix[0], tfidf_matrix)\n",
    "sim"
   ]
  },
  {
   "cell_type": "markdown",
   "metadata": {},
   "source": [
    "temukan index teks yang paling mirip dengan teks baris pertama"
   ]
  },
  {
   "cell_type": "code",
   "execution_count": 11,
   "metadata": {},
   "outputs": [
    {
     "data": {
      "text/plain": [
       "array([[ 932, 1131, 1593, ...,  215,  144,    0]], dtype=int64)"
      ]
     },
     "execution_count": 11,
     "metadata": {},
     "output_type": "execute_result"
    }
   ],
   "source": [
    "sim.argsort()"
   ]
  },
  {
   "cell_type": "code",
   "execution_count": 18,
   "metadata": {},
   "outputs": [
    {
     "data": {
      "text/plain": [
       "'Ginandjar Tetap Ditahan. Jaksa Agung Dilaporkan ke Polri\\nKejaksaan Agung memutuskan untuk tetap menahan tersangka kasus korupsi, Ginandjar Kartasasmita, sampai batas waktu yang ditentukan KUHAP. Sedangkan para kuasa hukum Ginandjar, hingga Senin (16/4) malam pukul 24.30, masih berada di ruang tahanan (rutan) Kejaksaan Agung untuk membawa politisi dari Partai Golkar itu keluar dari tahanan.  Terjadinya perbedaan pandangan antara kejaksaan yang ingin tetap menahan dan pendapat para kuasa hukum Ginandjar yang ingin membawa Ginandjar ke luar dari rutan disebabkan tafsir yang berbeda, sesuai kepentingan di antara kedua pihak, atas amar putusan hakim praperadilan Pengadilan Negeri Jakarta Selatan Rusman Dani Achmad.  Hakim Rusman dalam putusan yang dibacakan, Senin (16/4) pagi, menyatakan, penahanan Ginandjar sebelum tanggal 9 April 2001 adalah tidak sah. Begitu hakim Rusman membacakan putusan, para kerabat Ginandjar mulai mempersiapkan kepulangan Ginandjar. Beberapa barang bawaan Ginandjar sudah dibawa pulang.   Namun, pihak kejaksaan menolak untuk melepaskan Ginandjar. Direktur Penyidikan pada Jaksa Agung Muda Bidang Tindak Pidana Khusus Soedibyo Saleh mengartikan bahwa yang dinyatakan tidak sah adalah tindakan hukum sebelum tanggal 9 April 2001 sehingga apa yang terjadi setelah 9 April 2001, pengadilan memutuskan sebagai tindakan yang sah.  \"Jadi, penahanan sejak tanggal 9 April 2001, sebagai rangkaian dari tindakan penyidikan, adalah sah. Karena amar putusan tidak menyebutkan tersangka harus keluar dari tahanan, maka kejaksaan sampai saat ini masih tetap menahan (Ginandjar -Red ),\" kata Soedibyo Saleh kepada pers.   Jaksa Agung Marzuki Darusman kepada  Kompas , Senin malam mengemukakan, kejaksaan menghormati putusan pengadilan yang telah memberikan putusan secara obyektif dan seimbang serta mengakui adanya kewenangan kejaksaan.  Marzuki tidak sependapat jika dikatakan terjadi beda penafsiran antara kejaksaan dan para kuasa hukum Ginandjar. Ia menambahkan, salinan putusan itu juga belum diterima. Kejaksaan baru menerima petikannya saja.  Dalam amar petikan putusan Nomor 07/Pid/Prap/2001/PN Jaksel yang ditandatangani hakim Rusman Dani Achmad, antara lain, disebutkan, pertama, menerima permohonan pemohon (Ginandjar) untuk sebagian. Kedua, tindakan termohon (Jaksa Agung) melakukan penyidikan, penahanan, dan pembantaran dalam kasus perkara pemohon sebelum tanggal 9 April 2001 adalah tidak sah.   Dengan demikian, kata Soedibyo, waktu penahanan yang sudah dijalani Ginandjar selama 10 hari (sejak tanggal 6 April 2001) dianggap tidak berlaku. Selanjutnya, penahanan berlaku terhitung sejak tanggal 9 April 2001, untuk masa 20 hari. \"Kalau Pak Ginandjar tidak puas, bisa menggugat, minta ganti rugi (atas masa penahanan 10 hari),\" kata Soedibyo.   Marzuki pun mengatakan hal serupa. \"Kalau kuasa hukum Ginandjar mau menuntut ganti rugi, silakan saja. Itu hak mereka,\" kata Marzuki, yang juga salah seorang Ketua Partai Golkar.   Dilaporkan ke Polri   Salah seorang kuasa hukum Ginandjar, Muchyar Yara kepada pers, Senin pukul 23.10, di Kejaksaan Agung mengatakan, karena Jaksa Agung masih terus menahan Ginandjar, pihaknya melaporkan tindakan Jaksa Agung ke Mabes Polri.  Jakob Sumuk, Th Hutabarat (kuasa hukum Ginandjar) dan Agus Gumiwang Kartasasmita (putra Ginandjar) Senin malam pukul 22.00 membuat pengaduan resmi kepada Mabes Polri. Mereka diterima Wakil Komandan Reserse Mabes Polri. Jaksa Agung diadukan karena merampas kemerdekaan Ginandjar.  Para kuasa hukum Ginandjar berpendapat, dengan putusan hakim tersebut, Ginandjar harus dibebaskan dari tahanannya. Alasannya, segala tindakan yang dilakukan Kejagung sebelum tanggal 9 April 2001 adalah tidak sah. Karena itu, penahanan kliennya saat ini tidak sah karena keberadaan Ginnadjar di Rutan Kejagung didasarkan pada Surat Perintah Penahanan yang dikeluarkan Jaksa Agung tanggal 31 Maret 2001.   \"Seharusnya Pak Ginandjar keluar (bebas). Kalau tetap ditahan tidak ada dasar hukumnya, kecuali kalau ada surat penahanan baru yang dikeluarkan tim tetap koneksitas. Meski begitu, Pak Ginandjar harus keluar dulu,\" kata anggota tim kuasa hukum Ginandjar, Mohammad Assegaf.   Namun, permintaan kuasa hukum Ginandjar agar Wakil Ketua MPR tersebut dibebaskan, ditolak Kejagung dengan alasan tidak ada perintah bahwa tersangka harus keluar dan penahanan. Menurut Ketua Tim Penyidik kasus dugaan korupsi Technical Assistance Contract (TAC) antara Pertamina dengan PT Ustraindo Petro Gas (UPG) di mana salah satu tersangkanya adalah Ginandjar, Barman Zahir, tidak perlu diterbitkan surat penahanan baru oleh tim tetap koneksitas.   Muchyar Yara dan beberapa kuasa hukum Ginandjar serta keluarga Ginandjar yang masih bertahan di ruang tahanan Ginandjar mengatakan. \"Kami ingin membawa keluar Ginandjar.\"  \"Jika Pak Ginandjar tidak dilepaskan juga, berarti kejaksaan telah secara demonstratif mempertontonkan kepada publik bagaimana kejaksaan telah merampas kemerdekaan seseorang. Ini, kan, putusan pengadilan. Masak, tidak dihormati,\" kata Muchyar yang bertekad akan tetap berada di rutan sampai Ginandjar keluar dari rutan.  Mengomentari masih bertahannya para kuasa hukum Ginandjar hingga malam hari, Marzuki mengatakan, situasinya sangat insidential dan seharusnya tidak terjadi demikian. \"Itu tidak boleh,\" ucapnya. Namun, Muchyar mengatakan, dirinya bukan besuk, melainkan ingin membawa Ginandjar keluar dari rutan.   Ragu-ragu   Bukan hanya para pihak saja yang berbeda persepsi atas putusan hakim Rusman, kalangan praktisi hukum pun mempunyai persepsi yang berbeda atas putusan tersebut sehingga anggota Komisi II DPR, Teras Narang, menilai putusan itu sebagai putusan ragu-ragu.   Meski putusan praperadilan itu dinilai Narang sebagai putusan ragu-ragu, Fraksi Kebangkitan Bangsa (F-KB) DPR dalam pernyataan pers di Jakarta menyesalkan putusan yang menyatakan penahanan Ginandjar tidak sah dan mengarah ke pembebasan Ginandjar Kartasasmita.  Praktisi hukum Indriyanto Seno Adji dan Abdul Hakim Garuda Nusantara menilai, tidak ada alasan bagi kejaksaan untuk terus menahan Ginandjar. Dengan ada putusan itu, kejaksaan harus segera melepaskan Ginandjar. Sebab, tak ada lagi alasan untuk penahanannya. Surat penahanan kejaksaan harus dinyatakan batal demi hukum. Sedang Abdul Hakim mengatakan, penahanan tetap bisa dilakukan jika diterbitkan surat penahanan baru yang dikeluarkan tim koneksitas.   Tidak harus Panglima TNI   Dalam pertimbangannya, hakim Rusman menyatakan bahwa yang berhak melakukan penyidikan dan penahanan dalam kasus Ginandjar adalah tim tetap koneksitas mengingat saat kejadian Ginandjar masih anggota TNI aktif. Tim gabungan, yang terdiri dari oditur jenderal dan jaksa, yang ada selama ini tidak memenuhi persyaratan sebagaimana disebutkan dalam Surat Keputusan Bersama (SKB) Menteri Kehakiman dan Menteri Pertahanan tanggal 29 Desember 1983. Dalam SKB itu disebutkan bahwa tim tetap koneksitas harus melibatkan oditur jenderal, polisi militer dan jaksa.   Sesuai surat tanggal 9 April 2001, Panglima TNI menunjuk tiga oditur jenderal dan dua polisi militer untuk bergabung dengan Kejagung dalam tim koneksitas tetap kasus TAC dengan tersangka Ginandjar.   Soal wewenang penahanan adalah Atasan yang Berhak Menghukum (Ankum) sebagaimana disebutkan dalam permohonan praperadilan adalah Panglima TNI, menurut Hakim Rusman, tidaklah demikian. Hal ini mengingat saat penahanan hendak dilakukan, Ginandjar sudah pensiun sebagai TNI.   \"Atasan langsung yang mana yang masih berwenang untuk menjatuhkan hukuman disiplin terhadap pemohon (Ginandjar) yang fakta dan kenyataannya adalah berkedudukan sebagai Wakil Ketua MPR. Apakah tetap Panglima TNI dan bagaimana status hukum persetujuan yang diberikan Presiden (kepada Jaksa Agung untuk memeriksa Ginandjar di Kejagung),\" demikian hakim Rusman dalam pertimbangan putusannya.\\n'"
      ]
     },
     "execution_count": 18,
     "metadata": {},
     "output_type": "execute_result"
    }
   ],
   "source": [
    "df.teks[0]"
   ]
  },
  {
   "cell_type": "code",
   "execution_count": 19,
   "metadata": {},
   "outputs": [
    {
     "data": {
      "text/plain": [
       "'Kejaksaan Agung Terbitkan Surat Penahanan Baru\\nKejaksaan Agung (Kejagung) akhirnya menerbitkan surat perintah penahanan yang baru terhadap mantan Menteri Pertambangan dan Energi Ginandjar Kartasasmita. Dalam Surat Perintah Penahanan Nomor 052/F/SJP/04/2001 tertanggal 17 April 2001 yang ditandatangani Jaksa Agung Muda bidang Tindak Pidana Khusus (JAM Pidsus) Bachtiar Fachry Nasution, disebutkan bahwa Ginandjar ditahan di ruang tahanan (rutan) Kejagung untuk masa 20 hari terhitung sejak tanggal 9 April 2001. Surat penahanan itu ditolak ditandatangani oleh Ginandjar karena dinilainya tidak sah.  Sebelumnya, pihak Kejagung berpendapat, tidak perlu diterbitkan surat penahanan baru terhadap Ginandjar karena penahanan setelah tanggal 9 April 2001 adalah sah. Ini mengacu pada putusan hakim praperadilan Pengadilan Negeri Jakarta Selatan, Rusman Dani Achmad, yang dalam amarnya menyebutkan bahwa tindakan Jaksa Agung melakukan penyidikan, penahanan, dan pembantaran dalam kasus perkara Ginandjar sebelum tanggal 9 April 2001 adalah tidak sah.   Kuasa hukum Ginandjar pada pukul 23.30 meninggalkan kamar tempat Ginandjar ditahan, setelah Direktur Penyidikan Soedibyo Saleh memerintahkan mereka segera meninggalkan ruang tahanan. Beberapa saat kemudian, Muchyar Yara dan tiga orang lagi meninggalkan ruang tahanan.   Ginandjar, politisi dari Partai Golkar, disangka melakukan korupsi bersama IB Sudjana, Faisal Abda\\'oe, dan Praptono H Upoyo. Korupsi itu terjadi dalam kasus Technical Assistance Contract (TAC) antara Pertamina dan PT Ustraindo Petro Gas pada tahun 1991-1992.   Ikuti putusan   Kepala Pusat Penerangan Hukum Kejagung Muljohardjo menyebutkan, diterbitkannya surat perintah penahanan yang baru tersebut untuk melaksanakan keputusan hakim praperadilan. \"Kami  ngikut  putusan praperadilan, kami mengikuti pola pikir hakim. Mengapa surat penahanan yang baru itu baru diterbitkan tanggal 17 April 2001 karena kita menerima (salinan) putusan lengkap baru tanggal 16 April 2001. Setelah kami pelajari, sekarang (hari Rabu) kami laksanakan,\" jelas Muljohardjo.   Dengan demikian, masa tahanan yang telah dijalani Ginandjar sebelum tanggal 9 April 2001, yaitu sejak tanggal 6 April 2001, dianggap tidak berlaku. Sesuai peraturan, Ginandjar bisa mengajukan gugatan agar Kejagung membayar ganti rugi. Namun, kuasa hukum Ginandjar menyatakan belum berpikir ke arah itu karena saat ini yang paling penting bagi mereka adalah membebaskan Ginandjar. Dengan mengacu putusan hakim praperadilan, penahanan Ginandjar saat ini tidak sah.   Salah seorang kuasa hukum Ginandjar, Mohammad Assegaf, menilai, tindakan Kejagung tersebut merupakan upaya memperbaiki diri atas kekeliruan penafsiran putusan praperadilan. \"Kejaksaan Agung ingin memperbaiki kekeliruan dengan cara yang lebih keliru,\" katanya.    Menolak   Kuasa hukum Ginandjar lainnya, Muchyar Yara, mengatakan bahwa surat perintah penahanan yang baru tersebut tidak sah karena tim penyidik dari jajaran TNI menolak menandatangani berita acara penahanan. Sebagaimana Muchyar, tim penyidik dari jajaran TNI yang tergabung dalam tim tetap koneksitas berpendapat bahwa yang berhak menahan Ginandjar adalah Panglima TNI selaku Atasan yang Berhak Menghukum (Ankum) dan bukan Kejagung.   Dalam putusan praperadilan disebutkan, yang berhak melakukan penyidikan dan penahanan terhadap Ginandjar adalah tim tetap koneksitas. Sesuai penunjukan Panglima TNI dalam suratnya tertanggal 9 April 2001, lima orang penyidik dari jajaran TNI ditunjuk untuk bergabung dalam tim tetap koneksitas kasus Ginandjar. Mereka adalah Kolonel (CHK) Sonson Basar, Kolonel (CHK) Darya Iskandar, Kolonel (CHK) Salamun dari Oditur Militer, serta Letkol (CPM) Toruan dan Letkol (CPM) Tatang Sutarna dari Polisi Militer.  \"Sekitar pukul 17.00, tim koneksitas datang (ke rutan Kejagung) untuk melakukan penahanan dengan surat penahanan baru. Pak Ginandjar diminta menandatangani berita acara penahanan, tetapi Pak Ginandjar tidak mau. Ternyata tim koneksitas dari TNI juga tidak mau tanda tangan,\" kata Muchyar ketika dihubungi lewat telepon.  Sempat terjadi perdebatan yang cukup lama antara tim penyidik yang dipimpin Barman Zahir dengan pihak Ginandjar soal surat penahanan tersebut. Pembicaraan mereka terdengar para wartawan yang meliput di sana. Terdengar suara Ginandjar yang menginginkan agar ia dibebaskan karena tidak ada alasan menahan dirinya.   \"Saya ingin keluar Pak, sudah 13 hari saya di sini. Saya tidak tahu salah saya apa, tolong diberi tahu sekarang. Dan apakah kalau saya di sini, pemeriksaan akan lebih (efektif) daripada kalau saya di luar (tidak ditahan),\" kata Ginandjar. Kepada tim penyidik, Ginandjar mengatakan tidak akan melarikan diri ke luar negeri.    Tetap berlaku   Dihubungi secara terpisah, Muljohardjo mengatakan, surat penahanan yang baru tetap berlaku meski Ginandjar dan tim penyidik dari jajaran TNI tidak mau menandatangani berita acara penahanan. Berita acara penahanan ditandatangani oleh jaksa Barman Zahir, Fachmi, YW Mere, dan Nawir Anas.   Dengan adanya surat penahanan yang baru tersebut, jelas Muljohardjo, tidak ada alasan bagi Ginandjar maupun kuasa hukumnya untuk tidak mematuhi peraturan yang berlaku di rutan. Karena itu, Kejagung akan berupaya \"mengeluarkan\" penasihat hukum Ginandjar yang bertahan di rutan sejak tanggal 16 April 2001. Kuasa hukum Ginandjar akhirnya meninggalkan ruang tahanan pukul 23.30, setelah sebelumnya bertekad untuk bertahan.\\n'"
      ]
     },
     "execution_count": 19,
     "metadata": {},
     "output_type": "execute_result"
    }
   ],
   "source": [
    "df.teks[144]"
   ]
  },
  {
   "cell_type": "code",
   "execution_count": 20,
   "metadata": {},
   "outputs": [
    {
     "data": {
      "text/plain": [
       "'Kuasa Hukum Ginandjar Bertahan di Rutan\\nSejumlah kuasa hukum Ginandjar Kartasasmita hingga hari Selasa (17/4) pukul 22.00 masih bertahan di ruang tahanan (rutan) Kejaksaan Agung (Kejagung). Selasa pagi, mereka mengirimkan surat resmi kepada Kejagung, yang isinya meminta Kejagung untuk menghormati putusan pengadilan. Penahanan terhadap politisi Partai Golkar itu dinilai sudah tidak mempunyai landasan hukum.  Sebaliknya, Kepala Pusat Penerangan Hukum Kejaksaan Agung Moeljohardjo tetap berpendapat bahwa penahanan mantan Menteri Pertambangan dan Energi pada era Presiden Soeharto itu sah dan sesuai hukum. Dasar hukumnya adalah Surat Perintah Penahanan tanggal 31 Maret 2001 yang mengacu pada Undang-Undang Nomor 3 Tahun 1971 tentang Tindak Pidana Korupsi.  Hakim tunggal Rusman Dani Achmad dalam putusannya menyebutkan, menerima permohonan pemohon (Ginandjar) untuk sebagian. Dan kedua menyatakan, tindakan termohon (Jaksa Agung) melakukan penyidikan, penahanan, dan pembantaran dalam perkara Ginandjar sebelum tanggal 9 April 2001 adalah tidak sah.  Ginandjar, yang juga Wakil Ketua MPR, dituduh melakukan korupsi dalam kasus Technical Assistance Contract (TAC) antara Pertamina dan PT Ustraindo Petro Gas. Selain Ginandjar, tersangka lainnya adalah IB Sudjana, Faisal Abda\\'oe, dan Praptono H Upoyo. IB Sudjana tidak ditahan dalam kasus korupsi ini.  Putusan hakim Rusman itu mendapat kritik dari praktisi hukum Todung Mulya Lubis dan aktivis LSM, Hendardi. Keduanya menilai, putusan itu tetap mengukuhkan posisi militer yang melakukan tindak pidana di tempat yang istimewa dan tak bisa diadili dan diperiksa secara sipil.    Bertahan   Salah seorang kuasa hukum Ginandjar, Muchyar Yara mengemukakan, tim kuasa hukum dari Badan Pembinaan Hukum TNI (Babinkum) dan advokat profesional serta beberapa kerabat Ginandjar, bertekad akan bertahan di rutan Kejagung sampai Ginandjar dibebaskan.  \"Kami ke sini bukan untuk menengok Pak Ginandjar karena Pak Ginandjar bukan tahanan. Saya ingin menemani Pak Ginandjar sampai beliau dibebaskan,\" kata Muchyar, yang juga Wakil Sekjen Partai Golkar. Ginandjar adalah salah seorang anggota Dewan Penasihat Golkar.  Selain Muchyar, tampak OC Kaligis dan tiga orang dari Babinkum TNI. \"Jumlahnya ada sebelas orang,\" ujar Muchyar melalui telepon. \"Kita berdesak-desakan di sini tidak ada masalah,\" tambahnya. Ruang tahanan Ginandjar berukuran empat kali empat meter.  Kepala Pusat Penerangan Hukum Kejaksaan Agung Muljohardjo mengemukakan, yang diperbolehkan menempati ruang tahanan adalah mereka yang ditahan. Jika pengacara Ginandjar tetap bertahan meski sudah diminta ke luar, maka kepada yang bersangkutan bisa dilakukan upaya paksa. \"Secara normatif hal seperti itu merupakan pembangkangan,\" kata Muljohardjo.   Pada Selasa dini hari, tiga kuasa hukum Ginandjar sudah berada di ruang tahanan Ginandjar. Kejagung terpaksa mengizinkan Muchyar Yara, Kolonel (CHK) Payaman Pangaribuan, dan Kolonel (CHK) Suhaimir menemani Ginandjar setelah mereka menyatakan tidak akan meninggalkan rutan Kejagung sampai kliennya \"dibebaskan\".   Meski Kejagung minta bantuan Pomdam Jaya yang akhirnya menurunkan empat Polisi Militer untuk meminta agar para kuasa hukum Ginandjar meninggalkan rutan Kejagung, mereka tetap tidak mau meninggalkan rutan Kejagung. Pomdam Jaya menilai aksi para kuasa hukum Ginandjar tersebut tidak benar.    Permohonan resmi   Kuasa hukum Ginandjar, kemarin, menemui Jaksa Agung Muda Bidang Tindak Pidana Khusus Bachtiar Fachry Nasution untuk menyampaikan surat permohonan resmi agar Kejagung melaksanakan putusan hakim praperadilan Pengadilan Negeri Jakarta Selatan (PN Jaksel), Rusman Dani Achmad, yang menyatakan bahwa tindakan termohon (Jaksa Agung) melakukan penyidikan, penahanan, dan pembantaran dalam kasus perkara pemohon (Ginandjar) sebelum tanggal 9 April 2001 adalah tidak sah.   \"Hari ini (Selasa) pihak kejaksaan dan kami telah mendapatkan salinan putusan secara lengkap. Dengan bahan-bahan ini kami langsung menghadap Pak Fachry dan menjelaskan bahwa setelah kami pelajari dan cermati sedemikian rupa pertimbangan yang dijadikan dasar putusan pengadilan negeri, penahanan Pak Ginandjar secara tegas dan jelas telah dinyatakan tidak sah. Jadi, penahanan Pak Ginandjar hingga sampai saat ini sudah tidak ada lagi dasarnya. Ini merupakan perampasan kemerdekaan,\" kata Mohammad Assegaf, salah seorang kuasa hukum Ginandjar.   Dikatakan Assegaf, kalimat dalam diktum keputusan yang berbunyi \"sebelum tanggal 9 April 2001\" tidak dapat ditafsirkan secara  a cotrario  bahwa kemudian penyidikan dan atau penahanan setelah tanggal itu serta merta menjadi sah. Sebab, setiap tindakan penyidikan dan atau penahanan yang bersifat proyustisia harus dan wajib dituangkan dalam dokumen yang berbentuk surat perintah. Tim koneksitas saat ini belum pernah menerbitkan surat perintah.   Dalam Pasal 82 Ayat 3a KUHAP disebutkan bahwa  Dalam hal putusan menetapkan bahwa suatu penangkapan atau penahanan tidak sah, maka penyidik atau jaksa penuntut umum, pada tingkat pemeriksaan masing-masing harus segera membebaskan tersangka.    Muljohardjo tetap berpendapat bahwa penahanan Ginandjar sejak tanggal 9 April 2001 adalah sah. Jika penasihat hukum tidak menerima hal itu, mereka bisa mengajukan gugatan ganti rugi dan rehabilitasi atas masa penahanan sebelum tanggal 9 April 2001 yang telah dijalani Ginandjar.   Assegaf mengatakan, pihaknya belum memutuskan untuk mengajukan gugatan terhadap Kejagung. \"Target utama kami mengeluarkan Pak Ginandjar,\" kata Assegaf.  Kemarin, sekitar 100 orang yang menamakan diri Laskar Merah Putih terlihat berjaga di dekat pintu belakang Gedung Kejagung. Mereka minta agar Kejagung membebaskan Ginandjar.   Militer istimewa   Praktisi hukum Dr Todung Mulya Lubis mengungkapkan, putusan PN Jakarta Selatan dalam perkara praperadilan Ginandjar menunjukkan, hakim terjebak paradigma hukum lama yang menempatkan militer tidak tunduk kepada hukum sipil. Ini tidak sejalan dengan tuntutan reformasi yang menghendaki supremasi hukum kepada siapa pun.  \"Tuntutan reformasi menghendaki supremasi hukum. Jaksa Agung, sesuai Undang-Undang (UU) Kejaksaan Agung, mengoordinasikan penanganan perkara korupsi. Tetapi, dengan putusan hakim PN Jaksel, tuntutan reformasi belum terpenuhi. Justru paradigma hukum Orde Baru yang dipakai, yaitu militer tak bisa diperiksa sipil, meski ketika tindak pidana itu terjadi tidak dalam tugas militer,\" jelas Lubis. Ketua Perhimpunan Bantuan Hukum dan Hak Asasi Manusia Indonesia (PBHI) Hendardi sependapat, putusan PN Jaksel itu menunjukkan hakim masih dikuasai paradigma hukum konvensional. \"Putusan itu semakin mengukuhkan posisi istimewa militer. Walau melakukan korupsi saat bertugas di lingkungan sipil, mereka tak bisa ditindak secara sipil,\" ujarnya di Jakarta, Senin malam.  Lubis mengakui, tindak pidana yang dilakukan bersama-sama warga sipil dan anggota militer semestinya ditangani oleh tim koneksitas. Justru pemahaman ini yang ingin dirombak.\\n'"
      ]
     },
     "execution_count": 20,
     "metadata": {},
     "output_type": "execute_result"
    }
   ],
   "source": [
    "df.teks[215]"
   ]
  },
  {
   "cell_type": "markdown",
   "metadata": {},
   "source": [
    "mulai tidak mirip di indeks 932"
   ]
  },
  {
   "cell_type": "code",
   "execution_count": 21,
   "metadata": {},
   "outputs": [
    {
     "data": {
      "text/plain": [
       "'Pusat Pengolahan Ikan Asin Lhokseumawe Terbakar\\nPusat pengolahan ikan asin di kawasan Pasar Ikan Lhokseumawe (Aceh) terbakar bersama berton-ton stok ikan asin Sabtu (13/1) siang. Sedikitnya 25 gudang pengolahan ikan asin dan lebih 120 gubuk buruh nelayan terbakar jadi abu. Kerugian sementara ditaksir lebih Rp 700 juta.  Mobil pemadam kebakaran Pemda Aceh Utara yang dikerahkan ke lokasi kebakaran berhasil mengendalikan api dan menyelamatkan pertokoan, tangki solar untuk kapal ikan, dan permukiman penduduk Kelurahan Pusong. Hiruk pikuk kepanikan warga yang terkena musibah dan juga warga yang mengungsi terlihat di sepanjang jalan Pasar Lhokseumawe. Warga menyelamatkan harta bendanya dengan becak dan mobil.   Api yang terus membesar dan menyambar semua bangunan kayu di kompleks seluas sekitar enam hektar itu tak dapat diatasi lagi karena hembusan angin laut yang kuat. Mobil pemadam kebakaran hanya mampu menyelamatkan bangunan sekitar lokasi yang terbakar agar api tidak meluas. Api secara keseluruhan dapat dipadamkan dalam waktu sekitar dua jam.\\n'"
      ]
     },
     "execution_count": 21,
     "metadata": {},
     "output_type": "execute_result"
    }
   ],
   "source": [
    "df.teks[932]"
   ]
  },
  {
   "cell_type": "markdown",
   "metadata": {},
   "source": [
    "<h1> Keyword Extraction"
   ]
  },
  {
   "cell_type": "code",
   "execution_count": 24,
   "metadata": {},
   "outputs": [
    {
     "data": {
      "text/plain": [
       "array([\"''\", \"'' ''\", \"'' 'id\", ..., 'zw tim', 'zx', 'zx diserbu'],\n",
       "      dtype=object)"
      ]
     },
     "execution_count": 24,
     "metadata": {},
     "output_type": "execute_result"
    }
   ],
   "source": [
    "vocab = tfidf.get_feature_names_out()\n",
    "vocab"
   ]
  },
  {
   "cell_type": "code",
   "execution_count": 35,
   "metadata": {},
   "outputs": [
    {
     "data": {
      "text/plain": [
       "array([0.02115058, 0.        , 0.        , ..., 0.        , 0.        ,\n",
       "       0.        ])"
      ]
     },
     "execution_count": 35,
     "metadata": {},
     "output_type": "execute_result"
    }
   ],
   "source": [
    "tfidf_matrix[0].toarray()[0]"
   ]
  },
  {
   "cell_type": "code",
   "execution_count": 36,
   "metadata": {},
   "outputs": [
    {
     "data": {
      "text/plain": [
       "array([274212, 365469, 365468, ..., 386379, 436652, 169219], dtype=int64)"
      ]
     },
     "execution_count": 36,
     "metadata": {},
     "output_type": "execute_result"
    }
   ],
   "source": [
    "sorted_tfidf = tfidf_matrix[0].toarray()[0].argsort()\n",
    "sorted_tfidf"
   ]
  },
  {
   "cell_type": "code",
   "execution_count": 37,
   "metadata": {},
   "outputs": [
    {
     "data": {
      "text/plain": [
       "'ginandjar'"
      ]
     },
     "execution_count": 37,
     "metadata": {},
     "output_type": "execute_result"
    }
   ],
   "source": [
    "vocab[169219]"
   ]
  },
  {
   "cell_type": "code",
   "execution_count": 38,
   "metadata": {},
   "outputs": [
    {
     "data": {
      "text/plain": [
       "'putusan'"
      ]
     },
     "execution_count": 38,
     "metadata": {},
     "output_type": "execute_result"
    }
   ],
   "source": [
    "vocab[436652]"
   ]
  },
  {
   "cell_type": "code",
   "execution_count": 39,
   "metadata": {},
   "outputs": [
    {
     "data": {
      "text/plain": [
       "['ginandjar',\n",
       " 'putusan',\n",
       " 'penahanan',\n",
       " 'hukum ginandjar',\n",
       " 'kuasa hukum',\n",
       " 'rusman',\n",
       " 'kejaksaan',\n",
       " 'hakim rusman',\n",
       " 'kuasa',\n",
       " '9 april']"
      ]
     },
     "execution_count": 39,
     "metadata": {},
     "output_type": "execute_result"
    }
   ],
   "source": [
    "[vocab[idx] for idx in reversed(sorted_tfidf[-10:])]"
   ]
  },
  {
   "cell_type": "code",
   "execution_count": 42,
   "metadata": {},
   "outputs": [
    {
     "data": {
      "text/plain": [
       "array([0.02115058, 0.        , 0.        , ..., 0.        , 0.        ,\n",
       "       0.        ])"
      ]
     },
     "execution_count": 42,
     "metadata": {},
     "output_type": "execute_result"
    }
   ],
   "source": [
    "tfidf_matrix[0].toarray()[0]"
   ]
  },
  {
   "cell_type": "code",
   "execution_count": 43,
   "metadata": {},
   "outputs": [
    {
     "data": {
      "text/plain": [
       "array([[0.02115058, 0.        , 0.        , ..., 0.        , 0.        ,\n",
       "        0.        ]])"
      ]
     },
     "execution_count": 43,
     "metadata": {},
     "output_type": "execute_result"
    }
   ],
   "source": [
    "tfidf_matrix[0].toarray()"
   ]
  },
  {
   "cell_type": "code",
   "execution_count": 40,
   "metadata": {},
   "outputs": [],
   "source": [
    "def extract_keywords_tfidf(doc, tfidf, topk=10):\n",
    "    matrix = tfidf.transform([doc])\n",
    "    vocab = tfidf.get_feature_names_out()\n",
    "\n",
    "    sorted_tfidf = matrix[0].toarray()[0].argsort()\n",
    "    return [vocab[idx] for idx in reversed(sorted_tfidf[-topk:])]"
   ]
  },
  {
   "cell_type": "code",
   "execution_count": 46,
   "metadata": {},
   "outputs": [],
   "source": [
    "txt = '''\n",
    "Kronologi kejadian: Pelaku memesan ojek online dan minta diantarkan ke terminal. Di daerah yang lumayan sepi, pelaku menodongkan senjata api pada korban lalu meminta dompet serta handphone korban. Setelah diberikan, pelaku berniat kabur tetapi korban memberanikan diri untuk berteriak dan meminta pertolongan beberapa orang yang ada di situ. Akhirnya pelaku yang merampas dompet dan handphone korban tersebut berhasil ditangkap.\n",
    "\n",
    "Tindakan yang diambil: pertama adalah menangkap pelaku dan selanjutnya melaporkan kepada pihak yang berwajib untuk melalui proses persidangan. Demikian berita acara mengenai pemeriksaan kejadian ini dibuat dengan sesungguhnya tanpa adanya paksaan dari pihak manapun. Berita acara kejadian ini dapat dipertanggungjawabkan kebenarannya. Selanjutnya ditutup dan ditandatangani sesuai dengan tanggal dan juga tempat sebagaimana yang sudah disebutkan di atas.\n",
    "'''"
   ]
  },
  {
   "cell_type": "markdown",
   "metadata": {},
   "source": [
    "hasil tf * idf yg paling tinggi :"
   ]
  },
  {
   "cell_type": "code",
   "execution_count": 47,
   "metadata": {},
   "outputs": [
    {
     "data": {
      "text/plain": [
       "['pelaku',\n",
       " 'dompet',\n",
       " 'handphone',\n",
       " 'berita acara',\n",
       " 'korban',\n",
       " 'kejadian',\n",
       " 'persidangan berita',\n",
       " 'kejadian pelaku',\n",
       " 'berteriak pertolongan',\n",
       " 'pertolongan orang']"
      ]
     },
     "execution_count": 47,
     "metadata": {},
     "output_type": "execute_result"
    }
   ],
   "source": [
    "extract_keywords_tfidf(txt, tfidf)"
   ]
  },
  {
   "cell_type": "markdown",
   "metadata": {},
   "source": [
    "jika ingin IDF nya aja"
   ]
  },
  {
   "cell_type": "markdown",
   "metadata": {},
   "source": [
    "yg banyak yg paling langka"
   ]
  },
  {
   "cell_type": "code",
   "execution_count": 49,
   "metadata": {},
   "outputs": [
    {
     "data": {
      "text/plain": [
       "array([ 28068,      0, 200992, ..., 199885, 199916, 548425], dtype=int64)"
      ]
     },
     "execution_count": 49,
     "metadata": {},
     "output_type": "execute_result"
    }
   ],
   "source": [
    "tfidf.idf_.argsort()"
   ]
  },
  {
   "cell_type": "code",
   "execution_count": 50,
   "metadata": {},
   "outputs": [
    {
     "data": {
      "text/plain": [
       "'zx diserbu'"
      ]
     },
     "execution_count": 50,
     "metadata": {},
     "output_type": "execute_result"
    }
   ],
   "source": [
    "# paling langka:\n",
    "vocab[548425]"
   ]
  },
  {
   "cell_type": "code",
   "execution_count": 51,
   "metadata": {},
   "outputs": [
    {
     "data": {
      "text/plain": [
       "'``'"
      ]
     },
     "execution_count": 51,
     "metadata": {},
     "output_type": "execute_result"
    }
   ],
   "source": [
    "# paling sering muncul\n",
    "vocab[28068]"
   ]
  },
  {
   "cell_type": "code",
   "execution_count": null,
   "metadata": {},
   "outputs": [],
   "source": []
  }
 ],
 "metadata": {
  "kernelspec": {
   "display_name": "base",
   "language": "python",
   "name": "python3"
  },
  "language_info": {
   "codemirror_mode": {
    "name": "ipython",
    "version": 3
   },
   "file_extension": ".py",
   "mimetype": "text/x-python",
   "name": "python",
   "nbconvert_exporter": "python",
   "pygments_lexer": "ipython3",
   "version": "3.10.10"
  },
  "orig_nbformat": 4
 },
 "nbformat": 4,
 "nbformat_minor": 2
}
