{
 "cells": [
  {
   "cell_type": "code",
   "execution_count": 1,
   "metadata": {},
   "outputs": [],
   "source": [
    "import pandas as pd\n",
    "import numpy as np\n",
    "\n",
    "from jcopml.pipeline import num_pipe, cat_pipe\n",
    "from jcopml.plot import plot_missing_value\n",
    "\n",
    "import torch\n",
    "from torch import nn, optim"
   ]
  },
  {
   "cell_type": "code",
   "execution_count": 2,
   "metadata": {},
   "outputs": [
    {
     "data": {
      "text/html": [
       "<div>\n",
       "<style scoped>\n",
       "    .dataframe tbody tr th:only-of-type {\n",
       "        vertical-align: middle;\n",
       "    }\n",
       "\n",
       "    .dataframe tbody tr th {\n",
       "        vertical-align: top;\n",
       "    }\n",
       "\n",
       "    .dataframe thead th {\n",
       "        text-align: right;\n",
       "    }\n",
       "</style>\n",
       "<table border=\"1\" class=\"dataframe\">\n",
       "  <thead>\n",
       "    <tr style=\"text-align: right;\">\n",
       "      <th></th>\n",
       "      <th>Pregnancies</th>\n",
       "      <th>Glucose</th>\n",
       "      <th>BloodPressure</th>\n",
       "      <th>SkinThickness</th>\n",
       "      <th>Insulin</th>\n",
       "      <th>BMI</th>\n",
       "      <th>DiabetesPedigreeFunction</th>\n",
       "      <th>Age</th>\n",
       "      <th>Outcome</th>\n",
       "    </tr>\n",
       "  </thead>\n",
       "  <tbody>\n",
       "    <tr>\n",
       "      <th>0</th>\n",
       "      <td>6</td>\n",
       "      <td>148.0</td>\n",
       "      <td>72.0</td>\n",
       "      <td>35.0</td>\n",
       "      <td>NaN</td>\n",
       "      <td>33.6</td>\n",
       "      <td>0.627</td>\n",
       "      <td>50</td>\n",
       "      <td>1</td>\n",
       "    </tr>\n",
       "    <tr>\n",
       "      <th>1</th>\n",
       "      <td>1</td>\n",
       "      <td>85.0</td>\n",
       "      <td>66.0</td>\n",
       "      <td>29.0</td>\n",
       "      <td>NaN</td>\n",
       "      <td>26.6</td>\n",
       "      <td>0.351</td>\n",
       "      <td>31</td>\n",
       "      <td>0</td>\n",
       "    </tr>\n",
       "    <tr>\n",
       "      <th>2</th>\n",
       "      <td>8</td>\n",
       "      <td>183.0</td>\n",
       "      <td>64.0</td>\n",
       "      <td>NaN</td>\n",
       "      <td>NaN</td>\n",
       "      <td>23.3</td>\n",
       "      <td>0.672</td>\n",
       "      <td>32</td>\n",
       "      <td>1</td>\n",
       "    </tr>\n",
       "    <tr>\n",
       "      <th>3</th>\n",
       "      <td>1</td>\n",
       "      <td>89.0</td>\n",
       "      <td>66.0</td>\n",
       "      <td>23.0</td>\n",
       "      <td>94.0</td>\n",
       "      <td>28.1</td>\n",
       "      <td>0.167</td>\n",
       "      <td>21</td>\n",
       "      <td>0</td>\n",
       "    </tr>\n",
       "    <tr>\n",
       "      <th>4</th>\n",
       "      <td>0</td>\n",
       "      <td>137.0</td>\n",
       "      <td>40.0</td>\n",
       "      <td>35.0</td>\n",
       "      <td>168.0</td>\n",
       "      <td>43.1</td>\n",
       "      <td>2.288</td>\n",
       "      <td>33</td>\n",
       "      <td>1</td>\n",
       "    </tr>\n",
       "  </tbody>\n",
       "</table>\n",
       "</div>"
      ],
      "text/plain": [
       "   Pregnancies  Glucose  BloodPressure  SkinThickness  Insulin   BMI  \\\n",
       "0            6    148.0           72.0           35.0      NaN  33.6   \n",
       "1            1     85.0           66.0           29.0      NaN  26.6   \n",
       "2            8    183.0           64.0            NaN      NaN  23.3   \n",
       "3            1     89.0           66.0           23.0     94.0  28.1   \n",
       "4            0    137.0           40.0           35.0    168.0  43.1   \n",
       "\n",
       "   DiabetesPedigreeFunction  Age  Outcome  \n",
       "0                     0.627   50        1  \n",
       "1                     0.351   31        0  \n",
       "2                     0.672   32        1  \n",
       "3                     0.167   21        0  \n",
       "4                     2.288   33        1  "
      ]
     },
     "execution_count": 2,
     "metadata": {},
     "output_type": "execute_result"
    }
   ],
   "source": [
    "df = pd.read_csv('D:/remote/datasets/dlfund/diabetes.csv')\n",
    "df.head()"
   ]
  },
  {
   "cell_type": "code",
   "execution_count": 3,
   "metadata": {},
   "outputs": [
    {
     "data": {
      "text/html": [
       "<div>\n",
       "<style scoped>\n",
       "    .dataframe tbody tr th:only-of-type {\n",
       "        vertical-align: middle;\n",
       "    }\n",
       "\n",
       "    .dataframe tbody tr th {\n",
       "        vertical-align: top;\n",
       "    }\n",
       "\n",
       "    .dataframe thead th {\n",
       "        text-align: right;\n",
       "    }\n",
       "</style>\n",
       "<table border=\"1\" class=\"dataframe\">\n",
       "  <thead>\n",
       "    <tr style=\"text-align: right;\">\n",
       "      <th></th>\n",
       "      <th>missing_value</th>\n",
       "      <th>%</th>\n",
       "    </tr>\n",
       "  </thead>\n",
       "  <tbody>\n",
       "    <tr>\n",
       "      <th>Pregnancies</th>\n",
       "      <td>0</td>\n",
       "      <td>0.00</td>\n",
       "    </tr>\n",
       "    <tr>\n",
       "      <th>Glucose</th>\n",
       "      <td>5</td>\n",
       "      <td>0.65</td>\n",
       "    </tr>\n",
       "    <tr>\n",
       "      <th>BloodPressure</th>\n",
       "      <td>35</td>\n",
       "      <td>4.56</td>\n",
       "    </tr>\n",
       "    <tr>\n",
       "      <th>SkinThickness</th>\n",
       "      <td>227</td>\n",
       "      <td>29.56</td>\n",
       "    </tr>\n",
       "    <tr>\n",
       "      <th>Insulin</th>\n",
       "      <td>374</td>\n",
       "      <td>48.70</td>\n",
       "    </tr>\n",
       "    <tr>\n",
       "      <th>BMI</th>\n",
       "      <td>11</td>\n",
       "      <td>1.43</td>\n",
       "    </tr>\n",
       "    <tr>\n",
       "      <th>DiabetesPedigreeFunction</th>\n",
       "      <td>0</td>\n",
       "      <td>0.00</td>\n",
       "    </tr>\n",
       "    <tr>\n",
       "      <th>Age</th>\n",
       "      <td>0</td>\n",
       "      <td>0.00</td>\n",
       "    </tr>\n",
       "    <tr>\n",
       "      <th>Outcome</th>\n",
       "      <td>0</td>\n",
       "      <td>0.00</td>\n",
       "    </tr>\n",
       "  </tbody>\n",
       "</table>\n",
       "</div>"
      ],
      "text/plain": [
       "                          missing_value      %\n",
       "Pregnancies                           0   0.00\n",
       "Glucose                               5   0.65\n",
       "BloodPressure                        35   4.56\n",
       "SkinThickness                       227  29.56\n",
       "Insulin                             374  48.70\n",
       "BMI                                  11   1.43\n",
       "DiabetesPedigreeFunction              0   0.00\n",
       "Age                                   0   0.00\n",
       "Outcome                               0   0.00"
      ]
     },
     "execution_count": 3,
     "metadata": {},
     "output_type": "execute_result"
    },
    {
     "data": {
      "image/png": "[encoded data removed]",
      "text/plain": [
       "<Figure size 1500x800 with 1 Axes>"
      ]
     },
     "metadata": {},
     "output_type": "display_data"
    }
   ],
   "source": [
    "plot_missing_value(df, return_df=True)"
   ]
  },
  {
   "cell_type": "code",
   "execution_count": 4,
   "metadata": {},
   "outputs": [],
   "source": [
    "df.drop(columns='Insulin', inplace=True)"
   ]
  },
  {
   "cell_type": "code",
   "execution_count": 5,
   "metadata": {},
   "outputs": [
    {
     "data": {
      "text/plain": [
       "0    0.651042\n",
       "1    0.348958\n",
       "Name: Outcome, dtype: float64"
      ]
     },
     "execution_count": 5,
     "metadata": {},
     "output_type": "execute_result"
    }
   ],
   "source": [
    "# check imbalance\n",
    "df.Outcome.value_counts(normalize=True)"
   ]
  },
  {
   "cell_type": "markdown",
   "metadata": {},
   "source": [
    "belum terlalu imbalance, akurasi 65% jika nebak semua tidak diabetes"
   ]
  },
  {
   "cell_type": "code",
   "execution_count": 6,
   "metadata": {},
   "outputs": [
    {
     "data": {
      "text/plain": [
       "((614, 7), (154, 7), (614,), (154,))"
      ]
     },
     "execution_count": 6,
     "metadata": {},
     "output_type": "execute_result"
    }
   ],
   "source": [
    "from sklearn.model_selection import train_test_split\n",
    "from sklearn.compose import ColumnTransformer\n",
    "\n",
    "X = df.drop(columns=\"Outcome\")\n",
    "y = df.Outcome.values\n",
    "\n",
    "X_train, X_test, y_train, y_test = train_test_split(X, y, stratify=y, random_state=42, test_size=0.2)\n",
    "X_train.shape, X_test.shape, y_train.shape, y_test.shape"
   ]
  },
  {
   "cell_type": "code",
   "execution_count": 7,
   "metadata": {},
   "outputs": [],
   "source": [
    "# preprocess\n",
    "preprocessor = ColumnTransformer([\n",
    "    ('num', num_pipe(), X_train.columns)\n",
    "])"
   ]
  },
  {
   "cell_type": "code",
   "execution_count": 8,
   "metadata": {},
   "outputs": [],
   "source": [
    "X_train = preprocessor.fit_transform(X_train)\n",
    "# jangan di fit, karena nanti akan ada data leakage.\n",
    "X_test = preprocessor.transform(X_test)"
   ]
  },
  {
   "cell_type": "code",
   "execution_count": 9,
   "metadata": {},
   "outputs": [
    {
     "data": {
      "text/plain": [
       "array([[1.00e+00, 9.00e+01, 6.20e+01, ..., 2.72e+01, 5.80e-01, 2.40e+01],\n",
       "       [5.00e+00, 1.26e+02, 7.80e+01, ..., 2.96e+01, 4.39e-01, 4.00e+01],\n",
       "       [2.00e+00, 1.05e+02, 5.80e+01, ..., 3.49e+01, 2.25e-01, 2.50e+01],\n",
       "       ...,\n",
       "       [1.00e+00, 9.70e+01, 7.00e+01, ..., 3.81e+01, 2.18e-01, 3.00e+01],\n",
       "       [1.00e+01, 1.11e+02, 7.00e+01, ..., 2.75e+01, 1.41e-01, 4.00e+01],\n",
       "       [4.00e+00, 1.44e+02, 5.80e+01, ..., 2.95e+01, 2.87e-01, 3.70e+01]])"
      ]
     },
     "execution_count": 9,
     "metadata": {},
     "output_type": "execute_result"
    }
   ],
   "source": [
    "X_train"
   ]
  },
  {
   "cell_type": "markdown",
   "metadata": {},
   "source": [
    "<h2> Dataset & Dataloader"
   ]
  },
  {
   "cell_type": "code",
   "execution_count": 10,
   "metadata": {},
   "outputs": [],
   "source": [
    "X_train = torch.FloatTensor(X_train)\n",
    "y_train = torch.LongTensor(y_train) # target karena klasifikasi 0 dan 1 (multiclass) maka menggunakan LongTensor. boleh memakai FloatTensor kalau pakai sigmoid/binary classification 0 sampai 1\n",
    "X_test = torch.FloatTensor(X_test)\n",
    "y_test = torch.LongTensor(y_test) "
   ]
  },
  {
   "cell_type": "code",
   "execution_count": 11,
   "metadata": {},
   "outputs": [],
   "source": [
    "from torch.utils.data import DataLoader, TensorDataset"
   ]
  },
  {
   "cell_type": "code",
   "execution_count": 12,
   "metadata": {},
   "outputs": [],
   "source": [
    "train_set = TensorDataset(X_train, y_train)\n",
    "trainloader = DataLoader(train_set, batch_size=64, shuffle=True)\n",
    "\n",
    "test_set = TensorDataset(X_test, y_test)\n",
    "testloader = DataLoader(test_set, batch_size=64, shuffle=False)"
   ]
  },
  {
   "cell_type": "markdown",
   "metadata": {},
   "source": [
    "<h2> Trainig Preparation - MCO"
   ]
  },
  {
   "cell_type": "code",
   "execution_count": 13,
   "metadata": {},
   "outputs": [
    {
     "data": {
      "text/plain": [
       "torch.Size([614, 7])"
      ]
     },
     "execution_count": 13,
     "metadata": {},
     "output_type": "execute_result"
    }
   ],
   "source": [
    "X_train.shape"
   ]
  },
  {
   "attachments": {
    "image.png": {
     "image/png": "[encoded data removed]"
    }
   },
   "cell_type": "markdown",
   "metadata": {},
   "source": [
    "model arsitektur\n",
    "\n",
    "![image.png](attachment:image.png)"
   ]
  },
  {
   "cell_type": "code",
   "execution_count": 14,
   "metadata": {},
   "outputs": [],
   "source": [
    "model = nn.Sequential(\n",
    "    nn.Linear(7, 16),\n",
    "    nn.ReLU(),\n",
    "    nn.Linear(16, 8),\n",
    "    nn.ReLU(),\n",
    "    nn.Linear(8, 4),\n",
    "    nn.ReLU(),\n",
    "    nn.Linear(4, 2),\n",
    "    nn.LogSoftmax(dim=1) #jika pakai crossentropyloss maka tidak perlu logsoftmax\n",
    ")\n",
    "\n",
    "criterion = nn.NLLLoss()\n",
    "# criterion = nn.CrossEntropyLoss()\n",
    "optimizer = optim.AdamW(model.parameters(), lr=0.001)"
   ]
  },
  {
   "cell_type": "markdown",
   "metadata": {},
   "source": [
    "DRY = Don't Repeat Yourself"
   ]
  },
  {
   "cell_type": "code",
   "execution_count": 15,
   "metadata": {},
   "outputs": [
    {
     "name": "stdout",
     "output_type": "stream",
     "text": [
      "Epoch 100/100 | Loss: 0.4150 | train_cost: 0.5002 | test_cost: 0.5416\r"
     ]
    }
   ],
   "source": [
    "# ini masih repeat\n",
    "\n",
    "epochs = 100\n",
    "train_cost, test_cost = [], []\n",
    "for i in range(epochs):\n",
    "    model.train()\n",
    "    cost = 0\n",
    "    for feature, target in trainloader: \n",
    "        output = model(feature) \n",
    "        loss = criterion(output, target) \n",
    "        loss.backward() \n",
    "\n",
    "        optimizer.step() \n",
    "        optimizer.zero_grad() \n",
    "\n",
    "        cost += loss.item() * feature.shape[0]\n",
    "    train_cost.append(cost / len(train_set))\n",
    "\n",
    "    with torch.no_grad():\n",
    "        model.eval()\n",
    "        cost = 0\n",
    "        for feature, target in testloader:\n",
    "            output = model(feature) # feedforward\n",
    "            loss = criterion(output, target) # hitung loss\n",
    "            cost += loss.item() * feature.shape[0] # hitung total loss\n",
    "        test_cost.append(cost / len(test_set))\n",
    "\n",
    "    print(f'Epoch {i+1}/{epochs} | Loss: {loss.item():.4f} | train_cost: {train_cost[-1]:.4f} | test_cost: {test_cost[-1]:.4f}', end='\\r')\n"
   ]
  },
  {
   "cell_type": "code",
   "execution_count": 16,
   "metadata": {},
   "outputs": [
    {
     "data": {
      "text/plain": [
       "<matplotlib.legend.Legend at 0x240e45039d0>"
      ]
     },
     "execution_count": 16,
     "metadata": {},
     "output_type": "execute_result"
    },
    {
     "data": {
      "image/png": "[encoded data removed]",
      "text/plain": [
       "<Figure size 640x480 with 1 Axes>"
      ]
     },
     "metadata": {},
     "output_type": "display_data"
    }
   ],
   "source": [
    "import matplotlib.pyplot as plt\n",
    "\n",
    "plt.plot(train_cost, 'r-', label='train cost')\n",
    "plt.plot(test_cost, 'b-', label='test cost')\n",
    "plt.xlabel('epoch')\n",
    "plt.ylabel('cost')\n",
    "plt.legend()"
   ]
  },
  {
   "cell_type": "markdown",
   "metadata": {},
   "source": [
    "<h2> Predict"
   ]
  },
  {
   "cell_type": "code",
   "execution_count": 17,
   "metadata": {},
   "outputs": [],
   "source": [
    "with torch.no_grad():\n",
    "        model.eval()\n",
    "        output = model(X_test) # output ini adalah logsoftmax bukan prediksi, hanya probabilitas"
   ]
  },
  {
   "cell_type": "code",
   "execution_count": 18,
   "metadata": {},
   "outputs": [
    {
     "data": {
      "text/plain": [
       "tensor([[2.4306e-02, 5.9988e-01],\n",
       "        [9.7844e-01, 2.1629e-05],\n",
       "        [6.4225e-01, 1.8058e-02],\n",
       "        [2.2470e-01, 1.8197e-01],\n",
       "        [7.5081e-01, 7.1567e-03],\n",
       "        [4.1276e-01, 7.2056e-02],\n",
       "        [6.3639e-01, 1.8846e-02],\n",
       "        [2.7737e-03, 8.3040e-01],\n",
       "        [6.5561e-01, 1.6346e-02],\n",
       "        [6.1946e-02, 4.4161e-01],\n",
       "        [2.3110e-01, 1.7639e-01],\n",
       "        [4.0936e-01, 7.3330e-02],\n",
       "        [2.6001e-01, 1.5332e-01],\n",
       "        [2.8652e-01, 1.3486e-01],\n",
       "        [2.3729e-01, 1.7115e-01],\n",
       "        [2.7992e-01, 1.3924e-01],\n",
       "        [1.2096e-01, 3.0895e-01],\n",
       "        [5.0240e-01, 4.4336e-02],\n",
       "        [6.3967e-03, 7.6176e-01],\n",
       "        [4.9555e-01, 4.6099e-02],\n",
       "        [6.3717e-01, 1.8741e-02],\n",
       "        [7.6744e-03, 7.4377e-01],\n",
       "        [3.4874e-01, 9.9536e-02],\n",
       "        [1.7291e-02, 6.4812e-01],\n",
       "        [1.4368e-01, 2.7343e-01],\n",
       "        [9.8786e-01, 5.7346e-06],\n",
       "        [1.1908e-01, 3.1216e-01],\n",
       "        [6.0637e-01, 2.3264e-02],\n",
       "        [1.2635e-01, 2.9998e-01],\n",
       "        [6.6582e-01, 1.5114e-02],\n",
       "        [6.6628e-01, 1.5059e-02],\n",
       "        [7.3656e-01, 8.2295e-03],\n",
       "        [2.2043e-01, 1.8581e-01],\n",
       "        [1.8914e-01, 2.1679e-01],\n",
       "        [2.4654e-01, 1.6365e-01],\n",
       "        [7.2811e-01, 8.9119e-03],\n",
       "        [4.8433e-01, 4.9099e-02],\n",
       "        [6.1063e-01, 2.2597e-02],\n",
       "        [4.3390e-01, 6.4525e-02],\n",
       "        [1.8429e-01, 2.2210e-01],\n",
       "        [5.2781e-01, 3.8247e-02],\n",
       "        [9.8056e-01, 1.7028e-05],\n",
       "        [6.5618e-01, 1.6274e-02],\n",
       "        [3.4418e-01, 1.0180e-01],\n",
       "        [6.3308e-01, 1.9302e-02],\n",
       "        [1.4228e-01, 2.7545e-01],\n",
       "        [3.2262e-01, 1.1316e-01],\n",
       "        [4.9327e-01, 4.6695e-02],\n",
       "        [4.1473e-02, 5.1400e-01],\n",
       "        [3.5500e-01, 9.6497e-02],\n",
       "        [1.9058e-01, 2.1524e-01],\n",
       "        [3.2814e-01, 1.1015e-01],\n",
       "        [7.2459e-01, 9.2068e-03],\n",
       "        [7.5790e-01, 6.6588e-03],\n",
       "        [4.0106e-01, 7.6526e-02],\n",
       "        [5.8449e-01, 2.6908e-02],\n",
       "        [1.8545e-01, 2.2082e-01],\n",
       "        [9.6674e-01, 5.9165e-05],\n",
       "        [1.3197e-01, 2.9100e-01],\n",
       "        [2.1081e-01, 1.9477e-01],\n",
       "        [5.7612e-01, 2.8405e-02],\n",
       "        [5.7623e-01, 2.8384e-02],\n",
       "        [6.7097e-01, 1.4517e-02],\n",
       "        [4.6324e-02, 4.9469e-01],\n",
       "        [5.6942e-01, 2.9645e-02],\n",
       "        [7.6364e-01, 6.2717e-03],\n",
       "        [5.5801e-02, 4.6107e-01],\n",
       "        [8.6729e-01, 1.5344e-03],\n",
       "        [7.0063e-01, 1.1383e-02],\n",
       "        [2.1764e-01, 1.8835e-01],\n",
       "        [3.2671e-01, 1.1092e-01],\n",
       "        [7.9876e-01, 4.2125e-03],\n",
       "        [6.2963e-01, 1.9786e-02],\n",
       "        [4.1959e-01, 6.9548e-02],\n",
       "        [6.9216e-01, 1.2226e-02],\n",
       "        [1.6417e-01, 2.4589e-01],\n",
       "        [5.9419e-01, 2.5246e-02],\n",
       "        [7.7807e-01, 5.3635e-03],\n",
       "        [4.0455e-01, 7.5171e-02],\n",
       "        [5.1023e-01, 4.2388e-02],\n",
       "        [7.6517e-01, 6.1708e-03],\n",
       "        [8.2373e-01, 3.0464e-03],\n",
       "        [5.5246e-01, 3.2958e-02],\n",
       "        [3.9406e-01, 7.9310e-02],\n",
       "        [6.7620e-01, 1.3927e-02],\n",
       "        [2.7933e-01, 1.3964e-01],\n",
       "        [2.4228e-01, 1.6707e-01],\n",
       "        [9.6495e-02, 3.5500e-01],\n",
       "        [7.7120e-01, 5.7848e-03],\n",
       "        [5.4254e-01, 3.5016e-02],\n",
       "        [1.1028e-01, 3.2789e-01],\n",
       "        [1.8798e-01, 2.1805e-01],\n",
       "        [8.3165e-01, 2.7241e-03],\n",
       "        [4.1816e-01, 7.0065e-02],\n",
       "        [3.5466e-01, 9.6658e-02],\n",
       "        [7.9762e-02, 3.9294e-01],\n",
       "        [1.0038e-01, 3.4702e-01],\n",
       "        [1.3971e-01, 2.7923e-01],\n",
       "        [2.2731e-02, 6.0977e-01],\n",
       "        [5.5768e-01, 3.1911e-02],\n",
       "        [5.8394e-01, 2.7005e-02],\n",
       "        [6.9374e-01, 1.2066e-02],\n",
       "        [3.8057e-01, 8.4919e-02],\n",
       "        [6.8274e-01, 1.3211e-02],\n",
       "        [9.4650e-02, 3.5889e-01],\n",
       "        [8.3567e-01, 2.5689e-03],\n",
       "        [1.2339e-02, 6.9106e-01],\n",
       "        [7.8171e-01, 5.1481e-03],\n",
       "        [7.7121e-02, 3.9955e-01],\n",
       "        [2.1955e-01, 1.8660e-01],\n",
       "        [6.3288e-02, 4.3757e-01],\n",
       "        [5.2398e-03, 7.8015e-01],\n",
       "        [2.0573e-01, 1.9969e-01],\n",
       "        [7.2172e-01, 9.4511e-03],\n",
       "        [5.4213e-01, 3.5103e-02],\n",
       "        [3.8927e-01, 8.1264e-02],\n",
       "        [7.9302e-01, 4.5144e-03],\n",
       "        [6.3732e-01, 1.8720e-02],\n",
       "        [5.4896e-02, 4.6408e-01],\n",
       "        [7.2190e-01, 9.4362e-03],\n",
       "        [1.2872e-01, 2.9614e-01],\n",
       "        [3.6883e-01, 9.0077e-02],\n",
       "        [7.1476e-01, 1.0063e-02],\n",
       "        [3.3792e-04, 9.2988e-01],\n",
       "        [3.7741e-01, 8.6282e-02],\n",
       "        [9.9714e-02, 3.4838e-01],\n",
       "        [4.4025e-01, 6.2395e-02],\n",
       "        [5.8417e-01, 2.6964e-02],\n",
       "        [5.4010e-01, 3.5537e-02],\n",
       "        [7.2943e-01, 8.8025e-03],\n",
       "        [3.6531e-01, 9.1671e-02],\n",
       "        [3.4595e-01, 1.0091e-01],\n",
       "        [5.2552e-01, 3.8768e-02],\n",
       "        [3.9965e-01, 7.7082e-02],\n",
       "        [9.7449e-02, 3.5302e-01],\n",
       "        [7.6420e-01, 6.2345e-03],\n",
       "        [6.6185e-01, 1.5585e-02],\n",
       "        [9.2605e-01, 3.8293e-04],\n",
       "        [7.1895e-01, 9.6921e-03],\n",
       "        [7.3864e-01, 8.0665e-03],\n",
       "        [5.3242e-01, 3.7213e-02],\n",
       "        [1.2419e-01, 3.0352e-01],\n",
       "        [5.0696e-01, 4.3195e-02],\n",
       "        [1.9009e-01, 2.1577e-01],\n",
       "        [9.6846e-01, 5.2310e-05],\n",
       "        [6.9655e-01, 1.1784e-02],\n",
       "        [1.3338e-01, 2.8881e-01],\n",
       "        [3.5467e-01, 9.6657e-02],\n",
       "        [6.8670e-01, 1.2791e-02],\n",
       "        [6.8921e-01, 1.2530e-02],\n",
       "        [6.7493e-01, 1.4068e-02],\n",
       "        [3.8879e-01, 8.1465e-02],\n",
       "        [3.5303e-02, 5.4119e-01],\n",
       "        [9.9609e-01, 4.2073e-07]])"
      ]
     },
     "execution_count": 18,
     "metadata": {},
     "output_type": "execute_result"
    }
   ],
   "source": [
    "10**output"
   ]
  },
  {
   "cell_type": "code",
   "execution_count": 19,
   "metadata": {},
   "outputs": [
    {
     "data": {
      "text/plain": [
       "tensor([[0.1990, 0.8010],\n",
       "        [0.9906, 0.0094],\n",
       "        [0.8251, 0.1749],\n",
       "        [0.5229, 0.4771],\n",
       "        [0.8830, 0.1170],\n",
       "        [0.6809, 0.3191],\n",
       "        [0.8218, 0.1782],\n",
       "        [0.0775, 0.9225],\n",
       "        [0.8325, 0.1675],\n",
       "        [0.2988, 0.7012],\n",
       "        [0.5293, 0.4707],\n",
       "        [0.6785, 0.3215],\n",
       "        [0.5571, 0.4429],\n",
       "        [0.5811, 0.4189],\n",
       "        [0.5354, 0.4646],\n",
       "        [0.5752, 0.4248],\n",
       "        [0.3996, 0.6004],\n",
       "        [0.7416, 0.2584],\n",
       "        [0.1115, 0.8885],\n",
       "        [0.7372, 0.2628],\n",
       "        [0.8222, 0.1778],\n",
       "        [0.1206, 0.8794],\n",
       "        [0.6329, 0.3671],\n",
       "        [0.1717, 0.8283],\n",
       "        [0.4306, 0.5694],\n",
       "        [0.9947, 0.0053],\n",
       "        [0.3969, 0.6031],\n",
       "        [0.8047, 0.1953],\n",
       "        [0.4072, 0.5928],\n",
       "        [0.8381, 0.1619],\n",
       "        [0.8383, 0.1617],\n",
       "        [0.8756, 0.1244],\n",
       "        [0.5185, 0.4815],\n",
       "        [0.4852, 0.5148],\n",
       "        [0.5444, 0.4556],\n",
       "        [0.8713, 0.1287],\n",
       "        [0.7299, 0.2701],\n",
       "        [0.8072, 0.1928],\n",
       "        [0.6959, 0.3041],\n",
       "        [0.4798, 0.5202],\n",
       "        [0.7577, 0.2423],\n",
       "        [0.9915, 0.0085],\n",
       "        [0.8328, 0.1672],\n",
       "        [0.6293, 0.3707],\n",
       "        [0.8199, 0.1801],\n",
       "        [0.4288, 0.5712],\n",
       "        [0.6118, 0.3882],\n",
       "        [0.7357, 0.2643],\n",
       "        [0.2510, 0.7490],\n",
       "        [0.6378, 0.3622],\n",
       "        [0.4868, 0.5132],\n",
       "        [0.6163, 0.3837],\n",
       "        [0.8694, 0.1306],\n",
       "        [0.8866, 0.1134],\n",
       "        [0.6725, 0.3275],\n",
       "        [0.7920, 0.2080],\n",
       "        [0.4811, 0.5189],\n",
       "        [0.9854, 0.0146],\n",
       "        [0.4150, 0.5850],\n",
       "        [0.5086, 0.4914],\n",
       "        [0.7870, 0.2130],\n",
       "        [0.7871, 0.2129],\n",
       "        [0.8409, 0.1591],\n",
       "        [0.2634, 0.7366],\n",
       "        [0.7830, 0.2170],\n",
       "        [0.8895, 0.1105],\n",
       "        [0.2855, 0.7145],\n",
       "        [0.9400, 0.0600],\n",
       "        [0.8568, 0.1432],\n",
       "        [0.5157, 0.4843],\n",
       "        [0.6152, 0.3848],\n",
       "        [0.9070, 0.0930],\n",
       "        [0.8180, 0.1820],\n",
       "        [0.6858, 0.3142],\n",
       "        [0.8523, 0.1477],\n",
       "        [0.4562, 0.5438],\n",
       "        [0.7977, 0.2023],\n",
       "        [0.8967, 0.1033],\n",
       "        [0.6750, 0.3250],\n",
       "        [0.7466, 0.2534],\n",
       "        [0.8903, 0.1097],\n",
       "        [0.9192, 0.0808],\n",
       "        [0.7728, 0.2272],\n",
       "        [0.6674, 0.3326],\n",
       "        [0.8437, 0.1563],\n",
       "        [0.5747, 0.4253],\n",
       "        [0.5403, 0.4597],\n",
       "        [0.3622, 0.6378],\n",
       "        [0.8933, 0.1067],\n",
       "        [0.7668, 0.2332],\n",
       "        [0.3839, 0.6161],\n",
       "        [0.4839, 0.5161],\n",
       "        [0.9231, 0.0769],\n",
       "        [0.6848, 0.3152],\n",
       "        [0.6375, 0.3625],\n",
       "        [0.3335, 0.6665],\n",
       "        [0.3685, 0.6315],\n",
       "        [0.4254, 0.5746],\n",
       "        [0.1933, 0.8067],\n",
       "        [0.7760, 0.2240],\n",
       "        [0.7917, 0.2083],\n",
       "        [0.8532, 0.1468],\n",
       "        [0.6573, 0.3427],\n",
       "        [0.8473, 0.1527],\n",
       "        [0.3592, 0.6408],\n",
       "        [0.9250, 0.0750],\n",
       "        [0.1483, 0.8517],\n",
       "        [0.8986, 0.1014],\n",
       "        [0.3286, 0.6714],\n",
       "        [0.5176, 0.4824],\n",
       "        [0.3016, 0.6984],\n",
       "        [0.1022, 0.8978],\n",
       "        [0.5032, 0.4968],\n",
       "        [0.8679, 0.1321],\n",
       "        [0.7665, 0.2335],\n",
       "        [0.6638, 0.3362],\n",
       "        [0.9042, 0.0958],\n",
       "        [0.8223, 0.1777],\n",
       "        [0.2835, 0.7165],\n",
       "        [0.8680, 0.1320],\n",
       "        [0.4105, 0.5895],\n",
       "        [0.6484, 0.3516],\n",
       "        [0.8643, 0.1357],\n",
       "        [0.0311, 0.9689],\n",
       "        [0.6550, 0.3450],\n",
       "        [0.3674, 0.6326],\n",
       "        [0.7003, 0.2997],\n",
       "        [0.7918, 0.2082],\n",
       "        [0.7653, 0.2347],\n",
       "        [0.8720, 0.1280],\n",
       "        [0.6458, 0.3542],\n",
       "        [0.6307, 0.3693],\n",
       "        [0.7562, 0.2438],\n",
       "        [0.6714, 0.3286],\n",
       "        [0.3638, 0.6362],\n",
       "        [0.8898, 0.1102],\n",
       "        [0.8359, 0.1641],\n",
       "        [0.9672, 0.0328],\n",
       "        [0.8665, 0.1335],\n",
       "        [0.8767, 0.1233],\n",
       "        [0.7605, 0.2395],\n",
       "        [0.4042, 0.5958],\n",
       "        [0.7445, 0.2555],\n",
       "        [0.4862, 0.5138],\n",
       "        [0.9862, 0.0138],\n",
       "        [0.8547, 0.1453],\n",
       "        [0.4169, 0.5831],\n",
       "        [0.6375, 0.3625],\n",
       "        [0.8494, 0.1506],\n",
       "        [0.8507, 0.1493],\n",
       "        [0.8430, 0.1570],\n",
       "        [0.6635, 0.3365],\n",
       "        [0.2341, 0.7659],\n",
       "        [0.9983, 0.0017]])"
      ]
     },
     "execution_count": 19,
     "metadata": {},
     "output_type": "execute_result"
    }
   ],
   "source": [
    "torch.exp(output)"
   ]
  },
  {
   "cell_type": "code",
   "execution_count": 20,
   "metadata": {},
   "outputs": [
    {
     "data": {
      "text/plain": [
       "torch.Size([154, 7])"
      ]
     },
     "execution_count": 20,
     "metadata": {},
     "output_type": "execute_result"
    }
   ],
   "source": [
    "X_test.shape"
   ]
  },
  {
   "cell_type": "code",
   "execution_count": 21,
   "metadata": {},
   "outputs": [
    {
     "data": {
      "text/plain": [
       "torch.Size([154, 2])"
      ]
     },
     "execution_count": 21,
     "metadata": {},
     "output_type": "execute_result"
    }
   ],
   "source": [
    "output.shape"
   ]
  },
  {
   "cell_type": "code",
   "execution_count": 22,
   "metadata": {},
   "outputs": [
    {
     "data": {
      "text/plain": [
       "tensor([1, 0, 0, 0, 0, 0, 0, 1, 0, 1, 0, 0, 0, 0, 0, 0, 1, 0, 1, 0, 0, 1, 0, 1,\n",
       "        1, 0, 1, 0, 1, 0, 0, 0, 0, 1, 0, 0, 0, 0, 0, 1, 0, 0, 0, 0, 0, 1, 0, 0,\n",
       "        1, 0, 1, 0, 0, 0, 0, 0, 1, 0, 1, 0, 0, 0, 0, 1, 0, 0, 1, 0, 0, 0, 0, 0,\n",
       "        0, 0, 0, 1, 0, 0, 0, 0, 0, 0, 0, 0, 0, 0, 0, 1, 0, 0, 1, 1, 0, 0, 0, 1,\n",
       "        1, 1, 1, 0, 0, 0, 0, 0, 1, 0, 1, 0, 1, 0, 1, 1, 0, 0, 0, 0, 0, 0, 1, 0,\n",
       "        1, 0, 0, 1, 0, 1, 0, 0, 0, 0, 0, 0, 0, 0, 1, 0, 0, 0, 0, 0, 0, 1, 0, 1,\n",
       "        0, 0, 1, 0, 0, 0, 0, 0, 1, 0])"
      ]
     },
     "execution_count": 22,
     "metadata": {},
     "output_type": "execute_result"
    }
   ],
   "source": [
    "# ambil siapa yang paling besar, ambil untuk prediksi\n",
    "pred = output.argmax(dim=1)\n",
    "pred"
   ]
  },
  {
   "cell_type": "markdown",
   "metadata": {},
   "source": [
    "<h2> Accuracy"
   ]
  },
  {
   "cell_type": "code",
   "execution_count": 23,
   "metadata": {},
   "outputs": [
    {
     "data": {
      "text/plain": [
       "torch.Size([154])"
      ]
     },
     "execution_count": 23,
     "metadata": {},
     "output_type": "execute_result"
    }
   ],
   "source": [
    "y_test.shape"
   ]
  },
  {
   "cell_type": "code",
   "execution_count": 24,
   "metadata": {},
   "outputs": [
    {
     "data": {
      "text/plain": [
       "tensor([0, 0, 0, 1, 0, 0, 1, 1, 0, 0, 0, 1, 0, 0, 1, 1, 0, 0, 0, 0, 0, 1, 1, 1,\n",
       "        0, 0, 1, 0, 1, 0, 0, 0, 0, 0, 0, 1, 0, 0, 1, 0, 0, 0, 0, 1, 0, 1, 1, 0,\n",
       "        1, 1, 0, 1, 0, 0, 0, 0, 1, 0, 1, 0, 1, 0, 0, 1, 0, 0, 1, 0, 0, 1, 1, 0,\n",
       "        0, 1, 0, 1, 0, 1, 0, 0, 0, 0, 0, 0, 0, 0, 1, 1, 0, 0, 1, 1, 0, 1, 1, 1,\n",
       "        0, 0, 1, 0, 0, 0, 0, 0, 1, 0, 1, 0, 0, 0, 0, 1, 1, 1, 1, 0, 0, 0, 1, 0,\n",
       "        0, 1, 0, 0, 1, 1, 1, 0, 0, 0, 0, 0, 0, 1, 0, 0, 0, 0, 0, 0, 0, 1, 0, 0,\n",
       "        0, 1, 1, 1, 0, 0, 0, 0, 1, 0])"
      ]
     },
     "execution_count": 24,
     "metadata": {},
     "output_type": "execute_result"
    }
   ],
   "source": [
    "y_test"
   ]
  },
  {
   "cell_type": "code",
   "execution_count": 25,
   "metadata": {},
   "outputs": [
    {
     "data": {
      "text/plain": [
       "tensor([False,  True,  True, False,  True,  True, False,  True,  True, False,\n",
       "         True, False,  True,  True, False, False, False,  True, False,  True,\n",
       "         True,  True, False,  True, False,  True,  True,  True,  True,  True,\n",
       "         True,  True,  True, False,  True, False,  True,  True, False, False,\n",
       "         True,  True,  True, False,  True,  True, False,  True,  True, False,\n",
       "        False, False,  True,  True,  True,  True,  True,  True,  True,  True,\n",
       "        False,  True,  True,  True,  True,  True,  True,  True,  True, False,\n",
       "        False,  True,  True, False,  True,  True,  True, False,  True,  True,\n",
       "         True,  True,  True,  True,  True,  True, False,  True,  True,  True,\n",
       "         True,  True,  True, False, False,  True, False, False,  True,  True,\n",
       "         True,  True,  True,  True,  True,  True,  True,  True, False,  True,\n",
       "        False,  True, False, False, False,  True,  True,  True,  True,  True,\n",
       "        False, False,  True, False, False,  True, False,  True,  True,  True,\n",
       "         True,  True,  True, False, False,  True,  True,  True,  True,  True,\n",
       "         True,  True,  True, False,  True, False,  True, False,  True,  True,\n",
       "         True,  True,  True,  True])"
      ]
     },
     "execution_count": 25,
     "metadata": {},
     "output_type": "execute_result"
    }
   ],
   "source": [
    "y_test == pred"
   ]
  },
  {
   "cell_type": "code",
   "execution_count": 26,
   "metadata": {},
   "outputs": [
    {
     "data": {
      "text/plain": [
       "tensor(0.7078)"
      ]
     },
     "execution_count": 26,
     "metadata": {},
     "output_type": "execute_result"
    }
   ],
   "source": [
    "acc = (y_test == pred).to(torch.float32).mean()\n",
    "acc"
   ]
  },
  {
   "cell_type": "markdown",
   "metadata": {},
   "source": [
    "<h2> Dropout layer + update layer"
   ]
  },
  {
   "cell_type": "code",
   "execution_count": 27,
   "metadata": {},
   "outputs": [],
   "source": [
    "model = nn.Sequential(\n",
    "    nn.Linear(7, 32),\n",
    "    nn.ReLU(),\n",
    "    nn.Dropout(0.5),\n",
    "\n",
    "    nn.Linear(32, 16),\n",
    "    nn.ReLU(),\n",
    "    nn.Dropout(0.4),\n",
    "\n",
    "    nn.Linear(16, 8),\n",
    "    nn.ReLU(),\n",
    "    nn.Dropout(0.3),\n",
    "\n",
    "    nn.Linear(8, 2),\n",
    "    nn.LogSoftmax(dim=1) #jika pakai crossentropyloss maka tidak perlu logsoftmax\n",
    ")\n",
    "\n",
    "criterion = nn.NLLLoss()\n",
    "# criterion = nn.CrossEntropyLoss()\n",
    "optimizer = optim.AdamW(model.parameters(), lr=0.001)"
   ]
  },
  {
   "cell_type": "markdown",
   "metadata": {},
   "source": [
    "<h2> Training"
   ]
  },
  {
   "cell_type": "code",
   "execution_count": 28,
   "metadata": {},
   "outputs": [],
   "source": [
    "def loop_fn(mode, dataset, dataloader, model, criterion, optimizer):\n",
    "    if mode == \"train\":\n",
    "        model.train()\n",
    "    elif mode == \"test\":\n",
    "        model.eval()\n",
    "    cost = correct = 0\n",
    "    for feature, target in dataloader:\n",
    "        output = model(feature) # forward\n",
    "        loss = criterion(output, target) # hitung loss\n",
    "\n",
    "        if mode == \"train\": # hanya ada di train, hitung backpropagation\n",
    "            loss.backward() \n",
    "            optimizer.step()\n",
    "            optimizer.zero_grad()\n",
    "\n",
    "        cost += loss.item() * feature.shape[0]\n",
    "        correct += (output.argmax(1) == target).sum().item() # hitung akurasi\n",
    "    cost = cost / len(dataset)\n",
    "    acc = correct / len(dataset)\n",
    "    return cost, acc\n"
   ]
  },
  {
   "cell_type": "code",
   "execution_count": 29,
   "metadata": {},
   "outputs": [
    {
     "name": "stdout",
     "output_type": "stream",
     "text": [
      "Epoch: 4/1000 | train_cost: 1.2466 | test_cost: 0.6603 | train_acc: 0.5277 | test_acc: 0.6494 "
     ]
    },
    {
     "name": "stdout",
     "output_type": "stream",
     "text": [
      "Epoch: 1000/1000 | train_cost: 0.5507 | test_cost: 0.6203 | train_acc: 0.7215 | test_acc: 0.6494 "
     ]
    }
   ],
   "source": [
    "epochs = 1000\n",
    "train_cost, test_cost = [], []\n",
    "train_acc, test_acc = [], []\n",
    "\n",
    "for i in range(epochs):\n",
    "    cost, acc = loop_fn(\"train\", train_set, trainloader, model, criterion, optimizer)\n",
    "    train_cost.append(cost)\n",
    "    train_acc.append(acc)\n",
    "    with torch.no_grad():\n",
    "        cost, acc = loop_fn(\"test\", test_set, testloader, model, criterion, optimizer)\n",
    "        test_cost.append(cost)\n",
    "        test_acc.append(acc)\n",
    "\n",
    "    print(f\"\\rEpoch: {i+1}/{epochs} | train_cost: {train_cost[-1]:.4f} | test_cost: {test_cost[-1]:.4f} | train_acc: {train_acc[-1]:.4f} | test_acc: {test_acc[-1]:.4f}\", end=\" \")    "
   ]
  },
  {
   "cell_type": "code",
   "execution_count": 30,
   "metadata": {},
   "outputs": [
    {
     "data": {
      "text/plain": [
       "<matplotlib.legend.Legend at 0x240e489e350>"
      ]
     },
     "execution_count": 30,
     "metadata": {},
     "output_type": "execute_result"
    },
    {
     "data": {
      "image/png": "[encoded data removed]",
      "text/plain": [
       "<Figure size 1000x500 with 2 Axes>"
      ]
     },
     "metadata": {},
     "output_type": "display_data"
    }
   ],
   "source": [
    "plt.figure(figsize=(10, 5))\n",
    "\n",
    "plt.subplot(1, 2, 1)\n",
    "plt.plot(train_cost, 'r-', label='train')\n",
    "plt.plot(test_cost, 'b-', label='test')\n",
    "plt.xlabel('epoch')\n",
    "plt.ylabel('cost')\n",
    "plt.legend()\n",
    "\n",
    "plt.subplot(1, 2, 2)\n",
    "plt.plot(train_acc,  'r-', label='train')\n",
    "plt.plot(test_acc,  'b-', label='test')\n",
    "plt.xlabel('epoch')\n",
    "plt.ylabel('accuracy')\n",
    "plt.legend()\n"
   ]
  },
  {
   "cell_type": "markdown",
   "metadata": {},
   "source": [
    "Save ~~Model~~ Weights"
   ]
  },
  {
   "cell_type": "code",
   "execution_count": 36,
   "metadata": {},
   "outputs": [],
   "source": [
    "import os\n",
    "\n",
    "os.makedirs(\"model\", exist_ok=True)"
   ]
  },
  {
   "cell_type": "code",
   "execution_count": 37,
   "metadata": {},
   "outputs": [
    {
     "data": {
      "text/plain": [
       "OrderedDict([('0.weight',\n",
       "              tensor([[ 2.4989e-01, -2.2214e-01, -1.1379e-01,  2.0791e-01,  3.8535e-02,\n",
       "                       -1.9702e-02, -1.0982e-02],\n",
       "                      [ 9.1539e-02,  1.5468e-01,  8.0986e-02, -1.6175e-01, -3.3871e-01,\n",
       "                        2.0012e-01, -1.6614e-01],\n",
       "                      [ 2.1567e-01, -1.9622e-01,  5.8801e-03, -1.3751e-01,  1.0679e-01,\n",
       "                       -1.3167e-01, -3.1340e-01],\n",
       "                      [ 1.7943e-01,  2.8876e-02, -4.7978e-02, -2.5937e-02,  1.0297e-01,\n",
       "                        6.2911e-01, -4.7437e-03],\n",
       "                      [ 8.4286e-01,  2.4628e-01, -4.0503e-01, -2.1149e-01, -4.5080e-01,\n",
       "                       -9.2431e-02, -3.9935e-02],\n",
       "                      [-5.1830e-01, -1.2176e-01,  3.0263e-01, -1.6964e-01,  9.0576e-02,\n",
       "                       -7.4616e-01, -1.9100e-01],\n",
       "                      [ 2.6996e-01, -2.0387e-01, -1.6700e-01,  2.3993e-01, -2.7467e-01,\n",
       "                       -3.3217e-01,  1.6991e-01],\n",
       "                      [-4.4325e-01, -6.0292e-02,  3.6362e-01, -1.3792e-01, -3.4135e-01,\n",
       "                       -1.3454e-01, -2.2993e-01],\n",
       "                      [ 4.1256e-01,  5.3726e-02, -8.5672e-02,  3.4352e-02,  2.3149e-02,\n",
       "                        5.7180e-01, -5.6157e-02],\n",
       "                      [-2.1607e-01, -2.4468e-01, -2.5922e-01, -2.2802e-01,  2.6154e-01,\n",
       "                       -3.0664e-01, -9.1403e-02],\n",
       "                      [-6.1772e-01, -1.2482e-01,  3.6674e-01,  7.8306e-03, -1.4040e-01,\n",
       "                       -8.3212e-01, -2.5962e-01],\n",
       "                      [-3.0507e-01, -4.6871e-02, -1.6658e-01, -4.9384e-02, -1.2610e-01,\n",
       "                       -6.8333e-02,  3.0757e-01],\n",
       "                      [-4.5197e-01, -1.0172e-02,  2.3586e-01, -2.9254e-02, -4.0179e-01,\n",
       "                       -1.4961e-01, -2.3182e-01],\n",
       "                      [-9.1372e-02, -3.0032e-01,  1.4614e-01,  6.2312e-02, -2.3969e-01,\n",
       "                        7.4527e-02, -1.6042e-01],\n",
       "                      [-4.3652e-02,  1.9236e-01, -3.9063e-01, -8.6266e-02,  1.1837e-01,\n",
       "                       -2.6462e-01,  1.0482e-01],\n",
       "                      [-1.1238e-01,  1.8546e-02,  6.1187e-02, -2.0509e-01, -1.3132e-01,\n",
       "                        1.5651e-01, -7.2024e-02],\n",
       "                      [-1.1381e+00,  1.0162e-01, -1.1727e-01,  5.2440e-02,  2.3157e-01,\n",
       "                        6.7059e-02, -6.3835e-01],\n",
       "                      [-1.9063e-01, -3.5211e-01,  2.5684e-01,  4.1274e-01, -1.2399e-01,\n",
       "                       -1.5431e+00,  4.5197e-02],\n",
       "                      [-3.2570e-01, -3.2306e-01,  1.3689e-01,  1.0341e-01, -2.1348e-01,\n",
       "                        3.7743e-02, -1.3930e-01],\n",
       "                      [ 4.1881e-01,  3.3174e-02,  3.4448e-02, -1.8094e-01,  5.5860e-02,\n",
       "                        4.3504e-01, -5.3217e-02],\n",
       "                      [ 9.2399e-02,  2.3743e-02,  5.7914e-03, -3.4370e-02,  9.9201e-02,\n",
       "                        5.5851e-01,  9.5353e-03],\n",
       "                      [ 5.2650e-01,  1.3765e-01, -2.3261e-01,  7.9984e-02, -1.2735e-01,\n",
       "                       -2.1647e-01, -1.2386e-01],\n",
       "                      [ 1.2416e-01, -6.8681e-02, -2.9305e-02, -1.9333e-01,  2.1881e-01,\n",
       "                       -6.0660e-02,  3.7120e-02],\n",
       "                      [ 5.1098e-03, -3.9053e-02,  3.3020e-01, -4.2259e-01, -4.0604e-01,\n",
       "                        8.5899e-02, -8.4138e-02],\n",
       "                      [-5.9620e-01, -2.0230e-01,  3.9828e-01,  8.2350e-02,  1.2360e-01,\n",
       "                       -7.5809e-01, -3.2648e-01],\n",
       "                      [ 8.1648e-01,  1.5093e-01, -8.3474e-02, -2.0286e-01,  6.7923e-02,\n",
       "                        2.7141e-01, -1.2415e-01],\n",
       "                      [ 5.0839e-01,  4.5141e-02, -6.3659e-02, -3.0341e-02,  9.1230e-02,\n",
       "                        1.0495e+00, -8.0164e-02],\n",
       "                      [ 1.3692e-03,  7.1071e-02, -2.9697e-01, -3.3856e-01, -3.3519e-01,\n",
       "                        1.6547e-01,  4.2319e-02],\n",
       "                      [-3.0209e-01, -3.0227e-01, -1.0603e-01, -1.4417e-01,  1.1548e-01,\n",
       "                        1.6329e-01,  8.8695e-02],\n",
       "                      [ 3.2077e-01, -2.5258e-01, -2.7642e-01, -2.8993e-01,  9.3044e-03,\n",
       "                       -3.1444e-02,  3.1187e-01],\n",
       "                      [-1.1580e-01, -2.4639e-01, -3.2526e-01,  1.5735e-01,  3.4183e-01,\n",
       "                       -1.3666e-01,  5.9136e-02],\n",
       "                      [ 1.3197e-01, -2.0644e-01,  1.5560e-01, -1.4452e-01, -2.6094e-01,\n",
       "                        6.2699e-02,  2.7533e-01]])),\n",
       "             ('0.bias',\n",
       "              tensor([ 0.1598, -0.9812, -0.0976, -1.9934, -1.0239,  1.0603,  0.1809,  0.7506,\n",
       "                      -1.5035,  0.1350,  1.4033, -0.2278,  0.8226,  0.0854, -1.3693, -0.4002,\n",
       "                      -0.8661,  0.5458,  0.1685, -1.8480, -2.0463, -1.7898,  0.0703,  0.2419,\n",
       "                       0.7587, -1.6904, -1.8687, -0.0335, -0.0571, -0.0600,  0.2036, -0.2728])),\n",
       "             ('3.weight',\n",
       "              tensor([[ 3.2795e-02,  9.5325e-02,  7.2771e-02,  1.0563e-01,  1.6057e-01,\n",
       "                       -2.8708e-01, -5.0376e-02, -3.4539e-01,  1.2745e-01, -6.1272e-02,\n",
       "                       -3.2741e-01, -2.3835e-02, -2.1013e-01, -6.0030e-02,  6.4385e-03,\n",
       "                        9.8426e-03,  6.7999e-01, -1.7544e-01,  7.9709e-02,  4.0200e-02,\n",
       "                        1.3036e-02,  1.3701e-02, -8.5687e-02, -5.6627e-02, -1.9613e-01,\n",
       "                       -1.0295e-01, -6.6156e-02, -1.0745e-02,  8.8688e-02,  1.4976e-02,\n",
       "                        1.5898e-01,  6.7504e-02],\n",
       "                      [-6.5445e-02, -1.4032e-01,  1.2472e-01, -1.6090e-01, -5.7842e-02,\n",
       "                       -4.5632e-02, -1.3295e-01, -1.0754e-01, -6.0485e-02, -8.5102e-02,\n",
       "                       -6.8333e-02,  1.2388e-02, -9.7195e-02, -1.5326e-01,  5.0642e-02,\n",
       "                       -4.6455e-02,  1.5969e-02, -2.2427e-01, -8.9661e-02, -9.7830e-02,\n",
       "                        9.8950e-02, -7.1965e-02, -1.6328e-01,  4.4666e-03, -5.4116e-02,\n",
       "                       -6.5461e-02, -2.9812e-01,  4.4833e-02,  9.4839e-03, -6.5247e-02,\n",
       "                       -1.0324e-01,  4.5805e-02],\n",
       "                      [-1.5903e-01, -1.7809e-01, -6.4238e-02, -2.1427e-01,  3.2977e-02,\n",
       "                       -8.5300e-02, -5.8053e-02, -1.2176e-01,  5.8237e-02,  1.4305e-01,\n",
       "                       -2.2147e-01, -6.5992e-02, -6.0431e-02, -1.3876e-02,  1.5339e-02,\n",
       "                        2.7625e-03,  1.1667e-01, -1.6789e-01,  1.2719e-01,  5.8604e-02,\n",
       "                       -2.3566e-01,  1.0985e-01,  9.2148e-02, -6.2788e-02, -8.9565e-02,\n",
       "                       -4.9855e-02,  1.3949e-01, -9.6461e-02,  9.0383e-02, -1.5237e-01,\n",
       "                       -6.9413e-02, -6.9850e-02],\n",
       "                      [-2.6765e-02, -1.8235e-01, -6.0518e-02,  2.6893e-01,  2.6910e-01,\n",
       "                        8.1045e-02,  6.1117e-03, -3.7817e-02, -8.1495e-02,  1.0456e-01,\n",
       "                        5.9202e-03, -8.8298e-02, -1.0305e-01,  8.6944e-02,  1.3048e-03,\n",
       "                        1.6879e-02,  1.6487e-01, -1.7337e-01,  1.1863e-01,  8.0189e-02,\n",
       "                       -1.1198e-02,  3.9177e-02, -1.3456e-01, -2.4241e-01,  2.2781e-02,\n",
       "                       -2.2528e-02, -1.9311e-03,  4.1336e-04,  8.3755e-02,  1.6039e-02,\n",
       "                       -1.5815e-01,  6.2610e-02],\n",
       "                      [ 1.1185e-01,  7.8163e-02, -1.2465e-01, -6.7408e-02, -2.6137e-01,\n",
       "                       -1.0223e-02,  5.1248e-02,  8.6897e-03, -1.9352e-01, -3.6966e-02,\n",
       "                       -1.3729e-02,  7.9536e-02,  4.0661e-01, -1.5007e-01, -1.3530e-01,\n",
       "                       -1.4132e-01, -3.5705e-01,  4.1632e-01,  1.5664e-01, -1.8332e-02,\n",
       "                       -6.3413e-03, -3.0118e-01, -4.4745e-03,  6.2990e-01,  1.0423e-02,\n",
       "                       -3.3683e-03, -2.9259e-01, -3.7290e-02,  1.8908e-02,  2.4435e-02,\n",
       "                       -4.3089e-02,  2.2279e-02],\n",
       "                      [-2.5455e-02, -5.5374e-05, -6.8585e-02, -5.7278e-02, -2.3211e-01,\n",
       "                       -3.6019e-03, -1.1269e-01,  1.8011e-01, -3.2612e-02, -3.2629e-02,\n",
       "                        8.6302e-03, -8.2942e-03,  5.3411e-01,  1.5768e-01, -1.8540e-01,\n",
       "                       -5.7107e-02, -1.1481e-01,  7.3060e-01, -2.3942e-02, -2.7752e-02,\n",
       "                       -2.4966e-02, -5.9111e-02,  6.5354e-02,  4.7893e-01, -9.3546e-03,\n",
       "                        6.8585e-03, -7.4510e-02,  1.5703e-01,  4.0158e-02,  1.1501e-01,\n",
       "                       -1.4218e-01, -1.0423e-01],\n",
       "                      [ 8.9272e-02,  2.9051e-02, -8.7662e-02,  5.6810e-02, -7.5411e-02,\n",
       "                       -1.8303e-01,  2.0334e-02, -2.7486e-01,  1.2083e-01,  4.3802e-02,\n",
       "                       -4.2284e-01,  4.4790e-02, -1.4361e-01, -4.9506e-02,  4.5806e-03,\n",
       "                        6.2210e-02,  5.9468e-01, -3.4720e-01, -1.5578e-01,  1.1366e-02,\n",
       "                       -2.8255e-01, -4.3032e-02,  1.0709e-01, -2.1831e-01, -2.5365e-02,\n",
       "                       -9.5497e-03,  2.8109e-02,  1.8831e-02,  2.2970e-02, -2.0208e-02,\n",
       "                        3.2824e-02, -1.3976e-01],\n",
       "                      [-4.9679e-03, -5.4221e-04,  5.4035e-02, -1.1084e-01,  1.7481e-01,\n",
       "                       -2.7856e-01, -6.2652e-03, -2.7865e-01, -4.3824e-02, -1.1240e-01,\n",
       "                       -2.6242e-01, -1.3093e-01, -6.8029e-02,  1.4268e-01, -2.6344e-02,\n",
       "                       -4.7654e-02,  4.5962e-01, -1.5527e-01, -8.9985e-02, -1.5714e-02,\n",
       "                        1.3906e-01,  1.0786e-01, -1.1479e-01, -1.2930e-01, -1.4625e-01,\n",
       "                       -2.1551e-02,  1.7674e-02,  5.6636e-02,  1.2860e-01, -1.0838e-01,\n",
       "                       -8.4494e-02, -8.6575e-02],\n",
       "                      [-6.0205e-02,  3.9938e-02, -5.4106e-02, -6.9042e-02, -2.4071e-01,\n",
       "                        2.3750e-03,  4.8821e-02,  8.0134e-02, -7.6839e-02,  1.6822e-02,\n",
       "                        8.2343e-03,  6.1170e-02,  3.8377e-01, -3.2462e-02, -1.3854e-01,\n",
       "                       -1.0095e-01, -1.4156e-01,  5.9216e-01, -1.3039e-01, -2.3375e-02,\n",
       "                       -1.0692e-02, -2.1585e-01, -3.9230e-02,  6.9389e-01,  1.7350e-03,\n",
       "                       -7.3946e-03, -1.1115e-01, -2.6052e-02,  1.5095e-01, -1.5643e-01,\n",
       "                       -1.1329e-03, -1.3625e-01],\n",
       "                      [ 9.9199e-02,  7.9450e-02,  4.8671e-02,  1.3600e-01, -1.1331e-02,\n",
       "                       -2.1837e-01, -2.2240e-02, -4.5702e-01,  6.1736e-02, -3.5606e-02,\n",
       "                       -2.0539e-01,  5.6576e-02, -3.2422e-01,  1.5413e-01,  3.4307e-03,\n",
       "                       -9.5232e-02,  6.4068e-01, -2.3840e-01,  4.2980e-02,  6.8868e-02,\n",
       "                        5.5435e-02,  4.4360e-02,  3.6270e-02, -1.8103e-01, -1.5942e-03,\n",
       "                        1.8265e-02,  1.1181e-01, -1.4794e-01,  5.7352e-02, -5.9792e-02,\n",
       "                        1.5978e-01,  7.4551e-02],\n",
       "                      [-8.8555e-02,  8.7410e-02, -8.4995e-02,  1.0793e-01,  1.6785e-01,\n",
       "                       -3.9969e-01,  7.7465e-02, -4.4954e-01,  7.0823e-02, -1.3497e-01,\n",
       "                       -2.4900e-01,  8.1924e-02, -2.6867e-01, -3.1049e-02, -6.9389e-03,\n",
       "                        1.2414e-02,  3.2641e-01, -1.1898e-01,  1.3378e-01,  4.1295e-02,\n",
       "                        1.2013e-01,  8.0093e-02, -1.6215e-01, -7.7365e-02, -3.3477e-02,\n",
       "                        1.1196e-02,  1.1943e-01,  1.0303e-01, -1.3457e-02,  3.7781e-02,\n",
       "                        2.7898e-02,  4.8145e-02],\n",
       "                      [ 5.7243e-02,  8.5366e-02,  1.4925e-01,  1.1470e-01,  2.7058e-01,\n",
       "                       -6.4141e-01, -1.1160e-01, -3.8464e-01,  1.2087e-01,  6.8150e-02,\n",
       "                       -5.1998e-01,  4.3428e-02, -3.4156e-01,  1.3366e-01,  5.0609e-02,\n",
       "                       -1.6695e-02,  3.9795e-01, -1.6751e-01,  1.0146e-01,  9.0696e-02,\n",
       "                        9.8283e-03,  1.9833e-01, -1.5610e-01, -1.7924e-01, -2.1811e-01,\n",
       "                        1.0371e-02,  9.9354e-02,  2.9227e-03,  4.8933e-02,  4.3122e-02,\n",
       "                        4.3016e-02,  7.3297e-02],\n",
       "                      [ 1.2878e-01,  9.0801e-02,  5.9291e-02, -6.2819e-02, -2.1689e-01,\n",
       "                        1.6447e-02, -1.2614e-01,  1.2323e-02, -1.2058e-01,  1.3501e-01,\n",
       "                        9.9703e-03,  3.1819e-02,  5.5032e-01,  1.0893e-01, -1.5925e-01,\n",
       "                        6.7386e-02, -2.2001e-01,  6.0581e-01,  1.4569e-01, -2.4343e-02,\n",
       "                       -2.4603e-02, -2.5221e-01,  4.2190e-02,  6.0811e-01,  5.1272e-04,\n",
       "                       -1.5309e-02, -1.9322e-01,  2.8680e-02,  7.0022e-02,  1.5631e-01,\n",
       "                        3.3310e-02, -9.7406e-02],\n",
       "                      [ 1.0990e-01, -2.1023e-02,  1.0898e-01, -7.9003e-02,  1.5313e-01,\n",
       "                       -3.3963e-02, -1.1613e-01, -6.7222e-02,  8.0560e-03,  9.8722e-02,\n",
       "                        2.7783e-02, -5.5416e-02, -3.3676e-02,  1.4114e-01, -2.7320e-03,\n",
       "                       -1.9535e-01,  5.4588e-01, -9.6668e-02, -1.2584e-01, -2.7315e-02,\n",
       "                        1.4829e-01, -8.4418e-02,  9.3183e-02, -9.0661e-02, -1.3105e-02,\n",
       "                       -1.1365e-03, -2.9458e-02, -1.1367e-01, -1.5985e-01,  3.4107e-02,\n",
       "                       -4.5919e-02, -2.9934e-03],\n",
       "                      [ 9.4773e-02,  1.0905e-01,  3.8069e-02,  1.0678e-01,  1.8005e-01,\n",
       "                       -5.4626e-01, -1.8377e-02, -4.9430e-01,  1.0908e-01,  4.3198e-02,\n",
       "                       -4.0843e-01, -4.2595e-02, -3.3773e-01, -1.5567e-01,  1.5707e-02,\n",
       "                        3.4106e-02,  6.9800e-01, -7.6676e-02,  1.4197e-01,  4.0600e-02,\n",
       "                        2.1102e-02,  8.0388e-02,  1.1517e-01, -1.5938e-01, -2.4460e-01,\n",
       "                        5.4338e-02,  7.0574e-02,  8.8156e-02, -1.5014e-02, -1.1861e-01,\n",
       "                       -6.8510e-02,  9.0349e-02],\n",
       "                      [ 1.5367e-01, -2.5651e-02, -9.6032e-02, -3.8454e-02,  6.1136e-02,\n",
       "                       -7.9736e-02,  1.4741e-02, -1.1854e-01, -4.2874e-02, -1.0772e-02,\n",
       "                       -1.2220e-01,  5.2939e-02, -8.3547e-02, -1.3138e-01,  8.8228e-03,\n",
       "                       -9.3321e-02,  6.5023e-01, -1.7851e-01, -5.4603e-03, -2.5482e-02,\n",
       "                       -3.2380e-02, -5.0844e-02,  3.3208e-02, -1.7062e-01, -2.4041e-01,\n",
       "                        7.8720e-02, -4.0731e-02, -5.0959e-02,  5.4091e-02,  1.3453e-01,\n",
       "                       -8.1530e-02, -3.8251e-02]])),\n",
       "             ('3.bias',\n",
       "              tensor([-0.1133, -0.0765,  0.4134, -0.5116,  0.3116,  0.5638,  0.5693, -0.4914,\n",
       "                       0.4792, -0.6929, -0.7502, -0.4253,  0.4250, -0.5419, -0.8500, -0.6508])),\n",
       "             ('6.weight',\n",
       "              tensor([[ 0.1282,  0.0558, -0.1031,  0.1564, -0.0075, -0.1669,  0.1650,  0.1538,\n",
       "                       -0.1683,  0.1093,  0.0806,  0.2345, -0.0372,  0.2805, -0.0767,  0.2717],\n",
       "                      [-0.0661,  0.0561,  0.2355,  0.1419, -0.0169, -0.0808,  0.0245, -0.0079,\n",
       "                       -0.1068, -0.0793,  0.2855, -0.0443, -0.1144,  0.2287, -0.0847,  0.3792],\n",
       "                      [ 0.1144, -0.1172, -0.0406,  0.1095,  0.0267, -0.0105,  0.1499,  0.2854,\n",
       "                       -0.0024,  0.2416, -0.0566, -0.0720,  0.0329,  0.1247, -0.0033,  0.2781],\n",
       "                      [ 0.2388,  0.3065,  0.2132,  0.1065, -0.0060, -0.2792,  0.2257,  0.2097,\n",
       "                       -0.0952,  0.0960,  0.0304,  0.1844, -0.0463,  0.2516,  0.1208,  0.3313],\n",
       "                      [ 0.2901, -0.0824,  0.1939,  0.1317, -0.0131, -0.0305, -0.0616,  0.1577,\n",
       "                       -0.0975, -0.1158, -0.0124, -0.0743, -0.0224,  0.3235,  0.2850,  0.2362],\n",
       "                      [-0.2715, -0.0483, -0.2827, -0.0202,  0.3303,  0.0740, -0.1370, -0.1193,\n",
       "                        0.1021, -0.1542, -0.3223, -0.2244,  0.0984, -0.0345, -0.2329, -0.2618],\n",
       "                      [-0.3334, -0.1846, -0.3767, -0.1312,  0.1169,  0.0981, -0.4437, -0.2619,\n",
       "                        0.1109, -0.2550, -0.2455, -0.3114,  0.1614, -0.1350, -0.2480, -0.2602],\n",
       "                      [-0.2523, -0.2770, -0.5317, -0.1291,  0.1546,  0.1520, -0.4277, -0.1675,\n",
       "                        0.2109, -0.1781, -0.2456, -0.3004,  0.2067, -0.1034, -0.2254, -0.3402]])),\n",
       "             ('6.bias',\n",
       "              tensor([-0.1451, -0.1874, -0.2205, -0.0356, -0.2528,  0.2111,  0.4774,  0.5363])),\n",
       "             ('9.weight',\n",
       "              tensor([[-0.3128, -0.1769, -0.2230, -0.3110, -0.2097,  0.2671,  0.1124,  0.3316],\n",
       "                      [-0.0658,  0.3690,  0.3286, -0.0804,  0.2119, -0.3644, -0.3950, -0.0525]])),\n",
       "             ('9.bias', tensor([ 0.4970, -0.1673]))])"
      ]
     },
     "execution_count": 37,
     "metadata": {},
     "output_type": "execute_result"
    }
   ],
   "source": [
    "model.state_dict()"
   ]
  },
  {
   "cell_type": "code",
   "execution_count": 38,
   "metadata": {},
   "outputs": [],
   "source": [
    "torch.save(model.state_dict(), 'model/weights.pth')"
   ]
  },
  {
   "cell_type": "markdown",
   "metadata": {},
   "source": [
    "<h2> Logging"
   ]
  },
  {
   "cell_type": "code",
   "execution_count": 39,
   "metadata": {},
   "outputs": [],
   "source": [
    "log = {\n",
    "    \"train_cost\": train_cost,\n",
    "    \"train_cost\": test_cost,\n",
    "    \"train_acc\": train_acc,\n",
    "    \"test_acc\": test_acc\n",
    "}\n",
    "\n",
    "torch.save(log, 'model/log.pth')"
   ]
  },
  {
   "cell_type": "markdown",
   "metadata": {},
   "source": [
    "<h2> Load Model"
   ]
  },
  {
   "cell_type": "code",
   "execution_count": 40,
   "metadata": {},
   "outputs": [],
   "source": [
    "model = nn.Sequential(\n",
    "    nn.Linear(7, 32),\n",
    "    nn.ReLU(),\n",
    "    nn.Dropout(0.5),\n",
    "\n",
    "    nn.Linear(32, 16),\n",
    "    nn.ReLU(),\n",
    "    nn.Dropout(0.4),\n",
    "\n",
    "    nn.Linear(16, 8),\n",
    "    nn.ReLU(),\n",
    "    nn.Dropout(0.3),\n",
    "\n",
    "    nn.Linear(8, 2),\n",
    "    nn.LogSoftmax(dim=1) #jika pakai crossentropyloss maka tidak perlu logsoftmax\n",
    ")"
   ]
  },
  {
   "cell_type": "markdown",
   "metadata": {},
   "source": [
    "akan masih random"
   ]
  },
  {
   "cell_type": "code",
   "execution_count": 41,
   "metadata": {},
   "outputs": [
    {
     "data": {
      "text/plain": [
       "OrderedDict([('0.weight',\n",
       "              tensor([[-0.1405, -0.0602,  0.3295, -0.3018, -0.0902, -0.1587,  0.1906],\n",
       "                      [-0.2142,  0.2312, -0.2390, -0.3180, -0.3748,  0.1656, -0.1867],\n",
       "                      [ 0.0619,  0.0670,  0.1953,  0.2887, -0.1019,  0.1557,  0.2438],\n",
       "                      [-0.2289, -0.2424, -0.1084,  0.0249,  0.1963,  0.3111,  0.3756],\n",
       "                      [-0.1508, -0.2149,  0.3625,  0.1857,  0.2068,  0.1435, -0.1179],\n",
       "                      [ 0.1735, -0.3578, -0.0822, -0.3024,  0.0479, -0.1953,  0.1926],\n",
       "                      [-0.0322, -0.2500, -0.3307, -0.3522, -0.2178, -0.0458,  0.1867],\n",
       "                      [-0.1578, -0.2339, -0.1435, -0.2197,  0.3172,  0.1108,  0.2294],\n",
       "                      [ 0.1919,  0.1364, -0.1711,  0.3623, -0.1374, -0.0636, -0.1186],\n",
       "                      [ 0.0015,  0.2289,  0.0161, -0.1831, -0.2515,  0.0083, -0.2156],\n",
       "                      [-0.2766, -0.3129, -0.2006,  0.2802,  0.1538,  0.2130,  0.2499],\n",
       "                      [ 0.0657,  0.3669,  0.2613,  0.0919,  0.2346,  0.0859, -0.3763],\n",
       "                      [-0.1309, -0.3140,  0.1837, -0.0155,  0.2068,  0.1121, -0.1374],\n",
       "                      [ 0.1362,  0.2017, -0.1672,  0.0949,  0.0325, -0.1201, -0.2207],\n",
       "                      [ 0.2844, -0.0433, -0.2281,  0.0532, -0.1993,  0.0933, -0.3063],\n",
       "                      [-0.1950, -0.1343,  0.3132,  0.0220, -0.3614,  0.0079,  0.3655],\n",
       "                      [-0.1361,  0.0151,  0.0984,  0.0863,  0.2688,  0.1741,  0.0572],\n",
       "                      [-0.0362, -0.2210,  0.1539, -0.0428, -0.3208, -0.1369, -0.1433],\n",
       "                      [ 0.1009,  0.3691,  0.0123, -0.1163, -0.2036,  0.1912,  0.1315],\n",
       "                      [-0.1097,  0.1556,  0.2486,  0.0388, -0.0285, -0.2573,  0.1116],\n",
       "                      [-0.2441, -0.0348, -0.3616, -0.2243, -0.3249, -0.0785, -0.3754],\n",
       "                      [-0.1015, -0.1393, -0.2269, -0.2699,  0.0201,  0.1558, -0.1876],\n",
       "                      [-0.2346, -0.1193,  0.2140, -0.1454,  0.0421,  0.1729, -0.2988],\n",
       "                      [-0.0120,  0.3015,  0.0423, -0.2737, -0.1763,  0.1172, -0.2018],\n",
       "                      [ 0.2573, -0.1395, -0.0794,  0.2972, -0.1114,  0.3741,  0.3616],\n",
       "                      [ 0.1025,  0.1234, -0.0444,  0.3087,  0.3718, -0.0296, -0.0533],\n",
       "                      [-0.1889, -0.2590,  0.3174, -0.1423,  0.1646, -0.3618, -0.3626],\n",
       "                      [-0.1508, -0.1481,  0.2666,  0.0179,  0.2646,  0.2267,  0.3076],\n",
       "                      [ 0.2035, -0.1273,  0.0330,  0.1778,  0.2856,  0.3020,  0.2291],\n",
       "                      [-0.3260, -0.3585,  0.1794,  0.1296,  0.3738, -0.1124, -0.1092],\n",
       "                      [-0.1006,  0.2552,  0.1848, -0.1584,  0.3360,  0.0357,  0.0620],\n",
       "                      [-0.2819, -0.2361,  0.0103, -0.1808, -0.2460, -0.0098,  0.2239]])),\n",
       "             ('0.bias',\n",
       "              tensor([-0.2810,  0.0617, -0.3180,  0.1929,  0.1699,  0.2296,  0.3131, -0.3071,\n",
       "                       0.3708, -0.2706, -0.0923, -0.3444, -0.0804,  0.1499, -0.1112,  0.2314,\n",
       "                       0.2443, -0.0202,  0.1442, -0.0209, -0.3227, -0.2819,  0.3119, -0.1195,\n",
       "                       0.3259,  0.3312, -0.1604, -0.3116, -0.2906, -0.1949,  0.1472,  0.2287])),\n",
       "             ('3.weight',\n",
       "              tensor([[ 3.1738e-02, -1.3233e-01, -1.5338e-02, -1.2028e-01, -2.7389e-02,\n",
       "                        2.1535e-04,  6.0905e-02, -1.2786e-01,  1.4450e-01,  1.4436e-01,\n",
       "                        6.4711e-02, -1.3696e-01,  3.2553e-02, -8.2543e-02, -1.7556e-01,\n",
       "                        4.6300e-02,  1.0037e-01, -1.0495e-01,  6.6458e-02, -3.4354e-02,\n",
       "                        1.3091e-01,  4.7510e-02, -7.5263e-02, -2.8230e-02, -3.4104e-02,\n",
       "                        1.5077e-01, -1.4043e-01, -2.0332e-02, -6.8483e-02, -1.3635e-01,\n",
       "                        1.5848e-01,  1.2558e-01],\n",
       "                      [-1.7582e-01,  1.4673e-01, -8.3670e-02, -1.4524e-01, -9.6346e-02,\n",
       "                        1.5128e-01, -5.4567e-02,  1.4619e-01,  3.9304e-02, -1.6277e-01,\n",
       "                        1.0343e-01,  1.2154e-01,  1.2012e-02,  1.7199e-01, -1.2644e-01,\n",
       "                        1.7585e-01, -4.3476e-02,  7.5116e-02, -1.4648e-01, -1.2130e-01,\n",
       "                        7.4309e-02, -2.1298e-02, -9.4289e-02,  2.7235e-02, -1.3359e-01,\n",
       "                       -5.4156e-02,  9.2542e-02,  1.7499e-02, -5.1011e-02, -1.5986e-01,\n",
       "                       -1.6929e-02,  7.9657e-03],\n",
       "                      [-1.0022e-01,  2.8936e-02,  8.1697e-03, -1.4592e-01,  5.9862e-02,\n",
       "                       -6.2744e-02,  1.3306e-02,  1.5405e-01,  1.0459e-02, -1.2745e-02,\n",
       "                        8.9414e-02,  1.1620e-01,  6.2374e-02,  1.5333e-01,  3.1696e-02,\n",
       "                        1.2392e-01,  1.3968e-01, -2.5236e-02,  4.6400e-02,  1.4426e-01,\n",
       "                        3.8483e-02,  1.0177e-01,  1.9388e-03,  7.3121e-03,  1.0787e-01,\n",
       "                        8.4659e-02,  1.6080e-01, -1.4168e-01, -1.6384e-01,  1.1480e-01,\n",
       "                       -1.1967e-01, -1.6880e-01],\n",
       "                      [ 1.0678e-01,  2.3968e-02, -9.6100e-02,  6.5011e-02, -3.1456e-02,\n",
       "                       -4.6818e-02, -6.3667e-02, -2.3644e-02, -8.0950e-03,  3.7823e-02,\n",
       "                        1.5359e-01, -7.7468e-02, -1.0799e-01,  6.0459e-02, -1.2845e-01,\n",
       "                       -1.4519e-01, -1.1078e-01, -1.0292e-01,  5.2995e-02, -1.7044e-01,\n",
       "                        2.5760e-02, -8.1563e-02,  1.2546e-01,  6.4274e-02, -3.5720e-03,\n",
       "                        2.5717e-02, -6.7061e-02,  1.6735e-01, -1.1393e-01, -1.5710e-01,\n",
       "                        3.1872e-02, -1.1086e-01],\n",
       "                      [-3.4405e-02, -7.3582e-02, -6.8734e-02, -5.4787e-02,  1.0305e-01,\n",
       "                        1.0514e-01,  1.1384e-01,  1.3485e-01, -1.0790e-01, -6.0318e-02,\n",
       "                       -1.4386e-01, -1.3456e-01, -6.1576e-02, -1.7326e-01, -5.6386e-02,\n",
       "                       -2.6280e-03,  1.5484e-01,  1.8972e-02,  1.5376e-01, -1.6644e-01,\n",
       "                        1.7047e-01, -1.3891e-01,  9.6658e-02, -1.3028e-02,  5.1387e-02,\n",
       "                        8.5695e-02,  9.3715e-02, -3.9091e-02,  1.5868e-01, -3.2058e-02,\n",
       "                        5.5075e-02, -3.7882e-02],\n",
       "                      [ 8.7545e-02,  1.5300e-02, -7.9610e-02,  1.4376e-01,  1.6084e-01,\n",
       "                       -1.5107e-01,  1.0762e-01, -6.1752e-02,  3.1136e-02, -2.2309e-02,\n",
       "                       -4.1879e-02,  8.3187e-02,  2.6621e-02, -2.7390e-02,  1.4208e-01,\n",
       "                        1.6862e-01, -1.1325e-01, -1.3926e-01, -8.9499e-04,  1.2943e-02,\n",
       "                       -9.7057e-03, -5.8682e-02, -2.3976e-02, -6.6692e-02,  1.5235e-01,\n",
       "                       -7.7959e-02,  8.3542e-02,  4.9775e-02, -1.2132e-01,  7.5441e-02,\n",
       "                        7.0914e-02, -4.7721e-02],\n",
       "                      [ 7.7913e-03,  1.1842e-01,  1.2276e-01,  1.1907e-01, -3.1138e-02,\n",
       "                        8.0213e-02, -1.4557e-01,  1.3010e-01,  9.5817e-02, -8.6291e-02,\n",
       "                        7.0742e-03,  1.5430e-02, -1.6642e-01, -1.2039e-04, -1.3853e-01,\n",
       "                       -5.1114e-02,  1.2547e-02, -1.3899e-01, -1.4509e-01,  1.0892e-01,\n",
       "                        3.2846e-02, -8.5530e-02,  3.2808e-02, -1.5087e-01, -1.4252e-01,\n",
       "                        1.2236e-01, -9.3908e-02,  8.9166e-02,  1.0080e-01,  1.6891e-01,\n",
       "                        4.8686e-02, -1.9301e-02],\n",
       "                      [ 8.6285e-02, -8.6118e-02,  2.6714e-02,  1.1826e-01,  1.0945e-01,\n",
       "                        7.4903e-02, -1.0461e-01,  2.7764e-02, -8.8848e-02,  9.4015e-02,\n",
       "                        9.2558e-02,  1.0561e-01, -4.3861e-02, -1.7457e-01, -8.7523e-02,\n",
       "                       -1.1941e-01,  1.2416e-01, -1.3688e-01, -1.3615e-01,  1.0405e-01,\n",
       "                       -4.1901e-02,  8.9892e-02,  1.3246e-01,  9.6115e-02,  1.0140e-01,\n",
       "                        7.7542e-02, -8.5202e-03, -3.5761e-02,  7.9349e-02, -1.0562e-01,\n",
       "                        1.6827e-01,  1.5294e-01],\n",
       "                      [-5.1853e-02, -4.2165e-02, -1.0234e-01, -9.3274e-02,  1.3315e-01,\n",
       "                       -3.7508e-02,  6.1570e-02,  8.0579e-02,  7.7877e-02, -1.4602e-01,\n",
       "                        1.0751e-01, -1.1305e-01,  1.1418e-01, -1.7662e-01,  6.3371e-02,\n",
       "                       -1.3490e-01,  1.4180e-01, -1.2293e-01,  6.7461e-03, -1.2054e-02,\n",
       "                       -5.2693e-02,  3.3384e-03, -1.2237e-01, -4.0769e-02,  1.5575e-01,\n",
       "                        7.6854e-02, -2.6931e-02,  1.2781e-01, -2.2321e-02,  1.6136e-01,\n",
       "                        8.6459e-02, -1.0443e-01],\n",
       "                      [-1.2871e-01,  1.3116e-01,  2.6576e-02,  1.6786e-01,  6.6372e-02,\n",
       "                        9.8540e-02,  1.0264e-01,  1.7564e-01,  1.4932e-01, -1.2194e-01,\n",
       "                        6.8913e-02,  5.0243e-02, -1.0604e-01,  1.5514e-01, -7.6616e-02,\n",
       "                       -1.0436e-01, -8.9455e-03,  8.4653e-03,  1.3234e-01,  6.6812e-02,\n",
       "                       -2.6206e-02,  4.6131e-02,  6.1338e-02,  1.1460e-01,  1.7468e-01,\n",
       "                        2.3907e-02, -1.3723e-02,  7.6951e-02,  1.2128e-01,  1.6475e-01,\n",
       "                        1.2335e-01, -1.0885e-01],\n",
       "                      [-1.0191e-01, -5.2302e-02, -1.1387e-01,  2.3879e-03,  1.2156e-01,\n",
       "                       -1.0368e-01,  1.3568e-01, -3.7115e-02,  4.5583e-02,  7.1756e-02,\n",
       "                       -1.2699e-01,  7.8054e-02, -1.0351e-02,  1.4451e-01, -1.7046e-01,\n",
       "                       -1.6445e-01, -5.7589e-02, -7.2720e-02,  1.4023e-01, -1.7308e-01,\n",
       "                       -1.3384e-01, -2.7328e-02, -1.3544e-01,  1.6282e-01,  1.7584e-01,\n",
       "                       -1.0146e-01, -1.5185e-01,  1.7243e-01, -2.7445e-02,  1.5251e-01,\n",
       "                       -3.1251e-02, -1.4797e-01],\n",
       "                      [-1.7447e-01,  3.9913e-02,  6.4450e-02,  1.4063e-01,  6.8719e-02,\n",
       "                       -9.4895e-02,  1.0948e-01,  1.5201e-01,  3.2538e-02, -3.2060e-02,\n",
       "                        1.4864e-02,  1.6919e-02,  4.9379e-03, -5.7408e-02, -6.8473e-02,\n",
       "                       -6.3217e-03,  6.3461e-02, -1.2192e-01, -6.6698e-02,  1.3099e-01,\n",
       "                       -9.2491e-02, -1.0404e-01,  1.1659e-01,  2.7753e-02,  1.3571e-01,\n",
       "                        1.4089e-01, -9.6960e-02,  2.2159e-02, -5.1954e-02, -5.8643e-02,\n",
       "                       -7.4919e-02,  7.4737e-02],\n",
       "                      [-1.2240e-01, -2.3941e-02,  9.1266e-02, -7.4105e-02,  2.5631e-02,\n",
       "                       -1.3264e-01, -1.1276e-01, -1.5026e-01,  5.0874e-02,  1.6625e-01,\n",
       "                        1.6888e-01,  1.5184e-02,  1.1975e-02,  1.6990e-01,  2.5284e-02,\n",
       "                       -2.1133e-02, -1.2598e-01,  1.3492e-01, -1.2562e-01,  5.7878e-02,\n",
       "                        7.1147e-02,  6.7806e-02, -6.9975e-02,  8.5207e-02,  9.4158e-02,\n",
       "                       -2.1318e-02,  1.5815e-01,  9.7256e-02,  1.1687e-01, -1.0464e-02,\n",
       "                       -1.2389e-01, -9.9031e-02],\n",
       "                      [-1.5768e-02,  1.5320e-01,  4.8921e-02, -8.8200e-02,  7.4610e-02,\n",
       "                       -1.0345e-01, -1.1361e-01, -1.6049e-01, -2.3951e-02,  1.0582e-01,\n",
       "                        1.2035e-01,  2.9594e-02, -8.5044e-04,  1.1041e-01, -1.7236e-01,\n",
       "                       -9.7111e-02,  1.1850e-01,  9.9160e-02,  8.2774e-02, -1.0555e-01,\n",
       "                       -6.9643e-02,  1.6756e-01, -1.4431e-01, -1.0649e-01, -1.3106e-01,\n",
       "                       -1.7584e-01, -1.2141e-01,  5.7310e-02, -1.7433e-01, -1.2189e-01,\n",
       "                       -6.2802e-02, -2.5489e-02],\n",
       "                      [ 1.5730e-01,  1.0722e-01, -1.0727e-01, -1.1537e-01, -1.2906e-02,\n",
       "                        1.6687e-01, -1.7643e-01,  6.6867e-02, -1.7064e-01, -1.2011e-01,\n",
       "                        1.3112e-01,  1.5766e-01, -1.2753e-01,  1.2465e-02, -1.1127e-01,\n",
       "                        3.8769e-03, -1.2808e-01,  4.9026e-03, -2.3297e-02, -1.5941e-01,\n",
       "                       -5.7448e-02,  5.1234e-02, -1.5580e-01,  1.1833e-01, -9.9854e-03,\n",
       "                        2.4480e-02, -1.7041e-01, -3.2310e-02,  8.3214e-02, -1.1064e-01,\n",
       "                        1.0979e-01,  1.7417e-01],\n",
       "                      [ 1.0624e-01, -1.7259e-01, -1.9028e-02,  1.3874e-03,  9.9521e-02,\n",
       "                       -1.3489e-01, -4.0351e-02,  9.4841e-02,  7.3672e-02, -1.4170e-01,\n",
       "                        1.6823e-01, -1.6115e-02,  7.4449e-03, -5.7870e-02,  1.6938e-01,\n",
       "                        1.1157e-01,  1.0915e-01, -4.5644e-02,  1.6087e-01, -6.8046e-02,\n",
       "                       -1.4472e-01,  2.9126e-02, -1.6961e-01,  2.6654e-02,  1.5479e-02,\n",
       "                        1.7520e-01, -1.3170e-01,  6.2668e-02,  5.5546e-02,  1.1929e-01,\n",
       "                        8.8934e-02,  1.1151e-01]])),\n",
       "             ('3.bias',\n",
       "              tensor([ 0.0829,  0.1049,  0.0556, -0.0213, -0.1430,  0.0743, -0.0617, -0.1024,\n",
       "                      -0.0015, -0.1179,  0.1022,  0.0538,  0.0926,  0.0431,  0.1120, -0.0269])),\n",
       "             ('6.weight',\n",
       "              tensor([[-0.1752,  0.0700,  0.0043,  0.1919, -0.1817,  0.2458,  0.0941,  0.2256,\n",
       "                       -0.2426,  0.2249,  0.2441, -0.0604,  0.0777, -0.2165, -0.0477,  0.0057],\n",
       "                      [ 0.1788, -0.0565, -0.0618, -0.0056,  0.0391,  0.1492, -0.0804,  0.0691,\n",
       "                       -0.1917,  0.1432, -0.1215, -0.2156,  0.0956, -0.0733, -0.0841, -0.2060],\n",
       "                      [-0.2331,  0.1834, -0.0883, -0.2384,  0.0786,  0.1679, -0.0555,  0.0156,\n",
       "                        0.0839,  0.2260, -0.2327,  0.0959,  0.0856,  0.1892,  0.2150, -0.0910],\n",
       "                      [-0.1382, -0.0986,  0.1584, -0.1033, -0.0947, -0.1972, -0.0763,  0.1957,\n",
       "                        0.0476,  0.2084, -0.1686, -0.1538,  0.0042, -0.0862,  0.1640, -0.0844],\n",
       "                      [-0.2339,  0.1994, -0.1729,  0.1145,  0.0827, -0.0175,  0.2053, -0.2167,\n",
       "                       -0.1558,  0.0815,  0.1642,  0.1532, -0.2181, -0.2191, -0.1095,  0.0065],\n",
       "                      [ 0.1501,  0.2212, -0.0675,  0.2192, -0.2006,  0.1330,  0.1324, -0.0866,\n",
       "                       -0.2255,  0.1890,  0.0084, -0.2231, -0.1700,  0.0098, -0.0041, -0.0421],\n",
       "                      [ 0.2317, -0.0716,  0.2202, -0.1366, -0.1060,  0.1604,  0.2051, -0.2182,\n",
       "                        0.0113,  0.0965, -0.1347, -0.1613,  0.1705,  0.0345,  0.1116,  0.1044],\n",
       "                      [ 0.1667,  0.2006, -0.2118,  0.0830,  0.0803, -0.1681, -0.0675,  0.1039,\n",
       "                        0.0097, -0.1313, -0.1791, -0.2031,  0.1682, -0.0003, -0.1188, -0.0473]])),\n",
       "             ('6.bias',\n",
       "              tensor([ 0.1432,  0.0861, -0.0874, -0.1576, -0.0283, -0.0910,  0.1848,  0.1473])),\n",
       "             ('9.weight',\n",
       "              tensor([[-0.2872,  0.1754, -0.2705, -0.2290, -0.2123,  0.1048, -0.0303, -0.2203],\n",
       "                      [-0.3188, -0.2789,  0.2024,  0.0487, -0.1743,  0.1914,  0.1450, -0.3196]])),\n",
       "             ('9.bias', tensor([0.2984, 0.2346]))])"
      ]
     },
     "execution_count": 41,
     "metadata": {},
     "output_type": "execute_result"
    }
   ],
   "source": [
    "model.state_dict()"
   ]
  },
  {
   "cell_type": "code",
   "execution_count": 42,
   "metadata": {},
   "outputs": [],
   "source": [
    "weights = torch.load(\"model/weights.pth\", map_location='cpu')"
   ]
  },
  {
   "cell_type": "markdown",
   "metadata": {},
   "source": [
    "check prediksi menggunakan weight acak pada awal model"
   ]
  },
  {
   "cell_type": "code",
   "execution_count": 43,
   "metadata": {},
   "outputs": [
    {
     "data": {
      "text/plain": [
       "tensor(0.3506)"
      ]
     },
     "execution_count": 43,
     "metadata": {},
     "output_type": "execute_result"
    }
   ],
   "source": [
    "with torch.no_grad():\n",
    "        model.eval()\n",
    "        output = model(X_test)\n",
    "        pred = output.argmax(dim=1)\n",
    "        acc = (pred == y_test).to(torch.float32).mean()\n",
    "acc        "
   ]
  },
  {
   "cell_type": "markdown",
   "metadata": {},
   "source": [
    "check prediksi menggunakan weight yg sudah di train"
   ]
  },
  {
   "cell_type": "code",
   "execution_count": 44,
   "metadata": {},
   "outputs": [
    {
     "data": {
      "text/plain": [
       "<All keys matched successfully>"
      ]
     },
     "execution_count": 44,
     "metadata": {},
     "output_type": "execute_result"
    }
   ],
   "source": [
    "model.load_state_dict(weights)"
   ]
  },
  {
   "cell_type": "code",
   "execution_count": 45,
   "metadata": {},
   "outputs": [
    {
     "data": {
      "text/plain": [
       "tensor(0.6494)"
      ]
     },
     "execution_count": 45,
     "metadata": {},
     "output_type": "execute_result"
    }
   ],
   "source": [
    "with torch.no_grad():\n",
    "        model.eval()\n",
    "        output = model(X_test)\n",
    "        pred = output.argmax(dim=1)\n",
    "        acc = (pred == y_test).to(torch.float32).mean()\n",
    "acc    "
   ]
  }
 ],
 "metadata": {
  "kernelspec": {
   "display_name": "base",
   "language": "python",
   "name": "python3"
  },
  "language_info": {
   "codemirror_mode": {
    "name": "ipython",
    "version": 3
   },
   "file_extension": ".py",
   "mimetype": "text/x-python",
   "name": "python",
   "nbconvert_exporter": "python",
   "pygments_lexer": "ipython3",
   "version": "3.10.10"
  },
  "orig_nbformat": 4
 },
 "nbformat": 4,
 "nbformat_minor": 2
}
