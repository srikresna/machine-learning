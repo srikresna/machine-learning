{
 "cells": [
  {
   "cell_type": "code",
   "execution_count": 8,
   "metadata": {},
   "outputs": [
    {
     "name": "stderr",
     "output_type": "stream",
     "text": [
      "[nltk_data] Downloading package punkt to\n",
      "[nltk_data]     C:\\Users\\Kresna\\AppData\\Roaming\\nltk_data...\n",
      "[nltk_data]   Unzipping tokenizers\\punkt.zip.\n",
      "[nltk_data] Downloading package stopwords to\n",
      "[nltk_data]     C:\\Users\\Kresna\\AppData\\Roaming\\nltk_data...\n",
      "[nltk_data]   Package stopwords is already up-to-date!\n"
     ]
    },
    {
     "data": {
      "text/plain": [
       "True"
      ]
     },
     "execution_count": 8,
     "metadata": {},
     "output_type": "execute_result"
    }
   ],
   "source": [
    "import nltk\n",
    "nltk.download('punkt')\n",
    "nltk.download('stopwords')"
   ]
  },
  {
   "cell_type": "code",
   "execution_count": 9,
   "metadata": {},
   "outputs": [],
   "source": [
    "from nltk.tokenize import word_tokenize, sent_tokenize\n",
    "from nltk.corpus import stopwords\n",
    "from string import punctuation"
   ]
  },
  {
   "cell_type": "code",
   "execution_count": 15,
   "metadata": {},
   "outputs": [],
   "source": [
    "text = \"HALO, nama saya Kresna. Saya makan bakso harga RP 15.000 dan nasi goreng harga RP 20.000 hari ini. Kamu mau?\""
   ]
  },
  {
   "cell_type": "markdown",
   "metadata": {},
   "source": [
    "<h1> Normalization"
   ]
  },
  {
   "cell_type": "code",
   "execution_count": 16,
   "metadata": {},
   "outputs": [
    {
     "data": {
      "text/plain": [
       "'halo, nama saya kresna. saya makan bakso harga rp 15.000 dan nasi goreng harga rp 20.000 hari ini. kamu mau?'"
      ]
     },
     "execution_count": 16,
     "metadata": {},
     "output_type": "execute_result"
    }
   ],
   "source": [
    "text = text.lower()\n",
    "text"
   ]
  },
  {
   "cell_type": "markdown",
   "metadata": {},
   "source": [
    "<h1>Tokenization</h1>"
   ]
  },
  {
   "cell_type": "code",
   "execution_count": 17,
   "metadata": {},
   "outputs": [
    {
     "name": "stdout",
     "output_type": "stream",
     "text": [
      "['halo, nama saya kresna.', 'saya makan bakso harga rp 15.000 dan nasi goreng harga rp 20.000 hari ini.', 'kamu mau?']\n"
     ]
    }
   ],
   "source": [
    "# per kalimat gunakan sentance tokenizer\n",
    "sent_tokenize_list = sent_tokenize(text)\n",
    "print(sent_tokenize_list)"
   ]
  },
  {
   "cell_type": "code",
   "execution_count": 23,
   "metadata": {},
   "outputs": [
    {
     "name": "stdout",
     "output_type": "stream",
     "text": [
      "['halo', ',', 'nama', 'saya', 'kresna', '.', 'saya', 'makan', 'bakso', 'harga', 'rp', '15.000', 'dan', 'nasi', 'goreng', 'harga', 'rp', '20.000', 'hari', 'ini', '.', 'kamu', 'mau', '?']\n"
     ]
    }
   ],
   "source": [
    "tokens = word_tokenize(text)\n",
    "print(tokens)"
   ]
  },
  {
   "cell_type": "markdown",
   "metadata": {},
   "source": [
    "<h1> Punctuation Removal/ Alphanumeric Cleansing"
   ]
  },
  {
   "cell_type": "code",
   "execution_count": 19,
   "metadata": {},
   "outputs": [
    {
     "data": {
      "text/plain": [
       "'!\"#$%&\\'()*+,-./:;<=>?@[\\\\]^_`{|}~'"
      ]
     },
     "execution_count": 19,
     "metadata": {},
     "output_type": "execute_result"
    }
   ],
   "source": [
    "punctuation"
   ]
  },
  {
   "cell_type": "code",
   "execution_count": 24,
   "metadata": {},
   "outputs": [
    {
     "data": {
      "text/plain": [
       "['halo',\n",
       " 'nama',\n",
       " 'saya',\n",
       " 'kresna',\n",
       " 'saya',\n",
       " 'makan',\n",
       " 'bakso',\n",
       " 'harga',\n",
       " 'rp',\n",
       " '15.000',\n",
       " 'dan',\n",
       " 'nasi',\n",
       " 'goreng',\n",
       " 'harga',\n",
       " 'rp',\n",
       " '20.000',\n",
       " 'hari',\n",
       " 'ini',\n",
       " 'kamu',\n",
       " 'mau']"
      ]
     },
     "execution_count": 24,
     "metadata": {},
     "output_type": "execute_result"
    }
   ],
   "source": [
    "tokens = [token for token in tokens if token not in punctuation]\n",
    "tokens"
   ]
  },
  {
   "cell_type": "code",
   "execution_count": 26,
   "metadata": {},
   "outputs": [
    {
     "data": {
      "text/plain": [
       "['halo',\n",
       " 'nama',\n",
       " 'saya',\n",
       " 'kresna',\n",
       " 'saya',\n",
       " 'makan',\n",
       " 'bakso',\n",
       " 'harga',\n",
       " 'rp',\n",
       " 'dan',\n",
       " 'nasi',\n",
       " 'goreng',\n",
       " 'harga',\n",
       " 'rp',\n",
       " 'hari',\n",
       " 'ini',\n",
       " 'kamu',\n",
       " 'mau']"
      ]
     },
     "execution_count": 26,
     "metadata": {},
     "output_type": "execute_result"
    }
   ],
   "source": [
    "# alphanumeric cleansing\n",
    "tokens = [token for token in tokens if token.isalnum()]\n",
    "tokens"
   ]
  },
  {
   "cell_type": "markdown",
   "metadata": {},
   "source": [
    "<h1> Stopwords removal"
   ]
  },
  {
   "cell_type": "code",
   "execution_count": 27,
   "metadata": {},
   "outputs": [
    {
     "data": {
      "text/plain": [
       "['ada',\n",
       " 'adalah',\n",
       " 'adanya',\n",
       " 'adapun',\n",
       " 'agak',\n",
       " 'agaknya',\n",
       " 'agar',\n",
       " 'akan',\n",
       " 'akankah',\n",
       " 'akhir',\n",
       " 'akhiri',\n",
       " 'akhirnya',\n",
       " 'aku',\n",
       " 'akulah',\n",
       " 'amat',\n",
       " 'amatlah',\n",
       " 'anda',\n",
       " 'andalah',\n",
       " 'antar',\n",
       " 'antara',\n",
       " 'antaranya',\n",
       " 'apa',\n",
       " 'apaan',\n",
       " 'apabila',\n",
       " 'apakah',\n",
       " 'apalagi',\n",
       " 'apatah',\n",
       " 'artinya',\n",
       " 'asal',\n",
       " 'asalkan',\n",
       " 'atas',\n",
       " 'atau',\n",
       " 'ataukah',\n",
       " 'ataupun',\n",
       " 'awal',\n",
       " 'awalnya',\n",
       " 'bagai',\n",
       " 'bagaikan',\n",
       " 'bagaimana',\n",
       " 'bagaimanakah',\n",
       " 'bagaimanapun',\n",
       " 'bagi',\n",
       " 'bagian',\n",
       " 'bahkan',\n",
       " 'bahwa',\n",
       " 'bahwasanya',\n",
       " 'baik',\n",
       " 'bakal',\n",
       " 'bakalan',\n",
       " 'balik',\n",
       " 'banyak',\n",
       " 'bapak',\n",
       " 'baru',\n",
       " 'bawah',\n",
       " 'beberapa',\n",
       " 'begini',\n",
       " 'beginian',\n",
       " 'beginikah',\n",
       " 'beginilah',\n",
       " 'begitu',\n",
       " 'begitukah',\n",
       " 'begitulah',\n",
       " 'begitupun',\n",
       " 'bekerja',\n",
       " 'belakang',\n",
       " 'belakangan',\n",
       " 'belum',\n",
       " 'belumlah',\n",
       " 'benar',\n",
       " 'benarkah',\n",
       " 'benarlah',\n",
       " 'berada',\n",
       " 'berakhir',\n",
       " 'berakhirlah',\n",
       " 'berakhirnya',\n",
       " 'berapa',\n",
       " 'berapakah',\n",
       " 'berapalah',\n",
       " 'berapapun',\n",
       " 'berarti',\n",
       " 'berawal',\n",
       " 'berbagai',\n",
       " 'berdatangan',\n",
       " 'beri',\n",
       " 'berikan',\n",
       " 'berikut',\n",
       " 'berikutnya',\n",
       " 'berjumlah',\n",
       " 'berkali-kali',\n",
       " 'berkata',\n",
       " 'berkehendak',\n",
       " 'berkeinginan',\n",
       " 'berkenaan',\n",
       " 'berlainan',\n",
       " 'berlalu',\n",
       " 'berlangsung',\n",
       " 'berlebihan',\n",
       " 'bermacam',\n",
       " 'bermacam-macam',\n",
       " 'bermaksud',\n",
       " 'bermula',\n",
       " 'bersama',\n",
       " 'bersama-sama',\n",
       " 'bersiap',\n",
       " 'bersiap-siap',\n",
       " 'bertanya',\n",
       " 'bertanya-tanya',\n",
       " 'berturut',\n",
       " 'berturut-turut',\n",
       " 'bertutur',\n",
       " 'berujar',\n",
       " 'berupa',\n",
       " 'besar',\n",
       " 'betul',\n",
       " 'betulkah',\n",
       " 'biasa',\n",
       " 'biasanya',\n",
       " 'bila',\n",
       " 'bilakah',\n",
       " 'bisa',\n",
       " 'bisakah',\n",
       " 'boleh',\n",
       " 'bolehkah',\n",
       " 'bolehlah',\n",
       " 'buat',\n",
       " 'bukan',\n",
       " 'bukankah',\n",
       " 'bukanlah',\n",
       " 'bukannya',\n",
       " 'bulan',\n",
       " 'bung',\n",
       " 'cara',\n",
       " 'caranya',\n",
       " 'cukup',\n",
       " 'cukupkah',\n",
       " 'cukuplah',\n",
       " 'cuma',\n",
       " 'dahulu',\n",
       " 'dalam',\n",
       " 'dan',\n",
       " 'dapat',\n",
       " 'dari',\n",
       " 'daripada',\n",
       " 'datang',\n",
       " 'dekat',\n",
       " 'demi',\n",
       " 'demikian',\n",
       " 'demikianlah',\n",
       " 'dengan',\n",
       " 'depan',\n",
       " 'di',\n",
       " 'dia',\n",
       " 'diakhiri',\n",
       " 'diakhirinya',\n",
       " 'dialah',\n",
       " 'diantara',\n",
       " 'diantaranya',\n",
       " 'diberi',\n",
       " 'diberikan',\n",
       " 'diberikannya',\n",
       " 'dibuat',\n",
       " 'dibuatnya',\n",
       " 'didapat',\n",
       " 'didatangkan',\n",
       " 'digunakan',\n",
       " 'diibaratkan',\n",
       " 'diibaratkannya',\n",
       " 'diingat',\n",
       " 'diingatkan',\n",
       " 'diinginkan',\n",
       " 'dijawab',\n",
       " 'dijelaskan',\n",
       " 'dijelaskannya',\n",
       " 'dikarenakan',\n",
       " 'dikatakan',\n",
       " 'dikatakannya',\n",
       " 'dikerjakan',\n",
       " 'diketahui',\n",
       " 'diketahuinya',\n",
       " 'dikira',\n",
       " 'dilakukan',\n",
       " 'dilalui',\n",
       " 'dilihat',\n",
       " 'dimaksud',\n",
       " 'dimaksudkan',\n",
       " 'dimaksudkannya',\n",
       " 'dimaksudnya',\n",
       " 'diminta',\n",
       " 'dimintai',\n",
       " 'dimisalkan',\n",
       " 'dimulai',\n",
       " 'dimulailah',\n",
       " 'dimulainya',\n",
       " 'dimungkinkan',\n",
       " 'dini',\n",
       " 'dipastikan',\n",
       " 'diperbuat',\n",
       " 'diperbuatnya',\n",
       " 'dipergunakan',\n",
       " 'diperkirakan',\n",
       " 'diperlihatkan',\n",
       " 'diperlukan',\n",
       " 'diperlukannya',\n",
       " 'dipersoalkan',\n",
       " 'dipertanyakan',\n",
       " 'dipunyai',\n",
       " 'diri',\n",
       " 'dirinya',\n",
       " 'disampaikan',\n",
       " 'disebut',\n",
       " 'disebutkan',\n",
       " 'disebutkannya',\n",
       " 'disini',\n",
       " 'disinilah',\n",
       " 'ditambahkan',\n",
       " 'ditandaskan',\n",
       " 'ditanya',\n",
       " 'ditanyai',\n",
       " 'ditanyakan',\n",
       " 'ditegaskan',\n",
       " 'ditujukan',\n",
       " 'ditunjuk',\n",
       " 'ditunjuki',\n",
       " 'ditunjukkan',\n",
       " 'ditunjukkannya',\n",
       " 'ditunjuknya',\n",
       " 'dituturkan',\n",
       " 'dituturkannya',\n",
       " 'diucapkan',\n",
       " 'diucapkannya',\n",
       " 'diungkapkan',\n",
       " 'dong',\n",
       " 'dua',\n",
       " 'dulu',\n",
       " 'empat',\n",
       " 'enggak',\n",
       " 'enggaknya',\n",
       " 'entah',\n",
       " 'entahlah',\n",
       " 'guna',\n",
       " 'gunakan',\n",
       " 'hal',\n",
       " 'hampir',\n",
       " 'hanya',\n",
       " 'hanyalah',\n",
       " 'hari',\n",
       " 'harus',\n",
       " 'haruslah',\n",
       " 'harusnya',\n",
       " 'hendak',\n",
       " 'hendaklah',\n",
       " 'hendaknya',\n",
       " 'hingga',\n",
       " 'ia',\n",
       " 'ialah',\n",
       " 'ibarat',\n",
       " 'ibaratkan',\n",
       " 'ibaratnya',\n",
       " 'ibu',\n",
       " 'ikut',\n",
       " 'ingat',\n",
       " 'ingat-ingat',\n",
       " 'ingin',\n",
       " 'inginkah',\n",
       " 'inginkan',\n",
       " 'ini',\n",
       " 'inikah',\n",
       " 'inilah',\n",
       " 'itu',\n",
       " 'itukah',\n",
       " 'itulah',\n",
       " 'jadi',\n",
       " 'jadilah',\n",
       " 'jadinya',\n",
       " 'jangan',\n",
       " 'jangankan',\n",
       " 'janganlah',\n",
       " 'jauh',\n",
       " 'jawab',\n",
       " 'jawaban',\n",
       " 'jawabnya',\n",
       " 'jelas',\n",
       " 'jelaskan',\n",
       " 'jelaslah',\n",
       " 'jelasnya',\n",
       " 'jika',\n",
       " 'jikalau',\n",
       " 'juga',\n",
       " 'jumlah',\n",
       " 'jumlahnya',\n",
       " 'justru',\n",
       " 'kala',\n",
       " 'kalau',\n",
       " 'kalaulah',\n",
       " 'kalaupun',\n",
       " 'kalian',\n",
       " 'kami',\n",
       " 'kamilah',\n",
       " 'kamu',\n",
       " 'kamulah',\n",
       " 'kan',\n",
       " 'kapan',\n",
       " 'kapankah',\n",
       " 'kapanpun',\n",
       " 'karena',\n",
       " 'karenanya',\n",
       " 'kasus',\n",
       " 'kata',\n",
       " 'katakan',\n",
       " 'katakanlah',\n",
       " 'katanya',\n",
       " 'ke',\n",
       " 'keadaan',\n",
       " 'kebetulan',\n",
       " 'kecil',\n",
       " 'kedua',\n",
       " 'keduanya',\n",
       " 'keinginan',\n",
       " 'kelamaan',\n",
       " 'kelihatan',\n",
       " 'kelihatannya',\n",
       " 'kelima',\n",
       " 'keluar',\n",
       " 'kembali',\n",
       " 'kemudian',\n",
       " 'kemungkinan',\n",
       " 'kemungkinannya',\n",
       " 'kenapa',\n",
       " 'kepada',\n",
       " 'kepadanya',\n",
       " 'kesampaian',\n",
       " 'keseluruhan',\n",
       " 'keseluruhannya',\n",
       " 'keterlaluan',\n",
       " 'ketika',\n",
       " 'khususnya',\n",
       " 'kini',\n",
       " 'kinilah',\n",
       " 'kira',\n",
       " 'kira-kira',\n",
       " 'kiranya',\n",
       " 'kita',\n",
       " 'kitalah',\n",
       " 'kok',\n",
       " 'kurang',\n",
       " 'lagi',\n",
       " 'lagian',\n",
       " 'lah',\n",
       " 'lain',\n",
       " 'lainnya',\n",
       " 'lalu',\n",
       " 'lama',\n",
       " 'lamanya',\n",
       " 'lanjut',\n",
       " 'lanjutnya',\n",
       " 'lebih',\n",
       " 'lewat',\n",
       " 'lima',\n",
       " 'luar',\n",
       " 'macam',\n",
       " 'maka',\n",
       " 'makanya',\n",
       " 'makin',\n",
       " 'malah',\n",
       " 'malahan',\n",
       " 'mampu',\n",
       " 'mampukah',\n",
       " 'mana',\n",
       " 'manakala',\n",
       " 'manalagi',\n",
       " 'masa',\n",
       " 'masalah',\n",
       " 'masalahnya',\n",
       " 'masih',\n",
       " 'masihkah',\n",
       " 'masing',\n",
       " 'masing-masing',\n",
       " 'mau',\n",
       " 'maupun',\n",
       " 'melainkan',\n",
       " 'melakukan',\n",
       " 'melalui',\n",
       " 'melihat',\n",
       " 'melihatnya',\n",
       " 'memang',\n",
       " 'memastikan',\n",
       " 'memberi',\n",
       " 'memberikan',\n",
       " 'membuat',\n",
       " 'memerlukan',\n",
       " 'memihak',\n",
       " 'meminta',\n",
       " 'memintakan',\n",
       " 'memisalkan',\n",
       " 'memperbuat',\n",
       " 'mempergunakan',\n",
       " 'memperkirakan',\n",
       " 'memperlihatkan',\n",
       " 'mempersiapkan',\n",
       " 'mempersoalkan',\n",
       " 'mempertanyakan',\n",
       " 'mempunyai',\n",
       " 'memulai',\n",
       " 'memungkinkan',\n",
       " 'menaiki',\n",
       " 'menambahkan',\n",
       " 'menandaskan',\n",
       " 'menanti',\n",
       " 'menanti-nanti',\n",
       " 'menantikan',\n",
       " 'menanya',\n",
       " 'menanyai',\n",
       " 'menanyakan',\n",
       " 'mendapat',\n",
       " 'mendapatkan',\n",
       " 'mendatang',\n",
       " 'mendatangi',\n",
       " 'mendatangkan',\n",
       " 'menegaskan',\n",
       " 'mengakhiri',\n",
       " 'mengapa',\n",
       " 'mengatakan',\n",
       " 'mengatakannya',\n",
       " 'mengenai',\n",
       " 'mengerjakan',\n",
       " 'mengetahui',\n",
       " 'menggunakan',\n",
       " 'menghendaki',\n",
       " 'mengibaratkan',\n",
       " 'mengibaratkannya',\n",
       " 'mengingat',\n",
       " 'mengingatkan',\n",
       " 'menginginkan',\n",
       " 'mengira',\n",
       " 'mengucapkan',\n",
       " 'mengucapkannya',\n",
       " 'mengungkapkan',\n",
       " 'menjadi',\n",
       " 'menjawab',\n",
       " 'menjelaskan',\n",
       " 'menuju',\n",
       " 'menunjuk',\n",
       " 'menunjuki',\n",
       " 'menunjukkan',\n",
       " 'menunjuknya',\n",
       " 'menurut',\n",
       " 'menuturkan',\n",
       " 'menyampaikan',\n",
       " 'menyangkut',\n",
       " 'menyatakan',\n",
       " 'menyebutkan',\n",
       " 'menyeluruh',\n",
       " 'menyiapkan',\n",
       " 'merasa',\n",
       " 'mereka',\n",
       " 'merekalah',\n",
       " 'merupakan',\n",
       " 'meski',\n",
       " 'meskipun',\n",
       " 'meyakini',\n",
       " 'meyakinkan',\n",
       " 'minta',\n",
       " 'mirip',\n",
       " 'misal',\n",
       " 'misalkan',\n",
       " 'misalnya',\n",
       " 'mula',\n",
       " 'mulai',\n",
       " 'mulailah',\n",
       " 'mulanya',\n",
       " 'mungkin',\n",
       " 'mungkinkah',\n",
       " 'nah',\n",
       " 'naik',\n",
       " 'namun',\n",
       " 'nanti',\n",
       " 'nantinya',\n",
       " 'nyaris',\n",
       " 'nyatanya',\n",
       " 'oleh',\n",
       " 'olehnya',\n",
       " 'pada',\n",
       " 'padahal',\n",
       " 'padanya',\n",
       " 'pak',\n",
       " 'paling',\n",
       " 'panjang',\n",
       " 'pantas',\n",
       " 'para',\n",
       " 'pasti',\n",
       " 'pastilah',\n",
       " 'penting',\n",
       " 'pentingnya',\n",
       " 'per',\n",
       " 'percuma',\n",
       " 'perlu',\n",
       " 'perlukah',\n",
       " 'perlunya',\n",
       " 'pernah',\n",
       " 'persoalan',\n",
       " 'pertama',\n",
       " 'pertama-tama',\n",
       " 'pertanyaan',\n",
       " 'pertanyakan',\n",
       " 'pihak',\n",
       " 'pihaknya',\n",
       " 'pukul',\n",
       " 'pula',\n",
       " 'pun',\n",
       " 'punya',\n",
       " 'rasa',\n",
       " 'rasanya',\n",
       " 'rata',\n",
       " 'rupanya',\n",
       " 'saat',\n",
       " 'saatnya',\n",
       " 'saja',\n",
       " 'sajalah',\n",
       " 'saling',\n",
       " 'sama',\n",
       " 'sama-sama',\n",
       " 'sambil',\n",
       " 'sampai',\n",
       " 'sampai-sampai',\n",
       " 'sampaikan',\n",
       " 'sana',\n",
       " 'sangat',\n",
       " 'sangatlah',\n",
       " 'satu',\n",
       " 'saya',\n",
       " 'sayalah',\n",
       " 'se',\n",
       " 'sebab',\n",
       " 'sebabnya',\n",
       " 'sebagai',\n",
       " 'sebagaimana',\n",
       " 'sebagainya',\n",
       " 'sebagian',\n",
       " 'sebaik',\n",
       " 'sebaik-baiknya',\n",
       " 'sebaiknya',\n",
       " 'sebaliknya',\n",
       " 'sebanyak',\n",
       " 'sebegini',\n",
       " 'sebegitu',\n",
       " 'sebelum',\n",
       " 'sebelumnya',\n",
       " 'sebenarnya',\n",
       " 'seberapa',\n",
       " 'sebesar',\n",
       " 'sebetulnya',\n",
       " 'sebisanya',\n",
       " 'sebuah',\n",
       " 'sebut',\n",
       " 'sebutlah',\n",
       " 'sebutnya',\n",
       " 'secara',\n",
       " 'secukupnya',\n",
       " 'sedang',\n",
       " 'sedangkan',\n",
       " 'sedemikian',\n",
       " 'sedikit',\n",
       " 'sedikitnya',\n",
       " 'seenaknya',\n",
       " 'segala',\n",
       " 'segalanya',\n",
       " 'segera',\n",
       " 'seharusnya',\n",
       " 'sehingga',\n",
       " 'seingat',\n",
       " 'sejak',\n",
       " 'sejauh',\n",
       " 'sejenak',\n",
       " 'sejumlah',\n",
       " 'sekadar',\n",
       " 'sekadarnya',\n",
       " 'sekali',\n",
       " 'sekali-kali',\n",
       " 'sekalian',\n",
       " 'sekaligus',\n",
       " 'sekalipun',\n",
       " 'sekarang',\n",
       " 'sekarang',\n",
       " 'sekecil',\n",
       " 'seketika',\n",
       " 'sekiranya',\n",
       " 'sekitar',\n",
       " 'sekitarnya',\n",
       " 'sekurang-kurangnya',\n",
       " 'sekurangnya',\n",
       " 'sela',\n",
       " 'selain',\n",
       " 'selaku',\n",
       " 'selalu',\n",
       " 'selama',\n",
       " 'selama-lamanya',\n",
       " 'selamanya',\n",
       " 'selanjutnya',\n",
       " 'seluruh',\n",
       " 'seluruhnya',\n",
       " 'semacam',\n",
       " 'semakin',\n",
       " 'semampu',\n",
       " 'semampunya',\n",
       " 'semasa',\n",
       " 'semasih',\n",
       " 'semata',\n",
       " 'semata-mata',\n",
       " 'semaunya',\n",
       " 'sementara',\n",
       " 'semisal',\n",
       " 'semisalnya',\n",
       " 'sempat',\n",
       " 'semua',\n",
       " 'semuanya',\n",
       " 'semula',\n",
       " 'sendiri',\n",
       " 'sendirian',\n",
       " 'sendirinya',\n",
       " 'seolah',\n",
       " 'seolah-olah',\n",
       " 'seorang',\n",
       " 'sepanjang',\n",
       " 'sepantasnya',\n",
       " 'sepantasnyalah',\n",
       " 'seperlunya',\n",
       " 'seperti',\n",
       " 'sepertinya',\n",
       " 'sepihak',\n",
       " 'sering',\n",
       " 'seringnya',\n",
       " 'serta',\n",
       " 'serupa',\n",
       " 'sesaat',\n",
       " 'sesama',\n",
       " 'sesampai',\n",
       " 'sesegera',\n",
       " 'sesekali',\n",
       " 'seseorang',\n",
       " 'sesuatu',\n",
       " 'sesuatunya',\n",
       " 'sesudah',\n",
       " 'sesudahnya',\n",
       " 'setelah',\n",
       " 'setempat',\n",
       " 'setengah',\n",
       " 'seterusnya',\n",
       " 'setiap',\n",
       " 'setiba',\n",
       " 'setibanya',\n",
       " 'setidak-tidaknya',\n",
       " 'setidaknya',\n",
       " 'setinggi',\n",
       " 'seusai',\n",
       " 'sewaktu',\n",
       " 'siap',\n",
       " 'siapa',\n",
       " 'siapakah',\n",
       " 'siapapun',\n",
       " 'sini',\n",
       " 'sinilah',\n",
       " 'soal',\n",
       " 'soalnya',\n",
       " 'suatu',\n",
       " 'sudah',\n",
       " 'sudahkah',\n",
       " 'sudahlah',\n",
       " 'supaya',\n",
       " 'tadi',\n",
       " 'tadinya',\n",
       " 'tahu',\n",
       " 'tahun',\n",
       " 'tak',\n",
       " 'tambah',\n",
       " 'tambahnya',\n",
       " 'tampak',\n",
       " 'tampaknya',\n",
       " 'tandas',\n",
       " 'tandasnya',\n",
       " 'tanpa',\n",
       " 'tanya',\n",
       " 'tanyakan',\n",
       " 'tanyanya',\n",
       " 'tapi',\n",
       " 'tegas',\n",
       " 'tegasnya',\n",
       " 'telah',\n",
       " 'tempat',\n",
       " 'tengah',\n",
       " 'tentang',\n",
       " 'tentu',\n",
       " 'tentulah',\n",
       " 'tentunya',\n",
       " 'tepat',\n",
       " 'terakhir',\n",
       " 'terasa',\n",
       " 'terbanyak',\n",
       " 'terdahulu',\n",
       " 'terdapat',\n",
       " 'terdiri',\n",
       " 'terhadap',\n",
       " 'terhadapnya',\n",
       " 'teringat',\n",
       " 'teringat-ingat',\n",
       " 'terjadi',\n",
       " 'terjadilah',\n",
       " 'terjadinya',\n",
       " 'terkira',\n",
       " 'terlalu',\n",
       " 'terlebih',\n",
       " 'terlihat',\n",
       " 'termasuk',\n",
       " 'ternyata',\n",
       " 'tersampaikan',\n",
       " 'tersebut',\n",
       " 'tersebutlah',\n",
       " 'tertentu',\n",
       " 'tertuju',\n",
       " 'terus',\n",
       " 'terutama',\n",
       " 'tetap',\n",
       " 'tetapi',\n",
       " 'tiap',\n",
       " 'tiba',\n",
       " 'tiba-tiba',\n",
       " 'tidak',\n",
       " 'tidakkah',\n",
       " 'tidaklah',\n",
       " 'tiga',\n",
       " 'tinggi',\n",
       " 'toh',\n",
       " 'tunjuk',\n",
       " 'turut',\n",
       " 'tutur',\n",
       " 'tuturnya',\n",
       " 'ucap',\n",
       " 'ucapnya',\n",
       " 'ujar',\n",
       " 'ujarnya',\n",
       " 'umum',\n",
       " 'umumnya',\n",
       " 'ungkap',\n",
       " 'ungkapnya',\n",
       " 'untuk',\n",
       " 'usah',\n",
       " 'usai',\n",
       " 'waduh',\n",
       " 'wah',\n",
       " 'wahai',\n",
       " 'waktu',\n",
       " 'waktunya',\n",
       " 'walau',\n",
       " 'walaupun',\n",
       " 'wong',\n",
       " 'yaitu',\n",
       " 'yakin',\n",
       " 'yakni',\n",
       " 'yang']"
      ]
     },
     "execution_count": 27,
     "metadata": {},
     "output_type": "execute_result"
    }
   ],
   "source": [
    "stopwords.words(\"indonesian\")"
   ]
  },
  {
   "cell_type": "code",
   "execution_count": 28,
   "metadata": {},
   "outputs": [
    {
     "data": {
      "text/plain": [
       "['halo',\n",
       " 'nama',\n",
       " 'kresna',\n",
       " 'makan',\n",
       " 'bakso',\n",
       " 'harga',\n",
       " 'rp',\n",
       " 'nasi',\n",
       " 'goreng',\n",
       " 'harga',\n",
       " 'rp']"
      ]
     },
     "execution_count": 28,
     "metadata": {},
     "output_type": "execute_result"
    }
   ],
   "source": [
    "tokens = [token for token in tokens if token not in stopwords.words(\"indonesian\")]\n",
    "tokens"
   ]
  },
  {
   "cell_type": "code",
   "execution_count": 29,
   "metadata": {},
   "outputs": [],
   "source": [
    "import numpy as np\n",
    "import pandas as pd\n",
    "\n",
    "from sklearn.feature_extraction.text import CountVectorizer, TfidfVectorizer"
   ]
  },
  {
   "cell_type": "code",
   "execution_count": 32,
   "metadata": {},
   "outputs": [],
   "source": [
    "data = [\n",
    "    'Ini adalah pensil, tapi itu adalah pulpen',\n",
    "    'Itu adalah pensil.',\n",
    "    'Saya mau beli pulpen.',\n",
    "    'Saya ada pulpen itu, tapi tidak ada pensil itu.',\n",
    "    'Saya tidak ada pensil ini',\n",
    "    'Saya mau beli pensil dan pulpen.',\n",
    "    'Ini adalah pulpen.'\n",
    "]"
   ]
  },
  {
   "cell_type": "markdown",
   "metadata": {},
   "source": [
    "<h1> Bag of Words / Term Frequency"
   ]
  },
  {
   "attachments": {
    "image.png": {
     "image/png": "[encoded data removed]"
    }
   },
   "cell_type": "markdown",
   "metadata": {},
   "source": [
    "![image.png](attachment:image.png)"
   ]
  },
  {
   "cell_type": "code",
   "execution_count": 42,
   "metadata": {},
   "outputs": [],
   "source": [
    "bow = CountVectorizer() # bisa ditambahkan parameter\n",
    "bow_matrix = bow.fit_transform(data)"
   ]
  },
  {
   "cell_type": "markdown",
   "metadata": {},
   "source": [
    "<h1> Inverse Document Frequency (IDF)"
   ]
  },
  {
   "attachments": {
    "image.png": {
     "image/png": "[encoded data removed]"
    }
   },
   "cell_type": "markdown",
   "metadata": {},
   "source": [
    "![image.png](attachment:image.png)"
   ]
  },
  {
   "cell_type": "markdown",
   "metadata": {},
   "source": [
    "<h1> Term Frequency - Inverse Document Frequency (TF-IDF)"
   ]
  },
  {
   "cell_type": "markdown",
   "metadata": {},
   "source": [
    "tfidf = BoW * idf. Ini seperti efek feature scaling untuk BoW agar yang terlalu sering muncul di banyak dokumen dianggap tidaklah penting. Misalna stopwords yang hampirt muncul di seluruh dokumen."
   ]
  },
  {
   "cell_type": "code",
   "execution_count": 50,
   "metadata": {},
   "outputs": [],
   "source": [
    "tfidf = TfidfVectorizer()\n",
    "tfidf_matrix = tfidf.fit_transform(data)"
   ]
  },
  {
   "cell_type": "markdown",
   "metadata": {},
   "source": [
    "<h1> N-Gram"
   ]
  },
  {
   "cell_type": "markdown",
   "metadata": {},
   "source": [
    "untuk mencakup informasi urutan kata"
   ]
  },
  {
   "cell_type": "code",
   "execution_count": 52,
   "metadata": {},
   "outputs": [],
   "source": [
    "tfidf = TfidfVectorizer(ngram_range=(1, 2))\n",
    "tfidf_matrix = tfidf.fit_transform(data)"
   ]
  },
  {
   "cell_type": "code",
   "execution_count": 53,
   "metadata": {},
   "outputs": [],
   "source": [
    "sw_indo = stopwords.words('indonesian') + list(punctuation)"
   ]
  },
  {
   "cell_type": "code",
   "execution_count": 54,
   "metadata": {},
   "outputs": [
    {
     "data": {
      "text/html": [
       "<div>\n",
       "<style scoped>\n",
       "    .dataframe tbody tr th:only-of-type {\n",
       "        vertical-align: middle;\n",
       "    }\n",
       "\n",
       "    .dataframe tbody tr th {\n",
       "        vertical-align: top;\n",
       "    }\n",
       "\n",
       "    .dataframe thead th {\n",
       "        text-align: right;\n",
       "    }\n",
       "</style>\n",
       "<table border=\"1\" class=\"dataframe\">\n",
       "  <thead>\n",
       "    <tr style=\"text-align: right;\">\n",
       "      <th></th>\n",
       "      <th>Teks</th>\n",
       "      <th>label</th>\n",
       "    </tr>\n",
       "  </thead>\n",
       "  <tbody>\n",
       "    <tr>\n",
       "      <th>0</th>\n",
       "      <td>[PROMO] Beli paket Flash mulai 1GB di MY TELKO...</td>\n",
       "      <td>1</td>\n",
       "    </tr>\n",
       "    <tr>\n",
       "      <th>1</th>\n",
       "      <td>2.5 GB/30 hari hanya Rp 35 Ribu Spesial buat A...</td>\n",
       "      <td>1</td>\n",
       "    </tr>\n",
       "    <tr>\n",
       "      <th>2</th>\n",
       "      <td>2016-07-08 11:47:11.Plg Yth, sisa kuota Flash ...</td>\n",
       "      <td>1</td>\n",
       "    </tr>\n",
       "    <tr>\n",
       "      <th>3</th>\n",
       "      <td>2016-08-07 11:29:47.Plg Yth, sisa kuota Flash ...</td>\n",
       "      <td>1</td>\n",
       "    </tr>\n",
       "    <tr>\n",
       "      <th>4</th>\n",
       "      <td>4.5GB/30 hari hanya Rp 55 Ribu Spesial buat an...</td>\n",
       "      <td>1</td>\n",
       "    </tr>\n",
       "  </tbody>\n",
       "</table>\n",
       "</div>"
      ],
      "text/plain": [
       "                                                Teks  label\n",
       "0  [PROMO] Beli paket Flash mulai 1GB di MY TELKO...      1\n",
       "1  2.5 GB/30 hari hanya Rp 35 Ribu Spesial buat A...      1\n",
       "2  2016-07-08 11:47:11.Plg Yth, sisa kuota Flash ...      1\n",
       "3  2016-08-07 11:29:47.Plg Yth, sisa kuota Flash ...      1\n",
       "4  4.5GB/30 hari hanya Rp 55 Ribu Spesial buat an...      1"
      ]
     },
     "execution_count": 54,
     "metadata": {},
     "output_type": "execute_result"
    }
   ],
   "source": [
    "df = pd.read_csv(\"assets/data2/spam.csv\")\n",
    "df.head()"
   ]
  },
  {
   "cell_type": "code",
   "execution_count": 75,
   "metadata": {},
   "outputs": [],
   "source": [
    "import re"
   ]
  },
  {
   "cell_type": "code",
   "execution_count": 76,
   "metadata": {},
   "outputs": [
    {
     "data": {
      "text/html": [
       "<div>\n",
       "<style scoped>\n",
       "    .dataframe tbody tr th:only-of-type {\n",
       "        vertical-align: middle;\n",
       "    }\n",
       "\n",
       "    .dataframe tbody tr th {\n",
       "        vertical-align: top;\n",
       "    }\n",
       "\n",
       "    .dataframe thead th {\n",
       "        text-align: right;\n",
       "    }\n",
       "</style>\n",
       "<table border=\"1\" class=\"dataframe\">\n",
       "  <thead>\n",
       "    <tr style=\"text-align: right;\">\n",
       "      <th></th>\n",
       "      <th>Teks</th>\n",
       "      <th>label</th>\n",
       "    </tr>\n",
       "  </thead>\n",
       "  <tbody>\n",
       "    <tr>\n",
       "      <th>0</th>\n",
       "      <td>promo beli paket flash mulai 1gb di my telkoms...</td>\n",
       "      <td>1</td>\n",
       "    </tr>\n",
       "    <tr>\n",
       "      <th>1</th>\n",
       "      <td>25 gb30 hari hanya rp 35 ribu spesial buat and...</td>\n",
       "      <td>1</td>\n",
       "    </tr>\n",
       "    <tr>\n",
       "      <th>2</th>\n",
       "      <td>20160708 114711plg yth sisa kuota flash anda 4...</td>\n",
       "      <td>1</td>\n",
       "    </tr>\n",
       "    <tr>\n",
       "      <th>3</th>\n",
       "      <td>20160807 112947plg yth sisa kuota flash anda 7...</td>\n",
       "      <td>1</td>\n",
       "    </tr>\n",
       "    <tr>\n",
       "      <th>4</th>\n",
       "      <td>45gb30 hari hanya rp 55 ribu spesial buat anda...</td>\n",
       "      <td>1</td>\n",
       "    </tr>\n",
       "  </tbody>\n",
       "</table>\n",
       "</div>"
      ],
      "text/plain": [
       "                                                Teks  label\n",
       "0  promo beli paket flash mulai 1gb di my telkoms...      1\n",
       "1  25 gb30 hari hanya rp 35 ribu spesial buat and...      1\n",
       "2  20160708 114711plg yth sisa kuota flash anda 4...      1\n",
       "3  20160807 112947plg yth sisa kuota flash anda 7...      1\n",
       "4  45gb30 hari hanya rp 55 ribu spesial buat anda...      1"
      ]
     },
     "execution_count": 76,
     "metadata": {},
     "output_type": "execute_result"
    }
   ],
   "source": [
    "df[\"Teks\"] = df[\"Teks\"].apply(lambda x: x.lower())\n",
    "df[\"Teks\"] = df[\"Teks\"].apply(lambda x: re.sub(r\"[^a-z0-9\\s]\", \"\", x))\n",
    "df[\"Teks\"] = df[\"Teks\"].apply(lambda x: re.sub(r\"\\s+\", \" \", x))\n",
    "df.head()"
   ]
  },
  {
   "cell_type": "code",
   "execution_count": 87,
   "metadata": {},
   "outputs": [
    {
     "data": {
      "text/plain": [
       "((914,), (229,), (914,), (229,))"
      ]
     },
     "execution_count": 87,
     "metadata": {},
     "output_type": "execute_result"
    }
   ],
   "source": [
    "from sklearn.model_selection import train_test_split\n",
    "\n",
    "\n",
    "X = df.Teks\n",
    "y = df.label\n",
    "\n",
    "X_train, X_test, y_train, y_test = train_test_split(X, y, test_size=0.2, stratify=y, random_state=42)\n",
    "X_train.shape, X_test.shape, y_train.shape, y_test.shape"
   ]
  },
  {
   "cell_type": "code",
   "execution_count": 61,
   "metadata": {},
   "outputs": [],
   "source": [
    "from sklearn.pipeline import Pipeline\n",
    "from sklearn.model_selection import RandomizedSearchCV\n",
    "from jcopml.tuning import random_search_params as rsp\n",
    "from sklearn.feature_extraction.text import TfidfVectorizer\n",
    "from sklearn.linear_model import LogisticRegression"
   ]
  },
  {
   "cell_type": "code",
   "execution_count": 88,
   "metadata": {},
   "outputs": [
    {
     "name": "stderr",
     "output_type": "stream",
     "text": [
      "c:\\Users\\Kresna\\miniconda3\\lib\\site-packages\\sklearn\\feature_extraction\\text.py:528: UserWarning: The parameter 'token_pattern' will not be used since 'tokenizer' is not None'\n",
      "  warnings.warn(\n",
      "c:\\Users\\Kresna\\miniconda3\\lib\\site-packages\\sklearn\\feature_extraction\\text.py:409: UserWarning: Your stop_words may be inconsistent with your preprocessing. Tokenizing the stop words generated tokens ['``'] not in stop_words.\n",
      "  warnings.warn(\n"
     ]
    }
   ],
   "source": [
    "tokenizer = TfidfVectorizer(tokenizer=word_tokenize, stop_words=sw_indo)\n",
    "X_train = tokenizer.fit_transform(X_train)\n",
    "X_test = tokenizer.transform(X_test)\n"
   ]
  },
  {
   "cell_type": "code",
   "execution_count": 89,
   "metadata": {},
   "outputs": [
    {
     "name": "stdout",
     "output_type": "stream",
     "text": [
      "0.9879649890590809 0.9694323144104804\n"
     ]
    }
   ],
   "source": [
    "model = LogisticRegression(solver='lbfgs', n_jobs=-1, random_state=42)\n",
    "model.fit(X_train, y_train)\n",
    "print(model.score(X_train, y_train), model.score(X_test, y_test))"
   ]
  },
  {
   "cell_type": "markdown",
   "metadata": {},
   "source": [
    "<h1> Sanity Check"
   ]
  },
  {
   "cell_type": "code",
   "execution_count": 93,
   "metadata": {},
   "outputs": [
    {
     "name": "stdout",
     "output_type": "stream",
     "text": [
      "Pesan ini mengandung SPAM 58.71%\n"
     ]
    }
   ],
   "source": [
    "text = [\"Sayng belikn aq pulsa di nmr ini, 081234567890, nanti aq yg tlpn km, ini aq pke hp tmn\"]\n",
    "text = tokenizer.transform(text)\n",
    "if model.predict(text) == 1:\n",
    "    print(f\"Pesan ini mengandung SPAM {model.predict_proba(text)[0][1]*100:.2f}%\")\n",
    "else:\n",
    "    print(f\"Pesan ini tidak mengandung SPAM {model.predict_proba(text)[0][0]*100:.2f}%\")"
   ]
  },
  {
   "cell_type": "code",
   "execution_count": 94,
   "metadata": {},
   "outputs": [
    {
     "name": "stdout",
     "output_type": "stream",
     "text": [
      "Pesan ini tidak mengandung SPAM 86.25%\n"
     ]
    }
   ],
   "source": [
    "text = [\"Di eskalator busway carolus ya pak. Terimakasih\"]\n",
    "text = tokenizer.transform(text)\n",
    "if model.predict(text) == 1:\n",
    "    print(f\"Pesan ini mengandung SPAM {model.predict_proba(text)[0][1]*100:.2f}%\")\n",
    "else:\n",
    "    print(f\"Pesan ini tidak mengandung SPAM {model.predict_proba(text)[0][0]*100:.2f}%\")"
   ]
  }
 ],
 "metadata": {
  "kernelspec": {
   "display_name": "base",
   "language": "python",
   "name": "python3"
  },
  "language_info": {
   "codemirror_mode": {
    "name": "ipython",
    "version": 3
   },
   "file_extension": ".py",
   "mimetype": "text/x-python",
   "name": "python",
   "nbconvert_exporter": "python",
   "pygments_lexer": "ipython3",
   "version": "3.10.10"
  },
  "orig_nbformat": 4
 },
 "nbformat": 4,
 "nbformat_minor": 2
}
